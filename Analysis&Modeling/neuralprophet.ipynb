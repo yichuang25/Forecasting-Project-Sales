{
 "cells": [
  {
   "cell_type": "code",
   "execution_count": 1,
   "metadata": {},
   "outputs": [],
   "source": [
    "from neuralprophet import NeuralProphet\n",
    "import pandas as pd\n",
    "import numpy as np\n",
    "import matplotlib.pyplot as plt\n",
    "from sklearn.metrics import mean_absolute_percentage_error"
   ]
  },
  {
   "cell_type": "code",
   "execution_count": 2,
   "metadata": {},
   "outputs": [],
   "source": [
    "data  = pd.read_pickle('../Data/sales_day.pkl')\n",
    "data['date'] = pd.to_datetime(data['date'])\n",
    "data.columns = ['ds', 'y']"
   ]
  },
  {
   "cell_type": "code",
   "execution_count": 3,
   "metadata": {},
   "outputs": [],
   "source": [
    "data = data[data['y'] <= data['y'].quantile(0.95)]"
   ]
  },
  {
   "cell_type": "code",
   "execution_count": 4,
   "metadata": {},
   "outputs": [
    {
     "data": {
      "text/html": [
       "<div>\n",
       "<style scoped>\n",
       "    .dataframe tbody tr th:only-of-type {\n",
       "        vertical-align: middle;\n",
       "    }\n",
       "\n",
       "    .dataframe tbody tr th {\n",
       "        vertical-align: top;\n",
       "    }\n",
       "\n",
       "    .dataframe thead th {\n",
       "        text-align: right;\n",
       "    }\n",
       "</style>\n",
       "<table border=\"1\" class=\"dataframe\">\n",
       "  <thead>\n",
       "    <tr style=\"text-align: right;\">\n",
       "      <th></th>\n",
       "      <th>ds</th>\n",
       "      <th>y</th>\n",
       "    </tr>\n",
       "  </thead>\n",
       "  <tbody>\n",
       "    <tr>\n",
       "      <th>0</th>\n",
       "      <td>2009-12-01</td>\n",
       "      <td>37366.32</td>\n",
       "    </tr>\n",
       "    <tr>\n",
       "      <th>1</th>\n",
       "      <td>2009-12-02</td>\n",
       "      <td>45644.67</td>\n",
       "    </tr>\n",
       "    <tr>\n",
       "      <th>3</th>\n",
       "      <td>2009-12-04</td>\n",
       "      <td>31448.44</td>\n",
       "    </tr>\n",
       "    <tr>\n",
       "      <th>4</th>\n",
       "      <td>2009-12-05</td>\n",
       "      <td>9042.36</td>\n",
       "    </tr>\n",
       "    <tr>\n",
       "      <th>5</th>\n",
       "      <td>2009-12-06</td>\n",
       "      <td>23171.03</td>\n",
       "    </tr>\n",
       "    <tr>\n",
       "      <th>...</th>\n",
       "      <td>...</td>\n",
       "      <td>...</td>\n",
       "    </tr>\n",
       "    <tr>\n",
       "      <th>597</th>\n",
       "      <td>2011-12-02</td>\n",
       "      <td>40707.47</td>\n",
       "    </tr>\n",
       "    <tr>\n",
       "      <th>598</th>\n",
       "      <td>2011-12-04</td>\n",
       "      <td>17390.66</td>\n",
       "    </tr>\n",
       "    <tr>\n",
       "      <th>600</th>\n",
       "      <td>2011-12-06</td>\n",
       "      <td>42069.40</td>\n",
       "    </tr>\n",
       "    <tr>\n",
       "      <th>601</th>\n",
       "      <td>2011-12-07</td>\n",
       "      <td>49253.47</td>\n",
       "    </tr>\n",
       "    <tr>\n",
       "      <th>602</th>\n",
       "      <td>2011-12-08</td>\n",
       "      <td>47147.37</td>\n",
       "    </tr>\n",
       "  </tbody>\n",
       "</table>\n",
       "<p>573 rows × 2 columns</p>\n",
       "</div>"
      ],
      "text/plain": [
       "            ds         y\n",
       "0   2009-12-01  37366.32\n",
       "1   2009-12-02  45644.67\n",
       "3   2009-12-04  31448.44\n",
       "4   2009-12-05   9042.36\n",
       "5   2009-12-06  23171.03\n",
       "..         ...       ...\n",
       "597 2011-12-02  40707.47\n",
       "598 2011-12-04  17390.66\n",
       "600 2011-12-06  42069.40\n",
       "601 2011-12-07  49253.47\n",
       "602 2011-12-08  47147.37\n",
       "\n",
       "[573 rows x 2 columns]"
      ]
     },
     "execution_count": 4,
     "metadata": {},
     "output_type": "execute_result"
    }
   ],
   "source": [
    "data"
   ]
  },
  {
   "cell_type": "code",
   "execution_count": 5,
   "metadata": {},
   "outputs": [],
   "source": [
    "data = data[data['y'] <= data['y'].quantile(0.95)]"
   ]
  },
  {
   "cell_type": "code",
   "execution_count": 6,
   "metadata": {},
   "outputs": [],
   "source": [
    "# train test split\n",
    "training_x = data.iloc[:int(len(data)*0.8)]\n",
    "val_x = data.iloc[int(len(data)*0.8):int(len(data)*0.9)].reset_index(drop=True)\n",
    "testing_x = data.iloc[int(len(data)*0.9):].reset_index(drop=True)"
   ]
  },
  {
   "cell_type": "code",
   "execution_count": 7,
   "metadata": {},
   "outputs": [
    {
     "name": "stderr",
     "output_type": "stream",
     "text": [
      "WARNING - (NP.forecaster.fit) - When Global modeling with local normalization, metrics are displayed in normalized scale.\n",
      "INFO - (NP.df_utils._infer_frequency) - Major frequency D corresponds to 75.402% of the data.\n",
      "INFO - (NP.df_utils._infer_frequency) - Defined frequency is equal to major frequency - D\n",
      "WARNING - (NP.forecaster.fit) - Changing n_forecasts to 1. Without lags, the forecast can be computed for any future time, independent of lagged values\n",
      "INFO - (NP.config.init_data_params) - Setting normalization to global as only one dataframe provided for training.\n",
      "ERROR - (NP.df_utils.get_normalization_params) - Normalization True not defined.\n",
      "ERROR - (NP.df_utils.get_normalization_params) - Normalization True not defined.\n",
      "WARNING - (py.warnings._showwarnmsg) - /opt/homebrew/lib/python3.9/site-packages/pytorch_lightning/trainer/trainer.py:1789: UserWarning: MPS available but not used. Set `accelerator` and `devices` using `Trainer(accelerator='mps', devices=1)`.\n",
      "  rank_zero_warn(\n",
      "\n"
     ]
    },
    {
     "data": {
      "application/vnd.jupyter.widget-view+json": {
       "model_id": "924572661ada4b8e8270cd50be493131",
       "version_major": 2,
       "version_minor": 0
      },
      "text/plain": [
       "Training: 0it [00:00, ?it/s]"
      ]
     },
     "metadata": {},
     "output_type": "display_data"
    },
    {
     "data": {
      "application/vnd.jupyter.widget-view+json": {
       "model_id": "61680771a56043de8a30517561c64178",
       "version_major": 2,
       "version_minor": 0
      },
      "text/plain": [
       "Validation: 0it [00:00, ?it/s]"
      ]
     },
     "metadata": {},
     "output_type": "display_data"
    },
    {
     "data": {
      "application/vnd.jupyter.widget-view+json": {
       "model_id": "f732c11fca174321858166b0eaee2526",
       "version_major": 2,
       "version_minor": 0
      },
      "text/plain": [
       "Validation: 0it [00:00, ?it/s]"
      ]
     },
     "metadata": {},
     "output_type": "display_data"
    },
    {
     "data": {
      "application/vnd.jupyter.widget-view+json": {
       "model_id": "7a617b527ea947d5aef53eb34bfa3fb1",
       "version_major": 2,
       "version_minor": 0
      },
      "text/plain": [
       "Validation: 0it [00:00, ?it/s]"
      ]
     },
     "metadata": {},
     "output_type": "display_data"
    },
    {
     "data": {
      "application/vnd.jupyter.widget-view+json": {
       "model_id": "f76418dfb91c40cb81161ef6f858dc13",
       "version_major": 2,
       "version_minor": 0
      },
      "text/plain": [
       "Validation: 0it [00:00, ?it/s]"
      ]
     },
     "metadata": {},
     "output_type": "display_data"
    },
    {
     "data": {
      "application/vnd.jupyter.widget-view+json": {
       "model_id": "e4afd8a6028e48cbb532ecd148bd719b",
       "version_major": 2,
       "version_minor": 0
      },
      "text/plain": [
       "Validation: 0it [00:00, ?it/s]"
      ]
     },
     "metadata": {},
     "output_type": "display_data"
    },
    {
     "data": {
      "application/vnd.jupyter.widget-view+json": {
       "model_id": "b68ada34895b4058992db43294ddbe1a",
       "version_major": 2,
       "version_minor": 0
      },
      "text/plain": [
       "Validation: 0it [00:00, ?it/s]"
      ]
     },
     "metadata": {},
     "output_type": "display_data"
    },
    {
     "data": {
      "application/vnd.jupyter.widget-view+json": {
       "model_id": "b447a38a81d3462f978d0a45b2aa9b53",
       "version_major": 2,
       "version_minor": 0
      },
      "text/plain": [
       "Validation: 0it [00:00, ?it/s]"
      ]
     },
     "metadata": {},
     "output_type": "display_data"
    },
    {
     "data": {
      "application/vnd.jupyter.widget-view+json": {
       "model_id": "eb3b1f0a76994e62bc8e9f86d13908a0",
       "version_major": 2,
       "version_minor": 0
      },
      "text/plain": [
       "Validation: 0it [00:00, ?it/s]"
      ]
     },
     "metadata": {},
     "output_type": "display_data"
    },
    {
     "data": {
      "application/vnd.jupyter.widget-view+json": {
       "model_id": "37cdce7504dc4dd2b78d490aceed54c6",
       "version_major": 2,
       "version_minor": 0
      },
      "text/plain": [
       "Validation: 0it [00:00, ?it/s]"
      ]
     },
     "metadata": {},
     "output_type": "display_data"
    },
    {
     "data": {
      "application/vnd.jupyter.widget-view+json": {
       "model_id": "e2a1217514d546888190843d5f20f423",
       "version_major": 2,
       "version_minor": 0
      },
      "text/plain": [
       "Validation: 0it [00:00, ?it/s]"
      ]
     },
     "metadata": {},
     "output_type": "display_data"
    },
    {
     "data": {
      "application/vnd.jupyter.widget-view+json": {
       "model_id": "a31110110f174662b574278687fc8e2a",
       "version_major": 2,
       "version_minor": 0
      },
      "text/plain": [
       "Validation: 0it [00:00, ?it/s]"
      ]
     },
     "metadata": {},
     "output_type": "display_data"
    },
    {
     "data": {
      "application/vnd.jupyter.widget-view+json": {
       "model_id": "62b4459fa85d484e9b2d0ae91f501af5",
       "version_major": 2,
       "version_minor": 0
      },
      "text/plain": [
       "Validation: 0it [00:00, ?it/s]"
      ]
     },
     "metadata": {},
     "output_type": "display_data"
    },
    {
     "data": {
      "application/vnd.jupyter.widget-view+json": {
       "model_id": "3d8d1793bf4741998bb01d180963b94a",
       "version_major": 2,
       "version_minor": 0
      },
      "text/plain": [
       "Validation: 0it [00:00, ?it/s]"
      ]
     },
     "metadata": {},
     "output_type": "display_data"
    },
    {
     "data": {
      "application/vnd.jupyter.widget-view+json": {
       "model_id": "f5074e548d4b4a6b933d36d75ad5d791",
       "version_major": 2,
       "version_minor": 0
      },
      "text/plain": [
       "Validation: 0it [00:00, ?it/s]"
      ]
     },
     "metadata": {},
     "output_type": "display_data"
    },
    {
     "data": {
      "application/vnd.jupyter.widget-view+json": {
       "model_id": "1602c1d4f132437ca2c0cb0b89aa50b9",
       "version_major": 2,
       "version_minor": 0
      },
      "text/plain": [
       "Validation: 0it [00:00, ?it/s]"
      ]
     },
     "metadata": {},
     "output_type": "display_data"
    },
    {
     "data": {
      "application/vnd.jupyter.widget-view+json": {
       "model_id": "d9d22bc86bc547ad8d77010c144854e2",
       "version_major": 2,
       "version_minor": 0
      },
      "text/plain": [
       "Validation: 0it [00:00, ?it/s]"
      ]
     },
     "metadata": {},
     "output_type": "display_data"
    },
    {
     "data": {
      "application/vnd.jupyter.widget-view+json": {
       "model_id": "e9b714c12e4749a1a0e512d1f7593452",
       "version_major": 2,
       "version_minor": 0
      },
      "text/plain": [
       "Validation: 0it [00:00, ?it/s]"
      ]
     },
     "metadata": {},
     "output_type": "display_data"
    },
    {
     "data": {
      "application/vnd.jupyter.widget-view+json": {
       "model_id": "90265f0ce74c4a76a6927757c79ddd21",
       "version_major": 2,
       "version_minor": 0
      },
      "text/plain": [
       "Validation: 0it [00:00, ?it/s]"
      ]
     },
     "metadata": {},
     "output_type": "display_data"
    },
    {
     "data": {
      "application/vnd.jupyter.widget-view+json": {
       "model_id": "557dcf27f7174ff183f8a3d6f0dee1c6",
       "version_major": 2,
       "version_minor": 0
      },
      "text/plain": [
       "Validation: 0it [00:00, ?it/s]"
      ]
     },
     "metadata": {},
     "output_type": "display_data"
    },
    {
     "data": {
      "application/vnd.jupyter.widget-view+json": {
       "model_id": "17ca8cf404ba4c43881351034e2774a2",
       "version_major": 2,
       "version_minor": 0
      },
      "text/plain": [
       "Validation: 0it [00:00, ?it/s]"
      ]
     },
     "metadata": {},
     "output_type": "display_data"
    },
    {
     "data": {
      "application/vnd.jupyter.widget-view+json": {
       "model_id": "1b7d49ffb837400ca893acade1aa81ba",
       "version_major": 2,
       "version_minor": 0
      },
      "text/plain": [
       "Validation: 0it [00:00, ?it/s]"
      ]
     },
     "metadata": {},
     "output_type": "display_data"
    },
    {
     "data": {
      "application/vnd.jupyter.widget-view+json": {
       "model_id": "c946f5bce78840d983ac947b08a7ff5c",
       "version_major": 2,
       "version_minor": 0
      },
      "text/plain": [
       "Validation: 0it [00:00, ?it/s]"
      ]
     },
     "metadata": {},
     "output_type": "display_data"
    },
    {
     "data": {
      "application/vnd.jupyter.widget-view+json": {
       "model_id": "72cba0dd8c214d9e9739b33b68d63ea6",
       "version_major": 2,
       "version_minor": 0
      },
      "text/plain": [
       "Validation: 0it [00:00, ?it/s]"
      ]
     },
     "metadata": {},
     "output_type": "display_data"
    },
    {
     "data": {
      "application/vnd.jupyter.widget-view+json": {
       "model_id": "6020582d1375438e9fbe24467af4dd72",
       "version_major": 2,
       "version_minor": 0
      },
      "text/plain": [
       "Validation: 0it [00:00, ?it/s]"
      ]
     },
     "metadata": {},
     "output_type": "display_data"
    },
    {
     "data": {
      "application/vnd.jupyter.widget-view+json": {
       "model_id": "dfd849b87572478a83ebc1e64a6e1f35",
       "version_major": 2,
       "version_minor": 0
      },
      "text/plain": [
       "Validation: 0it [00:00, ?it/s]"
      ]
     },
     "metadata": {},
     "output_type": "display_data"
    },
    {
     "data": {
      "application/vnd.jupyter.widget-view+json": {
       "model_id": "f394b3f925ea43d5b171f07dc305c946",
       "version_major": 2,
       "version_minor": 0
      },
      "text/plain": [
       "Validation: 0it [00:00, ?it/s]"
      ]
     },
     "metadata": {},
     "output_type": "display_data"
    },
    {
     "data": {
      "application/vnd.jupyter.widget-view+json": {
       "model_id": "565654a8115246b3bfa86440078499a0",
       "version_major": 2,
       "version_minor": 0
      },
      "text/plain": [
       "Validation: 0it [00:00, ?it/s]"
      ]
     },
     "metadata": {},
     "output_type": "display_data"
    },
    {
     "data": {
      "application/vnd.jupyter.widget-view+json": {
       "model_id": "e8d6484aad8549a2814c4aa671d59642",
       "version_major": 2,
       "version_minor": 0
      },
      "text/plain": [
       "Validation: 0it [00:00, ?it/s]"
      ]
     },
     "metadata": {},
     "output_type": "display_data"
    },
    {
     "data": {
      "application/vnd.jupyter.widget-view+json": {
       "model_id": "0e75a54f13424a978efe0b0fe519debe",
       "version_major": 2,
       "version_minor": 0
      },
      "text/plain": [
       "Validation: 0it [00:00, ?it/s]"
      ]
     },
     "metadata": {},
     "output_type": "display_data"
    },
    {
     "data": {
      "application/vnd.jupyter.widget-view+json": {
       "model_id": "8edb6f86f9f44b4697acc4931a8f16b4",
       "version_major": 2,
       "version_minor": 0
      },
      "text/plain": [
       "Validation: 0it [00:00, ?it/s]"
      ]
     },
     "metadata": {},
     "output_type": "display_data"
    },
    {
     "data": {
      "application/vnd.jupyter.widget-view+json": {
       "model_id": "83da1fea646542e496893d30189f9bc2",
       "version_major": 2,
       "version_minor": 0
      },
      "text/plain": [
       "Validation: 0it [00:00, ?it/s]"
      ]
     },
     "metadata": {},
     "output_type": "display_data"
    },
    {
     "data": {
      "application/vnd.jupyter.widget-view+json": {
       "model_id": "3efd48c3fcca4d14b82f32ce1c3c6426",
       "version_major": 2,
       "version_minor": 0
      },
      "text/plain": [
       "Validation: 0it [00:00, ?it/s]"
      ]
     },
     "metadata": {},
     "output_type": "display_data"
    },
    {
     "data": {
      "application/vnd.jupyter.widget-view+json": {
       "model_id": "717a142e0d8d4558b6fdb4eadaf0a5d2",
       "version_major": 2,
       "version_minor": 0
      },
      "text/plain": [
       "Validation: 0it [00:00, ?it/s]"
      ]
     },
     "metadata": {},
     "output_type": "display_data"
    },
    {
     "data": {
      "application/vnd.jupyter.widget-view+json": {
       "model_id": "ddd4cd454d2f446bacef8a0531926216",
       "version_major": 2,
       "version_minor": 0
      },
      "text/plain": [
       "Validation: 0it [00:00, ?it/s]"
      ]
     },
     "metadata": {},
     "output_type": "display_data"
    },
    {
     "data": {
      "application/vnd.jupyter.widget-view+json": {
       "model_id": "3b853ebee19e446bbb7cd6fdd066219b",
       "version_major": 2,
       "version_minor": 0
      },
      "text/plain": [
       "Validation: 0it [00:00, ?it/s]"
      ]
     },
     "metadata": {},
     "output_type": "display_data"
    },
    {
     "data": {
      "application/vnd.jupyter.widget-view+json": {
       "model_id": "9e432148c99944aab5586aa10ab053eb",
       "version_major": 2,
       "version_minor": 0
      },
      "text/plain": [
       "Validation: 0it [00:00, ?it/s]"
      ]
     },
     "metadata": {},
     "output_type": "display_data"
    },
    {
     "data": {
      "application/vnd.jupyter.widget-view+json": {
       "model_id": "2642f74b310b4770b06c7aa373eeac86",
       "version_major": 2,
       "version_minor": 0
      },
      "text/plain": [
       "Validation: 0it [00:00, ?it/s]"
      ]
     },
     "metadata": {},
     "output_type": "display_data"
    },
    {
     "data": {
      "application/vnd.jupyter.widget-view+json": {
       "model_id": "1ef2b64a0193438b98c2a86b337d0f60",
       "version_major": 2,
       "version_minor": 0
      },
      "text/plain": [
       "Validation: 0it [00:00, ?it/s]"
      ]
     },
     "metadata": {},
     "output_type": "display_data"
    },
    {
     "data": {
      "application/vnd.jupyter.widget-view+json": {
       "model_id": "4382cce5eea94ce38eaf1cd1f10f2162",
       "version_major": 2,
       "version_minor": 0
      },
      "text/plain": [
       "Validation: 0it [00:00, ?it/s]"
      ]
     },
     "metadata": {},
     "output_type": "display_data"
    },
    {
     "data": {
      "application/vnd.jupyter.widget-view+json": {
       "model_id": "63f3153ce8024c7096f3272f0cc461ef",
       "version_major": 2,
       "version_minor": 0
      },
      "text/plain": [
       "Validation: 0it [00:00, ?it/s]"
      ]
     },
     "metadata": {},
     "output_type": "display_data"
    },
    {
     "data": {
      "application/vnd.jupyter.widget-view+json": {
       "model_id": "3ec45c3546c74d3c9493f634c8909855",
       "version_major": 2,
       "version_minor": 0
      },
      "text/plain": [
       "Validation: 0it [00:00, ?it/s]"
      ]
     },
     "metadata": {},
     "output_type": "display_data"
    },
    {
     "data": {
      "application/vnd.jupyter.widget-view+json": {
       "model_id": "094b705c5eb04b29bc83df166835bddd",
       "version_major": 2,
       "version_minor": 0
      },
      "text/plain": [
       "Validation: 0it [00:00, ?it/s]"
      ]
     },
     "metadata": {},
     "output_type": "display_data"
    },
    {
     "data": {
      "application/vnd.jupyter.widget-view+json": {
       "model_id": "493dea1522a44d68a9ea958f98381698",
       "version_major": 2,
       "version_minor": 0
      },
      "text/plain": [
       "Validation: 0it [00:00, ?it/s]"
      ]
     },
     "metadata": {},
     "output_type": "display_data"
    },
    {
     "data": {
      "application/vnd.jupyter.widget-view+json": {
       "model_id": "553f8c1a947d424294e5bd052083e5de",
       "version_major": 2,
       "version_minor": 0
      },
      "text/plain": [
       "Validation: 0it [00:00, ?it/s]"
      ]
     },
     "metadata": {},
     "output_type": "display_data"
    },
    {
     "data": {
      "application/vnd.jupyter.widget-view+json": {
       "model_id": "76f16e8f177b4a4a9da7cbefc06f9019",
       "version_major": 2,
       "version_minor": 0
      },
      "text/plain": [
       "Validation: 0it [00:00, ?it/s]"
      ]
     },
     "metadata": {},
     "output_type": "display_data"
    },
    {
     "data": {
      "application/vnd.jupyter.widget-view+json": {
       "model_id": "e5265c595ef84338a6470a6e5f0eb0ea",
       "version_major": 2,
       "version_minor": 0
      },
      "text/plain": [
       "Validation: 0it [00:00, ?it/s]"
      ]
     },
     "metadata": {},
     "output_type": "display_data"
    },
    {
     "data": {
      "application/vnd.jupyter.widget-view+json": {
       "model_id": "83eab455335e4fb9b940277db8cfc2c7",
       "version_major": 2,
       "version_minor": 0
      },
      "text/plain": [
       "Validation: 0it [00:00, ?it/s]"
      ]
     },
     "metadata": {},
     "output_type": "display_data"
    },
    {
     "data": {
      "application/vnd.jupyter.widget-view+json": {
       "model_id": "8829bfe668024339b35fb4aafcc0d0ec",
       "version_major": 2,
       "version_minor": 0
      },
      "text/plain": [
       "Validation: 0it [00:00, ?it/s]"
      ]
     },
     "metadata": {},
     "output_type": "display_data"
    },
    {
     "data": {
      "application/vnd.jupyter.widget-view+json": {
       "model_id": "eb1b35477c964ad6b872ca8b853ac0e3",
       "version_major": 2,
       "version_minor": 0
      },
      "text/plain": [
       "Validation: 0it [00:00, ?it/s]"
      ]
     },
     "metadata": {},
     "output_type": "display_data"
    },
    {
     "data": {
      "application/vnd.jupyter.widget-view+json": {
       "model_id": "1cf740d7f0184e0aa8f9c83ed18bfba2",
       "version_major": 2,
       "version_minor": 0
      },
      "text/plain": [
       "Validation: 0it [00:00, ?it/s]"
      ]
     },
     "metadata": {},
     "output_type": "display_data"
    },
    {
     "data": {
      "application/vnd.jupyter.widget-view+json": {
       "model_id": "c31b548b561341b59b73f5b815e05da0",
       "version_major": 2,
       "version_minor": 0
      },
      "text/plain": [
       "Validation: 0it [00:00, ?it/s]"
      ]
     },
     "metadata": {},
     "output_type": "display_data"
    },
    {
     "data": {
      "application/vnd.jupyter.widget-view+json": {
       "model_id": "377f732998ef434c86758180869a18dc",
       "version_major": 2,
       "version_minor": 0
      },
      "text/plain": [
       "Validation: 0it [00:00, ?it/s]"
      ]
     },
     "metadata": {},
     "output_type": "display_data"
    },
    {
     "data": {
      "application/vnd.jupyter.widget-view+json": {
       "model_id": "8d0b2518dc954118b081c18ebdf1e762",
       "version_major": 2,
       "version_minor": 0
      },
      "text/plain": [
       "Validation: 0it [00:00, ?it/s]"
      ]
     },
     "metadata": {},
     "output_type": "display_data"
    },
    {
     "data": {
      "application/vnd.jupyter.widget-view+json": {
       "model_id": "32f4715682eb48aba62647e2466f9312",
       "version_major": 2,
       "version_minor": 0
      },
      "text/plain": [
       "Validation: 0it [00:00, ?it/s]"
      ]
     },
     "metadata": {},
     "output_type": "display_data"
    },
    {
     "data": {
      "application/vnd.jupyter.widget-view+json": {
       "model_id": "aafc4510a1cc4e18b7b9448aedfd83eb",
       "version_major": 2,
       "version_minor": 0
      },
      "text/plain": [
       "Validation: 0it [00:00, ?it/s]"
      ]
     },
     "metadata": {},
     "output_type": "display_data"
    },
    {
     "data": {
      "application/vnd.jupyter.widget-view+json": {
       "model_id": "df2ceac2760944e0a199be575990a2f5",
       "version_major": 2,
       "version_minor": 0
      },
      "text/plain": [
       "Validation: 0it [00:00, ?it/s]"
      ]
     },
     "metadata": {},
     "output_type": "display_data"
    },
    {
     "data": {
      "application/vnd.jupyter.widget-view+json": {
       "model_id": "c2a6aa6a561640648a786326b438351c",
       "version_major": 2,
       "version_minor": 0
      },
      "text/plain": [
       "Validation: 0it [00:00, ?it/s]"
      ]
     },
     "metadata": {},
     "output_type": "display_data"
    },
    {
     "data": {
      "application/vnd.jupyter.widget-view+json": {
       "model_id": "a806405b224247dbab491f46f75162bc",
       "version_major": 2,
       "version_minor": 0
      },
      "text/plain": [
       "Validation: 0it [00:00, ?it/s]"
      ]
     },
     "metadata": {},
     "output_type": "display_data"
    },
    {
     "data": {
      "application/vnd.jupyter.widget-view+json": {
       "model_id": "851d1ffd115244a1816f4464ccf7130a",
       "version_major": 2,
       "version_minor": 0
      },
      "text/plain": [
       "Validation: 0it [00:00, ?it/s]"
      ]
     },
     "metadata": {},
     "output_type": "display_data"
    },
    {
     "data": {
      "application/vnd.jupyter.widget-view+json": {
       "model_id": "20f042093e0547a5ba54e9429f1b6253",
       "version_major": 2,
       "version_minor": 0
      },
      "text/plain": [
       "Validation: 0it [00:00, ?it/s]"
      ]
     },
     "metadata": {},
     "output_type": "display_data"
    },
    {
     "data": {
      "application/vnd.jupyter.widget-view+json": {
       "model_id": "442d0ec48bde4f5ba7c3685717f69556",
       "version_major": 2,
       "version_minor": 0
      },
      "text/plain": [
       "Validation: 0it [00:00, ?it/s]"
      ]
     },
     "metadata": {},
     "output_type": "display_data"
    },
    {
     "data": {
      "application/vnd.jupyter.widget-view+json": {
       "model_id": "149fdb7483f44bdb92e89fec1f00ab2a",
       "version_major": 2,
       "version_minor": 0
      },
      "text/plain": [
       "Validation: 0it [00:00, ?it/s]"
      ]
     },
     "metadata": {},
     "output_type": "display_data"
    },
    {
     "data": {
      "application/vnd.jupyter.widget-view+json": {
       "model_id": "7c56c0ee2cee42d1963541458ef2b9b2",
       "version_major": 2,
       "version_minor": 0
      },
      "text/plain": [
       "Validation: 0it [00:00, ?it/s]"
      ]
     },
     "metadata": {},
     "output_type": "display_data"
    },
    {
     "data": {
      "application/vnd.jupyter.widget-view+json": {
       "model_id": "b1a6e485f5dd447e95b2f741848d89e9",
       "version_major": 2,
       "version_minor": 0
      },
      "text/plain": [
       "Validation: 0it [00:00, ?it/s]"
      ]
     },
     "metadata": {},
     "output_type": "display_data"
    },
    {
     "data": {
      "application/vnd.jupyter.widget-view+json": {
       "model_id": "f718728d7b0e4f88b2918ecc79dd95ed",
       "version_major": 2,
       "version_minor": 0
      },
      "text/plain": [
       "Validation: 0it [00:00, ?it/s]"
      ]
     },
     "metadata": {},
     "output_type": "display_data"
    },
    {
     "data": {
      "application/vnd.jupyter.widget-view+json": {
       "model_id": "3637859109c744499b97a423ebc30f31",
       "version_major": 2,
       "version_minor": 0
      },
      "text/plain": [
       "Validation: 0it [00:00, ?it/s]"
      ]
     },
     "metadata": {},
     "output_type": "display_data"
    },
    {
     "data": {
      "application/vnd.jupyter.widget-view+json": {
       "model_id": "4ab9f6b3eafc49d2aefe33c161f4d1f0",
       "version_major": 2,
       "version_minor": 0
      },
      "text/plain": [
       "Validation: 0it [00:00, ?it/s]"
      ]
     },
     "metadata": {},
     "output_type": "display_data"
    },
    {
     "data": {
      "application/vnd.jupyter.widget-view+json": {
       "model_id": "c413fbe110be41febe691eee266fd6d6",
       "version_major": 2,
       "version_minor": 0
      },
      "text/plain": [
       "Validation: 0it [00:00, ?it/s]"
      ]
     },
     "metadata": {},
     "output_type": "display_data"
    },
    {
     "data": {
      "application/vnd.jupyter.widget-view+json": {
       "model_id": "e49f47c992654805a82fa77451d855a4",
       "version_major": 2,
       "version_minor": 0
      },
      "text/plain": [
       "Validation: 0it [00:00, ?it/s]"
      ]
     },
     "metadata": {},
     "output_type": "display_data"
    },
    {
     "data": {
      "application/vnd.jupyter.widget-view+json": {
       "model_id": "930eb41a247d4ab1a72b785adc841f88",
       "version_major": 2,
       "version_minor": 0
      },
      "text/plain": [
       "Validation: 0it [00:00, ?it/s]"
      ]
     },
     "metadata": {},
     "output_type": "display_data"
    },
    {
     "data": {
      "application/vnd.jupyter.widget-view+json": {
       "model_id": "f886e4d9e1bd40f9b0f2acd025071bce",
       "version_major": 2,
       "version_minor": 0
      },
      "text/plain": [
       "Validation: 0it [00:00, ?it/s]"
      ]
     },
     "metadata": {},
     "output_type": "display_data"
    },
    {
     "data": {
      "application/vnd.jupyter.widget-view+json": {
       "model_id": "8aab6c40c765486282a763e9769b9e5c",
       "version_major": 2,
       "version_minor": 0
      },
      "text/plain": [
       "Validation: 0it [00:00, ?it/s]"
      ]
     },
     "metadata": {},
     "output_type": "display_data"
    },
    {
     "data": {
      "application/vnd.jupyter.widget-view+json": {
       "model_id": "1bbc1f357bd84242a7c58c8836216572",
       "version_major": 2,
       "version_minor": 0
      },
      "text/plain": [
       "Validation: 0it [00:00, ?it/s]"
      ]
     },
     "metadata": {},
     "output_type": "display_data"
    },
    {
     "data": {
      "application/vnd.jupyter.widget-view+json": {
       "model_id": "eb6adcdca5df4457ac520b50bcf8c97f",
       "version_major": 2,
       "version_minor": 0
      },
      "text/plain": [
       "Validation: 0it [00:00, ?it/s]"
      ]
     },
     "metadata": {},
     "output_type": "display_data"
    },
    {
     "data": {
      "application/vnd.jupyter.widget-view+json": {
       "model_id": "23033db496e54ac98c9fa662498842a9",
       "version_major": 2,
       "version_minor": 0
      },
      "text/plain": [
       "Validation: 0it [00:00, ?it/s]"
      ]
     },
     "metadata": {},
     "output_type": "display_data"
    },
    {
     "data": {
      "application/vnd.jupyter.widget-view+json": {
       "model_id": "2469de8b8de74f1c839164ecfda871cc",
       "version_major": 2,
       "version_minor": 0
      },
      "text/plain": [
       "Validation: 0it [00:00, ?it/s]"
      ]
     },
     "metadata": {},
     "output_type": "display_data"
    },
    {
     "data": {
      "application/vnd.jupyter.widget-view+json": {
       "model_id": "9fe684db82d94a9ea3eb091d00699ed6",
       "version_major": 2,
       "version_minor": 0
      },
      "text/plain": [
       "Validation: 0it [00:00, ?it/s]"
      ]
     },
     "metadata": {},
     "output_type": "display_data"
    },
    {
     "data": {
      "application/vnd.jupyter.widget-view+json": {
       "model_id": "c08d689e928040aeb824b75f4fee8a51",
       "version_major": 2,
       "version_minor": 0
      },
      "text/plain": [
       "Validation: 0it [00:00, ?it/s]"
      ]
     },
     "metadata": {},
     "output_type": "display_data"
    },
    {
     "data": {
      "application/vnd.jupyter.widget-view+json": {
       "model_id": "b10997f7f41b43928dce4a0b6cfc6849",
       "version_major": 2,
       "version_minor": 0
      },
      "text/plain": [
       "Validation: 0it [00:00, ?it/s]"
      ]
     },
     "metadata": {},
     "output_type": "display_data"
    },
    {
     "data": {
      "application/vnd.jupyter.widget-view+json": {
       "model_id": "48517bec1c254eda90f89619f656e2db",
       "version_major": 2,
       "version_minor": 0
      },
      "text/plain": [
       "Validation: 0it [00:00, ?it/s]"
      ]
     },
     "metadata": {},
     "output_type": "display_data"
    },
    {
     "data": {
      "application/vnd.jupyter.widget-view+json": {
       "model_id": "c29e412c35c74366bf534faf7de99957",
       "version_major": 2,
       "version_minor": 0
      },
      "text/plain": [
       "Validation: 0it [00:00, ?it/s]"
      ]
     },
     "metadata": {},
     "output_type": "display_data"
    },
    {
     "data": {
      "application/vnd.jupyter.widget-view+json": {
       "model_id": "8353f2451fcc4adb976e6379086fd70c",
       "version_major": 2,
       "version_minor": 0
      },
      "text/plain": [
       "Validation: 0it [00:00, ?it/s]"
      ]
     },
     "metadata": {},
     "output_type": "display_data"
    },
    {
     "data": {
      "application/vnd.jupyter.widget-view+json": {
       "model_id": "729e74a347534df8b751cfbe008c3207",
       "version_major": 2,
       "version_minor": 0
      },
      "text/plain": [
       "Validation: 0it [00:00, ?it/s]"
      ]
     },
     "metadata": {},
     "output_type": "display_data"
    },
    {
     "data": {
      "application/vnd.jupyter.widget-view+json": {
       "model_id": "31794b86a1a14c01833e8c9702801814",
       "version_major": 2,
       "version_minor": 0
      },
      "text/plain": [
       "Validation: 0it [00:00, ?it/s]"
      ]
     },
     "metadata": {},
     "output_type": "display_data"
    },
    {
     "data": {
      "application/vnd.jupyter.widget-view+json": {
       "model_id": "b62c6a6560964f4d90c426524ff1f0a0",
       "version_major": 2,
       "version_minor": 0
      },
      "text/plain": [
       "Validation: 0it [00:00, ?it/s]"
      ]
     },
     "metadata": {},
     "output_type": "display_data"
    },
    {
     "data": {
      "application/vnd.jupyter.widget-view+json": {
       "model_id": "76bcff0d40e9491793943927f9e9de7f",
       "version_major": 2,
       "version_minor": 0
      },
      "text/plain": [
       "Validation: 0it [00:00, ?it/s]"
      ]
     },
     "metadata": {},
     "output_type": "display_data"
    },
    {
     "data": {
      "application/vnd.jupyter.widget-view+json": {
       "model_id": "dd6fa3a3986f4c2ba7ee640ead05d2ce",
       "version_major": 2,
       "version_minor": 0
      },
      "text/plain": [
       "Validation: 0it [00:00, ?it/s]"
      ]
     },
     "metadata": {},
     "output_type": "display_data"
    },
    {
     "data": {
      "application/vnd.jupyter.widget-view+json": {
       "model_id": "2ae5eb9e9858412e9d40947031ca49e7",
       "version_major": 2,
       "version_minor": 0
      },
      "text/plain": [
       "Validation: 0it [00:00, ?it/s]"
      ]
     },
     "metadata": {},
     "output_type": "display_data"
    },
    {
     "data": {
      "application/vnd.jupyter.widget-view+json": {
       "model_id": "87cac39f483943c4baa63875c723be30",
       "version_major": 2,
       "version_minor": 0
      },
      "text/plain": [
       "Validation: 0it [00:00, ?it/s]"
      ]
     },
     "metadata": {},
     "output_type": "display_data"
    },
    {
     "data": {
      "application/vnd.jupyter.widget-view+json": {
       "model_id": "3049585531ee4e18ae7c3eb93414117a",
       "version_major": 2,
       "version_minor": 0
      },
      "text/plain": [
       "Validation: 0it [00:00, ?it/s]"
      ]
     },
     "metadata": {},
     "output_type": "display_data"
    },
    {
     "data": {
      "application/vnd.jupyter.widget-view+json": {
       "model_id": "6b95a483405542c5a7acdee7b4bf56aa",
       "version_major": 2,
       "version_minor": 0
      },
      "text/plain": [
       "Validation: 0it [00:00, ?it/s]"
      ]
     },
     "metadata": {},
     "output_type": "display_data"
    },
    {
     "data": {
      "application/vnd.jupyter.widget-view+json": {
       "model_id": "ef645b4f5bbc444385c959c809db2308",
       "version_major": 2,
       "version_minor": 0
      },
      "text/plain": [
       "Validation: 0it [00:00, ?it/s]"
      ]
     },
     "metadata": {},
     "output_type": "display_data"
    },
    {
     "data": {
      "application/vnd.jupyter.widget-view+json": {
       "model_id": "36462116fcde42f38eaf7569595567a4",
       "version_major": 2,
       "version_minor": 0
      },
      "text/plain": [
       "Validation: 0it [00:00, ?it/s]"
      ]
     },
     "metadata": {},
     "output_type": "display_data"
    },
    {
     "data": {
      "application/vnd.jupyter.widget-view+json": {
       "model_id": "9b909680b0a643469107ead2bda44f33",
       "version_major": 2,
       "version_minor": 0
      },
      "text/plain": [
       "Validation: 0it [00:00, ?it/s]"
      ]
     },
     "metadata": {},
     "output_type": "display_data"
    },
    {
     "data": {
      "application/vnd.jupyter.widget-view+json": {
       "model_id": "be8501d8adac450db21fa6a60851fef3",
       "version_major": 2,
       "version_minor": 0
      },
      "text/plain": [
       "Validation: 0it [00:00, ?it/s]"
      ]
     },
     "metadata": {},
     "output_type": "display_data"
    },
    {
     "data": {
      "application/vnd.jupyter.widget-view+json": {
       "model_id": "55cada0da92140378b437ab6466855d6",
       "version_major": 2,
       "version_minor": 0
      },
      "text/plain": [
       "Validation: 0it [00:00, ?it/s]"
      ]
     },
     "metadata": {},
     "output_type": "display_data"
    },
    {
     "data": {
      "application/vnd.jupyter.widget-view+json": {
       "model_id": "628623afe3c4499d99626738e82c009a",
       "version_major": 2,
       "version_minor": 0
      },
      "text/plain": [
       "Validation: 0it [00:00, ?it/s]"
      ]
     },
     "metadata": {},
     "output_type": "display_data"
    },
    {
     "data": {
      "application/vnd.jupyter.widget-view+json": {
       "model_id": "1bbea1c28ba942e892bd7bcd23ad89d0",
       "version_major": 2,
       "version_minor": 0
      },
      "text/plain": [
       "Validation: 0it [00:00, ?it/s]"
      ]
     },
     "metadata": {},
     "output_type": "display_data"
    },
    {
     "data": {
      "application/vnd.jupyter.widget-view+json": {
       "model_id": "07ce91de8ea84b508bcdce8fc1f6b7ff",
       "version_major": 2,
       "version_minor": 0
      },
      "text/plain": [
       "Validation: 0it [00:00, ?it/s]"
      ]
     },
     "metadata": {},
     "output_type": "display_data"
    },
    {
     "data": {
      "application/vnd.jupyter.widget-view+json": {
       "model_id": "2616086f9a57448e948f05012307a2b7",
       "version_major": 2,
       "version_minor": 0
      },
      "text/plain": [
       "Validation: 0it [00:00, ?it/s]"
      ]
     },
     "metadata": {},
     "output_type": "display_data"
    }
   ],
   "source": [
    "m = NeuralProphet(n_changepoints=35, \n",
    "                  n_forecasts= 3,\n",
    "                  changepoints_range=0.95,\n",
    "                  growth='linear',\n",
    "                  seasonality_mode='multiplicative', \n",
    "                  yearly_seasonality=True,\n",
    "                  weekly_seasonality=True,\n",
    "                  daily_seasonality=True,\n",
    "                  num_hidden_layers=15,\n",
    "                  d_hidden=256, \n",
    "                  epochs=100, \n",
    "                  batch_size=128, \n",
    "                  normalize=True,\n",
    "                  impute_missing=True,\n",
    "                  learning_rate=0.4,\n",
    "                  loss_func='Huber',\n",
    "                  optimizer='AdamW',\n",
    "                  collect_metrics=True,\n",
    "                  )\n",
    "m.add_country_holidays(country_name='UK')\n",
    "metric = m.fit(training_x, validation_df=val_x, freq='D')\n"
   ]
  },
  {
   "cell_type": "code",
   "execution_count": 12,
   "metadata": {},
   "outputs": [
    {
     "data": {
      "application/vnd.plotly.v1+json": {
       "config": {
        "plotlyServerURL": "https://plot.ly"
       },
       "data": [
        {
         "fill": "none",
         "line": {
          "color": "#2d92ff",
          "width": 2
         },
         "mode": "lines",
         "name": "Trend",
         "type": "scatter",
         "uid": "ef7fa7f8-6e89-4c6d-a34c-add9d53b82f6",
         "x": [
          "2009-12-01T00:00:00",
          "2009-12-02T00:00:00",
          "2009-12-03T00:00:00",
          "2009-12-04T00:00:00",
          "2009-12-05T00:00:00",
          "2009-12-06T00:00:00",
          "2009-12-07T00:00:00",
          "2009-12-08T00:00:00",
          "2009-12-09T00:00:00",
          "2009-12-10T00:00:00",
          "2009-12-11T00:00:00",
          "2009-12-12T00:00:00",
          "2009-12-13T00:00:00",
          "2009-12-14T00:00:00",
          "2009-12-15T00:00:00",
          "2009-12-16T00:00:00",
          "2009-12-17T00:00:00",
          "2009-12-18T00:00:00",
          "2009-12-19T00:00:00",
          "2009-12-20T00:00:00",
          "2009-12-21T00:00:00",
          "2009-12-22T00:00:00",
          "2009-12-23T00:00:00",
          "2009-12-24T00:00:00",
          "2009-12-25T00:00:00",
          "2009-12-26T00:00:00",
          "2009-12-27T00:00:00",
          "2009-12-28T00:00:00",
          "2009-12-29T00:00:00",
          "2009-12-30T00:00:00",
          "2009-12-31T00:00:00",
          "2010-01-01T00:00:00",
          "2010-01-02T00:00:00",
          "2010-01-03T00:00:00",
          "2010-01-04T00:00:00",
          "2010-01-05T00:00:00",
          "2010-01-06T00:00:00",
          "2010-01-07T00:00:00",
          "2010-01-08T00:00:00",
          "2010-01-09T00:00:00",
          "2010-01-10T00:00:00",
          "2010-01-11T00:00:00",
          "2010-01-12T00:00:00",
          "2010-01-13T00:00:00",
          "2010-01-14T00:00:00",
          "2010-01-15T00:00:00",
          "2010-01-16T00:00:00",
          "2010-01-17T00:00:00",
          "2010-01-18T00:00:00",
          "2010-01-19T00:00:00",
          "2010-01-20T00:00:00",
          "2010-01-21T00:00:00",
          "2010-01-22T00:00:00",
          "2010-01-23T00:00:00",
          "2010-01-24T00:00:00",
          "2010-01-25T00:00:00",
          "2010-01-26T00:00:00",
          "2010-01-27T00:00:00",
          "2010-01-28T00:00:00",
          "2010-01-29T00:00:00",
          "2010-01-30T00:00:00",
          "2010-01-31T00:00:00",
          "2010-02-01T00:00:00",
          "2010-02-02T00:00:00",
          "2010-02-03T00:00:00",
          "2010-02-04T00:00:00",
          "2010-02-05T00:00:00",
          "2010-02-06T00:00:00",
          "2010-02-07T00:00:00",
          "2010-02-08T00:00:00",
          "2010-02-09T00:00:00",
          "2010-02-10T00:00:00",
          "2010-02-11T00:00:00",
          "2010-02-12T00:00:00",
          "2010-02-13T00:00:00",
          "2010-02-14T00:00:00",
          "2010-02-15T00:00:00",
          "2010-02-16T00:00:00",
          "2010-02-17T00:00:00",
          "2010-02-18T00:00:00",
          "2010-02-19T00:00:00",
          "2010-02-20T00:00:00",
          "2010-02-21T00:00:00",
          "2010-02-22T00:00:00",
          "2010-02-23T00:00:00",
          "2010-02-24T00:00:00",
          "2010-02-25T00:00:00",
          "2010-02-26T00:00:00",
          "2010-02-27T00:00:00",
          "2010-02-28T00:00:00",
          "2010-03-01T00:00:00",
          "2010-03-02T00:00:00",
          "2010-03-03T00:00:00",
          "2010-03-04T00:00:00",
          "2010-03-05T00:00:00",
          "2010-03-06T00:00:00",
          "2010-03-07T00:00:00",
          "2010-03-08T00:00:00",
          "2010-03-09T00:00:00",
          "2010-03-10T00:00:00",
          "2010-03-11T00:00:00",
          "2010-03-12T00:00:00",
          "2010-03-13T00:00:00",
          "2010-03-14T00:00:00",
          "2010-03-15T00:00:00",
          "2010-03-16T00:00:00",
          "2010-03-17T00:00:00",
          "2010-03-18T00:00:00",
          "2010-03-19T00:00:00",
          "2010-03-20T00:00:00",
          "2010-03-21T00:00:00",
          "2010-03-22T00:00:00",
          "2010-03-23T00:00:00",
          "2010-03-24T00:00:00",
          "2010-03-25T00:00:00",
          "2010-03-26T00:00:00",
          "2010-03-27T00:00:00",
          "2010-03-28T00:00:00",
          "2010-03-29T00:00:00",
          "2010-03-30T00:00:00",
          "2010-03-31T00:00:00",
          "2010-04-01T00:00:00",
          "2010-04-02T00:00:00",
          "2010-04-03T00:00:00",
          "2010-04-04T00:00:00",
          "2010-04-05T00:00:00",
          "2010-04-06T00:00:00",
          "2010-04-07T00:00:00",
          "2010-04-08T00:00:00",
          "2010-04-09T00:00:00",
          "2010-04-10T00:00:00",
          "2010-04-11T00:00:00",
          "2010-04-12T00:00:00",
          "2010-04-13T00:00:00",
          "2010-04-14T00:00:00",
          "2010-04-15T00:00:00",
          "2010-04-16T00:00:00",
          "2010-04-17T00:00:00",
          "2010-04-18T00:00:00",
          "2010-04-19T00:00:00",
          "2010-04-20T00:00:00",
          "2010-04-21T00:00:00",
          "2010-04-22T00:00:00",
          "2010-04-23T00:00:00",
          "2010-04-24T00:00:00",
          "2010-04-25T00:00:00",
          "2010-04-26T00:00:00",
          "2010-04-27T00:00:00",
          "2010-04-28T00:00:00",
          "2010-04-29T00:00:00",
          "2010-04-30T00:00:00",
          "2010-05-01T00:00:00",
          "2010-05-02T00:00:00",
          "2010-05-03T00:00:00",
          "2010-05-04T00:00:00",
          "2010-05-05T00:00:00",
          "2010-05-06T00:00:00",
          "2010-05-07T00:00:00",
          "2010-05-08T00:00:00",
          "2010-05-09T00:00:00",
          "2010-05-10T00:00:00",
          "2010-05-11T00:00:00",
          "2010-05-12T00:00:00",
          "2010-05-13T00:00:00",
          "2010-05-14T00:00:00",
          "2010-05-15T00:00:00",
          "2010-05-16T00:00:00",
          "2010-05-17T00:00:00",
          "2010-05-18T00:00:00",
          "2010-05-19T00:00:00",
          "2010-05-20T00:00:00",
          "2010-05-21T00:00:00",
          "2010-05-22T00:00:00",
          "2010-05-23T00:00:00",
          "2010-05-24T00:00:00",
          "2010-05-25T00:00:00",
          "2010-05-26T00:00:00",
          "2010-05-27T00:00:00",
          "2010-05-28T00:00:00",
          "2010-05-29T00:00:00",
          "2010-05-30T00:00:00",
          "2010-05-31T00:00:00",
          "2010-06-01T00:00:00",
          "2010-06-02T00:00:00",
          "2010-06-03T00:00:00",
          "2010-06-04T00:00:00",
          "2010-06-05T00:00:00",
          "2010-06-06T00:00:00",
          "2010-06-07T00:00:00",
          "2010-06-08T00:00:00",
          "2010-06-09T00:00:00",
          "2010-06-10T00:00:00",
          "2010-06-11T00:00:00",
          "2010-06-12T00:00:00",
          "2010-06-13T00:00:00",
          "2010-06-14T00:00:00",
          "2010-06-15T00:00:00",
          "2010-06-16T00:00:00",
          "2010-06-17T00:00:00",
          "2010-06-18T00:00:00",
          "2010-06-19T00:00:00",
          "2010-06-20T00:00:00",
          "2010-06-21T00:00:00",
          "2010-06-22T00:00:00",
          "2010-06-23T00:00:00",
          "2010-06-24T00:00:00",
          "2010-06-25T00:00:00",
          "2010-06-26T00:00:00",
          "2010-06-27T00:00:00",
          "2010-06-28T00:00:00",
          "2010-06-29T00:00:00",
          "2010-06-30T00:00:00",
          "2010-07-01T00:00:00",
          "2010-07-02T00:00:00",
          "2010-07-03T00:00:00",
          "2010-07-04T00:00:00",
          "2010-07-05T00:00:00",
          "2010-07-06T00:00:00",
          "2010-07-07T00:00:00",
          "2010-07-08T00:00:00",
          "2010-07-09T00:00:00",
          "2010-07-10T00:00:00",
          "2010-07-11T00:00:00",
          "2010-07-12T00:00:00",
          "2010-07-13T00:00:00",
          "2010-07-14T00:00:00",
          "2010-07-15T00:00:00",
          "2010-07-16T00:00:00",
          "2010-07-17T00:00:00",
          "2010-07-18T00:00:00",
          "2010-07-19T00:00:00",
          "2010-07-20T00:00:00",
          "2010-07-21T00:00:00",
          "2010-07-22T00:00:00",
          "2010-07-23T00:00:00",
          "2010-07-24T00:00:00",
          "2010-07-25T00:00:00",
          "2010-07-26T00:00:00",
          "2010-07-27T00:00:00",
          "2010-07-28T00:00:00",
          "2010-07-29T00:00:00",
          "2010-07-30T00:00:00",
          "2010-07-31T00:00:00",
          "2010-08-01T00:00:00",
          "2010-08-02T00:00:00",
          "2010-08-03T00:00:00",
          "2010-08-04T00:00:00",
          "2010-08-05T00:00:00",
          "2010-08-06T00:00:00",
          "2010-08-07T00:00:00",
          "2010-08-08T00:00:00",
          "2010-08-09T00:00:00",
          "2010-08-10T00:00:00",
          "2010-08-11T00:00:00",
          "2010-08-12T00:00:00",
          "2010-08-13T00:00:00",
          "2010-08-14T00:00:00",
          "2010-08-15T00:00:00",
          "2010-08-16T00:00:00",
          "2010-08-17T00:00:00",
          "2010-08-18T00:00:00",
          "2010-08-19T00:00:00",
          "2010-08-20T00:00:00",
          "2010-08-21T00:00:00",
          "2010-08-22T00:00:00",
          "2010-08-23T00:00:00",
          "2010-08-24T00:00:00",
          "2010-08-25T00:00:00",
          "2010-08-26T00:00:00",
          "2010-08-27T00:00:00",
          "2010-08-28T00:00:00",
          "2010-08-29T00:00:00",
          "2010-08-30T00:00:00",
          "2010-08-31T00:00:00",
          "2010-09-01T00:00:00",
          "2010-09-02T00:00:00",
          "2010-09-03T00:00:00",
          "2010-09-04T00:00:00",
          "2010-09-05T00:00:00",
          "2010-09-06T00:00:00",
          "2010-09-07T00:00:00",
          "2010-09-08T00:00:00",
          "2010-09-09T00:00:00",
          "2010-09-10T00:00:00",
          "2010-09-11T00:00:00",
          "2010-09-12T00:00:00",
          "2010-09-13T00:00:00",
          "2010-09-14T00:00:00",
          "2010-09-15T00:00:00",
          "2010-09-16T00:00:00",
          "2010-09-17T00:00:00",
          "2010-09-18T00:00:00",
          "2010-09-19T00:00:00",
          "2010-09-20T00:00:00",
          "2010-09-21T00:00:00",
          "2010-09-22T00:00:00",
          "2010-09-23T00:00:00",
          "2010-09-24T00:00:00",
          "2010-09-25T00:00:00",
          "2010-09-26T00:00:00",
          "2010-09-27T00:00:00",
          "2010-09-28T00:00:00",
          "2010-09-29T00:00:00",
          "2010-09-30T00:00:00",
          "2010-10-01T00:00:00",
          "2010-10-02T00:00:00",
          "2010-10-03T00:00:00",
          "2010-10-04T00:00:00",
          "2010-10-05T00:00:00",
          "2010-10-06T00:00:00",
          "2010-10-07T00:00:00",
          "2010-10-08T00:00:00",
          "2010-10-09T00:00:00",
          "2010-10-10T00:00:00",
          "2010-10-11T00:00:00",
          "2010-10-12T00:00:00",
          "2010-10-13T00:00:00",
          "2010-10-14T00:00:00",
          "2010-10-15T00:00:00",
          "2010-10-16T00:00:00",
          "2010-10-17T00:00:00",
          "2010-10-18T00:00:00",
          "2010-10-19T00:00:00",
          "2010-10-20T00:00:00",
          "2010-10-21T00:00:00",
          "2010-10-22T00:00:00",
          "2010-10-23T00:00:00",
          "2010-10-24T00:00:00",
          "2010-10-25T00:00:00",
          "2010-10-26T00:00:00",
          "2010-10-27T00:00:00",
          "2010-10-28T00:00:00",
          "2010-10-29T00:00:00",
          "2010-10-30T00:00:00",
          "2010-10-31T00:00:00",
          "2010-11-01T00:00:00",
          "2010-11-02T00:00:00",
          "2010-11-03T00:00:00",
          "2010-11-04T00:00:00",
          "2010-11-05T00:00:00",
          "2010-11-06T00:00:00",
          "2010-11-07T00:00:00",
          "2010-11-08T00:00:00",
          "2010-11-09T00:00:00",
          "2010-11-10T00:00:00",
          "2010-11-11T00:00:00",
          "2010-11-12T00:00:00",
          "2010-11-13T00:00:00",
          "2010-11-14T00:00:00",
          "2010-11-15T00:00:00",
          "2010-11-16T00:00:00",
          "2010-11-17T00:00:00",
          "2010-11-18T00:00:00",
          "2010-11-19T00:00:00",
          "2010-11-20T00:00:00",
          "2010-11-21T00:00:00",
          "2010-11-22T00:00:00",
          "2010-11-23T00:00:00",
          "2010-11-24T00:00:00",
          "2010-11-25T00:00:00",
          "2010-11-26T00:00:00",
          "2010-11-27T00:00:00",
          "2010-11-28T00:00:00",
          "2010-11-29T00:00:00",
          "2010-11-30T00:00:00",
          "2010-12-01T00:00:00",
          "2010-12-02T00:00:00",
          "2010-12-03T00:00:00",
          "2010-12-04T00:00:00",
          "2010-12-05T00:00:00",
          "2010-12-06T00:00:00",
          "2010-12-07T00:00:00",
          "2010-12-08T00:00:00",
          "2010-12-09T00:00:00",
          "2010-12-10T00:00:00",
          "2010-12-11T00:00:00",
          "2010-12-12T00:00:00",
          "2010-12-13T00:00:00",
          "2010-12-14T00:00:00",
          "2010-12-15T00:00:00",
          "2010-12-16T00:00:00",
          "2010-12-17T00:00:00",
          "2010-12-18T00:00:00",
          "2010-12-19T00:00:00",
          "2010-12-20T00:00:00",
          "2010-12-21T00:00:00",
          "2010-12-22T00:00:00",
          "2010-12-23T00:00:00",
          "2010-12-24T00:00:00",
          "2010-12-25T00:00:00",
          "2010-12-26T00:00:00",
          "2010-12-27T00:00:00",
          "2010-12-28T00:00:00",
          "2010-12-29T00:00:00",
          "2010-12-30T00:00:00",
          "2010-12-31T00:00:00",
          "2011-01-01T00:00:00",
          "2011-01-02T00:00:00",
          "2011-01-03T00:00:00",
          "2011-01-04T00:00:00",
          "2011-01-05T00:00:00",
          "2011-01-06T00:00:00",
          "2011-01-07T00:00:00",
          "2011-01-08T00:00:00",
          "2011-01-09T00:00:00",
          "2011-01-10T00:00:00",
          "2011-01-11T00:00:00",
          "2011-01-12T00:00:00",
          "2011-01-13T00:00:00",
          "2011-01-14T00:00:00",
          "2011-01-15T00:00:00",
          "2011-01-16T00:00:00",
          "2011-01-17T00:00:00",
          "2011-01-18T00:00:00",
          "2011-01-19T00:00:00",
          "2011-01-20T00:00:00",
          "2011-01-21T00:00:00",
          "2011-01-22T00:00:00",
          "2011-01-23T00:00:00",
          "2011-01-24T00:00:00",
          "2011-01-25T00:00:00",
          "2011-01-26T00:00:00",
          "2011-01-27T00:00:00",
          "2011-01-28T00:00:00",
          "2011-01-29T00:00:00",
          "2011-01-30T00:00:00",
          "2011-01-31T00:00:00",
          "2011-02-01T00:00:00",
          "2011-02-02T00:00:00",
          "2011-02-03T00:00:00",
          "2011-02-04T00:00:00",
          "2011-02-05T00:00:00",
          "2011-02-06T00:00:00",
          "2011-02-07T00:00:00",
          "2011-02-08T00:00:00",
          "2011-02-09T00:00:00",
          "2011-02-10T00:00:00",
          "2011-02-11T00:00:00",
          "2011-02-12T00:00:00",
          "2011-02-13T00:00:00",
          "2011-02-14T00:00:00",
          "2011-02-15T00:00:00",
          "2011-02-16T00:00:00",
          "2011-02-17T00:00:00",
          "2011-02-18T00:00:00",
          "2011-02-19T00:00:00",
          "2011-02-20T00:00:00",
          "2011-02-21T00:00:00",
          "2011-02-22T00:00:00",
          "2011-02-23T00:00:00",
          "2011-02-24T00:00:00",
          "2011-02-25T00:00:00",
          "2011-02-26T00:00:00",
          "2011-02-27T00:00:00",
          "2011-02-28T00:00:00",
          "2011-03-01T00:00:00",
          "2011-03-02T00:00:00",
          "2011-03-03T00:00:00",
          "2011-03-04T00:00:00",
          "2011-03-05T00:00:00",
          "2011-03-06T00:00:00",
          "2011-03-07T00:00:00",
          "2011-03-08T00:00:00",
          "2011-03-09T00:00:00",
          "2011-03-10T00:00:00",
          "2011-03-11T00:00:00",
          "2011-03-12T00:00:00",
          "2011-03-13T00:00:00",
          "2011-03-14T00:00:00",
          "2011-03-15T00:00:00",
          "2011-03-16T00:00:00",
          "2011-03-17T00:00:00",
          "2011-03-18T00:00:00",
          "2011-03-19T00:00:00",
          "2011-03-20T00:00:00",
          "2011-03-21T00:00:00",
          "2011-03-22T00:00:00",
          "2011-03-23T00:00:00",
          "2011-03-24T00:00:00",
          "2011-03-25T00:00:00",
          "2011-03-26T00:00:00",
          "2011-03-27T00:00:00",
          "2011-03-28T00:00:00",
          "2011-03-29T00:00:00",
          "2011-03-30T00:00:00",
          "2011-03-31T00:00:00",
          "2011-04-01T00:00:00",
          "2011-04-02T00:00:00",
          "2011-04-03T00:00:00",
          "2011-04-04T00:00:00",
          "2011-04-05T00:00:00",
          "2011-04-06T00:00:00",
          "2011-04-07T00:00:00",
          "2011-04-08T00:00:00",
          "2011-04-09T00:00:00",
          "2011-04-10T00:00:00",
          "2011-04-11T00:00:00",
          "2011-04-12T00:00:00",
          "2011-04-13T00:00:00",
          "2011-04-14T00:00:00",
          "2011-04-15T00:00:00",
          "2011-04-16T00:00:00",
          "2011-04-17T00:00:00",
          "2011-04-18T00:00:00",
          "2011-04-19T00:00:00",
          "2011-04-20T00:00:00",
          "2011-04-21T00:00:00",
          "2011-04-22T00:00:00",
          "2011-04-23T00:00:00",
          "2011-04-24T00:00:00",
          "2011-04-25T00:00:00",
          "2011-04-26T00:00:00",
          "2011-04-27T00:00:00",
          "2011-04-28T00:00:00",
          "2011-04-29T00:00:00",
          "2011-04-30T00:00:00",
          "2011-05-01T00:00:00",
          "2011-05-02T00:00:00",
          "2011-05-03T00:00:00",
          "2011-05-04T00:00:00",
          "2011-05-05T00:00:00",
          "2011-05-06T00:00:00",
          "2011-05-07T00:00:00",
          "2011-05-08T00:00:00",
          "2011-05-09T00:00:00",
          "2011-05-10T00:00:00",
          "2011-05-11T00:00:00",
          "2011-05-12T00:00:00",
          "2011-05-13T00:00:00",
          "2011-05-14T00:00:00",
          "2011-05-15T00:00:00",
          "2011-05-16T00:00:00",
          "2011-05-17T00:00:00",
          "2011-05-18T00:00:00",
          "2011-05-19T00:00:00",
          "2011-05-20T00:00:00",
          "2011-05-21T00:00:00",
          "2011-05-22T00:00:00",
          "2011-05-23T00:00:00",
          "2011-05-24T00:00:00",
          "2011-05-25T00:00:00",
          "2011-05-26T00:00:00",
          "2011-05-27T00:00:00",
          "2011-05-28T00:00:00",
          "2011-05-29T00:00:00",
          "2011-05-30T00:00:00",
          "2011-05-31T00:00:00",
          "2011-06-01T00:00:00",
          "2011-06-02T00:00:00",
          "2011-06-03T00:00:00",
          "2011-06-04T00:00:00",
          "2011-06-05T00:00:00",
          "2011-06-06T00:00:00",
          "2011-06-07T00:00:00",
          "2011-06-08T00:00:00",
          "2011-06-09T00:00:00",
          "2011-06-10T00:00:00",
          "2011-06-11T00:00:00",
          "2011-06-12T00:00:00",
          "2011-06-13T00:00:00",
          "2011-06-14T00:00:00",
          "2011-06-15T00:00:00",
          "2011-06-16T00:00:00",
          "2011-06-17T00:00:00",
          "2011-06-18T00:00:00",
          "2011-06-19T00:00:00",
          "2011-06-20T00:00:00",
          "2011-06-21T00:00:00",
          "2011-06-22T00:00:00",
          "2011-06-23T00:00:00",
          "2011-06-24T00:00:00",
          "2011-06-25T00:00:00",
          "2011-06-26T00:00:00",
          "2011-06-27T00:00:00",
          "2011-06-28T00:00:00",
          "2011-06-29T00:00:00",
          "2011-06-30T00:00:00",
          "2011-07-01T00:00:00",
          "2011-07-02T00:00:00",
          "2011-07-03T00:00:00",
          "2011-07-04T00:00:00",
          "2011-07-05T00:00:00"
         ],
         "xaxis": "x",
         "y": [
          33.73461151123047,
          33.82173290679459,
          33.90885430235871,
          33.99597569792283,
          34.08309709348695,
          34.170218489051074,
          34.25733988461519,
          34.34446128017931,
          34.43158267574343,
          34.51870407130755,
          34.60582546687167,
          34.69294686243579,
          34.780068257999915,
          34.86718965356403,
          34.95431104912815,
          35.041432444692276,
          35.12787812042231,
          35.213987892413456,
          35.3000976644046,
          35.38620743639575,
          35.47231720838689,
          35.55842698037804,
          35.644536752369184,
          35.73064652436033,
          35.81675629635148,
          35.90286606834262,
          35.988975840333765,
          36.07508561232491,
          36.16119538431606,
          36.2473051563072,
          36.333414928298346,
          36.41891532387463,
          36.50321235960404,
          36.587509395333456,
          36.67180643106286,
          36.75610346679228,
          36.84040050252169,
          36.9246975382511,
          37.008994573980516,
          37.09329160970993,
          37.17758864543934,
          37.261885681168756,
          37.34618271689817,
          37.43047975262758,
          37.514776788357,
          37.59907382408641,
          37.683363795819055,
          37.76592947111791,
          37.84849514641675,
          37.931060821715604,
          38.01362649701446,
          38.09619217231331,
          38.17875784761216,
          38.26132352291101,
          38.343889198209865,
          38.42645487350872,
          38.50902054880757,
          38.59158622410642,
          38.674151899405274,
          38.756717574704126,
          38.83928325000298,
          38.92184892530183,
          39.003275791513325,
          39.0841476755688,
          39.16501955962427,
          39.245891443679746,
          39.32676332773522,
          39.4076352117907,
          39.48850709584617,
          39.56937897990164,
          39.65025086395712,
          39.731122748012595,
          39.811994632068064,
          39.89286651612354,
          39.973738400179016,
          40.054610284234485,
          40.13548216828996,
          40.215723561953354,
          40.294742547091026,
          40.373761532228706,
          40.45278051736638,
          40.53179950250406,
          40.61081848764174,
          40.68983747277941,
          40.76885645791709,
          40.84787544305476,
          40.92689442819244,
          41.00591341333012,
          41.08493239846779,
          41.16395138360547,
          41.242970368743144,
          41.321989353880824,
          41.40098749042173,
          41.47750702813242,
          41.55402656584312,
          41.630546103553804,
          41.7070656412645,
          41.78358517897519,
          41.86010471668588,
          41.93662425439658,
          42.013143792107265,
          42.08966332981795,
          42.16618286752865,
          42.24270240523934,
          42.31922194295004,
          42.395741480660725,
          42.47226101837142,
          42.54878055608211,
          42.62385529310486,
          42.698238265493856,
          42.77262123788285,
          42.84700421027185,
          42.92138718266085,
          42.99577015504985,
          43.07015312743884,
          43.144536099827846,
          43.21891907221684,
          43.29330204460584,
          43.36768501699484,
          43.44206798938384,
          43.51645096177283,
          43.59083393416183,
          43.66521690655083,
          43.73872216966599,
          43.810559130371544,
          43.882396091077084,
          43.95423305178263,
          44.02607001248818,
          44.09790697319372,
          44.16974393389927,
          44.24158089460481,
          44.31341785531036,
          44.3852548160159,
          44.45709177672145,
          44.528928737426995,
          44.60076569813254,
          44.67260265883809,
          44.74443961954363,
          44.81625460552472,
          44.886299255998125,
          44.95634390647153,
          45.02638855694494,
          45.09643320741834,
          45.16647785789175,
          45.236522508365155,
          45.30656715883856,
          45.37661180931197,
          45.446656459785366,
          45.51670111025878,
          45.58674576073218,
          45.65679041120559,
          45.72683506167899,
          45.7968797121524,
          45.8669243626258,
          45.93537513893771,
          46.00307788701148,
          46.07078063508524,
          46.13848338315901,
          46.20618613123278,
          46.273888879306554,
          46.34159162738032,
          46.40929437545409,
          46.47699712352785,
          46.54469987160162,
          46.61240261967539,
          46.680105367749164,
          46.74780811582293,
          46.8155108638967,
          46.88321361197046,
          46.95018286795296,
          47.01578154457211,
          47.08138022119125,
          47.14697889781039,
          47.21257757442954,
          47.27817625104868,
          47.34377492766782,
          47.40937360428697,
          47.474972280906115,
          47.540570957525254,
          47.6061696341444,
          47.67176831076355,
          47.737366987382686,
          47.80296566400183,
          47.86856434062098,
          47.93415127851056,
          47.99900176233761,
          48.06385224616466,
          48.12870272999171,
          48.19355321381876,
          48.258403697645804,
          48.32325418147286,
          48.388104665299906,
          48.45295514912696,
          48.51780563295401,
          48.58265611678105,
          48.647506600608104,
          48.712357084435155,
          48.7772075682622,
          48.84205805208925,
          48.9069085359163,
          48.97044094212084,
          49.03336846397584,
          49.096295985830835,
          49.15922350768584,
          49.22215102954083,
          49.28507855139583,
          49.34800607325083,
          49.41093359510583,
          49.473861116960826,
          49.53678863881582,
          49.59971616067082,
          49.66264368252582,
          49.72557120438081,
          49.788498726235815,
          49.85142624809082,
          49.91361184046313,
          49.97443621006767,
          50.035260579672205,
          50.09608494927674,
          50.156909318881276,
          50.21773368848581,
          50.27855805809034,
          50.33938242769487,
          50.40020679729941,
          50.46103116690394,
          50.521855536508475,
          50.582679906113015,
          50.64350427571755,
          50.70432864532208,
          50.76515301492661,
          50.82592275343745,
          50.884124830544714,
          50.94232690765197,
          51.00052898475923,
          51.05873106186648,
          51.11693313897374,
          51.175135216080996,
          51.23333729318826,
          51.29153937029551,
          51.34974144740277,
          51.40794352451003,
          51.466145601617285,
          51.52434767872454,
          51.5825497558318,
          51.64075183293906,
          51.69895391004631,
          51.755760511309674,
          51.811936636184456,
          51.86811276105924,
          51.92428888593401,
          51.98046501080879,
          52.03664113568357,
          52.09281726055835,
          52.14899338543312,
          52.205169510307904,
          52.26134563518268,
          52.31752176005746,
          52.37369788493224,
          52.429874009807016,
          52.48605013468179,
          52.54222625955657,
          52.59708982244416,
          52.64958650437977,
          52.702083186315384,
          52.75457986825099,
          52.80707655018661,
          52.859573232122216,
          52.912069914057824,
          52.96456659599343,
          53.01706327792905,
          53.069559959864655,
          53.12205664180027,
          53.17455332373588,
          53.22705000567149,
          53.2795466876071,
          53.33204336954271,
          53.38449068282844,
          53.435031692255386,
          53.48557270168232,
          53.53611371110926,
          53.586654720536195,
          53.63719572996314,
          53.687736739390076,
          53.73827774881701,
          53.78881875824395,
          53.839359767670885,
          53.88990077709782,
          53.94044178652476,
          53.9909827959517,
          54.04152380537864,
          54.092064814805575,
          54.14260582423251,
          54.19057403866478,
          54.237402221627164,
          54.28423040458955,
          54.33105858755194,
          54.37788677051432,
          54.424714953476716,
          54.4715431364391,
          54.518371319401496,
          54.56519950236388,
          54.61202768532627,
          54.658855868288654,
          54.70568405125104,
          54.75251223421343,
          54.79934041717582,
          54.846168600138206,
          54.89081802138363,
          54.93161241692233,
          54.972406812461024,
          55.01320120799972,
          55.05399560353842,
          55.09478999907712,
          55.13558439461582,
          55.176378790154516,
          55.21717318569321,
          55.25796758123191,
          55.29876197677061,
          55.3395563723093,
          55.380350767848,
          55.4211451633867,
          55.4619395589254,
          55.50254061135901,
          55.53673498314547,
          55.570929354931934,
          55.605123726718396,
          55.63931809850486,
          55.67351247029132,
          55.70770684207778,
          55.741901213864246,
          55.77609558565071,
          55.81028995743717,
          55.84448432922363,
          55.878678701010095,
          55.91287307279656,
          55.94706744458302,
          55.98126181636948,
          56.015456188155945,
          56.04596068403602,
          56.074862803526464,
          56.10376492301691,
          56.132667042507364,
          56.16156916199781,
          56.19047128148826,
          56.219373400978704,
          56.24827552046915,
          56.2771776399596,
          56.30607975945005,
          56.334981878940496,
          56.36388399843094,
          56.39278611792139,
          56.42168823741184,
          56.45059035690229,
          56.476535646107024,
          56.49734244453312,
          56.51814924295921,
          56.538956041385305,
          56.5597628398114,
          56.580569638237485,
          56.60137643666358,
          56.622183235089665,
          56.64299003351576,
          56.66379683194185,
          56.684603630367945,
          56.70541042879403,
          56.726217227220125,
          56.74702402564621,
          56.767830824072306,
          56.7884867137968,
          56.80475385340889,
          56.82102099302098,
          56.83728813263307,
          56.85355527224516,
          56.86982241185725,
          56.88608955146934,
          56.90235669108143,
          56.91862383069352,
          56.93489097030561,
          56.9511581099177,
          56.96742524952979,
          56.98369238914188,
          56.99995952875397,
          57.01622666836606,
          57.03249380797814,
          57.04812240928873,
          57.063480951699866,
          57.078839494111,
          57.09419803652213,
          57.109556578933265,
          57.1249151213444,
          57.140273663755536,
          57.15563220616667,
          57.17099074857781,
          57.18634929098894,
          57.20170783340008,
          57.217066375811214,
          57.23242491822235,
          57.24778346063348,
          57.263142003044614,
          57.27794471419001,
          57.291795674781994,
          57.30564663537398,
          57.31949759596596,
          57.33334855655795,
          57.34719951714993,
          57.36105047774192,
          57.3749014383339,
          57.38875239892589,
          57.40260335951787,
          57.41645432010985,
          57.43030528070184,
          57.444156241293825,
          57.458007201885806,
          57.47185816247779,
          57.48575958081244,
          57.500949723379954,
          57.516139865947466,
          57.531330008514985,
          57.5465201510825,
          57.56171029365001,
          57.57690043621753,
          57.59209057878504,
          57.60728072135255,
          57.62247086392007,
          57.63766100648758,
          57.652851149055095,
          57.668041291622615,
          57.683231434190134,
          57.698421576757646,
          57.71361171932516,
          57.72950554550617,
          57.74569205121617,
          57.761878556926156,
          57.778065062636145,
          57.79425156834614,
          57.81043807405613,
          57.82662457976612,
          57.842811085476114,
          57.8589975911861,
          57.87518409689609,
          57.89137060260609,
          57.90755710831608,
          57.923743614026066,
          57.93993011973606,
          57.95611662544605,
          57.97259934469673,
          57.98958091604525,
          58.00656248739377,
          58.023544058742296,
          58.04052563009081,
          58.057507201439336,
          58.07448877278786,
          58.09147034413638,
          58.108451915484906,
          58.12543348683342,
          58.142415058181946,
          58.15939662953047,
          58.176378200878986,
          58.19335977222751,
          58.21034134357603,
          58.22751552102488,
          58.249126314501346,
          58.27073710797781,
          58.29234790145428,
          58.31395869493074,
          58.33556948840721,
          58.35718028188367,
          58.37879107536014,
          58.4004018688366,
          58.42201266231307,
          58.443623455789535,
          58.465234249266004,
          58.486845042742466,
          58.508455836218936,
          58.5300666296954,
          58.55167742317187,
          58.57192414065442,
          58.591613319777785,
          58.61130249890115,
          58.63099167802453,
          58.6506808571479,
          58.67037003627127,
          58.69005921539464,
          58.709748394518016,
          58.729437573641384,
          58.74912675276475,
          58.76881593188813,
          58.7885051110115,
          58.80819429013487,
          58.82788346925824,
          58.847572648381615,
          58.86899134624436,
          58.893256026578236,
          58.91752070691212,
          58.94178538724601,
          58.96605006757989,
          58.99031474791377,
          59.01457942824766,
          59.03884410858154,
          59.06310878891543,
          59.087373469249314,
          59.1116381495832,
          59.13590282991708,
          59.160167510250965,
          59.18443219058485,
          59.208696870918736,
          59.232937468103614,
          59.25668510758733,
          59.280432747071046,
          59.30418038655476,
          59.32792802603848,
          59.351675665522194,
          59.37542330500591,
          59.399170944489626,
          59.42291858397334,
          59.44666622345706,
          59.470413862940774,
          59.49416150242449,
          59.517909141908206,
          59.54165678139192,
          59.56540442087564,
          59.58915206035935,
          59.612184458878694,
          59.634929770241506,
          59.65767508160432,
          59.680420392967136,
          59.70316570432995,
          59.72591101569276,
          59.74865632705557,
          59.77140163841838,
          59.794146949781194,
          59.81689226114401,
          59.839637572506824,
          59.862382883869635,
          59.885128195232454,
          59.907873506595266,
          59.93061881795808,
          59.95244322134993,
          59.97277728949069,
          59.993111357631456,
          60.01344542577222,
          60.03377949391298,
          60.05411356205374,
          60.0744476301945,
          60.09478169833526,
          60.11511576647602,
          60.135449834616786,
          60.15578390275755,
          60.17611797089831,
          60.19645203903907,
          60.216786107179836,
          60.2371201753206,
          60.25745424346136,
          60.27778831160212,
          60.298122379742885,
          60.31845644788365,
          60.3387905160244,
          60.35912458416517,
          60.37945865230593,
          60.3997927204467,
          60.42012678858745,
          60.440460856728215,
          60.46079492486898,
          60.48112899300974,
          60.5014630611505,
          60.521797129291265,
          60.54213119743203,
          60.56246526557279,
          60.58279933371355,
          60.603133401854315,
          60.62346746999508,
          60.64380153813584,
          60.6641356062766,
          60.68446967441736,
          60.70480374255813,
          60.72513781069888,
          60.745471878839645,
          60.76580594698041,
          60.78614001512117,
          60.80647408326193,
          60.826808151402695,
          60.84714221954346
         ],
         "yaxis": "y"
        },
        {
         "marker": {
          "color": "#2d92ff"
         },
         "name": "Trend Rate Change",
         "type": "bar",
         "uid": "539cdf8e-3b17-4b98-885b-7ccbe231fb78",
         "x": [
          "2009-12-01T00:00:00",
          "2009-12-16T07:58:00",
          "2009-12-31T15:56:00",
          "2010-01-15T23:54:00",
          "2010-01-31T07:52:00",
          "2010-02-15T15:50:00",
          "2010-03-02T23:48:00",
          "2010-03-18T07:46:00",
          "2010-04-02T15:44:00",
          "2010-04-17T23:42:00",
          "2010-05-03T07:40:00",
          "2010-05-18T15:38:00",
          "2010-06-02T23:36:00",
          "2010-06-18T07:34:00",
          "2010-07-03T15:32:00",
          "2010-07-18T23:30:00",
          "2010-08-03T07:28:00",
          "2010-08-18T15:26:00",
          "2010-09-02T23:24:00",
          "2010-09-18T07:22:00",
          "2010-10-03T15:20:00",
          "2010-10-18T23:18:00",
          "2010-11-03T07:16:00",
          "2010-11-18T15:14:00",
          "2010-12-03T23:12:00",
          "2010-12-19T07:10:00",
          "2011-01-03T15:08:00",
          "2011-01-18T23:06:00",
          "2011-02-03T07:04:00",
          "2011-02-18T15:02:00",
          "2011-03-05T23:00:00",
          "2011-03-21T06:58:00",
          "2011-04-05T14:56:00",
          "2011-04-20T22:54:00",
          "2011-05-06T06:52:00",
          "2011-05-21T14:50:00",
          "2011-07-05T00:00:00"
         ],
         "xaxis": "x2",
         "y": [
          15.775686264038086,
          -0.5877571105957031,
          -1.0531978607177734,
          -1.0059223175048828,
          -0.9840908050537109,
          -1.0765342712402344,
          -1.452178955078125,
          -1.2413463592529297,
          -1.4792289733886719,
          -1.0413341522216797,
          -1.3606452941894531,
          -1.2224655151367188,
          -0.43470191955566406,
          -1.1172370910644531,
          -1.2219314575195312,
          -1.5235519409179688,
          -1.1770782470703125,
          -2.137758255004883,
          -1.136244773864746,
          -2.1571531295776367,
          -3.5056304931640625,
          -3.834613800048828,
          -3.074799060821533,
          -4.703381061553955,
          -2.6375412940979004,
          -0.527895450592041,
          -0.8759050369262695,
          0.7780647277832031,
          0.5788869857788086,
          0.4619326591491699,
          2.6895785331726074,
          -1.116457462310791,
          2.6583659648895264,
          -0.3004004955291748,
          -0.5823531150817871,
          -1.4009323120117188,
          0
         ],
         "yaxis": "y2"
        },
        {
         "fill": "none",
         "line": {
          "color": "#2d92ff",
          "width": 2
         },
         "mode": "lines",
         "name": "yearly",
         "type": "scatter",
         "uid": "770de880-4211-4d06-8f8f-32676dfe6395",
         "x": [
          "2017-01-01T00:00:00",
          "2017-01-02T00:00:00",
          "2017-01-03T00:00:00",
          "2017-01-04T00:00:00",
          "2017-01-05T00:00:00",
          "2017-01-06T00:00:00",
          "2017-01-07T00:00:00",
          "2017-01-08T00:00:00",
          "2017-01-09T00:00:00",
          "2017-01-10T00:00:00",
          "2017-01-11T00:00:00",
          "2017-01-12T00:00:00",
          "2017-01-13T00:00:00",
          "2017-01-14T00:00:00",
          "2017-01-15T00:00:00",
          "2017-01-16T00:00:00",
          "2017-01-17T00:00:00",
          "2017-01-18T00:00:00",
          "2017-01-19T00:00:00",
          "2017-01-20T00:00:00",
          "2017-01-21T00:00:00",
          "2017-01-22T00:00:00",
          "2017-01-23T00:00:00",
          "2017-01-24T00:00:00",
          "2017-01-25T00:00:00",
          "2017-01-26T00:00:00",
          "2017-01-27T00:00:00",
          "2017-01-28T00:00:00",
          "2017-01-29T00:00:00",
          "2017-01-30T00:00:00",
          "2017-01-31T00:00:00",
          "2017-02-01T00:00:00",
          "2017-02-02T00:00:00",
          "2017-02-03T00:00:00",
          "2017-02-04T00:00:00",
          "2017-02-05T00:00:00",
          "2017-02-06T00:00:00",
          "2017-02-07T00:00:00",
          "2017-02-08T00:00:00",
          "2017-02-09T00:00:00",
          "2017-02-10T00:00:00",
          "2017-02-11T00:00:00",
          "2017-02-12T00:00:00",
          "2017-02-13T00:00:00",
          "2017-02-14T00:00:00",
          "2017-02-15T00:00:00",
          "2017-02-16T00:00:00",
          "2017-02-17T00:00:00",
          "2017-02-18T00:00:00",
          "2017-02-19T00:00:00",
          "2017-02-20T00:00:00",
          "2017-02-21T00:00:00",
          "2017-02-22T00:00:00",
          "2017-02-23T00:00:00",
          "2017-02-24T00:00:00",
          "2017-02-25T00:00:00",
          "2017-02-26T00:00:00",
          "2017-02-27T00:00:00",
          "2017-02-28T00:00:00",
          "2017-03-01T00:00:00",
          "2017-03-02T00:00:00",
          "2017-03-03T00:00:00",
          "2017-03-04T00:00:00",
          "2017-03-05T00:00:00",
          "2017-03-06T00:00:00",
          "2017-03-07T00:00:00",
          "2017-03-08T00:00:00",
          "2017-03-09T00:00:00",
          "2017-03-10T00:00:00",
          "2017-03-11T00:00:00",
          "2017-03-12T00:00:00",
          "2017-03-13T00:00:00",
          "2017-03-14T00:00:00",
          "2017-03-15T00:00:00",
          "2017-03-16T00:00:00",
          "2017-03-17T00:00:00",
          "2017-03-18T00:00:00",
          "2017-03-19T00:00:00",
          "2017-03-20T00:00:00",
          "2017-03-21T00:00:00",
          "2017-03-22T00:00:00",
          "2017-03-23T00:00:00",
          "2017-03-24T00:00:00",
          "2017-03-25T00:00:00",
          "2017-03-26T00:00:00",
          "2017-03-27T00:00:00",
          "2017-03-28T00:00:00",
          "2017-03-29T00:00:00",
          "2017-03-30T00:00:00",
          "2017-03-31T00:00:00",
          "2017-04-01T00:00:00",
          "2017-04-02T00:00:00",
          "2017-04-03T00:00:00",
          "2017-04-04T00:00:00",
          "2017-04-05T00:00:00",
          "2017-04-06T00:00:00",
          "2017-04-07T00:00:00",
          "2017-04-08T00:00:00",
          "2017-04-09T00:00:00",
          "2017-04-10T00:00:00",
          "2017-04-11T00:00:00",
          "2017-04-12T00:00:00",
          "2017-04-13T00:00:00",
          "2017-04-14T00:00:00",
          "2017-04-15T00:00:00",
          "2017-04-16T00:00:00",
          "2017-04-17T00:00:00",
          "2017-04-18T00:00:00",
          "2017-04-19T00:00:00",
          "2017-04-20T00:00:00",
          "2017-04-21T00:00:00",
          "2017-04-22T00:00:00",
          "2017-04-23T00:00:00",
          "2017-04-24T00:00:00",
          "2017-04-25T00:00:00",
          "2017-04-26T00:00:00",
          "2017-04-27T00:00:00",
          "2017-04-28T00:00:00",
          "2017-04-29T00:00:00",
          "2017-04-30T00:00:00",
          "2017-05-01T00:00:00",
          "2017-05-02T00:00:00",
          "2017-05-03T00:00:00",
          "2017-05-04T00:00:00",
          "2017-05-05T00:00:00",
          "2017-05-06T00:00:00",
          "2017-05-07T00:00:00",
          "2017-05-08T00:00:00",
          "2017-05-09T00:00:00",
          "2017-05-10T00:00:00",
          "2017-05-11T00:00:00",
          "2017-05-12T00:00:00",
          "2017-05-13T00:00:00",
          "2017-05-14T00:00:00",
          "2017-05-15T00:00:00",
          "2017-05-16T00:00:00",
          "2017-05-17T00:00:00",
          "2017-05-18T00:00:00",
          "2017-05-19T00:00:00",
          "2017-05-20T00:00:00",
          "2017-05-21T00:00:00",
          "2017-05-22T00:00:00",
          "2017-05-23T00:00:00",
          "2017-05-24T00:00:00",
          "2017-05-25T00:00:00",
          "2017-05-26T00:00:00",
          "2017-05-27T00:00:00",
          "2017-05-28T00:00:00",
          "2017-05-29T00:00:00",
          "2017-05-30T00:00:00",
          "2017-05-31T00:00:00",
          "2017-06-01T00:00:00",
          "2017-06-02T00:00:00",
          "2017-06-03T00:00:00",
          "2017-06-04T00:00:00",
          "2017-06-05T00:00:00",
          "2017-06-06T00:00:00",
          "2017-06-07T00:00:00",
          "2017-06-08T00:00:00",
          "2017-06-09T00:00:00",
          "2017-06-10T00:00:00",
          "2017-06-11T00:00:00",
          "2017-06-12T00:00:00",
          "2017-06-13T00:00:00",
          "2017-06-14T00:00:00",
          "2017-06-15T00:00:00",
          "2017-06-16T00:00:00",
          "2017-06-17T00:00:00",
          "2017-06-18T00:00:00",
          "2017-06-19T00:00:00",
          "2017-06-20T00:00:00",
          "2017-06-21T00:00:00",
          "2017-06-22T00:00:00",
          "2017-06-23T00:00:00",
          "2017-06-24T00:00:00",
          "2017-06-25T00:00:00",
          "2017-06-26T00:00:00",
          "2017-06-27T00:00:00",
          "2017-06-28T00:00:00",
          "2017-06-29T00:00:00",
          "2017-06-30T00:00:00",
          "2017-07-01T00:00:00",
          "2017-07-02T00:00:00",
          "2017-07-03T00:00:00",
          "2017-07-04T00:00:00",
          "2017-07-05T00:00:00",
          "2017-07-06T00:00:00",
          "2017-07-07T00:00:00",
          "2017-07-08T00:00:00",
          "2017-07-09T00:00:00",
          "2017-07-10T00:00:00",
          "2017-07-11T00:00:00",
          "2017-07-12T00:00:00",
          "2017-07-13T00:00:00",
          "2017-07-14T00:00:00",
          "2017-07-15T00:00:00",
          "2017-07-16T00:00:00",
          "2017-07-17T00:00:00",
          "2017-07-18T00:00:00",
          "2017-07-19T00:00:00",
          "2017-07-20T00:00:00",
          "2017-07-21T00:00:00",
          "2017-07-22T00:00:00",
          "2017-07-23T00:00:00",
          "2017-07-24T00:00:00",
          "2017-07-25T00:00:00",
          "2017-07-26T00:00:00",
          "2017-07-27T00:00:00",
          "2017-07-28T00:00:00",
          "2017-07-29T00:00:00",
          "2017-07-30T00:00:00",
          "2017-07-31T00:00:00",
          "2017-08-01T00:00:00",
          "2017-08-02T00:00:00",
          "2017-08-03T00:00:00",
          "2017-08-04T00:00:00",
          "2017-08-05T00:00:00",
          "2017-08-06T00:00:00",
          "2017-08-07T00:00:00",
          "2017-08-08T00:00:00",
          "2017-08-09T00:00:00",
          "2017-08-10T00:00:00",
          "2017-08-11T00:00:00",
          "2017-08-12T00:00:00",
          "2017-08-13T00:00:00",
          "2017-08-14T00:00:00",
          "2017-08-15T00:00:00",
          "2017-08-16T00:00:00",
          "2017-08-17T00:00:00",
          "2017-08-18T00:00:00",
          "2017-08-19T00:00:00",
          "2017-08-20T00:00:00",
          "2017-08-21T00:00:00",
          "2017-08-22T00:00:00",
          "2017-08-23T00:00:00",
          "2017-08-24T00:00:00",
          "2017-08-25T00:00:00",
          "2017-08-26T00:00:00",
          "2017-08-27T00:00:00",
          "2017-08-28T00:00:00",
          "2017-08-29T00:00:00",
          "2017-08-30T00:00:00",
          "2017-08-31T00:00:00",
          "2017-09-01T00:00:00",
          "2017-09-02T00:00:00",
          "2017-09-03T00:00:00",
          "2017-09-04T00:00:00",
          "2017-09-05T00:00:00",
          "2017-09-06T00:00:00",
          "2017-09-07T00:00:00",
          "2017-09-08T00:00:00",
          "2017-09-09T00:00:00",
          "2017-09-10T00:00:00",
          "2017-09-11T00:00:00",
          "2017-09-12T00:00:00",
          "2017-09-13T00:00:00",
          "2017-09-14T00:00:00",
          "2017-09-15T00:00:00",
          "2017-09-16T00:00:00",
          "2017-09-17T00:00:00",
          "2017-09-18T00:00:00",
          "2017-09-19T00:00:00",
          "2017-09-20T00:00:00",
          "2017-09-21T00:00:00",
          "2017-09-22T00:00:00",
          "2017-09-23T00:00:00",
          "2017-09-24T00:00:00",
          "2017-09-25T00:00:00",
          "2017-09-26T00:00:00",
          "2017-09-27T00:00:00",
          "2017-09-28T00:00:00",
          "2017-09-29T00:00:00",
          "2017-09-30T00:00:00",
          "2017-10-01T00:00:00",
          "2017-10-02T00:00:00",
          "2017-10-03T00:00:00",
          "2017-10-04T00:00:00",
          "2017-10-05T00:00:00",
          "2017-10-06T00:00:00",
          "2017-10-07T00:00:00",
          "2017-10-08T00:00:00",
          "2017-10-09T00:00:00",
          "2017-10-10T00:00:00",
          "2017-10-11T00:00:00",
          "2017-10-12T00:00:00",
          "2017-10-13T00:00:00",
          "2017-10-14T00:00:00",
          "2017-10-15T00:00:00",
          "2017-10-16T00:00:00",
          "2017-10-17T00:00:00",
          "2017-10-18T00:00:00",
          "2017-10-19T00:00:00",
          "2017-10-20T00:00:00",
          "2017-10-21T00:00:00",
          "2017-10-22T00:00:00",
          "2017-10-23T00:00:00",
          "2017-10-24T00:00:00",
          "2017-10-25T00:00:00",
          "2017-10-26T00:00:00",
          "2017-10-27T00:00:00",
          "2017-10-28T00:00:00",
          "2017-10-29T00:00:00",
          "2017-10-30T00:00:00",
          "2017-10-31T00:00:00",
          "2017-11-01T00:00:00",
          "2017-11-02T00:00:00",
          "2017-11-03T00:00:00",
          "2017-11-04T00:00:00",
          "2017-11-05T00:00:00",
          "2017-11-06T00:00:00",
          "2017-11-07T00:00:00",
          "2017-11-08T00:00:00",
          "2017-11-09T00:00:00",
          "2017-11-10T00:00:00",
          "2017-11-11T00:00:00",
          "2017-11-12T00:00:00",
          "2017-11-13T00:00:00",
          "2017-11-14T00:00:00",
          "2017-11-15T00:00:00",
          "2017-11-16T00:00:00",
          "2017-11-17T00:00:00",
          "2017-11-18T00:00:00",
          "2017-11-19T00:00:00",
          "2017-11-20T00:00:00",
          "2017-11-21T00:00:00",
          "2017-11-22T00:00:00",
          "2017-11-23T00:00:00",
          "2017-11-24T00:00:00",
          "2017-11-25T00:00:00",
          "2017-11-26T00:00:00",
          "2017-11-27T00:00:00",
          "2017-11-28T00:00:00",
          "2017-11-29T00:00:00",
          "2017-11-30T00:00:00",
          "2017-12-01T00:00:00",
          "2017-12-02T00:00:00",
          "2017-12-03T00:00:00",
          "2017-12-04T00:00:00",
          "2017-12-05T00:00:00",
          "2017-12-06T00:00:00",
          "2017-12-07T00:00:00",
          "2017-12-08T00:00:00",
          "2017-12-09T00:00:00",
          "2017-12-10T00:00:00",
          "2017-12-11T00:00:00",
          "2017-12-12T00:00:00",
          "2017-12-13T00:00:00",
          "2017-12-14T00:00:00",
          "2017-12-15T00:00:00",
          "2017-12-16T00:00:00",
          "2017-12-17T00:00:00",
          "2017-12-18T00:00:00",
          "2017-12-19T00:00:00",
          "2017-12-20T00:00:00",
          "2017-12-21T00:00:00",
          "2017-12-22T00:00:00",
          "2017-12-23T00:00:00",
          "2017-12-24T00:00:00",
          "2017-12-25T00:00:00",
          "2017-12-26T00:00:00",
          "2017-12-27T00:00:00",
          "2017-12-28T00:00:00",
          "2017-12-29T00:00:00",
          "2017-12-30T00:00:00",
          "2017-12-31T00:00:00"
         ],
         "xaxis": "x3",
         "y": [
          -121.54824008061318,
          -122.5678951512182,
          -123.1028715039312,
          -123.17380403966455,
          -122.8045064364185,
          -122.02169216306139,
          -120.8546701753159,
          -119.33501858518161,
          -117.49623980564915,
          -115.37340084620642,
          -113.00276256780428,
          -110.42140179963619,
          -107.66683027097811,
          -104.77661432080961,
          -101.78799931560762,
          -98.73754263114046,
          -95.66075893989273,
          -92.59178139135103,
          -89.56304208165548,
          -86.60497498191714,
          -83.74574423580805,
          -81.01100044732758,
          -78.42366726446267,
          -76.00376022509646,
          -73.768239473553,
          -71.73089758204034,
          -69.9022833262884,
          -68.2896618718729,
          -66.89701143244893,
          -65.72505606669267,
          -64.77133389224483,
          -64.03029961574799,
          -63.493459913126486,
          -63.1495398464493,
          -62.984678177839264,
          -62.9826491394235,
          -63.125107945225295,
          -63.39185708842797,
          -63.761130258730226,
          -64.20989054107075,
          -64.71413942137727,
          -65.24923302750526,
          -65.79020197659007,
          -66.31207118217253,
          -66.79017599823624,
          -67.20047113937817,
          -67.5198289190281,
          -67.72632348699896,
          -67.79949792388759,
          -67.72061126004947,
          -67.47286272874291,
          -67.0415908341964,
          -66.41444511212134,
          -65.58152877997647,
          -64.53551081274964,
          -63.27170633399392,
          -61.788124577077795,
          -60.08548404390157,
          -58.1671948641474,
          -56.03930873232875,
          -53.710437169515785,
          -51.191639216235714,
          -48.496280010219365,
          -45.639862031895206,
          -42.6398311094657,
          -39.51535956045585,
          -36.287109103406095,
          -32.976976401312456,
          -29.60782429244546,
          -26.20320192457003,
          -22.78705713140169,
          -19.383444475997358,
          -16.016232431823063,
          -12.708813180081627,
          -9.483818469112585,
          -6.362844910906766,
          -3.3661919797511963,
          -0.5126158320916154,
          2.180898115920055,
          4.69934113163421,
          7.029863155211707,
          9.161928634544864,
          11.087444305803505,
          12.800857341310977,
          14.29922262655245,
          15.582238283376554,
          16.652248921542004,
          17.51421647312914,
          18.175658838613224,
          18.646556946346788,
          18.93923119415855,
          19.06818859816743,
          19.049942317539987,
          18.902805548298005,
          18.646662083354876,
          18.30271611400911,
          17.89322409916211,
          17.44121174790374,
          16.97017934668152,
          16.503798813726057,
          16.065605975167838,
          15.678691632466784,
          15.365395024630882,
          15.14700328320447,
          15.043460431648288,
          15.073089394791676,
          15.25233035872246,
          15.595498658559169,
          16.11456517135471,
          16.81896195910019,
          17.71541564006507,
          18.807810673244425,
          20.097084420045256,
          21.5811555051372,
          23.254886636441807,
          25.110082668414556,
          27.13552430529461,
          29.317037447493284,
          31.63759778777966,
          34.077469869956744,
          36.614379434618044,
          39.223717499036574,
          41.878774255389835,
          44.55100052752785,
          47.21029420449282,
          49.82530877371065,
          52.363780810360666,
          54.79287304599718,
          57.079529440464846,
          59.19083852050335,
          61.094401126111045,
          62.75869862537631,
          64.15345761892374,
          65.25000715917369,
          66.02162455572795,
          66.44386592693854,
          66.49487778831242,
          66.1556861393701,
          65.41045972044778,
          64.24674435781088,
          62.65566559634661,
          60.632097131934025,
          58.17479289699518,
          55.28648101785436,
          51.97391825078715,
          48.24790390700384,
          44.123252694439486,
          39.618726329825655,
          34.756924204571206,
          29.564133817162595,
          24.070142109680305,
          18.308009260727232,
          12.313806888767745,
          6.126323002495047,
          -0.2132636039506366,
          -6.661736478263386,
          -13.17421882266688,
          -19.704571382211753,
          -26.20580706368464,
          -32.63051824247907,
          -38.93131255877869,
          -45.06125289065258,
          -50.974297121970025,
          -56.62573329877799,
          -61.9726057880103,
          -66.97412811903118,
          -71.59207829870205,
          -75.79117254613483,
          -79.53941358951849,
          -82.80840990549902,
          -85.57366255693061,
          -87.81481659595221,
          -89.5158743425778,
          -90.66536822142209,
          -91.2564912361433,
          -91.28718357979831,
          -90.76017431425208,
          -89.68297749939747,
          -88.06784260813211,
          -85.93165952140662,
          -83.29581885443723,
          -80.1860288155659,
          -76.63209023855649,
          -72.66763185327305,
          -68.32980826335276,
          -63.65896347960299,
          -58.69826320938004,
          -53.4932994223462,
          -48.09167099807296,
          -42.54254450742724,
          -36.89619938632977,
          -31.20356192324401,
          -25.515732601103352,
          -19.88351140654622,
          -14.356925746165494,
          -8.984765587880332,
          -3.814130378715177,
          1.1100078245019276,
          5.745220733210594,
          10.052015638708603,
          13.994198825330727,
          17.539207036616666,
          20.658403764336093,
          23.32733748235995,
          25.525959328006564,
          27.238798140036593,
          28.455091189735057,
          29.168869386002658,
          29.378996191566348,
          29.08915995175685,
          28.307819803779147,
          27.048105799472395,
          25.327674332345634,
          23.168520406278986,
          20.596748713626816,
          17.642305900575657,
          14.338676782570715,
          10.722547629645746,
          6.833439965195254,
          2.7133186113862067,
          -1.5938220365195264,
          -6.042389314336781,
          -10.585636814290652,
          -15.176117652018846,
          -19.76614192138547,
          -24.308233754915058,
          -28.75558342584884,
          -33.06248999417227,
          -37.184790109436776,
          -41.08026874032528,
          -44.709047799580105,
          -48.03394887367146,
          -51.020826544845505,
          -53.638869107973946,
          -55.860863830135855,
          -57.6634242765194,
          -59.02717762479513,
          -59.93691031043981,
          -60.381670780717734,
          -60.35482858240241,
          -59.8540894618809,
          -58.88146661217871,
          -57.44320865443769,
          -55.549685386850236,
          -53.21523276750757,
          -50.45795901441174,
          -47.29951410166723,
          -43.76482530186867,
          -39.88180176648851,
          -35.68101144580762,
          -31.19533392386212,
          -26.45959297983283,
          -21.510172881900203,
          -16.38462257241625,
          -11.121252010728952,
          -5.758725003555632,
          -0.335652869243777,
          5.109806746135707,
          10.540341657273476,
          15.919863408199676,
          21.21386805811906,
          26.389775725956916,
          31.417245376992792,
          36.268461615171695,
          40.91839055681556,
          45.345002205286505,
          49.52945711494367,
          53.45625552540487,
          57.113347557187,
          60.49220348425344,
          63.58784353266348,
          66.39882709312984,
          68.9272016739636,
          71.17841235506779,
          73.16117292858765,
          74.88730032356506,
          76.37151430509593,
          77.63120481011225,
          78.68616962716769,
          79.55832544337409,
          80.27139556436742,
          80.85057785990327,
          81.32219669621679,
          81.71334278380027,
          82.05150499447745,
          82.36419828350472,
          82.67859188914086,
          83.02114197503175,
          83.41723282756485,
          83.89083062485892,
          84.46415365354022,
          85.15736266950185,
          85.98827487759416,
          86.97210474819985,
          88.12123459638372,
          89.44501752643893,
          90.94961499370046,
          92.63787086066206,
          94.50922342979953,
          96.55965652478487,
          98.78169027002781,
          101.16441178968029,
          103.69354561604109,
          106.3515631687676,
          109.11783024391141,
          111.96879104176679,
          114.87818686675485,
          117.81730725832551,
          120.75527095975652,
          123.65933380877706,
          126.49522034059555,
          129.2274756354582,
          131.81983372130634,
          134.2355986586344,
          136.43803429373529,
          138.3907585667132,
          140.05813820563262,
          141.4056796259045,
          142.40041188783186,
          143.01125764069366,
          143.2093881024433,
          142.96855828467216,
          142.265418874497,
          141.0798014238975,
          139.39497377178705,
          137.1978629313414,
          134.47924301066817,
          131.23388609714368,
          127.4606744190322,
          123.16267249904871,
          118.34715842903566,
          113.02561381894326,
          107.21367240126597,
          100.93102770019554,
          94.20130059910807,
          87.05186805472613,
          79.5136546081652,
          71.62088872674282,
          63.41082637477412,
          54.92344454695098,
          46.20110780862106,
          37.28821116230859,
          28.230802803321193,
          19.076190529733232,
          9.872535738973369,
          0.6684390655915244,
          -8.487478203249509,
          -17.546992759696703,
          -26.462693785486895,
          -35.188389219642026,
          -43.67949975499509,
          -51.893436667259664,
          -59.789959754990264,
          -67.33151188002363,
          -74.48352684677316,
          -81.21470763935741,
          -87.49727234884651,
          -93.30716546020032,
          -98.62423253234095,
          -103.4323566855358,
          -107.71955570856343,
          -111.47803900612912,
          -114.70422402268282,
          -117.39871219736128,
          -119.56622492010709
         ],
         "yaxis": "y3"
        },
        {
         "fill": "none",
         "line": {
          "color": "#2d92ff",
          "width": 2
         },
         "mode": "lines",
         "name": "weekly",
         "type": "scatter",
         "uid": "055bdc86-aa04-42e4-be56-252a677e673f",
         "x": [
          0,
          1,
          2,
          3,
          4,
          5,
          6,
          7,
          8,
          9,
          10,
          11,
          12,
          13,
          14,
          15,
          16,
          17,
          18,
          19,
          20,
          21,
          22,
          23,
          24,
          25,
          26,
          27,
          28,
          29,
          30,
          31,
          32,
          33,
          34,
          35,
          36,
          37,
          38,
          39,
          40,
          41,
          42,
          43,
          44,
          45,
          46,
          47,
          48,
          49,
          50,
          51,
          52,
          53,
          54,
          55,
          56,
          57,
          58,
          59,
          60,
          61,
          62,
          63,
          64,
          65,
          66,
          67,
          68,
          69,
          70,
          71,
          72,
          73,
          74,
          75,
          76,
          77,
          78,
          79,
          80,
          81,
          82,
          83,
          84,
          85,
          86,
          87,
          88,
          89,
          90,
          91,
          92,
          93,
          94,
          95,
          96,
          97,
          98,
          99,
          100,
          101,
          102,
          103,
          104,
          105,
          106,
          107,
          108,
          109,
          110,
          111,
          112,
          113,
          114,
          115,
          116,
          117,
          118,
          119,
          120,
          121,
          122,
          123,
          124,
          125,
          126,
          127,
          128,
          129,
          130,
          131,
          132,
          133,
          134,
          135,
          136,
          137,
          138,
          139,
          140,
          141,
          142,
          143,
          144,
          145,
          146,
          147,
          148,
          149,
          150,
          151,
          152,
          153,
          154,
          155,
          156,
          157,
          158,
          159,
          160,
          161,
          162,
          163,
          164,
          165,
          166,
          167
         ],
         "xaxis": "x4",
         "y": [
          -56.00778865279598,
          -50.705345969720824,
          -45.47362871346395,
          -40.32819100151262,
          -35.28266498765223,
          -30.348774660365052,
          -25.536373445799967,
          -20.853504257041294,
          -16.30648034914104,
          -11.899985103091211,
          -7.637188652053112,
          -3.5198790505958826,
          0.45139443867098095,
          4.2771684960520275,
          7.958905978868437,
          11.498831918512181,
          14.899767969749625,
          18.164967983558835,
          21.29795729925526,
          24.30237824947329,
          27.181844251512658,
          29.93980467710321,
          32.579422502502055,
          35.103466523779744,
          37.51421966884452,
          39.81340467653108,
          42.002128129468105,
          44.0808435357416,
          46.049333847013386,
          47.906713497856366,
          49.651449743666355,
          51.281402767950226,
          52.7938837413407,
          54.18572972797144,
          55.45339407035855,
          56.59305063947134,
          57.60071011257749,
          58.472346243424916,
          59.204029927504045,
          59.79206872180096,
          60.233149382198434,
          60.52448090996291,
          60.66393556743806,
          60.6501853289614,
          60.48283127040872,
          60.16252348046363,
          59.69106918602351,
          59.07152693109565,
          58.30828482382417,
          57.40712107585268,
          56.37524528848448,
          55.22131920034444,
          53.955455890270905,
          52.58919672115113,
          51.135465622003736,
          49.6085006238309,
          48.02376288343791,
          46.39782375639192,
          44.74823080004702,
          43.09335389498377,
          41.45221297801345,
          39.844289160463255,
          38.28932126883117,
          36.8070900850812,
          35.417192778229094,
          34.138810198035586,
          32.99046985360991,
          31.98980751865386,
          31.15333047432139,
          30.496185450876027,
          30.031934325498597,
          29.772340596996187,
          29.727169581715152,
          29.904005160439084,
          30.308085750927138,
          30.94216199609123,
          31.80637843054476,
          32.89818114092032,
          34.212253149117345,
          35.74047894071176,
          37.47193923777335,
          39.3929367635173,
          41.48705338912275,
          43.735238688153174,
          46.115929548079706,
          48.60520011276401,
          51.1769409710399,
          53.803066138756165,
          56.45374603687445,
          59.097664347892426,
          61.7022963195292,
          64.23420580598847,
          66.65935809227462,
          68.94344532421445,
          71.05222118255764,
          72.95184130445492,
          74.60920584197729,
          75.99230048719804,
          77.07053227560627,
          77.81505649770047,
          78.19909111522486,
          78.19821518519493,
          77.79064794496576,
          76.95750539558145,
          75.6830314501016,
          73.95480097035627,
          71.7638923123797,
          69.10502731685165,
          65.97667702864109,
          62.38113180377212,
          58.324534831970496,
          53.816878510892636,
          48.87196351218956,
          43.50732077580212,
          37.744097083380744,
          31.60690526368251,
          25.123640454549072,
          18.325264229808955,
          11.245558757883817,
          3.920853460004343,
          -3.61027304091758,
          -11.307312624360423,
          -19.12816576006251,
          -27.029494495479007,
          -34.967086701815546,
          -42.896227846397224,
          -50.77207646269308,
          -58.55003947187848,
          -66.18614352795126,
          -73.63739861737668,
          -80.86215023491911,
          -87.82041661850312,
          -94.47420769742378,
          -100.78782262439935,
          -106.72812303187011,
          -112.26477942164928,
          -117.37048842094052,
          -122.02115897515466,
          -126.19606590279052,
          -129.87796960719666,
          -133.05320113790376,
          -135.71171217271157,
          -137.84708988503357,
          -139.4565370639798,
          -140.5408182224413,
          -141.10417280572264,
          -141.1541969705892,
          -140.70169573269132,
          -139.7605075934105,
          -138.34730403846174,
          -136.48136655102883,
          -134.18434399889017,
          -131.47999343569998,
          -128.39390749754847,
          -124.95323168474016,
          -121.18637487065175,
          -117.12271640880154,
          -112.7923131921413,
          -108.22560994666888,
          -103.4531559537203,
          -98.50533125863289,
          -93.41208524028738,
          -88.20269022080818,
          -82.90551255992888,
          -77.54780340503771,
          -72.15551098967282,
          -66.75311606961924,
          -61.36349175189588
         ],
         "yaxis": "y4"
        },
        {
         "fill": "none",
         "line": {
          "color": "#2d92ff",
          "width": 2
         },
         "mode": "lines",
         "name": "daily",
         "type": "scatter",
         "uid": "ca18c849-1901-46f2-b2ec-0963e689e214",
         "x": [
          0,
          1,
          2,
          3,
          4,
          5,
          6,
          7,
          8,
          9,
          10,
          11,
          12,
          13,
          14,
          15,
          16,
          17,
          18,
          19,
          20,
          21,
          22,
          23,
          24,
          25,
          26,
          27,
          28,
          29,
          30,
          31,
          32,
          33,
          34,
          35,
          36,
          37,
          38,
          39,
          40,
          41,
          42,
          43,
          44,
          45,
          46,
          47,
          48,
          49,
          50,
          51,
          52,
          53,
          54,
          55,
          56,
          57,
          58,
          59,
          60,
          61,
          62,
          63,
          64,
          65,
          66,
          67,
          68,
          69,
          70,
          71,
          72,
          73,
          74,
          75,
          76,
          77,
          78,
          79,
          80,
          81,
          82,
          83,
          84,
          85,
          86,
          87,
          88,
          89,
          90,
          91,
          92,
          93,
          94,
          95,
          96,
          97,
          98,
          99,
          100,
          101,
          102,
          103,
          104,
          105,
          106,
          107,
          108,
          109,
          110,
          111,
          112,
          113,
          114,
          115,
          116,
          117,
          118,
          119,
          120,
          121,
          122,
          123,
          124,
          125,
          126,
          127,
          128,
          129,
          130,
          131,
          132,
          133,
          134,
          135,
          136,
          137,
          138,
          139,
          140,
          141,
          142,
          143,
          144,
          145,
          146,
          147,
          148,
          149,
          150,
          151,
          152,
          153,
          154,
          155,
          156,
          157,
          158,
          159,
          160,
          161,
          162,
          163,
          164,
          165,
          166,
          167,
          168,
          169,
          170,
          171,
          172,
          173,
          174,
          175,
          176,
          177,
          178,
          179,
          180,
          181,
          182,
          183,
          184,
          185,
          186,
          187,
          188,
          189,
          190,
          191,
          192,
          193,
          194,
          195,
          196,
          197,
          198,
          199,
          200,
          201,
          202,
          203,
          204,
          205,
          206,
          207,
          208,
          209,
          210,
          211,
          212,
          213,
          214,
          215,
          216,
          217,
          218,
          219,
          220,
          221,
          222,
          223,
          224,
          225,
          226,
          227,
          228,
          229,
          230,
          231,
          232,
          233,
          234,
          235,
          236,
          237,
          238,
          239,
          240,
          241,
          242,
          243,
          244,
          245,
          246,
          247,
          248,
          249,
          250,
          251,
          252,
          253,
          254,
          255,
          256,
          257,
          258,
          259,
          260,
          261,
          262,
          263,
          264,
          265,
          266,
          267,
          268,
          269,
          270,
          271,
          272,
          273,
          274,
          275,
          276,
          277,
          278,
          279,
          280,
          281,
          282,
          283,
          284,
          285,
          286,
          287
         ],
         "xaxis": "x5",
         "y": [
          329.6953926086388,
          328.1846469856963,
          324.318431462643,
          318.1428834434296,
          309.7314224860521,
          299.18371915248855,
          286.62429777578643,
          272.2007944344479,
          256.08189629224853,
          238.45499365999075,
          219.523579990845,
          199.5044391299473,
          178.62466192114442,
          157.11853699839196,
          135.2243621621316,
          113.18122363194266,
          91.22579133656457,
          69.5891770071497,
          48.493901379811184,
          28.151014663303954,
          8.757411709557875,
          -9.506619785581439,
          -26.479583506538972,
          -42.020661155238194,
          -56.01127608709043,
          -68.35631358805784,
          -78.98498334641344,
          -87.85131476608363,
          -94.93428178190611,
          -100.23755965365842,
          -103.78892171303785,
          -105.63928968228718,
          -105.861456426769,
          -104.54850482405678,
          -101.811951102094,
          -97.77964483106523,
          -92.59346138413869,
          -86.4068254366635,
          -79.3821063578315,
          -71.68792793373689,
          -63.49643557141984,
          -54.98056459488753,
          -46.311352251254256,
          -37.65533541689196,
          -29.172073487106076,
          -21.01183383063196,
          -13.313474035347175,
          -6.202551469784096,
          0.2103134006449464,
          5.830797736091125,
          10.581944002954979,
          14.404922192678896,
          17.25947948160838,
          19.12407549864389,
          19.99570637258687,
          19.889425919644495,
          18.837577228489046,
          16.888752398683607,
          14.106502550545418,
          10.567823975902606,
          6.3614497620931765,
          1.5859789395038604,
          -3.6521224448964205,
          -9.24061227134229,
          -15.063618271303621,
          -21.003801429899564,
          -26.944499573198517,
          -32.77181488949438,
          -38.37661029480948,
          -43.656381976813435,
          -48.51697760648675,
          -52.87413317126747,
          -56.65480466574694,
          -59.798274711902444,
          -62.25701844946219,
          -63.99731745622836,
          -64.99961469629089,
          -65.25860858824406,
          -64.78308830753942,
          -63.595517312989685,
          -61.73137634982743,
          -59.23828101744937,
          -56.17489314798011,
          -52.60964824513135,
          -48.61932448056275,
          -44.28748109911983,
          -39.7027961313538,
          -34.95733460699542,
          -30.144779618549368,
          -25.358658468747958,
          -20.69059620305411,
          -16.228627806094067,
          -12.055598976486834,
          -8.247683492108212,
          -4.873042746281826,
          -1.990650303220992,
          0.35069905252856726,
          2.113179600881315,
          3.2705120993614276,
          3.8083200677623523,
          3.7242606092896153,
          3.027929746995138,
          1.7405463073325471,
          -0.10557779626334707,
          -2.4677689402085363,
          -5.293909533535249,
          -8.52352353181388,
          -12.089008064650045,
          -15.916987262325144,
          -19.929762184831567,
          -24.04682905327168,
          -28.186437352566358,
          -32.26715840067183,
          -36.20943523730561,
          -39.93708525233798,
          -43.378727762517535,
          -46.46911073064718,
          -49.150312421613705,
          -51.372796470728744,
          -53.09630163962161,
          -54.290550574565486,
          -54.9357654910052,
          -55.0229820910084,
          -54.554157074900864,
          -53.54206819471343,
          -52.010009723246824,
          -49.99129013251303,
          -47.528542101775834,
          -44.67285866878842,
          -41.48277246660163,
          -38.023097656486804,
          -34.36365689454251,
          -30.57791755242154,
          -26.74156310957204,
          -22.931026739548514,
          -19.22201471710291,
          -15.688047450344015,
          -12.399045542218687,
          -9.419987378841938,
          -6.809663296898066,
          -4.619549747470387,
          -2.892824334117961,
          -1.6635402512061432,
          -0.9559753737320591,
          -0.7841682433862616,
          -1.1516495310600021,
          -2.0513739997101084,
          -3.4658542449223546,
          -5.367493705061975,
          -7.719112759825123,
          -10.474658121808233,
          -13.580082247475673,
          -16.97437648209194,
          -20.590738521054305,
          -24.357852514423655,
          -28.20125780369851,
          -32.04478064518196,
          -35.812002171817284,
          -39.42773494790484,
          -42.81948031230559,
          -45.91883903408353,
          -48.66284853965422,
          -50.995221346298706,
          -52.86746096438978,
          -54.2398338268422,
          -55.08217843570536,
          -55.37453580913245,
          -55.10758849214636,
          -54.28289919718074,
          -52.91294341314853,
          -51.02093450874476,
          -48.64044341750734,
          -45.81481900256819,
          -42.59641882065662,
          -39.0456635936972,
          -35.22993210527786,
          -31.222316208673462,
          -27.100258314822,
          -22.944096282700123,
          -18.83554206135915,
          -14.856122324201941,
          -11.085609853424714,
          -7.6004749502238695,
          -4.472386139238317,
          -1.7667883316022035,
          0.458414196814946,
          2.154044511463834,
          3.2806863055898,
          3.80954285630537,
          3.7231043099959766,
          3.01560889783741,
          1.6932874898801993,
          -0.22561513363472968,
          -2.711044998245649,
          -5.721568279312068,
          -9.205019571684598,
          -13.099359615608769,
          -17.33372885413319,
          -21.8296795978304,
          -26.502566232353168,
          -31.26306951094972,
          -36.0188286740697,
          -40.67615260595137,
          -45.14177956102799,
          -49.32465393719998,
          -53.13768746167791,
          -56.499472727139775,
          -59.33591680490306,
          -61.58176419019688,
          -63.18197972264376,
          -64.09296436520631,
          -64.28357924445139,
          -63.73595673828762,
          -62.446080528318305,
          -60.42412085592923,
          -57.69451496125895,
          -54.29578736975692,
          -50.280109167099965,
          -45.71259979308301,
          -40.67037979368045,
          -35.24138722516869,
          -29.52297475295856,
          -23.62030867795299,
          -17.644594849319105,
          -11.711159568103845,
          -5.937416912427981,
          -0.44075592232312033,
          4.66361676991162,
          9.264842099207304,
          13.25854418649299,
          16.548898838996795,
          19.05059816259262,
          20.690675650215585,
          21.410157981083497,
          21.165512272022486,
          19.929860481483725,
          17.693936213181125,
          14.466763118311077,
          10.276038554897283,
          5.168210768955676,
          -0.791757182568853,
          -7.520938244821263,
          -14.919303545527965,
          -22.870886976765593,
          -31.24523835336542,
          -39.8991463446347,
          -48.67860757330227,
          -57.421014049680586,
          -65.9575271900089,
          -74.11560312144132,
          -81.7216309925594,
          -88.60364409910876,
          -94.59406134753374,
          -99.5324161092324,
          -103.26802885718789,
          -105.66258052364793,
          -106.59254455747516,
          -105.95143741061057,
          -103.65184968726479,
          -99.62722314351706,
          -93.83334252943101,
          -86.24951527260743,
          -76.87941679788354,
          -65.75158423562186,
          -52.91954659012073,
          -38.4615851642738,
          -22.480123561938928,
          -5.100752418885676,
          13.52909999054729,
          33.24183509511095,
          53.8516672672059,
          75.15689603638964,
          96.9424358327319,
          118.98256734241407,
          141.04387122042905,
          162.88830167314023,
          184.2763551368845,
          204.97028727701584,
          224.73733121810454,
          243.35286887965975,
          260.603508442115,
          276.2900217739293,
          290.23009788539576,
          302.2608710697566,
          312.24118554456624,
          320.0535626402574,
          325.60584062401927,
          328.8324625560085
         ],
         "yaxis": "y5"
        }
       ],
       "layout": {
        "autosize": true,
        "font": {
         "size": 10
        },
        "height": 1050,
        "hovermode": "x unified",
        "margin": {
         "b": 0,
         "l": 0,
         "pad": 0,
         "r": 10,
         "t": 10
        },
        "showlegend": false,
        "template": {
         "data": {
          "bar": [
           {
            "error_x": {
             "color": "#2a3f5f"
            },
            "error_y": {
             "color": "#2a3f5f"
            },
            "marker": {
             "line": {
              "color": "white",
              "width": 0.5
             },
             "pattern": {
              "fillmode": "overlay",
              "size": 10,
              "solidity": 0.2
             }
            },
            "type": "bar"
           }
          ],
          "barpolar": [
           {
            "marker": {
             "line": {
              "color": "white",
              "width": 0.5
             },
             "pattern": {
              "fillmode": "overlay",
              "size": 10,
              "solidity": 0.2
             }
            },
            "type": "barpolar"
           }
          ],
          "carpet": [
           {
            "aaxis": {
             "endlinecolor": "#2a3f5f",
             "gridcolor": "#C8D4E3",
             "linecolor": "#C8D4E3",
             "minorgridcolor": "#C8D4E3",
             "startlinecolor": "#2a3f5f"
            },
            "baxis": {
             "endlinecolor": "#2a3f5f",
             "gridcolor": "#C8D4E3",
             "linecolor": "#C8D4E3",
             "minorgridcolor": "#C8D4E3",
             "startlinecolor": "#2a3f5f"
            },
            "type": "carpet"
           }
          ],
          "choropleth": [
           {
            "colorbar": {
             "outlinewidth": 0,
             "ticks": ""
            },
            "type": "choropleth"
           }
          ],
          "contour": [
           {
            "colorbar": {
             "outlinewidth": 0,
             "ticks": ""
            },
            "colorscale": [
             [
              0,
              "#0d0887"
             ],
             [
              0.1111111111111111,
              "#46039f"
             ],
             [
              0.2222222222222222,
              "#7201a8"
             ],
             [
              0.3333333333333333,
              "#9c179e"
             ],
             [
              0.4444444444444444,
              "#bd3786"
             ],
             [
              0.5555555555555556,
              "#d8576b"
             ],
             [
              0.6666666666666666,
              "#ed7953"
             ],
             [
              0.7777777777777778,
              "#fb9f3a"
             ],
             [
              0.8888888888888888,
              "#fdca26"
             ],
             [
              1,
              "#f0f921"
             ]
            ],
            "type": "contour"
           }
          ],
          "contourcarpet": [
           {
            "colorbar": {
             "outlinewidth": 0,
             "ticks": ""
            },
            "type": "contourcarpet"
           }
          ],
          "heatmap": [
           {
            "colorbar": {
             "outlinewidth": 0,
             "ticks": ""
            },
            "colorscale": [
             [
              0,
              "#0d0887"
             ],
             [
              0.1111111111111111,
              "#46039f"
             ],
             [
              0.2222222222222222,
              "#7201a8"
             ],
             [
              0.3333333333333333,
              "#9c179e"
             ],
             [
              0.4444444444444444,
              "#bd3786"
             ],
             [
              0.5555555555555556,
              "#d8576b"
             ],
             [
              0.6666666666666666,
              "#ed7953"
             ],
             [
              0.7777777777777778,
              "#fb9f3a"
             ],
             [
              0.8888888888888888,
              "#fdca26"
             ],
             [
              1,
              "#f0f921"
             ]
            ],
            "type": "heatmap"
           }
          ],
          "heatmapgl": [
           {
            "colorbar": {
             "outlinewidth": 0,
             "ticks": ""
            },
            "colorscale": [
             [
              0,
              "#0d0887"
             ],
             [
              0.1111111111111111,
              "#46039f"
             ],
             [
              0.2222222222222222,
              "#7201a8"
             ],
             [
              0.3333333333333333,
              "#9c179e"
             ],
             [
              0.4444444444444444,
              "#bd3786"
             ],
             [
              0.5555555555555556,
              "#d8576b"
             ],
             [
              0.6666666666666666,
              "#ed7953"
             ],
             [
              0.7777777777777778,
              "#fb9f3a"
             ],
             [
              0.8888888888888888,
              "#fdca26"
             ],
             [
              1,
              "#f0f921"
             ]
            ],
            "type": "heatmapgl"
           }
          ],
          "histogram": [
           {
            "marker": {
             "pattern": {
              "fillmode": "overlay",
              "size": 10,
              "solidity": 0.2
             }
            },
            "type": "histogram"
           }
          ],
          "histogram2d": [
           {
            "colorbar": {
             "outlinewidth": 0,
             "ticks": ""
            },
            "colorscale": [
             [
              0,
              "#0d0887"
             ],
             [
              0.1111111111111111,
              "#46039f"
             ],
             [
              0.2222222222222222,
              "#7201a8"
             ],
             [
              0.3333333333333333,
              "#9c179e"
             ],
             [
              0.4444444444444444,
              "#bd3786"
             ],
             [
              0.5555555555555556,
              "#d8576b"
             ],
             [
              0.6666666666666666,
              "#ed7953"
             ],
             [
              0.7777777777777778,
              "#fb9f3a"
             ],
             [
              0.8888888888888888,
              "#fdca26"
             ],
             [
              1,
              "#f0f921"
             ]
            ],
            "type": "histogram2d"
           }
          ],
          "histogram2dcontour": [
           {
            "colorbar": {
             "outlinewidth": 0,
             "ticks": ""
            },
            "colorscale": [
             [
              0,
              "#0d0887"
             ],
             [
              0.1111111111111111,
              "#46039f"
             ],
             [
              0.2222222222222222,
              "#7201a8"
             ],
             [
              0.3333333333333333,
              "#9c179e"
             ],
             [
              0.4444444444444444,
              "#bd3786"
             ],
             [
              0.5555555555555556,
              "#d8576b"
             ],
             [
              0.6666666666666666,
              "#ed7953"
             ],
             [
              0.7777777777777778,
              "#fb9f3a"
             ],
             [
              0.8888888888888888,
              "#fdca26"
             ],
             [
              1,
              "#f0f921"
             ]
            ],
            "type": "histogram2dcontour"
           }
          ],
          "mesh3d": [
           {
            "colorbar": {
             "outlinewidth": 0,
             "ticks": ""
            },
            "type": "mesh3d"
           }
          ],
          "parcoords": [
           {
            "line": {
             "colorbar": {
              "outlinewidth": 0,
              "ticks": ""
             }
            },
            "type": "parcoords"
           }
          ],
          "pie": [
           {
            "automargin": true,
            "type": "pie"
           }
          ],
          "scatter": [
           {
            "fillpattern": {
             "fillmode": "overlay",
             "size": 10,
             "solidity": 0.2
            },
            "type": "scatter"
           }
          ],
          "scatter3d": [
           {
            "line": {
             "colorbar": {
              "outlinewidth": 0,
              "ticks": ""
             }
            },
            "marker": {
             "colorbar": {
              "outlinewidth": 0,
              "ticks": ""
             }
            },
            "type": "scatter3d"
           }
          ],
          "scattercarpet": [
           {
            "marker": {
             "colorbar": {
              "outlinewidth": 0,
              "ticks": ""
             }
            },
            "type": "scattercarpet"
           }
          ],
          "scattergeo": [
           {
            "marker": {
             "colorbar": {
              "outlinewidth": 0,
              "ticks": ""
             }
            },
            "type": "scattergeo"
           }
          ],
          "scattergl": [
           {
            "marker": {
             "colorbar": {
              "outlinewidth": 0,
              "ticks": ""
             }
            },
            "type": "scattergl"
           }
          ],
          "scattermapbox": [
           {
            "marker": {
             "colorbar": {
              "outlinewidth": 0,
              "ticks": ""
             }
            },
            "type": "scattermapbox"
           }
          ],
          "scatterpolar": [
           {
            "marker": {
             "colorbar": {
              "outlinewidth": 0,
              "ticks": ""
             }
            },
            "type": "scatterpolar"
           }
          ],
          "scatterpolargl": [
           {
            "marker": {
             "colorbar": {
              "outlinewidth": 0,
              "ticks": ""
             }
            },
            "type": "scatterpolargl"
           }
          ],
          "scatterternary": [
           {
            "marker": {
             "colorbar": {
              "outlinewidth": 0,
              "ticks": ""
             }
            },
            "type": "scatterternary"
           }
          ],
          "surface": [
           {
            "colorbar": {
             "outlinewidth": 0,
             "ticks": ""
            },
            "colorscale": [
             [
              0,
              "#0d0887"
             ],
             [
              0.1111111111111111,
              "#46039f"
             ],
             [
              0.2222222222222222,
              "#7201a8"
             ],
             [
              0.3333333333333333,
              "#9c179e"
             ],
             [
              0.4444444444444444,
              "#bd3786"
             ],
             [
              0.5555555555555556,
              "#d8576b"
             ],
             [
              0.6666666666666666,
              "#ed7953"
             ],
             [
              0.7777777777777778,
              "#fb9f3a"
             ],
             [
              0.8888888888888888,
              "#fdca26"
             ],
             [
              1,
              "#f0f921"
             ]
            ],
            "type": "surface"
           }
          ],
          "table": [
           {
            "cells": {
             "fill": {
              "color": "#EBF0F8"
             },
             "line": {
              "color": "white"
             }
            },
            "header": {
             "fill": {
              "color": "#C8D4E3"
             },
             "line": {
              "color": "white"
             }
            },
            "type": "table"
           }
          ]
         },
         "layout": {
          "annotationdefaults": {
           "arrowcolor": "#2a3f5f",
           "arrowhead": 0,
           "arrowwidth": 1
          },
          "autotypenumbers": "strict",
          "coloraxis": {
           "colorbar": {
            "outlinewidth": 0,
            "ticks": ""
           }
          },
          "colorscale": {
           "diverging": [
            [
             0,
             "#8e0152"
            ],
            [
             0.1,
             "#c51b7d"
            ],
            [
             0.2,
             "#de77ae"
            ],
            [
             0.3,
             "#f1b6da"
            ],
            [
             0.4,
             "#fde0ef"
            ],
            [
             0.5,
             "#f7f7f7"
            ],
            [
             0.6,
             "#e6f5d0"
            ],
            [
             0.7,
             "#b8e186"
            ],
            [
             0.8,
             "#7fbc41"
            ],
            [
             0.9,
             "#4d9221"
            ],
            [
             1,
             "#276419"
            ]
           ],
           "sequential": [
            [
             0,
             "#0d0887"
            ],
            [
             0.1111111111111111,
             "#46039f"
            ],
            [
             0.2222222222222222,
             "#7201a8"
            ],
            [
             0.3333333333333333,
             "#9c179e"
            ],
            [
             0.4444444444444444,
             "#bd3786"
            ],
            [
             0.5555555555555556,
             "#d8576b"
            ],
            [
             0.6666666666666666,
             "#ed7953"
            ],
            [
             0.7777777777777778,
             "#fb9f3a"
            ],
            [
             0.8888888888888888,
             "#fdca26"
            ],
            [
             1,
             "#f0f921"
            ]
           ],
           "sequentialminus": [
            [
             0,
             "#0d0887"
            ],
            [
             0.1111111111111111,
             "#46039f"
            ],
            [
             0.2222222222222222,
             "#7201a8"
            ],
            [
             0.3333333333333333,
             "#9c179e"
            ],
            [
             0.4444444444444444,
             "#bd3786"
            ],
            [
             0.5555555555555556,
             "#d8576b"
            ],
            [
             0.6666666666666666,
             "#ed7953"
            ],
            [
             0.7777777777777778,
             "#fb9f3a"
            ],
            [
             0.8888888888888888,
             "#fdca26"
            ],
            [
             1,
             "#f0f921"
            ]
           ]
          },
          "colorway": [
           "#636efa",
           "#EF553B",
           "#00cc96",
           "#ab63fa",
           "#FFA15A",
           "#19d3f3",
           "#FF6692",
           "#B6E880",
           "#FF97FF",
           "#FECB52"
          ],
          "font": {
           "color": "#2a3f5f"
          },
          "geo": {
           "bgcolor": "white",
           "lakecolor": "white",
           "landcolor": "white",
           "showlakes": true,
           "showland": true,
           "subunitcolor": "#C8D4E3"
          },
          "hoverlabel": {
           "align": "left"
          },
          "hovermode": "closest",
          "mapbox": {
           "style": "light"
          },
          "paper_bgcolor": "white",
          "plot_bgcolor": "white",
          "polar": {
           "angularaxis": {
            "gridcolor": "#EBF0F8",
            "linecolor": "#EBF0F8",
            "ticks": ""
           },
           "bgcolor": "white",
           "radialaxis": {
            "gridcolor": "#EBF0F8",
            "linecolor": "#EBF0F8",
            "ticks": ""
           }
          },
          "scene": {
           "xaxis": {
            "backgroundcolor": "white",
            "gridcolor": "#DFE8F3",
            "gridwidth": 2,
            "linecolor": "#EBF0F8",
            "showbackground": true,
            "ticks": "",
            "zerolinecolor": "#EBF0F8"
           },
           "yaxis": {
            "backgroundcolor": "white",
            "gridcolor": "#DFE8F3",
            "gridwidth": 2,
            "linecolor": "#EBF0F8",
            "showbackground": true,
            "ticks": "",
            "zerolinecolor": "#EBF0F8"
           },
           "zaxis": {
            "backgroundcolor": "white",
            "gridcolor": "#DFE8F3",
            "gridwidth": 2,
            "linecolor": "#EBF0F8",
            "showbackground": true,
            "ticks": "",
            "zerolinecolor": "#EBF0F8"
           }
          },
          "shapedefaults": {
           "line": {
            "color": "#2a3f5f"
           }
          },
          "ternary": {
           "aaxis": {
            "gridcolor": "#DFE8F3",
            "linecolor": "#A2B1C6",
            "ticks": ""
           },
           "baxis": {
            "gridcolor": "#DFE8F3",
            "linecolor": "#A2B1C6",
            "ticks": ""
           },
           "bgcolor": "white",
           "caxis": {
            "gridcolor": "#DFE8F3",
            "linecolor": "#A2B1C6",
            "ticks": ""
           }
          },
          "title": {
           "x": 0.05
          },
          "xaxis": {
           "automargin": true,
           "gridcolor": "#EBF0F8",
           "linecolor": "#EBF0F8",
           "ticks": "",
           "title": {
            "standoff": 15
           },
           "zerolinecolor": "#EBF0F8",
           "zerolinewidth": 2
          },
          "yaxis": {
           "automargin": true,
           "gridcolor": "#EBF0F8",
           "linecolor": "#EBF0F8",
           "ticks": "",
           "title": {
            "standoff": 15
           },
           "zerolinecolor": "#EBF0F8",
           "zerolinewidth": 2
          }
         }
        },
        "title": {
         "font": {
          "size": 12
         }
        },
        "width": 700,
        "xaxis": {
         "anchor": "y",
         "domain": [
          0,
          1
         ],
         "linewidth": 1.5,
         "mirror": true,
         "range": [
          "2009-11-02T00:00:00",
          "2011-08-03T00:00:00"
         ],
         "showline": true,
         "title": {
          "text": "ds"
         },
         "type": "date"
        },
        "xaxis2": {
         "anchor": "y2",
         "domain": [
          0,
          1
         ],
         "linewidth": 1.5,
         "mirror": true,
         "range": [
          "2009-10-31T08:04:00",
          "2011-08-04T15:56:00"
         ],
         "showline": true,
         "title": {
          "text": "Trend segment"
         },
         "type": "date"
        },
        "xaxis3": {
         "anchor": "y3",
         "domain": [
          0,
          1
         ],
         "linewidth": 1.5,
         "mirror": true,
         "range": [
          "2016-12-14T00:00:00",
          "2018-01-18T00:00:00"
         ],
         "showline": true,
         "title": {
          "text": "Day of year"
         }
        },
        "xaxis4": {
         "anchor": "y4",
         "domain": [
          0,
          1
         ],
         "linewidth": 1.5,
         "mirror": true,
         "range": [
          -8,
          175
         ],
         "showline": true,
         "tickmode": "array",
         "ticktext": [
          "Sunday",
          "Monday",
          "Tuesday",
          "Wednesday",
          "Thursday",
          "Friday",
          "Saturday",
          "Sunday",
          "Sunday"
         ],
         "tickvals": [
          0,
          24,
          48,
          72,
          96,
          120,
          144,
          168,
          192
         ],
         "title": {
          "text": "Day of week"
         }
        },
        "xaxis5": {
         "anchor": "y5",
         "domain": [
          0,
          1
         ],
         "linewidth": 1.5,
         "mirror": true,
         "range": [
          -14,
          301
         ],
         "showline": true,
         "tickmode": "array",
         "ticktext": [
          0,
          1,
          2,
          3,
          4,
          5,
          6,
          7,
          8,
          9,
          10,
          11,
          12,
          13,
          14,
          15,
          16,
          17,
          18,
          19,
          20,
          21,
          22,
          23,
          24
         ],
         "tickvals": [
          0,
          12,
          24,
          36,
          48,
          60,
          72,
          84,
          96,
          108,
          120,
          132,
          144,
          156,
          168,
          180,
          192,
          204,
          216,
          228,
          240,
          252,
          264,
          276,
          288
         ],
         "title": {
          "text": "Hour of day"
         }
        },
        "yaxis": {
         "anchor": "x",
         "domain": [
          0.848,
          1
         ],
         "linewidth": 1.5,
         "mirror": true,
         "rangemode": "normal",
         "showline": true,
         "title": {
          "text": "Trend"
         }
        },
        "yaxis2": {
         "anchor": "x2",
         "domain": [
          0.6359999999999999,
          0.7879999999999999
         ],
         "linewidth": 1.5,
         "mirror": true,
         "rangemode": "normal",
         "showline": true,
         "title": {
          "text": "Trend Rate Change"
         }
        },
        "yaxis3": {
         "anchor": "x3",
         "domain": [
          0.424,
          0.576
         ],
         "hoverformat": ".4%",
         "linewidth": 1.5,
         "mirror": true,
         "rangemode": "normal",
         "showline": true,
         "tickformat": ".1%",
         "title": {
          "text": "Seasonality: yearly"
         }
        },
        "yaxis4": {
         "anchor": "x4",
         "domain": [
          0.212,
          0.364
         ],
         "hoverformat": ".4%",
         "linewidth": 1.5,
         "mirror": true,
         "rangemode": "normal",
         "showline": true,
         "tickformat": ".1%",
         "title": {
          "text": "Seasonality: weekly"
         }
        },
        "yaxis5": {
         "anchor": "x5",
         "domain": [
          0,
          0.152
         ],
         "hoverformat": ".4%",
         "linewidth": 1.5,
         "mirror": true,
         "rangemode": "normal",
         "showline": true,
         "tickformat": ".1%",
         "title": {
          "text": "Seasonality: daily"
         }
        }
       }
      }
     },
     "metadata": {},
     "output_type": "display_data"
    }
   ],
   "source": [
    "fig_param = m.plot_parameters()\n",
    "fig_param.show()"
   ]
  },
  {
   "cell_type": "code",
   "execution_count": 13,
   "metadata": {},
   "outputs": [
    {
     "name": "stderr",
     "output_type": "stream",
     "text": [
      "INFO - (NP.df_utils._infer_frequency) - Major frequency D corresponds to 61.818% of the data.\n",
      "WARNING - (NP.df_utils._infer_frequency) - Dataframe has multiple frequencies. It will be resampled according to given freq D. Ignore message if actual frequency is any of the following:  SM, BM, CBM, SMS, BMS, CBMS, BQ, BQS, BA, or, BAS.\n",
      "INFO - (NP.df_utils._infer_frequency) - Major frequency D corresponds to 61.818% of the data.\n",
      "WARNING - (NP.df_utils._infer_frequency) - Dataframe has multiple frequencies. It will be resampled according to given freq D. Ignore message if actual frequency is any of the following:  SM, BM, CBM, SMS, BMS, CBMS, BQ, BQS, BA, or, BAS.\n"
     ]
    },
    {
     "data": {
      "application/vnd.jupyter.widget-view+json": {
       "model_id": "d1ea87514fdb4d8d9193a7f7331ceba9",
       "version_major": 2,
       "version_minor": 0
      },
      "text/plain": [
       "Predicting: 4it [00:00, ?it/s]"
      ]
     },
     "metadata": {},
     "output_type": "display_data"
    },
    {
     "name": "stderr",
     "output_type": "stream",
     "text": [
      "INFO - (NP.df_utils.return_df_in_original_format) - Returning df with no ID column\n"
     ]
    },
    {
     "data": {
      "application/vnd.plotly.v1+json": {
       "config": {
        "plotlyServerURL": "https://plot.ly"
       },
       "data": [
        {
         "line": {
          "color": "#2d92ff",
          "width": 2
         },
         "mode": "lines",
         "name": "Trend",
         "showlegend": false,
         "type": "scatter",
         "uid": "cdeb85ec-79d7-4777-9118-a2e4de48c2d6",
         "x": [
          "2011-09-12T00:00:00",
          "2011-09-13T00:00:00",
          "2011-09-14T00:00:00",
          "2011-09-16T00:00:00",
          "2011-09-18T00:00:00",
          "2011-09-19T00:00:00",
          "2011-09-21T00:00:00",
          "2011-09-23T00:00:00",
          "2011-09-25T00:00:00",
          "2011-09-26T00:00:00",
          "2011-09-27T00:00:00",
          "2011-09-28T00:00:00",
          "2011-09-29T00:00:00",
          "2011-09-30T00:00:00",
          "2011-10-02T00:00:00",
          "2011-10-04T00:00:00",
          "2011-10-09T00:00:00",
          "2011-10-10T00:00:00",
          "2011-10-11T00:00:00",
          "2011-10-12T00:00:00",
          "2011-10-13T00:00:00",
          "2011-10-14T00:00:00",
          "2011-10-16T00:00:00",
          "2011-10-17T00:00:00",
          "2011-10-18T00:00:00",
          "2011-10-19T00:00:00",
          "2011-10-20T00:00:00",
          "2011-10-23T00:00:00",
          "2011-10-24T00:00:00",
          "2011-10-25T00:00:00",
          "2011-10-26T00:00:00",
          "2011-10-27T00:00:00",
          "2011-10-28T00:00:00",
          "2011-10-30T00:00:00",
          "2011-10-31T00:00:00",
          "2011-11-01T00:00:00",
          "2011-11-02T00:00:00",
          "2011-11-06T00:00:00",
          "2011-11-07T00:00:00",
          "2011-11-08T00:00:00",
          "2011-11-11T00:00:00",
          "2011-11-13T00:00:00",
          "2011-11-15T00:00:00",
          "2011-11-16T00:00:00",
          "2011-11-17T00:00:00",
          "2011-11-18T00:00:00",
          "2011-11-20T00:00:00",
          "2011-11-21T00:00:00",
          "2011-11-24T00:00:00",
          "2011-11-25T00:00:00",
          "2011-11-27T00:00:00",
          "2011-11-30T00:00:00",
          "2011-12-01T00:00:00",
          "2011-12-02T00:00:00",
          "2011-12-04T00:00:00"
         ],
         "xaxis": "x",
         "y": [
          62.25019073486328,
          62.27052688598633,
          62.290863037109375,
          62.33152770996094,
          62.37220001220703,
          62.39253234863281,
          62.433197021484375,
          62.47386932373047,
          62.51453399658203,
          62.53487014770508,
          62.555206298828125,
          62.575538635253906,
          62.59587097167969,
          62.61620330810547,
          62.65687561035156,
          62.697540283203125,
          62.79921340942383,
          62.819549560546875,
          62.839881896972656,
          62.86021423339844,
          62.88054656982422,
          62.900882720947266,
          62.941551208496094,
          62.961883544921875,
          62.98221969604492,
          63.00255584716797,
          63.02288818359375,
          63.08388900756836,
          63.104225158691406,
          63.12455749511719,
          63.14488983154297,
          63.165225982666016,
          63.18556213378906,
          63.226226806640625,
          63.24656295776367,
          63.26689910888672,
          63.2872314453125,
          63.368568420410156,
          63.38890075683594,
          63.40923309326172,
          63.470237731933594,
          63.510902404785156,
          63.55157470703125,
          63.57190704345703,
          63.59223937988281,
          63.61257553100586,
          63.65324401855469,
          63.67357635498047,
          63.734580993652344,
          63.754913330078125,
          63.79558181762695,
          63.85658264160156,
          63.87691879272461,
          63.897254943847656,
          63.93791961669922
         ],
         "yaxis": "y"
        },
        {
         "line": {
          "color": "#2d92ff",
          "width": 2
         },
         "mode": "lines",
         "name": "yearly seasonality",
         "showlegend": false,
         "type": "scatter",
         "uid": "d00a6c78-78d4-4fc1-b96a-7d729a0a9a7b",
         "x": [
          "2011-09-12T00:00:00",
          "2011-09-13T00:00:00",
          "2011-09-14T00:00:00",
          "2011-09-16T00:00:00",
          "2011-09-18T00:00:00",
          "2011-09-19T00:00:00",
          "2011-09-21T00:00:00",
          "2011-09-23T00:00:00",
          "2011-09-25T00:00:00",
          "2011-09-26T00:00:00",
          "2011-09-27T00:00:00",
          "2011-09-28T00:00:00",
          "2011-09-29T00:00:00",
          "2011-09-30T00:00:00",
          "2011-10-02T00:00:00",
          "2011-10-04T00:00:00",
          "2011-10-09T00:00:00",
          "2011-10-10T00:00:00",
          "2011-10-11T00:00:00",
          "2011-10-12T00:00:00",
          "2011-10-13T00:00:00",
          "2011-10-14T00:00:00",
          "2011-10-16T00:00:00",
          "2011-10-17T00:00:00",
          "2011-10-18T00:00:00",
          "2011-10-19T00:00:00",
          "2011-10-20T00:00:00",
          "2011-10-23T00:00:00",
          "2011-10-24T00:00:00",
          "2011-10-25T00:00:00",
          "2011-10-26T00:00:00",
          "2011-10-27T00:00:00",
          "2011-10-28T00:00:00",
          "2011-10-30T00:00:00",
          "2011-10-31T00:00:00",
          "2011-11-01T00:00:00",
          "2011-11-02T00:00:00",
          "2011-11-06T00:00:00",
          "2011-11-07T00:00:00",
          "2011-11-08T00:00:00",
          "2011-11-11T00:00:00",
          "2011-11-13T00:00:00",
          "2011-11-15T00:00:00",
          "2011-11-16T00:00:00",
          "2011-11-17T00:00:00",
          "2011-11-18T00:00:00",
          "2011-11-20T00:00:00",
          "2011-11-21T00:00:00",
          "2011-11-24T00:00:00",
          "2011-11-25T00:00:00",
          "2011-11-27T00:00:00",
          "2011-11-30T00:00:00",
          "2011-12-01T00:00:00",
          "2011-12-02T00:00:00",
          "2011-12-04T00:00:00"
         ],
         "xaxis": "x2",
         "y": [
          -857.045166015625,
          -526.1835327148438,
          -190.13394165039062,
          488.0078125,
          1158.8533935546875,
          1486.0986328125,
          2114.394287109375,
          2696.42626953125,
          3221.11669921875,
          3459.374267578125,
          3680.619873046875,
          3884.41455078125,
          4070.538818359375,
          4238.9970703125,
          4523.99365234375,
          4743.60888671875,
          5060.11474609375,
          5094.548828125,
          5123.09033203125,
          5147.455078125,
          5169.3671875,
          5190.54931640625,
          5237.42724609375,
          5266.314453125,
          5300.8173828125,
          5342.27685546875,
          5391.8974609375,
          5599.37841796875,
          5690.38916015625,
          5792.98779296875,
          5907.2568359375,
          6033.064453125,
          6170.05859375,
          6475.10546875,
          6641.3740234375,
          6815.27294921875,
          6995.41015625,
          7744.50439453125,
          7929.1904296875,
          8108.55419921875,
          8591.697265625,
          8844.673828125,
          9021.0908203125,
          9075.2509765625,
          9104.0947265625,
          9105.845703125,
          9021.83203125,
          8933.4462890625,
          8471.763671875,
          8250.7255859375,
          7707.71728515625,
          6649.37255859375,
          6235.69189453125,
          5794.02392578125,
          4834.30322265625
         ],
         "yaxis": "y2"
        },
        {
         "line": {
          "color": "#2d92ff",
          "width": 2
         },
         "mode": "lines",
         "name": "weekly seasonality",
         "showlegend": false,
         "type": "scatter",
         "uid": "40d3e55d-b86b-423e-9a0b-3b6c37d52ce0",
         "x": [
          "2011-09-12T00:00:00",
          "2011-09-13T00:00:00",
          "2011-09-14T00:00:00",
          "2011-09-16T00:00:00",
          "2011-09-18T00:00:00",
          "2011-09-19T00:00:00",
          "2011-09-21T00:00:00",
          "2011-09-23T00:00:00",
          "2011-09-25T00:00:00",
          "2011-09-26T00:00:00",
          "2011-09-27T00:00:00",
          "2011-09-28T00:00:00",
          "2011-09-29T00:00:00",
          "2011-09-30T00:00:00",
          "2011-10-02T00:00:00",
          "2011-10-04T00:00:00",
          "2011-10-09T00:00:00",
          "2011-10-10T00:00:00",
          "2011-10-11T00:00:00",
          "2011-10-12T00:00:00",
          "2011-10-13T00:00:00",
          "2011-10-14T00:00:00",
          "2011-10-16T00:00:00",
          "2011-10-17T00:00:00",
          "2011-10-18T00:00:00",
          "2011-10-19T00:00:00",
          "2011-10-20T00:00:00",
          "2011-10-23T00:00:00",
          "2011-10-24T00:00:00",
          "2011-10-25T00:00:00",
          "2011-10-26T00:00:00",
          "2011-10-27T00:00:00",
          "2011-10-28T00:00:00",
          "2011-10-30T00:00:00",
          "2011-10-31T00:00:00",
          "2011-11-01T00:00:00",
          "2011-11-02T00:00:00",
          "2011-11-06T00:00:00",
          "2011-11-07T00:00:00",
          "2011-11-08T00:00:00",
          "2011-11-11T00:00:00",
          "2011-11-13T00:00:00",
          "2011-11-15T00:00:00",
          "2011-11-16T00:00:00",
          "2011-11-17T00:00:00",
          "2011-11-18T00:00:00",
          "2011-11-20T00:00:00",
          "2011-11-21T00:00:00",
          "2011-11-24T00:00:00",
          "2011-11-25T00:00:00",
          "2011-11-27T00:00:00",
          "2011-11-30T00:00:00",
          "2011-12-01T00:00:00",
          "2011-12-02T00:00:00",
          "2011-12-04T00:00:00"
         ],
         "xaxis": "x3",
         "y": [
          2335.267333984375,
          3630.88720703125,
          1851.73095703125,
          -225.03392028808594,
          -3493.3291015625,
          2340.607177734375,
          1855.962158203125,
          -225.5478057861328,
          -3501.30078125,
          2345.947021484375,
          3647.486328125,
          1860.193603515625,
          4670.228515625,
          -226.06167602539062,
          -3509.273193359375,
          3655.78564453125,
          -3517.2451171875,
          2356.62646484375,
          3664.085205078125,
          1868.65625,
          4691.4677734375,
          -227.08944702148438,
          -3525.217041015625,
          2361.966064453125,
          3672.384765625,
          1872.8875732421875,
          4702.087890625,
          -3533.189208984375,
          2367.305908203125,
          3680.68408203125,
          1877.1187744140625,
          4712.70751953125,
          -228.11721801757812,
          -3541.1611328125,
          2372.6455078125,
          3688.98388671875,
          1881.3502197265625,
          -3549.133544921875,
          2377.9853515625,
          3697.283203125,
          -229.1449737548828,
          -3557.105224609375,
          3705.582763671875,
          1889.8128662109375,
          4744.56640625,
          -229.65884399414062,
          -3565.077392578125,
          2388.66455078125,
          4755.1865234375,
          -230.1727294921875,
          -3573.049560546875,
          1898.275390625,
          4765.80615234375,
          -230.68661499023438,
          -3581.021484375
         ],
         "yaxis": "y3"
        },
        {
         "line": {
          "color": "#2d92ff",
          "width": 2
         },
         "mode": "lines",
         "name": "daily seasonality",
         "showlegend": false,
         "type": "scatter",
         "uid": "5c844472-c3ca-4f6d-bd55-c294b5cd8b18",
         "x": [
          "2011-09-12T00:00:00",
          "2011-09-13T00:00:00",
          "2011-09-14T00:00:00",
          "2011-09-16T00:00:00",
          "2011-09-18T00:00:00",
          "2011-09-19T00:00:00",
          "2011-09-21T00:00:00",
          "2011-09-23T00:00:00",
          "2011-09-25T00:00:00",
          "2011-09-26T00:00:00",
          "2011-09-27T00:00:00",
          "2011-09-28T00:00:00",
          "2011-09-29T00:00:00",
          "2011-09-30T00:00:00",
          "2011-10-02T00:00:00",
          "2011-10-04T00:00:00",
          "2011-10-09T00:00:00",
          "2011-10-10T00:00:00",
          "2011-10-11T00:00:00",
          "2011-10-12T00:00:00",
          "2011-10-13T00:00:00",
          "2011-10-14T00:00:00",
          "2011-10-16T00:00:00",
          "2011-10-17T00:00:00",
          "2011-10-18T00:00:00",
          "2011-10-19T00:00:00",
          "2011-10-20T00:00:00",
          "2011-10-23T00:00:00",
          "2011-10-24T00:00:00",
          "2011-10-25T00:00:00",
          "2011-10-26T00:00:00",
          "2011-10-27T00:00:00",
          "2011-10-28T00:00:00",
          "2011-10-30T00:00:00",
          "2011-10-31T00:00:00",
          "2011-11-01T00:00:00",
          "2011-11-02T00:00:00",
          "2011-11-06T00:00:00",
          "2011-11-07T00:00:00",
          "2011-11-08T00:00:00",
          "2011-11-11T00:00:00",
          "2011-11-13T00:00:00",
          "2011-11-15T00:00:00",
          "2011-11-16T00:00:00",
          "2011-11-17T00:00:00",
          "2011-11-18T00:00:00",
          "2011-11-20T00:00:00",
          "2011-11-21T00:00:00",
          "2011-11-24T00:00:00",
          "2011-11-25T00:00:00",
          "2011-11-27T00:00:00",
          "2011-11-30T00:00:00",
          "2011-12-01T00:00:00",
          "2011-12-02T00:00:00",
          "2011-12-04T00:00:00"
         ],
         "xaxis": "x4",
         "y": [
          20523.599609375,
          20530.3046875,
          20537.009765625,
          20550.416015625,
          20563.826171875,
          20570.529296875,
          20583.935546875,
          20597.345703125,
          20610.751953125,
          20617.45703125,
          20624.162109375,
          20630.865234375,
          20637.568359375,
          20644.2734375,
          20657.681640625,
          20671.08984375,
          20704.609375,
          20711.314453125,
          20718.017578125,
          20724.72265625,
          20731.42578125,
          20738.130859375,
          20751.5390625,
          20758.2421875,
          20764.947265625,
          20771.650390625,
          20778.35546875,
          20798.466796875,
          20805.171875,
          20811.875,
          20818.578125,
          20825.283203125,
          20831.98828125,
          20845.39453125,
          20852.099609375,
          20858.8046875,
          20865.5078125,
          20892.32421875,
          20899.02734375,
          20905.73046875,
          20925.84375,
          20939.25,
          20952.66015625,
          20959.36328125,
          20966.06640625,
          20972.771484375,
          20986.1796875,
          20992.8828125,
          21012.99609375,
          21019.69921875,
          21033.107421875,
          21053.220703125,
          21059.923828125,
          21066.62890625,
          21080.037109375
         ],
         "yaxis": "y4"
        }
       ],
       "layout": {
        "autosize": true,
        "font": {
         "size": 10
        },
        "height": 840,
        "hovermode": "x unified",
        "legend": {
         "traceorder": "reversed",
         "y": 0.1
        },
        "margin": {
         "b": 0,
         "l": 0,
         "pad": 0,
         "r": 10,
         "t": 10
        },
        "template": {
         "data": {
          "bar": [
           {
            "error_x": {
             "color": "#2a3f5f"
            },
            "error_y": {
             "color": "#2a3f5f"
            },
            "marker": {
             "line": {
              "color": "white",
              "width": 0.5
             },
             "pattern": {
              "fillmode": "overlay",
              "size": 10,
              "solidity": 0.2
             }
            },
            "type": "bar"
           }
          ],
          "barpolar": [
           {
            "marker": {
             "line": {
              "color": "white",
              "width": 0.5
             },
             "pattern": {
              "fillmode": "overlay",
              "size": 10,
              "solidity": 0.2
             }
            },
            "type": "barpolar"
           }
          ],
          "carpet": [
           {
            "aaxis": {
             "endlinecolor": "#2a3f5f",
             "gridcolor": "#C8D4E3",
             "linecolor": "#C8D4E3",
             "minorgridcolor": "#C8D4E3",
             "startlinecolor": "#2a3f5f"
            },
            "baxis": {
             "endlinecolor": "#2a3f5f",
             "gridcolor": "#C8D4E3",
             "linecolor": "#C8D4E3",
             "minorgridcolor": "#C8D4E3",
             "startlinecolor": "#2a3f5f"
            },
            "type": "carpet"
           }
          ],
          "choropleth": [
           {
            "colorbar": {
             "outlinewidth": 0,
             "ticks": ""
            },
            "type": "choropleth"
           }
          ],
          "contour": [
           {
            "colorbar": {
             "outlinewidth": 0,
             "ticks": ""
            },
            "colorscale": [
             [
              0,
              "#0d0887"
             ],
             [
              0.1111111111111111,
              "#46039f"
             ],
             [
              0.2222222222222222,
              "#7201a8"
             ],
             [
              0.3333333333333333,
              "#9c179e"
             ],
             [
              0.4444444444444444,
              "#bd3786"
             ],
             [
              0.5555555555555556,
              "#d8576b"
             ],
             [
              0.6666666666666666,
              "#ed7953"
             ],
             [
              0.7777777777777778,
              "#fb9f3a"
             ],
             [
              0.8888888888888888,
              "#fdca26"
             ],
             [
              1,
              "#f0f921"
             ]
            ],
            "type": "contour"
           }
          ],
          "contourcarpet": [
           {
            "colorbar": {
             "outlinewidth": 0,
             "ticks": ""
            },
            "type": "contourcarpet"
           }
          ],
          "heatmap": [
           {
            "colorbar": {
             "outlinewidth": 0,
             "ticks": ""
            },
            "colorscale": [
             [
              0,
              "#0d0887"
             ],
             [
              0.1111111111111111,
              "#46039f"
             ],
             [
              0.2222222222222222,
              "#7201a8"
             ],
             [
              0.3333333333333333,
              "#9c179e"
             ],
             [
              0.4444444444444444,
              "#bd3786"
             ],
             [
              0.5555555555555556,
              "#d8576b"
             ],
             [
              0.6666666666666666,
              "#ed7953"
             ],
             [
              0.7777777777777778,
              "#fb9f3a"
             ],
             [
              0.8888888888888888,
              "#fdca26"
             ],
             [
              1,
              "#f0f921"
             ]
            ],
            "type": "heatmap"
           }
          ],
          "heatmapgl": [
           {
            "colorbar": {
             "outlinewidth": 0,
             "ticks": ""
            },
            "colorscale": [
             [
              0,
              "#0d0887"
             ],
             [
              0.1111111111111111,
              "#46039f"
             ],
             [
              0.2222222222222222,
              "#7201a8"
             ],
             [
              0.3333333333333333,
              "#9c179e"
             ],
             [
              0.4444444444444444,
              "#bd3786"
             ],
             [
              0.5555555555555556,
              "#d8576b"
             ],
             [
              0.6666666666666666,
              "#ed7953"
             ],
             [
              0.7777777777777778,
              "#fb9f3a"
             ],
             [
              0.8888888888888888,
              "#fdca26"
             ],
             [
              1,
              "#f0f921"
             ]
            ],
            "type": "heatmapgl"
           }
          ],
          "histogram": [
           {
            "marker": {
             "pattern": {
              "fillmode": "overlay",
              "size": 10,
              "solidity": 0.2
             }
            },
            "type": "histogram"
           }
          ],
          "histogram2d": [
           {
            "colorbar": {
             "outlinewidth": 0,
             "ticks": ""
            },
            "colorscale": [
             [
              0,
              "#0d0887"
             ],
             [
              0.1111111111111111,
              "#46039f"
             ],
             [
              0.2222222222222222,
              "#7201a8"
             ],
             [
              0.3333333333333333,
              "#9c179e"
             ],
             [
              0.4444444444444444,
              "#bd3786"
             ],
             [
              0.5555555555555556,
              "#d8576b"
             ],
             [
              0.6666666666666666,
              "#ed7953"
             ],
             [
              0.7777777777777778,
              "#fb9f3a"
             ],
             [
              0.8888888888888888,
              "#fdca26"
             ],
             [
              1,
              "#f0f921"
             ]
            ],
            "type": "histogram2d"
           }
          ],
          "histogram2dcontour": [
           {
            "colorbar": {
             "outlinewidth": 0,
             "ticks": ""
            },
            "colorscale": [
             [
              0,
              "#0d0887"
             ],
             [
              0.1111111111111111,
              "#46039f"
             ],
             [
              0.2222222222222222,
              "#7201a8"
             ],
             [
              0.3333333333333333,
              "#9c179e"
             ],
             [
              0.4444444444444444,
              "#bd3786"
             ],
             [
              0.5555555555555556,
              "#d8576b"
             ],
             [
              0.6666666666666666,
              "#ed7953"
             ],
             [
              0.7777777777777778,
              "#fb9f3a"
             ],
             [
              0.8888888888888888,
              "#fdca26"
             ],
             [
              1,
              "#f0f921"
             ]
            ],
            "type": "histogram2dcontour"
           }
          ],
          "mesh3d": [
           {
            "colorbar": {
             "outlinewidth": 0,
             "ticks": ""
            },
            "type": "mesh3d"
           }
          ],
          "parcoords": [
           {
            "line": {
             "colorbar": {
              "outlinewidth": 0,
              "ticks": ""
             }
            },
            "type": "parcoords"
           }
          ],
          "pie": [
           {
            "automargin": true,
            "type": "pie"
           }
          ],
          "scatter": [
           {
            "fillpattern": {
             "fillmode": "overlay",
             "size": 10,
             "solidity": 0.2
            },
            "type": "scatter"
           }
          ],
          "scatter3d": [
           {
            "line": {
             "colorbar": {
              "outlinewidth": 0,
              "ticks": ""
             }
            },
            "marker": {
             "colorbar": {
              "outlinewidth": 0,
              "ticks": ""
             }
            },
            "type": "scatter3d"
           }
          ],
          "scattercarpet": [
           {
            "marker": {
             "colorbar": {
              "outlinewidth": 0,
              "ticks": ""
             }
            },
            "type": "scattercarpet"
           }
          ],
          "scattergeo": [
           {
            "marker": {
             "colorbar": {
              "outlinewidth": 0,
              "ticks": ""
             }
            },
            "type": "scattergeo"
           }
          ],
          "scattergl": [
           {
            "marker": {
             "colorbar": {
              "outlinewidth": 0,
              "ticks": ""
             }
            },
            "type": "scattergl"
           }
          ],
          "scattermapbox": [
           {
            "marker": {
             "colorbar": {
              "outlinewidth": 0,
              "ticks": ""
             }
            },
            "type": "scattermapbox"
           }
          ],
          "scatterpolar": [
           {
            "marker": {
             "colorbar": {
              "outlinewidth": 0,
              "ticks": ""
             }
            },
            "type": "scatterpolar"
           }
          ],
          "scatterpolargl": [
           {
            "marker": {
             "colorbar": {
              "outlinewidth": 0,
              "ticks": ""
             }
            },
            "type": "scatterpolargl"
           }
          ],
          "scatterternary": [
           {
            "marker": {
             "colorbar": {
              "outlinewidth": 0,
              "ticks": ""
             }
            },
            "type": "scatterternary"
           }
          ],
          "surface": [
           {
            "colorbar": {
             "outlinewidth": 0,
             "ticks": ""
            },
            "colorscale": [
             [
              0,
              "#0d0887"
             ],
             [
              0.1111111111111111,
              "#46039f"
             ],
             [
              0.2222222222222222,
              "#7201a8"
             ],
             [
              0.3333333333333333,
              "#9c179e"
             ],
             [
              0.4444444444444444,
              "#bd3786"
             ],
             [
              0.5555555555555556,
              "#d8576b"
             ],
             [
              0.6666666666666666,
              "#ed7953"
             ],
             [
              0.7777777777777778,
              "#fb9f3a"
             ],
             [
              0.8888888888888888,
              "#fdca26"
             ],
             [
              1,
              "#f0f921"
             ]
            ],
            "type": "surface"
           }
          ],
          "table": [
           {
            "cells": {
             "fill": {
              "color": "#EBF0F8"
             },
             "line": {
              "color": "white"
             }
            },
            "header": {
             "fill": {
              "color": "#C8D4E3"
             },
             "line": {
              "color": "white"
             }
            },
            "type": "table"
           }
          ]
         },
         "layout": {
          "annotationdefaults": {
           "arrowcolor": "#2a3f5f",
           "arrowhead": 0,
           "arrowwidth": 1
          },
          "autotypenumbers": "strict",
          "coloraxis": {
           "colorbar": {
            "outlinewidth": 0,
            "ticks": ""
           }
          },
          "colorscale": {
           "diverging": [
            [
             0,
             "#8e0152"
            ],
            [
             0.1,
             "#c51b7d"
            ],
            [
             0.2,
             "#de77ae"
            ],
            [
             0.3,
             "#f1b6da"
            ],
            [
             0.4,
             "#fde0ef"
            ],
            [
             0.5,
             "#f7f7f7"
            ],
            [
             0.6,
             "#e6f5d0"
            ],
            [
             0.7,
             "#b8e186"
            ],
            [
             0.8,
             "#7fbc41"
            ],
            [
             0.9,
             "#4d9221"
            ],
            [
             1,
             "#276419"
            ]
           ],
           "sequential": [
            [
             0,
             "#0d0887"
            ],
            [
             0.1111111111111111,
             "#46039f"
            ],
            [
             0.2222222222222222,
             "#7201a8"
            ],
            [
             0.3333333333333333,
             "#9c179e"
            ],
            [
             0.4444444444444444,
             "#bd3786"
            ],
            [
             0.5555555555555556,
             "#d8576b"
            ],
            [
             0.6666666666666666,
             "#ed7953"
            ],
            [
             0.7777777777777778,
             "#fb9f3a"
            ],
            [
             0.8888888888888888,
             "#fdca26"
            ],
            [
             1,
             "#f0f921"
            ]
           ],
           "sequentialminus": [
            [
             0,
             "#0d0887"
            ],
            [
             0.1111111111111111,
             "#46039f"
            ],
            [
             0.2222222222222222,
             "#7201a8"
            ],
            [
             0.3333333333333333,
             "#9c179e"
            ],
            [
             0.4444444444444444,
             "#bd3786"
            ],
            [
             0.5555555555555556,
             "#d8576b"
            ],
            [
             0.6666666666666666,
             "#ed7953"
            ],
            [
             0.7777777777777778,
             "#fb9f3a"
            ],
            [
             0.8888888888888888,
             "#fdca26"
            ],
            [
             1,
             "#f0f921"
            ]
           ]
          },
          "colorway": [
           "#636efa",
           "#EF553B",
           "#00cc96",
           "#ab63fa",
           "#FFA15A",
           "#19d3f3",
           "#FF6692",
           "#B6E880",
           "#FF97FF",
           "#FECB52"
          ],
          "font": {
           "color": "#2a3f5f"
          },
          "geo": {
           "bgcolor": "white",
           "lakecolor": "white",
           "landcolor": "white",
           "showlakes": true,
           "showland": true,
           "subunitcolor": "#C8D4E3"
          },
          "hoverlabel": {
           "align": "left"
          },
          "hovermode": "closest",
          "mapbox": {
           "style": "light"
          },
          "paper_bgcolor": "white",
          "plot_bgcolor": "white",
          "polar": {
           "angularaxis": {
            "gridcolor": "#EBF0F8",
            "linecolor": "#EBF0F8",
            "ticks": ""
           },
           "bgcolor": "white",
           "radialaxis": {
            "gridcolor": "#EBF0F8",
            "linecolor": "#EBF0F8",
            "ticks": ""
           }
          },
          "scene": {
           "xaxis": {
            "backgroundcolor": "white",
            "gridcolor": "#DFE8F3",
            "gridwidth": 2,
            "linecolor": "#EBF0F8",
            "showbackground": true,
            "ticks": "",
            "zerolinecolor": "#EBF0F8"
           },
           "yaxis": {
            "backgroundcolor": "white",
            "gridcolor": "#DFE8F3",
            "gridwidth": 2,
            "linecolor": "#EBF0F8",
            "showbackground": true,
            "ticks": "",
            "zerolinecolor": "#EBF0F8"
           },
           "zaxis": {
            "backgroundcolor": "white",
            "gridcolor": "#DFE8F3",
            "gridwidth": 2,
            "linecolor": "#EBF0F8",
            "showbackground": true,
            "ticks": "",
            "zerolinecolor": "#EBF0F8"
           }
          },
          "shapedefaults": {
           "line": {
            "color": "#2a3f5f"
           }
          },
          "ternary": {
           "aaxis": {
            "gridcolor": "#DFE8F3",
            "linecolor": "#A2B1C6",
            "ticks": ""
           },
           "baxis": {
            "gridcolor": "#DFE8F3",
            "linecolor": "#A2B1C6",
            "ticks": ""
           },
           "bgcolor": "white",
           "caxis": {
            "gridcolor": "#DFE8F3",
            "linecolor": "#A2B1C6",
            "ticks": ""
           }
          },
          "title": {
           "x": 0.05
          },
          "xaxis": {
           "automargin": true,
           "gridcolor": "#EBF0F8",
           "linecolor": "#EBF0F8",
           "ticks": "",
           "title": {
            "standoff": 15
           },
           "zerolinecolor": "#EBF0F8",
           "zerolinewidth": 2
          },
          "yaxis": {
           "automargin": true,
           "gridcolor": "#EBF0F8",
           "linecolor": "#EBF0F8",
           "ticks": "",
           "title": {
            "standoff": 15
           },
           "zerolinecolor": "#EBF0F8",
           "zerolinewidth": 2
          }
         }
        },
        "title": {
         "font": {
          "size": 12
         }
        },
        "width": 700,
        "xaxis": {
         "anchor": "y",
         "domain": [
          0,
          1
         ],
         "linewidth": 1.5,
         "mirror": true,
         "range": [
          "2011-09-08T00:00:00",
          "2011-12-08T00:00:00"
         ],
         "showline": true,
         "title": {
          "text": "ds"
         },
         "type": "date"
        },
        "xaxis2": {
         "anchor": "y2",
         "domain": [
          0,
          1
         ],
         "linewidth": 1.5,
         "mirror": true,
         "range": [
          "2011-09-08T00:00:00",
          "2011-12-08T00:00:00"
         ],
         "showline": true,
         "title": {
          "text": "ds"
         },
         "type": "date"
        },
        "xaxis3": {
         "anchor": "y3",
         "domain": [
          0,
          1
         ],
         "linewidth": 1.5,
         "mirror": true,
         "range": [
          "2011-09-08T00:00:00",
          "2011-12-08T00:00:00"
         ],
         "showline": true,
         "title": {
          "text": "ds"
         },
         "type": "date"
        },
        "xaxis4": {
         "anchor": "y4",
         "domain": [
          0,
          1
         ],
         "linewidth": 1.5,
         "mirror": true,
         "range": [
          "2011-09-08T00:00:00",
          "2011-12-08T00:00:00"
         ],
         "showline": true,
         "title": {
          "text": "ds"
         },
         "type": "date"
        },
        "yaxis": {
         "anchor": "x",
         "domain": [
          0.80625,
          1
         ],
         "linewidth": 1.5,
         "mirror": true,
         "rangemode": "normal",
         "showline": true,
         "title": {
          "text": "Trend"
         }
        },
        "yaxis2": {
         "anchor": "x2",
         "domain": [
          0.5375,
          0.73125
         ],
         "linewidth": 1.5,
         "mirror": true,
         "rangemode": "tozero",
         "showline": true,
         "title": {
          "text": "yearly seasonality"
         }
        },
        "yaxis3": {
         "anchor": "x3",
         "domain": [
          0.26875,
          0.4625
         ],
         "linewidth": 1.5,
         "mirror": true,
         "rangemode": "tozero",
         "showline": true,
         "title": {
          "text": "weekly seasonality"
         }
        },
        "yaxis4": {
         "anchor": "x4",
         "domain": [
          0,
          0.19375
         ],
         "linewidth": 1.5,
         "mirror": true,
         "rangemode": "tozero",
         "showline": true,
         "title": {
          "text": "daily seasonality"
         }
        }
       }
      }
     },
     "metadata": {},
     "output_type": "display_data"
    }
   ],
   "source": [
    "forecast = m.predict(testing_x)\n",
    "fig = m.plot_components(forecast)\n",
    "fig.show()\n"
   ]
  },
  {
   "cell_type": "code",
   "execution_count": 10,
   "metadata": {},
   "outputs": [
    {
     "name": "stdout",
     "output_type": "stream",
     "text": [
      "MAPE:  0.19807304284469765\n"
     ]
    },
    {
     "data": {
      "image/png": "[encoded data removed]",
      "text/plain": [
       "<Figure size 1500x500 with 1 Axes>"
      ]
     },
     "metadata": {},
     "output_type": "display_data"
    }
   ],
   "source": [
    "plt.figure(figsize=(15,5))\n",
    "plt.plot(forecast['ds'],forecast['yhat1'], label='Predicted')\n",
    "plt.plot(testing_x['ds'],testing_x['y'], label='Actual')\n",
    "plt.legend()\n",
    "plt.plot()\n",
    "print('MAPE: ', mean_absolute_percentage_error(testing_x['y'], forecast['yhat1']))"
   ]
  },
  {
   "cell_type": "code",
   "execution_count": 11,
   "metadata": {},
   "outputs": [
    {
     "name": "stderr",
     "output_type": "stream",
     "text": [
      "INFO - (NP.df_utils._infer_frequency) - Major frequency D corresponds to 50.0% of the data.\n",
      "WARNING - (NP.df_utils._infer_frequency) - Dataframe has multiple frequencies. It will be resampled according to given freq D. Ignore message if actual frequency is any of the following:  SM, BM, CBM, SMS, BMS, CBMS, BQ, BQS, BA, or, BAS.\n",
      "INFO - (NP.df_utils._infer_frequency) - Major frequency D corresponds to 50.0% of the data.\n",
      "WARNING - (NP.df_utils._infer_frequency) - Dataframe has multiple frequencies. It will be resampled according to given freq D. Ignore message if actual frequency is any of the following:  SM, BM, CBM, SMS, BMS, CBMS, BQ, BQS, BA, or, BAS.\n"
     ]
    },
    {
     "data": {
      "application/vnd.jupyter.widget-view+json": {
       "model_id": "2446da06070b4decaa543ca29909003f",
       "version_major": 2,
       "version_minor": 0
      },
      "text/plain": [
       "Predicting: 4it [00:00, ?it/s]"
      ]
     },
     "metadata": {},
     "output_type": "display_data"
    },
    {
     "name": "stderr",
     "output_type": "stream",
     "text": [
      "INFO - (NP.df_utils.return_df_in_original_format) - Returning df with no ID column\n",
      "INFO - (NP.df_utils._infer_frequency) - Major frequency D corresponds to 77.778% of the data.\n",
      "INFO - (NP.df_utils._infer_frequency) - Defined frequency is equal to major frequency - D\n",
      "INFO - (NP.df_utils._infer_frequency) - Major frequency D corresponds to 77.778% of the data.\n",
      "INFO - (NP.df_utils._infer_frequency) - Defined frequency is equal to major frequency - D\n"
     ]
    },
    {
     "data": {
      "application/vnd.jupyter.widget-view+json": {
       "model_id": "81307868046d4eb1bc12574e18a15903",
       "version_major": 2,
       "version_minor": 0
      },
      "text/plain": [
       "Predicting: 4it [00:00, ?it/s]"
      ]
     },
     "metadata": {},
     "output_type": "display_data"
    },
    {
     "name": "stderr",
     "output_type": "stream",
     "text": [
      "INFO - (NP.df_utils.return_df_in_original_format) - Returning df with no ID column\n",
      "INFO - (NP.df_utils._infer_frequency) - Major frequency D corresponds to 47.368% of the data.\n",
      "WARNING - (NP.df_utils._infer_frequency) - Dataframe has multiple frequencies. It will be resampled according to given freq D. Ignore message if actual frequency is any of the following:  SM, BM, CBM, SMS, BMS, CBMS, BQ, BQS, BA, or, BAS.\n",
      "INFO - (NP.df_utils._infer_frequency) - Major frequency D corresponds to 47.368% of the data.\n",
      "WARNING - (NP.df_utils._infer_frequency) - Dataframe has multiple frequencies. It will be resampled according to given freq D. Ignore message if actual frequency is any of the following:  SM, BM, CBM, SMS, BMS, CBMS, BQ, BQS, BA, or, BAS.\n"
     ]
    },
    {
     "data": {
      "application/vnd.jupyter.widget-view+json": {
       "model_id": "4cf44d818440412699d22e466424beb4",
       "version_major": 2,
       "version_minor": 0
      },
      "text/plain": [
       "Predicting: 4it [00:00, ?it/s]"
      ]
     },
     "metadata": {},
     "output_type": "display_data"
    },
    {
     "name": "stderr",
     "output_type": "stream",
     "text": [
      "INFO - (NP.df_utils.return_df_in_original_format) - Returning df with no ID column\n"
     ]
    },
    {
     "data": {
      "image/png": "[encoded data removed]",
      "text/plain": [
       "<Figure size 640x480 with 1 Axes>"
      ]
     },
     "metadata": {},
     "output_type": "display_data"
    },
    {
     "name": "stdout",
     "output_type": "stream",
     "text": [
      "MAPE test1:  0.24937213685723159\n",
      "MAPE test2:  0.1828795098418786\n",
      "MAPE test3:  0.16386777451970447\n"
     ]
    },
    {
     "data": {
      "image/png": "[encoded data removed]",
      "text/plain": [
       "<Figure size 640x480 with 1 Axes>"
      ]
     },
     "metadata": {},
     "output_type": "display_data"
    }
   ],
   "source": [
    "test1 = testing_x.iloc[:int(len(testing_x)/3)].reset_index(drop=True)\n",
    "test2 = testing_x.iloc[int(len(testing_x)/3):int(len(testing_x)*2/3)].reset_index(drop=True)\n",
    "test3 = testing_x.iloc[int(len(testing_x)*2/3):].reset_index(drop=True)\n",
    "mape_test = []\n",
    "err = pd.DataFrame(columns=['test1','test2','test3'])\n",
    "forecast1 = m.predict(test1)\n",
    "err['test1'] = test1['y'] - forecast1['yhat1']\n",
    "mape_test.append(mean_absolute_percentage_error(test1['y'], forecast1['yhat1']))\n",
    "\n",
    "forecast2 = m.predict(test2)\n",
    "err['test2'] = test2['y'] - forecast2['yhat1']\n",
    "mape_test.append(mean_absolute_percentage_error(test2['y'], forecast2['yhat1']))\n",
    "\n",
    "forecast3 = m.predict(test3)\n",
    "err['test3'] = test3['y'] - forecast3['yhat1']\n",
    "mape_test.append(mean_absolute_percentage_error(test3['y'], forecast3['yhat1']))\n",
    "\n",
    "plt.boxplot(err)\n",
    "plt.xlabel('Test')\n",
    "plt.ylabel('Error')\n",
    "plt.show()\n",
    "\n",
    "plt.plot([1,2,3],mape_test)\n",
    "print(\"MAPE test1: \", mean_absolute_percentage_error(test1['y'], forecast1['yhat1']))\n",
    "print(\"MAPE test2: \", mean_absolute_percentage_error(test2['y'], forecast2['yhat1']))\n",
    "print(\"MAPE test3: \", mean_absolute_percentage_error(test3['y'], forecast3['yhat1']))"
   ]
  },
  {
   "cell_type": "code",
   "execution_count": 15,
   "metadata": {},
   "outputs": [],
   "source": [
    "import pickle\n",
    "with open('../Models/neuralprophet_model.pkl', \"wb\") as f:\n",
    "    pickle.dump(m, f)"
   ]
  },
  {
   "cell_type": "code",
   "execution_count": null,
   "metadata": {},
   "outputs": [],
   "source": []
  }
 ],
 "metadata": {
  "kernelspec": {
   "display_name": "Python 3",
   "language": "python",
   "name": "python3"
  },
  "language_info": {
   "codemirror_mode": {
    "name": "ipython",
    "version": 3
   },
   "file_extension": ".py",
   "mimetype": "text/x-python",
   "name": "python",
   "nbconvert_exporter": "python",
   "pygments_lexer": "ipython3",
   "version": "3.9.12"
  },
  "orig_nbformat": 4,
  "vscode": {
   "interpreter": {
    "hash": "b0fa6594d8f4cbf19f97940f81e996739fb7646882a419484c72d19e05852a7e"
   }
  }
 },
 "nbformat": 4,
 "nbformat_minor": 2
}
