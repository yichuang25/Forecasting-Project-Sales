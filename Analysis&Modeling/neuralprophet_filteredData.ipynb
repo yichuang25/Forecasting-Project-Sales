{
 "cells": [
  {
   "cell_type": "code",
   "execution_count": 1,
   "metadata": {},
   "outputs": [],
   "source": [
    "from neuralprophet import NeuralProphet\n",
    "import pandas as pd\n",
    "import numpy as np\n",
    "import matplotlib.pyplot as plt\n",
    "from sklearn.metrics import mean_absolute_percentage_error"
   ]
  },
  {
   "cell_type": "code",
   "execution_count": 2,
   "metadata": {},
   "outputs": [],
   "source": [
    "data  = pd.read_pickle('../Data/sales_day_filtered.pkl')\n",
    "data['date'] = pd.to_datetime(data['date'])\n",
    "data.columns = ['ds', 'y']"
   ]
  },
  {
   "cell_type": "code",
   "execution_count": 3,
   "metadata": {},
   "outputs": [
    {
     "data": {
      "text/html": [
       "<div>\n",
       "<style scoped>\n",
       "    .dataframe tbody tr th:only-of-type {\n",
       "        vertical-align: middle;\n",
       "    }\n",
       "\n",
       "    .dataframe tbody tr th {\n",
       "        vertical-align: top;\n",
       "    }\n",
       "\n",
       "    .dataframe thead th {\n",
       "        text-align: right;\n",
       "    }\n",
       "</style>\n",
       "<table border=\"1\" class=\"dataframe\">\n",
       "  <thead>\n",
       "    <tr style=\"text-align: right;\">\n",
       "      <th></th>\n",
       "      <th>ds</th>\n",
       "      <th>y</th>\n",
       "    </tr>\n",
       "  </thead>\n",
       "  <tbody>\n",
       "    <tr>\n",
       "      <th>0</th>\n",
       "      <td>2009-12-01</td>\n",
       "      <td>37366.32</td>\n",
       "    </tr>\n",
       "    <tr>\n",
       "      <th>1</th>\n",
       "      <td>2009-12-02</td>\n",
       "      <td>36596.16</td>\n",
       "    </tr>\n",
       "    <tr>\n",
       "      <th>2</th>\n",
       "      <td>2009-12-03</td>\n",
       "      <td>20965.15</td>\n",
       "    </tr>\n",
       "    <tr>\n",
       "      <th>3</th>\n",
       "      <td>2009-12-04</td>\n",
       "      <td>31448.44</td>\n",
       "    </tr>\n",
       "    <tr>\n",
       "      <th>4</th>\n",
       "      <td>2009-12-05</td>\n",
       "      <td>9042.36</td>\n",
       "    </tr>\n",
       "    <tr>\n",
       "      <th>...</th>\n",
       "      <td>...</td>\n",
       "      <td>...</td>\n",
       "    </tr>\n",
       "    <tr>\n",
       "      <th>599</th>\n",
       "      <td>2011-12-05</td>\n",
       "      <td>19942.26</td>\n",
       "    </tr>\n",
       "    <tr>\n",
       "      <th>600</th>\n",
       "      <td>2011-12-06</td>\n",
       "      <td>30341.39</td>\n",
       "    </tr>\n",
       "    <tr>\n",
       "      <th>601</th>\n",
       "      <td>2011-12-07</td>\n",
       "      <td>27136.45</td>\n",
       "    </tr>\n",
       "    <tr>\n",
       "      <th>602</th>\n",
       "      <td>2011-12-08</td>\n",
       "      <td>32465.18</td>\n",
       "    </tr>\n",
       "    <tr>\n",
       "      <th>603</th>\n",
       "      <td>2011-12-09</td>\n",
       "      <td>7883.70</td>\n",
       "    </tr>\n",
       "  </tbody>\n",
       "</table>\n",
       "<p>604 rows × 2 columns</p>\n",
       "</div>"
      ],
      "text/plain": [
       "            ds         y\n",
       "0   2009-12-01  37366.32\n",
       "1   2009-12-02  36596.16\n",
       "2   2009-12-03  20965.15\n",
       "3   2009-12-04  31448.44\n",
       "4   2009-12-05   9042.36\n",
       "..         ...       ...\n",
       "599 2011-12-05  19942.26\n",
       "600 2011-12-06  30341.39\n",
       "601 2011-12-07  27136.45\n",
       "602 2011-12-08  32465.18\n",
       "603 2011-12-09   7883.70\n",
       "\n",
       "[604 rows x 2 columns]"
      ]
     },
     "execution_count": 3,
     "metadata": {},
     "output_type": "execute_result"
    }
   ],
   "source": [
    "data"
   ]
  },
  {
   "cell_type": "code",
   "execution_count": 4,
   "metadata": {},
   "outputs": [],
   "source": [
    "# train test split\n",
    "training_x = data.iloc[:int(len(data)*0.8)]\n",
    "val_x = data.iloc[int(len(data)*0.8):int(len(data)*0.9)].reset_index(drop=True)\n",
    "testing_x = data.iloc[int(len(data)*0.9):].reset_index(drop=True)"
   ]
  },
  {
   "cell_type": "code",
   "execution_count": 5,
   "metadata": {},
   "outputs": [
    {
     "name": "stderr",
     "output_type": "stream",
     "text": [
      "WARNING - (NP.forecaster.fit) - When Global modeling with local normalization, metrics are displayed in normalized scale.\n",
      "INFO - (NP.df_utils._infer_frequency) - Major frequency D corresponds to 81.781% of the data.\n",
      "INFO - (NP.df_utils._infer_frequency) - Dataframe freq automatically defined as D\n",
      "WARNING - (NP.forecaster.fit) - Changing n_forecasts to 1. Without lags, the forecast can be computed for any future time, independent of lagged values\n",
      "INFO - (NP.config.init_data_params) - Setting normalization to global as only one dataframe provided for training.\n",
      "ERROR - (NP.df_utils.get_normalization_params) - Normalization True not defined.\n",
      "ERROR - (NP.df_utils.get_normalization_params) - Normalization True not defined.\n",
      "WARNING - (py.warnings._showwarnmsg) - /opt/homebrew/lib/python3.9/site-packages/pytorch_lightning/trainer/trainer.py:1789: UserWarning: MPS available but not used. Set `accelerator` and `devices` using `Trainer(accelerator='mps', devices=1)`.\n",
      "  rank_zero_warn(\n",
      "\n"
     ]
    },
    {
     "data": {
      "application/vnd.jupyter.widget-view+json": {
       "model_id": "bdf0513affa048b2a9d8c16608a6a23c",
       "version_major": 2,
       "version_minor": 0
      },
      "text/plain": [
       "Training: 0it [00:00, ?it/s]"
      ]
     },
     "metadata": {},
     "output_type": "display_data"
    },
    {
     "data": {
      "application/vnd.jupyter.widget-view+json": {
       "model_id": "698f49cf178a4285a2160002a2a7b561",
       "version_major": 2,
       "version_minor": 0
      },
      "text/plain": [
       "Validation: 0it [00:00, ?it/s]"
      ]
     },
     "metadata": {},
     "output_type": "display_data"
    },
    {
     "data": {
      "application/vnd.jupyter.widget-view+json": {
       "model_id": "8069f6b4094f4f6da59afd382019ec09",
       "version_major": 2,
       "version_minor": 0
      },
      "text/plain": [
       "Validation: 0it [00:00, ?it/s]"
      ]
     },
     "metadata": {},
     "output_type": "display_data"
    },
    {
     "data": {
      "application/vnd.jupyter.widget-view+json": {
       "model_id": "6b429deedc064d63820fa5a8c9f10231",
       "version_major": 2,
       "version_minor": 0
      },
      "text/plain": [
       "Validation: 0it [00:00, ?it/s]"
      ]
     },
     "metadata": {},
     "output_type": "display_data"
    },
    {
     "data": {
      "application/vnd.jupyter.widget-view+json": {
       "model_id": "9a5dec842bf84e19b89151f8d53775da",
       "version_major": 2,
       "version_minor": 0
      },
      "text/plain": [
       "Validation: 0it [00:00, ?it/s]"
      ]
     },
     "metadata": {},
     "output_type": "display_data"
    },
    {
     "data": {
      "application/vnd.jupyter.widget-view+json": {
       "model_id": "d25f728adde34047a8c731596c16f982",
       "version_major": 2,
       "version_minor": 0
      },
      "text/plain": [
       "Validation: 0it [00:00, ?it/s]"
      ]
     },
     "metadata": {},
     "output_type": "display_data"
    },
    {
     "data": {
      "application/vnd.jupyter.widget-view+json": {
       "model_id": "fa3d880e6df246059d8929a311e2895a",
       "version_major": 2,
       "version_minor": 0
      },
      "text/plain": [
       "Validation: 0it [00:00, ?it/s]"
      ]
     },
     "metadata": {},
     "output_type": "display_data"
    },
    {
     "data": {
      "application/vnd.jupyter.widget-view+json": {
       "model_id": "b7060abf55d8482cbc1dc79063b88e88",
       "version_major": 2,
       "version_minor": 0
      },
      "text/plain": [
       "Validation: 0it [00:00, ?it/s]"
      ]
     },
     "metadata": {},
     "output_type": "display_data"
    },
    {
     "data": {
      "application/vnd.jupyter.widget-view+json": {
       "model_id": "f91aa8ec88c7472196275e29ce5ef394",
       "version_major": 2,
       "version_minor": 0
      },
      "text/plain": [
       "Validation: 0it [00:00, ?it/s]"
      ]
     },
     "metadata": {},
     "output_type": "display_data"
    },
    {
     "data": {
      "application/vnd.jupyter.widget-view+json": {
       "model_id": "9df61e9940d84f8ca64b92b5576ac096",
       "version_major": 2,
       "version_minor": 0
      },
      "text/plain": [
       "Validation: 0it [00:00, ?it/s]"
      ]
     },
     "metadata": {},
     "output_type": "display_data"
    },
    {
     "data": {
      "application/vnd.jupyter.widget-view+json": {
       "model_id": "e3f63d8071954c54a3fba665d01552bc",
       "version_major": 2,
       "version_minor": 0
      },
      "text/plain": [
       "Validation: 0it [00:00, ?it/s]"
      ]
     },
     "metadata": {},
     "output_type": "display_data"
    },
    {
     "data": {
      "application/vnd.jupyter.widget-view+json": {
       "model_id": "5f86befc26ea442f88877b1b450ee5f5",
       "version_major": 2,
       "version_minor": 0
      },
      "text/plain": [
       "Validation: 0it [00:00, ?it/s]"
      ]
     },
     "metadata": {},
     "output_type": "display_data"
    },
    {
     "data": {
      "application/vnd.jupyter.widget-view+json": {
       "model_id": "b75798d951fe4950a966adb659d5622f",
       "version_major": 2,
       "version_minor": 0
      },
      "text/plain": [
       "Validation: 0it [00:00, ?it/s]"
      ]
     },
     "metadata": {},
     "output_type": "display_data"
    },
    {
     "data": {
      "application/vnd.jupyter.widget-view+json": {
       "model_id": "81a364a7dd0a467bbd6f5b1023aa685f",
       "version_major": 2,
       "version_minor": 0
      },
      "text/plain": [
       "Validation: 0it [00:00, ?it/s]"
      ]
     },
     "metadata": {},
     "output_type": "display_data"
    },
    {
     "data": {
      "application/vnd.jupyter.widget-view+json": {
       "model_id": "241fe9c4ec3546a08f70d5f629279519",
       "version_major": 2,
       "version_minor": 0
      },
      "text/plain": [
       "Validation: 0it [00:00, ?it/s]"
      ]
     },
     "metadata": {},
     "output_type": "display_data"
    },
    {
     "data": {
      "application/vnd.jupyter.widget-view+json": {
       "model_id": "5c1bffdd284e46a393beed6556939ed6",
       "version_major": 2,
       "version_minor": 0
      },
      "text/plain": [
       "Validation: 0it [00:00, ?it/s]"
      ]
     },
     "metadata": {},
     "output_type": "display_data"
    },
    {
     "data": {
      "application/vnd.jupyter.widget-view+json": {
       "model_id": "9b7c4f58badf4690a326cf387882c8e4",
       "version_major": 2,
       "version_minor": 0
      },
      "text/plain": [
       "Validation: 0it [00:00, ?it/s]"
      ]
     },
     "metadata": {},
     "output_type": "display_data"
    },
    {
     "data": {
      "application/vnd.jupyter.widget-view+json": {
       "model_id": "6c1247213246419e836d1ae6921d629d",
       "version_major": 2,
       "version_minor": 0
      },
      "text/plain": [
       "Validation: 0it [00:00, ?it/s]"
      ]
     },
     "metadata": {},
     "output_type": "display_data"
    },
    {
     "data": {
      "application/vnd.jupyter.widget-view+json": {
       "model_id": "07c7447fa4824e7c8d8cb8ca3fa85473",
       "version_major": 2,
       "version_minor": 0
      },
      "text/plain": [
       "Validation: 0it [00:00, ?it/s]"
      ]
     },
     "metadata": {},
     "output_type": "display_data"
    },
    {
     "data": {
      "application/vnd.jupyter.widget-view+json": {
       "model_id": "8618f280737c446dbc1914e7965ee3a6",
       "version_major": 2,
       "version_minor": 0
      },
      "text/plain": [
       "Validation: 0it [00:00, ?it/s]"
      ]
     },
     "metadata": {},
     "output_type": "display_data"
    },
    {
     "data": {
      "application/vnd.jupyter.widget-view+json": {
       "model_id": "c3f8e397fe62441e93dddfa9f0d5c030",
       "version_major": 2,
       "version_minor": 0
      },
      "text/plain": [
       "Validation: 0it [00:00, ?it/s]"
      ]
     },
     "metadata": {},
     "output_type": "display_data"
    },
    {
     "data": {
      "application/vnd.jupyter.widget-view+json": {
       "model_id": "83d734a210eb419b81bb06847e84fe4e",
       "version_major": 2,
       "version_minor": 0
      },
      "text/plain": [
       "Validation: 0it [00:00, ?it/s]"
      ]
     },
     "metadata": {},
     "output_type": "display_data"
    },
    {
     "data": {
      "application/vnd.jupyter.widget-view+json": {
       "model_id": "abbb16a47e334e479828eabcd403ed06",
       "version_major": 2,
       "version_minor": 0
      },
      "text/plain": [
       "Validation: 0it [00:00, ?it/s]"
      ]
     },
     "metadata": {},
     "output_type": "display_data"
    },
    {
     "data": {
      "application/vnd.jupyter.widget-view+json": {
       "model_id": "0c2c99b85fd7469eb4837aa794e4fb12",
       "version_major": 2,
       "version_minor": 0
      },
      "text/plain": [
       "Validation: 0it [00:00, ?it/s]"
      ]
     },
     "metadata": {},
     "output_type": "display_data"
    },
    {
     "data": {
      "application/vnd.jupyter.widget-view+json": {
       "model_id": "55fafa26ac6c407fa4a2c57feccb61a4",
       "version_major": 2,
       "version_minor": 0
      },
      "text/plain": [
       "Validation: 0it [00:00, ?it/s]"
      ]
     },
     "metadata": {},
     "output_type": "display_data"
    },
    {
     "data": {
      "application/vnd.jupyter.widget-view+json": {
       "model_id": "19d57a41f7554fd6b73b283200f232e5",
       "version_major": 2,
       "version_minor": 0
      },
      "text/plain": [
       "Validation: 0it [00:00, ?it/s]"
      ]
     },
     "metadata": {},
     "output_type": "display_data"
    },
    {
     "data": {
      "application/vnd.jupyter.widget-view+json": {
       "model_id": "16c6c01681cf45848d65575550c3b565",
       "version_major": 2,
       "version_minor": 0
      },
      "text/plain": [
       "Validation: 0it [00:00, ?it/s]"
      ]
     },
     "metadata": {},
     "output_type": "display_data"
    },
    {
     "data": {
      "application/vnd.jupyter.widget-view+json": {
       "model_id": "ecc3f898da6746ed9e897e3ae769bff1",
       "version_major": 2,
       "version_minor": 0
      },
      "text/plain": [
       "Validation: 0it [00:00, ?it/s]"
      ]
     },
     "metadata": {},
     "output_type": "display_data"
    },
    {
     "data": {
      "application/vnd.jupyter.widget-view+json": {
       "model_id": "ec7e02c2f4ce4cc1b0383cf31ead97e6",
       "version_major": 2,
       "version_minor": 0
      },
      "text/plain": [
       "Validation: 0it [00:00, ?it/s]"
      ]
     },
     "metadata": {},
     "output_type": "display_data"
    },
    {
     "data": {
      "application/vnd.jupyter.widget-view+json": {
       "model_id": "4cabba4a1876421eb04b87e087eff404",
       "version_major": 2,
       "version_minor": 0
      },
      "text/plain": [
       "Validation: 0it [00:00, ?it/s]"
      ]
     },
     "metadata": {},
     "output_type": "display_data"
    },
    {
     "data": {
      "application/vnd.jupyter.widget-view+json": {
       "model_id": "e860815ee61d48e78a95d7cae7b79d00",
       "version_major": 2,
       "version_minor": 0
      },
      "text/plain": [
       "Validation: 0it [00:00, ?it/s]"
      ]
     },
     "metadata": {},
     "output_type": "display_data"
    },
    {
     "data": {
      "application/vnd.jupyter.widget-view+json": {
       "model_id": "f494930703f24b5580bbcfb018feba2d",
       "version_major": 2,
       "version_minor": 0
      },
      "text/plain": [
       "Validation: 0it [00:00, ?it/s]"
      ]
     },
     "metadata": {},
     "output_type": "display_data"
    },
    {
     "data": {
      "application/vnd.jupyter.widget-view+json": {
       "model_id": "43ab87a91d2a4738ae5564866432d92a",
       "version_major": 2,
       "version_minor": 0
      },
      "text/plain": [
       "Validation: 0it [00:00, ?it/s]"
      ]
     },
     "metadata": {},
     "output_type": "display_data"
    },
    {
     "data": {
      "application/vnd.jupyter.widget-view+json": {
       "model_id": "4555071ab20347ffad07db6cd07a9253",
       "version_major": 2,
       "version_minor": 0
      },
      "text/plain": [
       "Validation: 0it [00:00, ?it/s]"
      ]
     },
     "metadata": {},
     "output_type": "display_data"
    },
    {
     "data": {
      "application/vnd.jupyter.widget-view+json": {
       "model_id": "a312c04ffbe74fed9e6ed5d8139717fb",
       "version_major": 2,
       "version_minor": 0
      },
      "text/plain": [
       "Validation: 0it [00:00, ?it/s]"
      ]
     },
     "metadata": {},
     "output_type": "display_data"
    },
    {
     "data": {
      "application/vnd.jupyter.widget-view+json": {
       "model_id": "42a04e09d4ff448e8a00b3e9c585ebdf",
       "version_major": 2,
       "version_minor": 0
      },
      "text/plain": [
       "Validation: 0it [00:00, ?it/s]"
      ]
     },
     "metadata": {},
     "output_type": "display_data"
    },
    {
     "data": {
      "application/vnd.jupyter.widget-view+json": {
       "model_id": "3ac40797b5284cc8913b03b859e00dfd",
       "version_major": 2,
       "version_minor": 0
      },
      "text/plain": [
       "Validation: 0it [00:00, ?it/s]"
      ]
     },
     "metadata": {},
     "output_type": "display_data"
    },
    {
     "data": {
      "application/vnd.jupyter.widget-view+json": {
       "model_id": "a37a64f0db6a4674b196575989482a99",
       "version_major": 2,
       "version_minor": 0
      },
      "text/plain": [
       "Validation: 0it [00:00, ?it/s]"
      ]
     },
     "metadata": {},
     "output_type": "display_data"
    },
    {
     "data": {
      "application/vnd.jupyter.widget-view+json": {
       "model_id": "35768a2452c3445db51901cff85a1462",
       "version_major": 2,
       "version_minor": 0
      },
      "text/plain": [
       "Validation: 0it [00:00, ?it/s]"
      ]
     },
     "metadata": {},
     "output_type": "display_data"
    },
    {
     "data": {
      "application/vnd.jupyter.widget-view+json": {
       "model_id": "b16254f55a0a4e58a05f8e4b36e39a27",
       "version_major": 2,
       "version_minor": 0
      },
      "text/plain": [
       "Validation: 0it [00:00, ?it/s]"
      ]
     },
     "metadata": {},
     "output_type": "display_data"
    },
    {
     "data": {
      "application/vnd.jupyter.widget-view+json": {
       "model_id": "750b7dabdcbe4ceaa493a2c482f1e327",
       "version_major": 2,
       "version_minor": 0
      },
      "text/plain": [
       "Validation: 0it [00:00, ?it/s]"
      ]
     },
     "metadata": {},
     "output_type": "display_data"
    },
    {
     "data": {
      "application/vnd.jupyter.widget-view+json": {
       "model_id": "ee847ab34e054e4e9af3ed781b26f84c",
       "version_major": 2,
       "version_minor": 0
      },
      "text/plain": [
       "Validation: 0it [00:00, ?it/s]"
      ]
     },
     "metadata": {},
     "output_type": "display_data"
    },
    {
     "data": {
      "application/vnd.jupyter.widget-view+json": {
       "model_id": "caa36ae2e0c64f659d7165f572ee78ba",
       "version_major": 2,
       "version_minor": 0
      },
      "text/plain": [
       "Validation: 0it [00:00, ?it/s]"
      ]
     },
     "metadata": {},
     "output_type": "display_data"
    },
    {
     "data": {
      "application/vnd.jupyter.widget-view+json": {
       "model_id": "30f5e544fd234990b52d35052606b96c",
       "version_major": 2,
       "version_minor": 0
      },
      "text/plain": [
       "Validation: 0it [00:00, ?it/s]"
      ]
     },
     "metadata": {},
     "output_type": "display_data"
    },
    {
     "data": {
      "application/vnd.jupyter.widget-view+json": {
       "model_id": "55b4302844e14b139ca2d4b1c13f38c7",
       "version_major": 2,
       "version_minor": 0
      },
      "text/plain": [
       "Validation: 0it [00:00, ?it/s]"
      ]
     },
     "metadata": {},
     "output_type": "display_data"
    },
    {
     "data": {
      "application/vnd.jupyter.widget-view+json": {
       "model_id": "11c609dddeef4006a2185ad3c5bd4209",
       "version_major": 2,
       "version_minor": 0
      },
      "text/plain": [
       "Validation: 0it [00:00, ?it/s]"
      ]
     },
     "metadata": {},
     "output_type": "display_data"
    },
    {
     "data": {
      "application/vnd.jupyter.widget-view+json": {
       "model_id": "de37080926a74acb98f3ca8a0593a5d0",
       "version_major": 2,
       "version_minor": 0
      },
      "text/plain": [
       "Validation: 0it [00:00, ?it/s]"
      ]
     },
     "metadata": {},
     "output_type": "display_data"
    },
    {
     "data": {
      "application/vnd.jupyter.widget-view+json": {
       "model_id": "f7c057dc9d254359812bac72f12eed26",
       "version_major": 2,
       "version_minor": 0
      },
      "text/plain": [
       "Validation: 0it [00:00, ?it/s]"
      ]
     },
     "metadata": {},
     "output_type": "display_data"
    },
    {
     "data": {
      "application/vnd.jupyter.widget-view+json": {
       "model_id": "73751411a7ad4dee9c9ae01c9ef520ed",
       "version_major": 2,
       "version_minor": 0
      },
      "text/plain": [
       "Validation: 0it [00:00, ?it/s]"
      ]
     },
     "metadata": {},
     "output_type": "display_data"
    },
    {
     "data": {
      "application/vnd.jupyter.widget-view+json": {
       "model_id": "5802d8c8c0874a9cb80990e31d8fcb63",
       "version_major": 2,
       "version_minor": 0
      },
      "text/plain": [
       "Validation: 0it [00:00, ?it/s]"
      ]
     },
     "metadata": {},
     "output_type": "display_data"
    },
    {
     "data": {
      "application/vnd.jupyter.widget-view+json": {
       "model_id": "539fa199a73949ba9465dc32e4f273a5",
       "version_major": 2,
       "version_minor": 0
      },
      "text/plain": [
       "Validation: 0it [00:00, ?it/s]"
      ]
     },
     "metadata": {},
     "output_type": "display_data"
    },
    {
     "data": {
      "application/vnd.jupyter.widget-view+json": {
       "model_id": "b7a5213133b04b3a89f41c218b0443bf",
       "version_major": 2,
       "version_minor": 0
      },
      "text/plain": [
       "Validation: 0it [00:00, ?it/s]"
      ]
     },
     "metadata": {},
     "output_type": "display_data"
    },
    {
     "data": {
      "application/vnd.jupyter.widget-view+json": {
       "model_id": "a62ebfea5edf44909b3af3871a3dd0ed",
       "version_major": 2,
       "version_minor": 0
      },
      "text/plain": [
       "Validation: 0it [00:00, ?it/s]"
      ]
     },
     "metadata": {},
     "output_type": "display_data"
    },
    {
     "data": {
      "application/vnd.jupyter.widget-view+json": {
       "model_id": "f1a9bd440bb343e8903a650a546f187d",
       "version_major": 2,
       "version_minor": 0
      },
      "text/plain": [
       "Validation: 0it [00:00, ?it/s]"
      ]
     },
     "metadata": {},
     "output_type": "display_data"
    },
    {
     "data": {
      "application/vnd.jupyter.widget-view+json": {
       "model_id": "d49fd54ea1504f54a3fcaee90a8c0288",
       "version_major": 2,
       "version_minor": 0
      },
      "text/plain": [
       "Validation: 0it [00:00, ?it/s]"
      ]
     },
     "metadata": {},
     "output_type": "display_data"
    },
    {
     "data": {
      "application/vnd.jupyter.widget-view+json": {
       "model_id": "e657eddab7044ea4aecd01ae2cb4d4c0",
       "version_major": 2,
       "version_minor": 0
      },
      "text/plain": [
       "Validation: 0it [00:00, ?it/s]"
      ]
     },
     "metadata": {},
     "output_type": "display_data"
    },
    {
     "data": {
      "application/vnd.jupyter.widget-view+json": {
       "model_id": "9b7d032401854e19ad270619b145d5d6",
       "version_major": 2,
       "version_minor": 0
      },
      "text/plain": [
       "Validation: 0it [00:00, ?it/s]"
      ]
     },
     "metadata": {},
     "output_type": "display_data"
    },
    {
     "data": {
      "application/vnd.jupyter.widget-view+json": {
       "model_id": "75e63785db854dfdb6121dca4fb90204",
       "version_major": 2,
       "version_minor": 0
      },
      "text/plain": [
       "Validation: 0it [00:00, ?it/s]"
      ]
     },
     "metadata": {},
     "output_type": "display_data"
    },
    {
     "data": {
      "application/vnd.jupyter.widget-view+json": {
       "model_id": "3fe3caa7fe874dbea1f6e7a241d477f8",
       "version_major": 2,
       "version_minor": 0
      },
      "text/plain": [
       "Validation: 0it [00:00, ?it/s]"
      ]
     },
     "metadata": {},
     "output_type": "display_data"
    },
    {
     "data": {
      "application/vnd.jupyter.widget-view+json": {
       "model_id": "b439794dfc93479895b286f98d0201c7",
       "version_major": 2,
       "version_minor": 0
      },
      "text/plain": [
       "Validation: 0it [00:00, ?it/s]"
      ]
     },
     "metadata": {},
     "output_type": "display_data"
    },
    {
     "data": {
      "application/vnd.jupyter.widget-view+json": {
       "model_id": "f6111982a2b647ae9de5faaacf843ece",
       "version_major": 2,
       "version_minor": 0
      },
      "text/plain": [
       "Validation: 0it [00:00, ?it/s]"
      ]
     },
     "metadata": {},
     "output_type": "display_data"
    },
    {
     "data": {
      "application/vnd.jupyter.widget-view+json": {
       "model_id": "1f1b4e9bf9cf41a19a3fd255eb2dcca9",
       "version_major": 2,
       "version_minor": 0
      },
      "text/plain": [
       "Validation: 0it [00:00, ?it/s]"
      ]
     },
     "metadata": {},
     "output_type": "display_data"
    },
    {
     "data": {
      "application/vnd.jupyter.widget-view+json": {
       "model_id": "55f72d5fcc724fb39755dfe8bf34ae99",
       "version_major": 2,
       "version_minor": 0
      },
      "text/plain": [
       "Validation: 0it [00:00, ?it/s]"
      ]
     },
     "metadata": {},
     "output_type": "display_data"
    },
    {
     "data": {
      "application/vnd.jupyter.widget-view+json": {
       "model_id": "977fa90c3caf425f8f80b6fc3ac023a7",
       "version_major": 2,
       "version_minor": 0
      },
      "text/plain": [
       "Validation: 0it [00:00, ?it/s]"
      ]
     },
     "metadata": {},
     "output_type": "display_data"
    },
    {
     "data": {
      "application/vnd.jupyter.widget-view+json": {
       "model_id": "190b85a728ee41fa9ce1c97051f8fa2a",
       "version_major": 2,
       "version_minor": 0
      },
      "text/plain": [
       "Validation: 0it [00:00, ?it/s]"
      ]
     },
     "metadata": {},
     "output_type": "display_data"
    },
    {
     "data": {
      "application/vnd.jupyter.widget-view+json": {
       "model_id": "c406cf7b4b07444cb61524332e9f72ab",
       "version_major": 2,
       "version_minor": 0
      },
      "text/plain": [
       "Validation: 0it [00:00, ?it/s]"
      ]
     },
     "metadata": {},
     "output_type": "display_data"
    },
    {
     "data": {
      "application/vnd.jupyter.widget-view+json": {
       "model_id": "e75df4266fc543f19bf0b82831765813",
       "version_major": 2,
       "version_minor": 0
      },
      "text/plain": [
       "Validation: 0it [00:00, ?it/s]"
      ]
     },
     "metadata": {},
     "output_type": "display_data"
    },
    {
     "data": {
      "application/vnd.jupyter.widget-view+json": {
       "model_id": "0ca43b79c8f24771b719664a727367d3",
       "version_major": 2,
       "version_minor": 0
      },
      "text/plain": [
       "Validation: 0it [00:00, ?it/s]"
      ]
     },
     "metadata": {},
     "output_type": "display_data"
    },
    {
     "data": {
      "application/vnd.jupyter.widget-view+json": {
       "model_id": "ea2679f9bd46466dac6818955b14dcdf",
       "version_major": 2,
       "version_minor": 0
      },
      "text/plain": [
       "Validation: 0it [00:00, ?it/s]"
      ]
     },
     "metadata": {},
     "output_type": "display_data"
    },
    {
     "data": {
      "application/vnd.jupyter.widget-view+json": {
       "model_id": "eca6d6fb9aca443d869b4a58fa58058a",
       "version_major": 2,
       "version_minor": 0
      },
      "text/plain": [
       "Validation: 0it [00:00, ?it/s]"
      ]
     },
     "metadata": {},
     "output_type": "display_data"
    },
    {
     "data": {
      "application/vnd.jupyter.widget-view+json": {
       "model_id": "7c940e411ae04baebdff87bbf0717700",
       "version_major": 2,
       "version_minor": 0
      },
      "text/plain": [
       "Validation: 0it [00:00, ?it/s]"
      ]
     },
     "metadata": {},
     "output_type": "display_data"
    },
    {
     "data": {
      "application/vnd.jupyter.widget-view+json": {
       "model_id": "b9aa022755c74ff091ef2d0e6ccfeca3",
       "version_major": 2,
       "version_minor": 0
      },
      "text/plain": [
       "Validation: 0it [00:00, ?it/s]"
      ]
     },
     "metadata": {},
     "output_type": "display_data"
    },
    {
     "data": {
      "application/vnd.jupyter.widget-view+json": {
       "model_id": "875c7217e4ea409f910c809e3902b510",
       "version_major": 2,
       "version_minor": 0
      },
      "text/plain": [
       "Validation: 0it [00:00, ?it/s]"
      ]
     },
     "metadata": {},
     "output_type": "display_data"
    },
    {
     "data": {
      "application/vnd.jupyter.widget-view+json": {
       "model_id": "52d3571ee67444e080e3f095bc1643da",
       "version_major": 2,
       "version_minor": 0
      },
      "text/plain": [
       "Validation: 0it [00:00, ?it/s]"
      ]
     },
     "metadata": {},
     "output_type": "display_data"
    },
    {
     "data": {
      "application/vnd.jupyter.widget-view+json": {
       "model_id": "4a3de3dbc9204210be5e3479162c1cec",
       "version_major": 2,
       "version_minor": 0
      },
      "text/plain": [
       "Validation: 0it [00:00, ?it/s]"
      ]
     },
     "metadata": {},
     "output_type": "display_data"
    },
    {
     "data": {
      "application/vnd.jupyter.widget-view+json": {
       "model_id": "9c0f9666461e464c8359955ba14da3a5",
       "version_major": 2,
       "version_minor": 0
      },
      "text/plain": [
       "Validation: 0it [00:00, ?it/s]"
      ]
     },
     "metadata": {},
     "output_type": "display_data"
    },
    {
     "data": {
      "application/vnd.jupyter.widget-view+json": {
       "model_id": "5c3a4b9f29d645a0ad9872b6323a8446",
       "version_major": 2,
       "version_minor": 0
      },
      "text/plain": [
       "Validation: 0it [00:00, ?it/s]"
      ]
     },
     "metadata": {},
     "output_type": "display_data"
    },
    {
     "data": {
      "application/vnd.jupyter.widget-view+json": {
       "model_id": "ef2a11f288044e2f996e082d9986d808",
       "version_major": 2,
       "version_minor": 0
      },
      "text/plain": [
       "Validation: 0it [00:00, ?it/s]"
      ]
     },
     "metadata": {},
     "output_type": "display_data"
    },
    {
     "data": {
      "application/vnd.jupyter.widget-view+json": {
       "model_id": "453c51c9a35e465faef00d7065acbcd2",
       "version_major": 2,
       "version_minor": 0
      },
      "text/plain": [
       "Validation: 0it [00:00, ?it/s]"
      ]
     },
     "metadata": {},
     "output_type": "display_data"
    },
    {
     "data": {
      "application/vnd.jupyter.widget-view+json": {
       "model_id": "5a474d6ff1cd4e06ba3f33dc10a3cb14",
       "version_major": 2,
       "version_minor": 0
      },
      "text/plain": [
       "Validation: 0it [00:00, ?it/s]"
      ]
     },
     "metadata": {},
     "output_type": "display_data"
    },
    {
     "data": {
      "application/vnd.jupyter.widget-view+json": {
       "model_id": "a49d33a5f652424dad3934dbc582a029",
       "version_major": 2,
       "version_minor": 0
      },
      "text/plain": [
       "Validation: 0it [00:00, ?it/s]"
      ]
     },
     "metadata": {},
     "output_type": "display_data"
    },
    {
     "data": {
      "application/vnd.jupyter.widget-view+json": {
       "model_id": "8006f85c94fc4b1a9544ea2aa2dd8f4e",
       "version_major": 2,
       "version_minor": 0
      },
      "text/plain": [
       "Validation: 0it [00:00, ?it/s]"
      ]
     },
     "metadata": {},
     "output_type": "display_data"
    },
    {
     "data": {
      "application/vnd.jupyter.widget-view+json": {
       "model_id": "4604d6818960431ea40a744b81ce6a58",
       "version_major": 2,
       "version_minor": 0
      },
      "text/plain": [
       "Validation: 0it [00:00, ?it/s]"
      ]
     },
     "metadata": {},
     "output_type": "display_data"
    },
    {
     "data": {
      "application/vnd.jupyter.widget-view+json": {
       "model_id": "415707398db348f3b17b0bedae40625f",
       "version_major": 2,
       "version_minor": 0
      },
      "text/plain": [
       "Validation: 0it [00:00, ?it/s]"
      ]
     },
     "metadata": {},
     "output_type": "display_data"
    },
    {
     "data": {
      "application/vnd.jupyter.widget-view+json": {
       "model_id": "1ce9d83251ea4710aedeb9df1e54306a",
       "version_major": 2,
       "version_minor": 0
      },
      "text/plain": [
       "Validation: 0it [00:00, ?it/s]"
      ]
     },
     "metadata": {},
     "output_type": "display_data"
    },
    {
     "data": {
      "application/vnd.jupyter.widget-view+json": {
       "model_id": "1b24f7f3701a44909e80c52952c894c3",
       "version_major": 2,
       "version_minor": 0
      },
      "text/plain": [
       "Validation: 0it [00:00, ?it/s]"
      ]
     },
     "metadata": {},
     "output_type": "display_data"
    },
    {
     "data": {
      "application/vnd.jupyter.widget-view+json": {
       "model_id": "62fb182124b2422d80d9177c5d93e8e4",
       "version_major": 2,
       "version_minor": 0
      },
      "text/plain": [
       "Validation: 0it [00:00, ?it/s]"
      ]
     },
     "metadata": {},
     "output_type": "display_data"
    },
    {
     "data": {
      "application/vnd.jupyter.widget-view+json": {
       "model_id": "3afcc1a3debf4ea4a0905948f3f12417",
       "version_major": 2,
       "version_minor": 0
      },
      "text/plain": [
       "Validation: 0it [00:00, ?it/s]"
      ]
     },
     "metadata": {},
     "output_type": "display_data"
    },
    {
     "data": {
      "application/vnd.jupyter.widget-view+json": {
       "model_id": "1fd1b3a8418e42459297402b4c2756a0",
       "version_major": 2,
       "version_minor": 0
      },
      "text/plain": [
       "Validation: 0it [00:00, ?it/s]"
      ]
     },
     "metadata": {},
     "output_type": "display_data"
    },
    {
     "data": {
      "application/vnd.jupyter.widget-view+json": {
       "model_id": "1f9d364aa94743a28318384aa95e4a12",
       "version_major": 2,
       "version_minor": 0
      },
      "text/plain": [
       "Validation: 0it [00:00, ?it/s]"
      ]
     },
     "metadata": {},
     "output_type": "display_data"
    },
    {
     "data": {
      "application/vnd.jupyter.widget-view+json": {
       "model_id": "6bc7cf1a893844a79603b41ca0483709",
       "version_major": 2,
       "version_minor": 0
      },
      "text/plain": [
       "Validation: 0it [00:00, ?it/s]"
      ]
     },
     "metadata": {},
     "output_type": "display_data"
    },
    {
     "data": {
      "application/vnd.jupyter.widget-view+json": {
       "model_id": "49b1da0d9e4b415db253a596ac200c23",
       "version_major": 2,
       "version_minor": 0
      },
      "text/plain": [
       "Validation: 0it [00:00, ?it/s]"
      ]
     },
     "metadata": {},
     "output_type": "display_data"
    },
    {
     "data": {
      "application/vnd.jupyter.widget-view+json": {
       "model_id": "9ec85ddaaeaa4680a707db17660eac02",
       "version_major": 2,
       "version_minor": 0
      },
      "text/plain": [
       "Validation: 0it [00:00, ?it/s]"
      ]
     },
     "metadata": {},
     "output_type": "display_data"
    },
    {
     "data": {
      "application/vnd.jupyter.widget-view+json": {
       "model_id": "9ad5e71d14f44e4b8de5f50333361e5b",
       "version_major": 2,
       "version_minor": 0
      },
      "text/plain": [
       "Validation: 0it [00:00, ?it/s]"
      ]
     },
     "metadata": {},
     "output_type": "display_data"
    },
    {
     "data": {
      "application/vnd.jupyter.widget-view+json": {
       "model_id": "6c073a2e1857479cab0124768cbb85e6",
       "version_major": 2,
       "version_minor": 0
      },
      "text/plain": [
       "Validation: 0it [00:00, ?it/s]"
      ]
     },
     "metadata": {},
     "output_type": "display_data"
    },
    {
     "data": {
      "application/vnd.jupyter.widget-view+json": {
       "model_id": "1b73b2062c804c23b870af0bd9f46fca",
       "version_major": 2,
       "version_minor": 0
      },
      "text/plain": [
       "Validation: 0it [00:00, ?it/s]"
      ]
     },
     "metadata": {},
     "output_type": "display_data"
    },
    {
     "data": {
      "application/vnd.jupyter.widget-view+json": {
       "model_id": "ba675aa9fa2f45fcad8ec7f43e8fc894",
       "version_major": 2,
       "version_minor": 0
      },
      "text/plain": [
       "Validation: 0it [00:00, ?it/s]"
      ]
     },
     "metadata": {},
     "output_type": "display_data"
    },
    {
     "data": {
      "application/vnd.jupyter.widget-view+json": {
       "model_id": "0ca3f16caf1c4fa29b98372c05e0dd0a",
       "version_major": 2,
       "version_minor": 0
      },
      "text/plain": [
       "Validation: 0it [00:00, ?it/s]"
      ]
     },
     "metadata": {},
     "output_type": "display_data"
    },
    {
     "data": {
      "application/vnd.jupyter.widget-view+json": {
       "model_id": "7ddf2acd0db94448a14146c2840ac44d",
       "version_major": 2,
       "version_minor": 0
      },
      "text/plain": [
       "Validation: 0it [00:00, ?it/s]"
      ]
     },
     "metadata": {},
     "output_type": "display_data"
    },
    {
     "data": {
      "application/vnd.jupyter.widget-view+json": {
       "model_id": "47360e7b560e4759812b2c8740e0e24a",
       "version_major": 2,
       "version_minor": 0
      },
      "text/plain": [
       "Validation: 0it [00:00, ?it/s]"
      ]
     },
     "metadata": {},
     "output_type": "display_data"
    },
    {
     "data": {
      "application/vnd.jupyter.widget-view+json": {
       "model_id": "ac3609d15f6645c099055350c7dc6b96",
       "version_major": 2,
       "version_minor": 0
      },
      "text/plain": [
       "Validation: 0it [00:00, ?it/s]"
      ]
     },
     "metadata": {},
     "output_type": "display_data"
    },
    {
     "data": {
      "application/vnd.jupyter.widget-view+json": {
       "model_id": "ba18abc7e2594b1b97ac292548c9b6a0",
       "version_major": 2,
       "version_minor": 0
      },
      "text/plain": [
       "Validation: 0it [00:00, ?it/s]"
      ]
     },
     "metadata": {},
     "output_type": "display_data"
    },
    {
     "data": {
      "application/vnd.jupyter.widget-view+json": {
       "model_id": "1588b3f13799414182f90fd8aec1c4a3",
       "version_major": 2,
       "version_minor": 0
      },
      "text/plain": [
       "Validation: 0it [00:00, ?it/s]"
      ]
     },
     "metadata": {},
     "output_type": "display_data"
    },
    {
     "data": {
      "application/vnd.jupyter.widget-view+json": {
       "model_id": "26c8ec4c7bc247cab92c32d4421ab597",
       "version_major": 2,
       "version_minor": 0
      },
      "text/plain": [
       "Validation: 0it [00:00, ?it/s]"
      ]
     },
     "metadata": {},
     "output_type": "display_data"
    },
    {
     "data": {
      "application/vnd.jupyter.widget-view+json": {
       "model_id": "960025b804354792866d4380886d3704",
       "version_major": 2,
       "version_minor": 0
      },
      "text/plain": [
       "Validation: 0it [00:00, ?it/s]"
      ]
     },
     "metadata": {},
     "output_type": "display_data"
    },
    {
     "data": {
      "application/vnd.jupyter.widget-view+json": {
       "model_id": "ed79453c799942d5b2c05eeb4854a2ba",
       "version_major": 2,
       "version_minor": 0
      },
      "text/plain": [
       "Validation: 0it [00:00, ?it/s]"
      ]
     },
     "metadata": {},
     "output_type": "display_data"
    },
    {
     "data": {
      "application/vnd.jupyter.widget-view+json": {
       "model_id": "530311946f4846d68e10e69f07adcee4",
       "version_major": 2,
       "version_minor": 0
      },
      "text/plain": [
       "Validation: 0it [00:00, ?it/s]"
      ]
     },
     "metadata": {},
     "output_type": "display_data"
    },
    {
     "data": {
      "application/vnd.jupyter.widget-view+json": {
       "model_id": "ed928cdca0a34ee2ae8e27071b7a2d74",
       "version_major": 2,
       "version_minor": 0
      },
      "text/plain": [
       "Validation: 0it [00:00, ?it/s]"
      ]
     },
     "metadata": {},
     "output_type": "display_data"
    },
    {
     "data": {
      "application/vnd.jupyter.widget-view+json": {
       "model_id": "6c15383e345146bba904159ced6577f9",
       "version_major": 2,
       "version_minor": 0
      },
      "text/plain": [
       "Validation: 0it [00:00, ?it/s]"
      ]
     },
     "metadata": {},
     "output_type": "display_data"
    },
    {
     "data": {
      "application/vnd.jupyter.widget-view+json": {
       "model_id": "b33466ad829840bdb1ade3a59bf0270d",
       "version_major": 2,
       "version_minor": 0
      },
      "text/plain": [
       "Validation: 0it [00:00, ?it/s]"
      ]
     },
     "metadata": {},
     "output_type": "display_data"
    },
    {
     "data": {
      "application/vnd.jupyter.widget-view+json": {
       "model_id": "f2136bd554714c5389ab19f690eefa3b",
       "version_major": 2,
       "version_minor": 0
      },
      "text/plain": [
       "Validation: 0it [00:00, ?it/s]"
      ]
     },
     "metadata": {},
     "output_type": "display_data"
    },
    {
     "data": {
      "application/vnd.jupyter.widget-view+json": {
       "model_id": "fa084d8a5ac2430582df19a319cb7dae",
       "version_major": 2,
       "version_minor": 0
      },
      "text/plain": [
       "Validation: 0it [00:00, ?it/s]"
      ]
     },
     "metadata": {},
     "output_type": "display_data"
    },
    {
     "data": {
      "application/vnd.jupyter.widget-view+json": {
       "model_id": "c97d171e76dc40c497027409d8c56f40",
       "version_major": 2,
       "version_minor": 0
      },
      "text/plain": [
       "Validation: 0it [00:00, ?it/s]"
      ]
     },
     "metadata": {},
     "output_type": "display_data"
    },
    {
     "data": {
      "application/vnd.jupyter.widget-view+json": {
       "model_id": "9fd997e853ec466b9ee863afed8ec0f8",
       "version_major": 2,
       "version_minor": 0
      },
      "text/plain": [
       "Validation: 0it [00:00, ?it/s]"
      ]
     },
     "metadata": {},
     "output_type": "display_data"
    },
    {
     "data": {
      "application/vnd.jupyter.widget-view+json": {
       "model_id": "c7709cb01c6040769ddcde46039e3a3d",
       "version_major": 2,
       "version_minor": 0
      },
      "text/plain": [
       "Validation: 0it [00:00, ?it/s]"
      ]
     },
     "metadata": {},
     "output_type": "display_data"
    },
    {
     "data": {
      "application/vnd.jupyter.widget-view+json": {
       "model_id": "fd3eb6596dd34b579f3d7eeb2095e4b4",
       "version_major": 2,
       "version_minor": 0
      },
      "text/plain": [
       "Validation: 0it [00:00, ?it/s]"
      ]
     },
     "metadata": {},
     "output_type": "display_data"
    },
    {
     "data": {
      "application/vnd.jupyter.widget-view+json": {
       "model_id": "4f87fc8f1bf64c5c87891778f7b80faa",
       "version_major": 2,
       "version_minor": 0
      },
      "text/plain": [
       "Validation: 0it [00:00, ?it/s]"
      ]
     },
     "metadata": {},
     "output_type": "display_data"
    },
    {
     "data": {
      "application/vnd.jupyter.widget-view+json": {
       "model_id": "b1c7869c29854b738a3915794cbfc926",
       "version_major": 2,
       "version_minor": 0
      },
      "text/plain": [
       "Validation: 0it [00:00, ?it/s]"
      ]
     },
     "metadata": {},
     "output_type": "display_data"
    },
    {
     "data": {
      "application/vnd.jupyter.widget-view+json": {
       "model_id": "f8c06ebda91c44d9935144f159495450",
       "version_major": 2,
       "version_minor": 0
      },
      "text/plain": [
       "Validation: 0it [00:00, ?it/s]"
      ]
     },
     "metadata": {},
     "output_type": "display_data"
    },
    {
     "data": {
      "application/vnd.jupyter.widget-view+json": {
       "model_id": "27b8117ff8a74202bd5b1dc0e2c6e4fc",
       "version_major": 2,
       "version_minor": 0
      },
      "text/plain": [
       "Validation: 0it [00:00, ?it/s]"
      ]
     },
     "metadata": {},
     "output_type": "display_data"
    },
    {
     "data": {
      "application/vnd.jupyter.widget-view+json": {
       "model_id": "38e5e023210e47c980ec1fc25e506d4b",
       "version_major": 2,
       "version_minor": 0
      },
      "text/plain": [
       "Validation: 0it [00:00, ?it/s]"
      ]
     },
     "metadata": {},
     "output_type": "display_data"
    },
    {
     "data": {
      "application/vnd.jupyter.widget-view+json": {
       "model_id": "79b943415d3746c58d0e279eef50898f",
       "version_major": 2,
       "version_minor": 0
      },
      "text/plain": [
       "Validation: 0it [00:00, ?it/s]"
      ]
     },
     "metadata": {},
     "output_type": "display_data"
    },
    {
     "data": {
      "application/vnd.jupyter.widget-view+json": {
       "model_id": "873f6ca7b703404c82e59381c80ede77",
       "version_major": 2,
       "version_minor": 0
      },
      "text/plain": [
       "Validation: 0it [00:00, ?it/s]"
      ]
     },
     "metadata": {},
     "output_type": "display_data"
    },
    {
     "data": {
      "application/vnd.jupyter.widget-view+json": {
       "model_id": "270a2d5da8bb4146bbe22ad3f47300b2",
       "version_major": 2,
       "version_minor": 0
      },
      "text/plain": [
       "Validation: 0it [00:00, ?it/s]"
      ]
     },
     "metadata": {},
     "output_type": "display_data"
    },
    {
     "data": {
      "application/vnd.jupyter.widget-view+json": {
       "model_id": "bbbd816c23144c6c88bfa31b7568f135",
       "version_major": 2,
       "version_minor": 0
      },
      "text/plain": [
       "Validation: 0it [00:00, ?it/s]"
      ]
     },
     "metadata": {},
     "output_type": "display_data"
    },
    {
     "data": {
      "application/vnd.jupyter.widget-view+json": {
       "model_id": "85587069bb0b43619876ce8a05161967",
       "version_major": 2,
       "version_minor": 0
      },
      "text/plain": [
       "Validation: 0it [00:00, ?it/s]"
      ]
     },
     "metadata": {},
     "output_type": "display_data"
    },
    {
     "data": {
      "application/vnd.jupyter.widget-view+json": {
       "model_id": "76d1265eec8e451d9cbc3f0654aec14f",
       "version_major": 2,
       "version_minor": 0
      },
      "text/plain": [
       "Validation: 0it [00:00, ?it/s]"
      ]
     },
     "metadata": {},
     "output_type": "display_data"
    },
    {
     "data": {
      "application/vnd.jupyter.widget-view+json": {
       "model_id": "3421c58c502b4e60a11588d985de3bdd",
       "version_major": 2,
       "version_minor": 0
      },
      "text/plain": [
       "Validation: 0it [00:00, ?it/s]"
      ]
     },
     "metadata": {},
     "output_type": "display_data"
    },
    {
     "data": {
      "application/vnd.jupyter.widget-view+json": {
       "model_id": "99407cd517d542c18acd7c69612ea8e5",
       "version_major": 2,
       "version_minor": 0
      },
      "text/plain": [
       "Validation: 0it [00:00, ?it/s]"
      ]
     },
     "metadata": {},
     "output_type": "display_data"
    },
    {
     "data": {
      "application/vnd.jupyter.widget-view+json": {
       "model_id": "ad5ada45f2924b2b8b189949097ff7c3",
       "version_major": 2,
       "version_minor": 0
      },
      "text/plain": [
       "Validation: 0it [00:00, ?it/s]"
      ]
     },
     "metadata": {},
     "output_type": "display_data"
    },
    {
     "data": {
      "application/vnd.jupyter.widget-view+json": {
       "model_id": "396aa70d124844089545117a445b4854",
       "version_major": 2,
       "version_minor": 0
      },
      "text/plain": [
       "Validation: 0it [00:00, ?it/s]"
      ]
     },
     "metadata": {},
     "output_type": "display_data"
    },
    {
     "data": {
      "application/vnd.jupyter.widget-view+json": {
       "model_id": "fca3f917d3994c7da8c90ddb493188f6",
       "version_major": 2,
       "version_minor": 0
      },
      "text/plain": [
       "Validation: 0it [00:00, ?it/s]"
      ]
     },
     "metadata": {},
     "output_type": "display_data"
    },
    {
     "data": {
      "application/vnd.jupyter.widget-view+json": {
       "model_id": "837493d790714358adcd6d4997f612d2",
       "version_major": 2,
       "version_minor": 0
      },
      "text/plain": [
       "Validation: 0it [00:00, ?it/s]"
      ]
     },
     "metadata": {},
     "output_type": "display_data"
    },
    {
     "data": {
      "application/vnd.jupyter.widget-view+json": {
       "model_id": "c5fe77fed2d746d4bf6531b79f1e7ce1",
       "version_major": 2,
       "version_minor": 0
      },
      "text/plain": [
       "Validation: 0it [00:00, ?it/s]"
      ]
     },
     "metadata": {},
     "output_type": "display_data"
    },
    {
     "data": {
      "application/vnd.jupyter.widget-view+json": {
       "model_id": "de6dffef93324d68bceda2159a701c18",
       "version_major": 2,
       "version_minor": 0
      },
      "text/plain": [
       "Validation: 0it [00:00, ?it/s]"
      ]
     },
     "metadata": {},
     "output_type": "display_data"
    },
    {
     "data": {
      "application/vnd.jupyter.widget-view+json": {
       "model_id": "f40c73864f674d73be80cc3db1c356d9",
       "version_major": 2,
       "version_minor": 0
      },
      "text/plain": [
       "Validation: 0it [00:00, ?it/s]"
      ]
     },
     "metadata": {},
     "output_type": "display_data"
    },
    {
     "data": {
      "application/vnd.jupyter.widget-view+json": {
       "model_id": "df6d5e9cef8e4b7ea27dd97ff786a4f7",
       "version_major": 2,
       "version_minor": 0
      },
      "text/plain": [
       "Validation: 0it [00:00, ?it/s]"
      ]
     },
     "metadata": {},
     "output_type": "display_data"
    },
    {
     "data": {
      "application/vnd.jupyter.widget-view+json": {
       "model_id": "bac54f10364d40f0abefb8ec5303036e",
       "version_major": 2,
       "version_minor": 0
      },
      "text/plain": [
       "Validation: 0it [00:00, ?it/s]"
      ]
     },
     "metadata": {},
     "output_type": "display_data"
    },
    {
     "data": {
      "application/vnd.jupyter.widget-view+json": {
       "model_id": "4dec0beca179415882950c354c6fb628",
       "version_major": 2,
       "version_minor": 0
      },
      "text/plain": [
       "Validation: 0it [00:00, ?it/s]"
      ]
     },
     "metadata": {},
     "output_type": "display_data"
    },
    {
     "data": {
      "application/vnd.jupyter.widget-view+json": {
       "model_id": "bd4937d58c6745549dd82ae4134fc0c7",
       "version_major": 2,
       "version_minor": 0
      },
      "text/plain": [
       "Validation: 0it [00:00, ?it/s]"
      ]
     },
     "metadata": {},
     "output_type": "display_data"
    },
    {
     "data": {
      "application/vnd.jupyter.widget-view+json": {
       "model_id": "88b617d5fe5e46fb864ab243bb0a2db1",
       "version_major": 2,
       "version_minor": 0
      },
      "text/plain": [
       "Validation: 0it [00:00, ?it/s]"
      ]
     },
     "metadata": {},
     "output_type": "display_data"
    },
    {
     "data": {
      "application/vnd.jupyter.widget-view+json": {
       "model_id": "49cd432bc6d04a168ab912c7d324bf3b",
       "version_major": 2,
       "version_minor": 0
      },
      "text/plain": [
       "Validation: 0it [00:00, ?it/s]"
      ]
     },
     "metadata": {},
     "output_type": "display_data"
    },
    {
     "data": {
      "application/vnd.jupyter.widget-view+json": {
       "model_id": "6333d0c27df04e1dbe5ab72cb3cdabe7",
       "version_major": 2,
       "version_minor": 0
      },
      "text/plain": [
       "Validation: 0it [00:00, ?it/s]"
      ]
     },
     "metadata": {},
     "output_type": "display_data"
    },
    {
     "data": {
      "application/vnd.jupyter.widget-view+json": {
       "model_id": "e0daa50fac344b43940f27ec24f2ed0d",
       "version_major": 2,
       "version_minor": 0
      },
      "text/plain": [
       "Validation: 0it [00:00, ?it/s]"
      ]
     },
     "metadata": {},
     "output_type": "display_data"
    },
    {
     "data": {
      "application/vnd.jupyter.widget-view+json": {
       "model_id": "be949460544c4fd48e4ead12f3c1dee4",
       "version_major": 2,
       "version_minor": 0
      },
      "text/plain": [
       "Validation: 0it [00:00, ?it/s]"
      ]
     },
     "metadata": {},
     "output_type": "display_data"
    },
    {
     "data": {
      "application/vnd.jupyter.widget-view+json": {
       "model_id": "4ffbdc6f3363474d82c9ae7743f97f96",
       "version_major": 2,
       "version_minor": 0
      },
      "text/plain": [
       "Validation: 0it [00:00, ?it/s]"
      ]
     },
     "metadata": {},
     "output_type": "display_data"
    },
    {
     "data": {
      "application/vnd.jupyter.widget-view+json": {
       "model_id": "5b84aa6b29f246d99a51fc86d8feae2e",
       "version_major": 2,
       "version_minor": 0
      },
      "text/plain": [
       "Validation: 0it [00:00, ?it/s]"
      ]
     },
     "metadata": {},
     "output_type": "display_data"
    },
    {
     "data": {
      "application/vnd.jupyter.widget-view+json": {
       "model_id": "5d69140599114326a81f1b163bc6883b",
       "version_major": 2,
       "version_minor": 0
      },
      "text/plain": [
       "Validation: 0it [00:00, ?it/s]"
      ]
     },
     "metadata": {},
     "output_type": "display_data"
    },
    {
     "data": {
      "application/vnd.jupyter.widget-view+json": {
       "model_id": "c44d5b1e589c4d23ab8c98e9e5319a42",
       "version_major": 2,
       "version_minor": 0
      },
      "text/plain": [
       "Validation: 0it [00:00, ?it/s]"
      ]
     },
     "metadata": {},
     "output_type": "display_data"
    },
    {
     "data": {
      "application/vnd.jupyter.widget-view+json": {
       "model_id": "9ca1235205bd4ede99e47fbed1732729",
       "version_major": 2,
       "version_minor": 0
      },
      "text/plain": [
       "Validation: 0it [00:00, ?it/s]"
      ]
     },
     "metadata": {},
     "output_type": "display_data"
    },
    {
     "data": {
      "application/vnd.jupyter.widget-view+json": {
       "model_id": "c943306521bf4239b8e45bd48e9e328c",
       "version_major": 2,
       "version_minor": 0
      },
      "text/plain": [
       "Validation: 0it [00:00, ?it/s]"
      ]
     },
     "metadata": {},
     "output_type": "display_data"
    },
    {
     "data": {
      "application/vnd.jupyter.widget-view+json": {
       "model_id": "af508d3e6b7c4848b997172b3f319d6e",
       "version_major": 2,
       "version_minor": 0
      },
      "text/plain": [
       "Validation: 0it [00:00, ?it/s]"
      ]
     },
     "metadata": {},
     "output_type": "display_data"
    },
    {
     "data": {
      "application/vnd.jupyter.widget-view+json": {
       "model_id": "082bbe1949144487b6becc4463098f1f",
       "version_major": 2,
       "version_minor": 0
      },
      "text/plain": [
       "Validation: 0it [00:00, ?it/s]"
      ]
     },
     "metadata": {},
     "output_type": "display_data"
    },
    {
     "data": {
      "application/vnd.jupyter.widget-view+json": {
       "model_id": "7338ecbf17d2440787726aba9c38c721",
       "version_major": 2,
       "version_minor": 0
      },
      "text/plain": [
       "Validation: 0it [00:00, ?it/s]"
      ]
     },
     "metadata": {},
     "output_type": "display_data"
    },
    {
     "data": {
      "application/vnd.jupyter.widget-view+json": {
       "model_id": "1aed2262a33a496d978ebbb232b4d0b2",
       "version_major": 2,
       "version_minor": 0
      },
      "text/plain": [
       "Validation: 0it [00:00, ?it/s]"
      ]
     },
     "metadata": {},
     "output_type": "display_data"
    },
    {
     "data": {
      "application/vnd.jupyter.widget-view+json": {
       "model_id": "b98835b9d41d4512850fe6e2cb495794",
       "version_major": 2,
       "version_minor": 0
      },
      "text/plain": [
       "Validation: 0it [00:00, ?it/s]"
      ]
     },
     "metadata": {},
     "output_type": "display_data"
    },
    {
     "data": {
      "application/vnd.jupyter.widget-view+json": {
       "model_id": "55e6cf6f8b0e47478caa6d7f3d9691f9",
       "version_major": 2,
       "version_minor": 0
      },
      "text/plain": [
       "Validation: 0it [00:00, ?it/s]"
      ]
     },
     "metadata": {},
     "output_type": "display_data"
    },
    {
     "data": {
      "application/vnd.jupyter.widget-view+json": {
       "model_id": "581a3390fd31423eb3ce231d649dc05c",
       "version_major": 2,
       "version_minor": 0
      },
      "text/plain": [
       "Validation: 0it [00:00, ?it/s]"
      ]
     },
     "metadata": {},
     "output_type": "display_data"
    },
    {
     "data": {
      "application/vnd.jupyter.widget-view+json": {
       "model_id": "eef9a1782cfb4065b9abe12f1fd7807c",
       "version_major": 2,
       "version_minor": 0
      },
      "text/plain": [
       "Validation: 0it [00:00, ?it/s]"
      ]
     },
     "metadata": {},
     "output_type": "display_data"
    },
    {
     "data": {
      "application/vnd.jupyter.widget-view+json": {
       "model_id": "dad91393b2934c29b693c4b307d00491",
       "version_major": 2,
       "version_minor": 0
      },
      "text/plain": [
       "Validation: 0it [00:00, ?it/s]"
      ]
     },
     "metadata": {},
     "output_type": "display_data"
    },
    {
     "data": {
      "application/vnd.jupyter.widget-view+json": {
       "model_id": "4b7233f31833462fb898d0abcf2a8565",
       "version_major": 2,
       "version_minor": 0
      },
      "text/plain": [
       "Validation: 0it [00:00, ?it/s]"
      ]
     },
     "metadata": {},
     "output_type": "display_data"
    },
    {
     "data": {
      "application/vnd.jupyter.widget-view+json": {
       "model_id": "2b8b0056190d43a89229959773eec3d2",
       "version_major": 2,
       "version_minor": 0
      },
      "text/plain": [
       "Validation: 0it [00:00, ?it/s]"
      ]
     },
     "metadata": {},
     "output_type": "display_data"
    },
    {
     "data": {
      "application/vnd.jupyter.widget-view+json": {
       "model_id": "facd32d6666e4da0827c225ff35c2aa9",
       "version_major": 2,
       "version_minor": 0
      },
      "text/plain": [
       "Validation: 0it [00:00, ?it/s]"
      ]
     },
     "metadata": {},
     "output_type": "display_data"
    },
    {
     "data": {
      "application/vnd.jupyter.widget-view+json": {
       "model_id": "3770ed2113cd4775aa34720d6bd70f5a",
       "version_major": 2,
       "version_minor": 0
      },
      "text/plain": [
       "Validation: 0it [00:00, ?it/s]"
      ]
     },
     "metadata": {},
     "output_type": "display_data"
    },
    {
     "data": {
      "application/vnd.jupyter.widget-view+json": {
       "model_id": "57b4b7393016407b927fb34db690bf40",
       "version_major": 2,
       "version_minor": 0
      },
      "text/plain": [
       "Validation: 0it [00:00, ?it/s]"
      ]
     },
     "metadata": {},
     "output_type": "display_data"
    },
    {
     "data": {
      "application/vnd.jupyter.widget-view+json": {
       "model_id": "cd3dd337fc38410c965fe894c917b9fb",
       "version_major": 2,
       "version_minor": 0
      },
      "text/plain": [
       "Validation: 0it [00:00, ?it/s]"
      ]
     },
     "metadata": {},
     "output_type": "display_data"
    },
    {
     "data": {
      "application/vnd.jupyter.widget-view+json": {
       "model_id": "7d1fe302ed294e2fa9b7f8d302727cdb",
       "version_major": 2,
       "version_minor": 0
      },
      "text/plain": [
       "Validation: 0it [00:00, ?it/s]"
      ]
     },
     "metadata": {},
     "output_type": "display_data"
    },
    {
     "data": {
      "application/vnd.jupyter.widget-view+json": {
       "model_id": "0ec81e2bd1884472a84f4ea465d83d8c",
       "version_major": 2,
       "version_minor": 0
      },
      "text/plain": [
       "Validation: 0it [00:00, ?it/s]"
      ]
     },
     "metadata": {},
     "output_type": "display_data"
    },
    {
     "data": {
      "application/vnd.jupyter.widget-view+json": {
       "model_id": "e6bee9c78e834335868dfea6dcc115ae",
       "version_major": 2,
       "version_minor": 0
      },
      "text/plain": [
       "Validation: 0it [00:00, ?it/s]"
      ]
     },
     "metadata": {},
     "output_type": "display_data"
    },
    {
     "data": {
      "application/vnd.jupyter.widget-view+json": {
       "model_id": "dd74720514fd4593a7b1852a26e41fa7",
       "version_major": 2,
       "version_minor": 0
      },
      "text/plain": [
       "Validation: 0it [00:00, ?it/s]"
      ]
     },
     "metadata": {},
     "output_type": "display_data"
    },
    {
     "data": {
      "application/vnd.jupyter.widget-view+json": {
       "model_id": "9d709cb8ab0f4960b957dcd21642d0e3",
       "version_major": 2,
       "version_minor": 0
      },
      "text/plain": [
       "Validation: 0it [00:00, ?it/s]"
      ]
     },
     "metadata": {},
     "output_type": "display_data"
    },
    {
     "data": {
      "application/vnd.jupyter.widget-view+json": {
       "model_id": "7964749fa67b400ea5e982099019ff39",
       "version_major": 2,
       "version_minor": 0
      },
      "text/plain": [
       "Validation: 0it [00:00, ?it/s]"
      ]
     },
     "metadata": {},
     "output_type": "display_data"
    },
    {
     "data": {
      "application/vnd.jupyter.widget-view+json": {
       "model_id": "fa96fe8d848044c3ae3d43198c0a65fa",
       "version_major": 2,
       "version_minor": 0
      },
      "text/plain": [
       "Validation: 0it [00:00, ?it/s]"
      ]
     },
     "metadata": {},
     "output_type": "display_data"
    },
    {
     "data": {
      "application/vnd.jupyter.widget-view+json": {
       "model_id": "ca408d82793c4cb9a8497ee90d0e9270",
       "version_major": 2,
       "version_minor": 0
      },
      "text/plain": [
       "Validation: 0it [00:00, ?it/s]"
      ]
     },
     "metadata": {},
     "output_type": "display_data"
    },
    {
     "data": {
      "application/vnd.jupyter.widget-view+json": {
       "model_id": "10abbbaa1375458cac985e8f8ee037e3",
       "version_major": 2,
       "version_minor": 0
      },
      "text/plain": [
       "Validation: 0it [00:00, ?it/s]"
      ]
     },
     "metadata": {},
     "output_type": "display_data"
    },
    {
     "data": {
      "application/vnd.jupyter.widget-view+json": {
       "model_id": "e4147c5dcec149feb2d966ba7e154199",
       "version_major": 2,
       "version_minor": 0
      },
      "text/plain": [
       "Validation: 0it [00:00, ?it/s]"
      ]
     },
     "metadata": {},
     "output_type": "display_data"
    },
    {
     "data": {
      "application/vnd.jupyter.widget-view+json": {
       "model_id": "43289336b2be4195a1b614a8b93f51f1",
       "version_major": 2,
       "version_minor": 0
      },
      "text/plain": [
       "Validation: 0it [00:00, ?it/s]"
      ]
     },
     "metadata": {},
     "output_type": "display_data"
    },
    {
     "data": {
      "application/vnd.jupyter.widget-view+json": {
       "model_id": "d716076d9e0d4229906122be0f0f8a37",
       "version_major": 2,
       "version_minor": 0
      },
      "text/plain": [
       "Validation: 0it [00:00, ?it/s]"
      ]
     },
     "metadata": {},
     "output_type": "display_data"
    },
    {
     "data": {
      "application/vnd.jupyter.widget-view+json": {
       "model_id": "5eaf0be2651b43bfa95d5b0f4402bb3d",
       "version_major": 2,
       "version_minor": 0
      },
      "text/plain": [
       "Validation: 0it [00:00, ?it/s]"
      ]
     },
     "metadata": {},
     "output_type": "display_data"
    },
    {
     "data": {
      "application/vnd.jupyter.widget-view+json": {
       "model_id": "cc7e9a36c23342d89f1f563885e88cc3",
       "version_major": 2,
       "version_minor": 0
      },
      "text/plain": [
       "Validation: 0it [00:00, ?it/s]"
      ]
     },
     "metadata": {},
     "output_type": "display_data"
    },
    {
     "data": {
      "application/vnd.jupyter.widget-view+json": {
       "model_id": "8c2dde27dbd3454d83fde41a39dc3ba8",
       "version_major": 2,
       "version_minor": 0
      },
      "text/plain": [
       "Validation: 0it [00:00, ?it/s]"
      ]
     },
     "metadata": {},
     "output_type": "display_data"
    },
    {
     "data": {
      "application/vnd.jupyter.widget-view+json": {
       "model_id": "cc0698fecd8244e9a89c8fe7b599f133",
       "version_major": 2,
       "version_minor": 0
      },
      "text/plain": [
       "Validation: 0it [00:00, ?it/s]"
      ]
     },
     "metadata": {},
     "output_type": "display_data"
    },
    {
     "data": {
      "application/vnd.jupyter.widget-view+json": {
       "model_id": "243a677be09f4b01ad378e2e6c7092de",
       "version_major": 2,
       "version_minor": 0
      },
      "text/plain": [
       "Validation: 0it [00:00, ?it/s]"
      ]
     },
     "metadata": {},
     "output_type": "display_data"
    },
    {
     "data": {
      "application/vnd.jupyter.widget-view+json": {
       "model_id": "f671e4c6b5b341e1a68edeffd9b5fef8",
       "version_major": 2,
       "version_minor": 0
      },
      "text/plain": [
       "Validation: 0it [00:00, ?it/s]"
      ]
     },
     "metadata": {},
     "output_type": "display_data"
    },
    {
     "data": {
      "application/vnd.jupyter.widget-view+json": {
       "model_id": "0bd8f03bdd6442269789b2dce13139e7",
       "version_major": 2,
       "version_minor": 0
      },
      "text/plain": [
       "Validation: 0it [00:00, ?it/s]"
      ]
     },
     "metadata": {},
     "output_type": "display_data"
    },
    {
     "data": {
      "application/vnd.jupyter.widget-view+json": {
       "model_id": "fa77c848efb74e50ba3050bef6d0c8d5",
       "version_major": 2,
       "version_minor": 0
      },
      "text/plain": [
       "Validation: 0it [00:00, ?it/s]"
      ]
     },
     "metadata": {},
     "output_type": "display_data"
    },
    {
     "data": {
      "application/vnd.jupyter.widget-view+json": {
       "model_id": "80761ca6952348ba87bfaf3286f7ba6a",
       "version_major": 2,
       "version_minor": 0
      },
      "text/plain": [
       "Validation: 0it [00:00, ?it/s]"
      ]
     },
     "metadata": {},
     "output_type": "display_data"
    },
    {
     "data": {
      "application/vnd.jupyter.widget-view+json": {
       "model_id": "fa5a8615015f4285b9d4089bbd80db3a",
       "version_major": 2,
       "version_minor": 0
      },
      "text/plain": [
       "Validation: 0it [00:00, ?it/s]"
      ]
     },
     "metadata": {},
     "output_type": "display_data"
    },
    {
     "data": {
      "application/vnd.jupyter.widget-view+json": {
       "model_id": "cc85f56c4c2d4bc2aa06284c956270b9",
       "version_major": 2,
       "version_minor": 0
      },
      "text/plain": [
       "Validation: 0it [00:00, ?it/s]"
      ]
     },
     "metadata": {},
     "output_type": "display_data"
    },
    {
     "data": {
      "application/vnd.jupyter.widget-view+json": {
       "model_id": "a2d730606cd34bf3b4042b8d1ead51d1",
       "version_major": 2,
       "version_minor": 0
      },
      "text/plain": [
       "Validation: 0it [00:00, ?it/s]"
      ]
     },
     "metadata": {},
     "output_type": "display_data"
    },
    {
     "data": {
      "application/vnd.jupyter.widget-view+json": {
       "model_id": "70eaf64747354335b1a86e6753dcf94a",
       "version_major": 2,
       "version_minor": 0
      },
      "text/plain": [
       "Validation: 0it [00:00, ?it/s]"
      ]
     },
     "metadata": {},
     "output_type": "display_data"
    },
    {
     "data": {
      "application/vnd.jupyter.widget-view+json": {
       "model_id": "b3b2bddd92db4e439abce25456085835",
       "version_major": 2,
       "version_minor": 0
      },
      "text/plain": [
       "Validation: 0it [00:00, ?it/s]"
      ]
     },
     "metadata": {},
     "output_type": "display_data"
    },
    {
     "data": {
      "application/vnd.jupyter.widget-view+json": {
       "model_id": "7efb37e548bb421b8da691924a49b040",
       "version_major": 2,
       "version_minor": 0
      },
      "text/plain": [
       "Validation: 0it [00:00, ?it/s]"
      ]
     },
     "metadata": {},
     "output_type": "display_data"
    },
    {
     "data": {
      "application/vnd.jupyter.widget-view+json": {
       "model_id": "eb0fe36dda4842df9e63cb32eb33e86a",
       "version_major": 2,
       "version_minor": 0
      },
      "text/plain": [
       "Validation: 0it [00:00, ?it/s]"
      ]
     },
     "metadata": {},
     "output_type": "display_data"
    },
    {
     "data": {
      "application/vnd.jupyter.widget-view+json": {
       "model_id": "62ac8d1868d04ccfb4b093ea5589a999",
       "version_major": 2,
       "version_minor": 0
      },
      "text/plain": [
       "Validation: 0it [00:00, ?it/s]"
      ]
     },
     "metadata": {},
     "output_type": "display_data"
    },
    {
     "data": {
      "application/vnd.jupyter.widget-view+json": {
       "model_id": "b5a06d04290c4770b3d17ff8f2b6d049",
       "version_major": 2,
       "version_minor": 0
      },
      "text/plain": [
       "Validation: 0it [00:00, ?it/s]"
      ]
     },
     "metadata": {},
     "output_type": "display_data"
    },
    {
     "data": {
      "application/vnd.jupyter.widget-view+json": {
       "model_id": "5df7bec46ee143e8a8594aff2937deff",
       "version_major": 2,
       "version_minor": 0
      },
      "text/plain": [
       "Validation: 0it [00:00, ?it/s]"
      ]
     },
     "metadata": {},
     "output_type": "display_data"
    },
    {
     "data": {
      "application/vnd.jupyter.widget-view+json": {
       "model_id": "8992ec733d714276a359404baa19051d",
       "version_major": 2,
       "version_minor": 0
      },
      "text/plain": [
       "Validation: 0it [00:00, ?it/s]"
      ]
     },
     "metadata": {},
     "output_type": "display_data"
    },
    {
     "data": {
      "application/vnd.jupyter.widget-view+json": {
       "model_id": "53adf6545acb454f920d99adbf46d6cb",
       "version_major": 2,
       "version_minor": 0
      },
      "text/plain": [
       "Validation: 0it [00:00, ?it/s]"
      ]
     },
     "metadata": {},
     "output_type": "display_data"
    },
    {
     "data": {
      "application/vnd.jupyter.widget-view+json": {
       "model_id": "eeb43ec5990b4ad59d3850fc8bddd961",
       "version_major": 2,
       "version_minor": 0
      },
      "text/plain": [
       "Validation: 0it [00:00, ?it/s]"
      ]
     },
     "metadata": {},
     "output_type": "display_data"
    },
    {
     "data": {
      "application/vnd.jupyter.widget-view+json": {
       "model_id": "fe2eb55117974da0b6790207e6af24ba",
       "version_major": 2,
       "version_minor": 0
      },
      "text/plain": [
       "Validation: 0it [00:00, ?it/s]"
      ]
     },
     "metadata": {},
     "output_type": "display_data"
    },
    {
     "data": {
      "application/vnd.jupyter.widget-view+json": {
       "model_id": "cfb8714ebd8644b48e29c40cacd8fee9",
       "version_major": 2,
       "version_minor": 0
      },
      "text/plain": [
       "Validation: 0it [00:00, ?it/s]"
      ]
     },
     "metadata": {},
     "output_type": "display_data"
    },
    {
     "data": {
      "application/vnd.jupyter.widget-view+json": {
       "model_id": "e3eee8fc749946a59d1ec6278fbf949c",
       "version_major": 2,
       "version_minor": 0
      },
      "text/plain": [
       "Validation: 0it [00:00, ?it/s]"
      ]
     },
     "metadata": {},
     "output_type": "display_data"
    },
    {
     "data": {
      "application/vnd.jupyter.widget-view+json": {
       "model_id": "b2c0817593f0462baddd5ddcc15ba8e2",
       "version_major": 2,
       "version_minor": 0
      },
      "text/plain": [
       "Validation: 0it [00:00, ?it/s]"
      ]
     },
     "metadata": {},
     "output_type": "display_data"
    },
    {
     "data": {
      "application/vnd.jupyter.widget-view+json": {
       "model_id": "9a2faeb645a041bd80bd1e8306982712",
       "version_major": 2,
       "version_minor": 0
      },
      "text/plain": [
       "Validation: 0it [00:00, ?it/s]"
      ]
     },
     "metadata": {},
     "output_type": "display_data"
    },
    {
     "data": {
      "application/vnd.jupyter.widget-view+json": {
       "model_id": "4ff277acf8eb4b11b3b4f24def6a4861",
       "version_major": 2,
       "version_minor": 0
      },
      "text/plain": [
       "Validation: 0it [00:00, ?it/s]"
      ]
     },
     "metadata": {},
     "output_type": "display_data"
    },
    {
     "data": {
      "application/vnd.jupyter.widget-view+json": {
       "model_id": "71a136da172f4134adc6769185f6b3fb",
       "version_major": 2,
       "version_minor": 0
      },
      "text/plain": [
       "Validation: 0it [00:00, ?it/s]"
      ]
     },
     "metadata": {},
     "output_type": "display_data"
    },
    {
     "data": {
      "application/vnd.jupyter.widget-view+json": {
       "model_id": "a89ac5693baa4e889eba4b287b62b66e",
       "version_major": 2,
       "version_minor": 0
      },
      "text/plain": [
       "Validation: 0it [00:00, ?it/s]"
      ]
     },
     "metadata": {},
     "output_type": "display_data"
    },
    {
     "data": {
      "application/vnd.jupyter.widget-view+json": {
       "model_id": "841dee0b649f4dde868a8a2cabe8423d",
       "version_major": 2,
       "version_minor": 0
      },
      "text/plain": [
       "Validation: 0it [00:00, ?it/s]"
      ]
     },
     "metadata": {},
     "output_type": "display_data"
    },
    {
     "data": {
      "application/vnd.jupyter.widget-view+json": {
       "model_id": "12771ad1d74843f79e64d0e9a2093ca1",
       "version_major": 2,
       "version_minor": 0
      },
      "text/plain": [
       "Validation: 0it [00:00, ?it/s]"
      ]
     },
     "metadata": {},
     "output_type": "display_data"
    },
    {
     "data": {
      "application/vnd.jupyter.widget-view+json": {
       "model_id": "5e300b017e214609987fd69a95948930",
       "version_major": 2,
       "version_minor": 0
      },
      "text/plain": [
       "Validation: 0it [00:00, ?it/s]"
      ]
     },
     "metadata": {},
     "output_type": "display_data"
    },
    {
     "data": {
      "application/vnd.jupyter.widget-view+json": {
       "model_id": "a3f7991901dd493c97ff6176be263515",
       "version_major": 2,
       "version_minor": 0
      },
      "text/plain": [
       "Validation: 0it [00:00, ?it/s]"
      ]
     },
     "metadata": {},
     "output_type": "display_data"
    },
    {
     "data": {
      "application/vnd.jupyter.widget-view+json": {
       "model_id": "e927194359a44e509093d37b00c63948",
       "version_major": 2,
       "version_minor": 0
      },
      "text/plain": [
       "Validation: 0it [00:00, ?it/s]"
      ]
     },
     "metadata": {},
     "output_type": "display_data"
    },
    {
     "data": {
      "application/vnd.jupyter.widget-view+json": {
       "model_id": "433f72017bb44cc1b787c74cad7ad8f7",
       "version_major": 2,
       "version_minor": 0
      },
      "text/plain": [
       "Validation: 0it [00:00, ?it/s]"
      ]
     },
     "metadata": {},
     "output_type": "display_data"
    },
    {
     "data": {
      "application/vnd.jupyter.widget-view+json": {
       "model_id": "146ad614e0ca42c7ab1c551e53246a10",
       "version_major": 2,
       "version_minor": 0
      },
      "text/plain": [
       "Validation: 0it [00:00, ?it/s]"
      ]
     },
     "metadata": {},
     "output_type": "display_data"
    },
    {
     "data": {
      "application/vnd.jupyter.widget-view+json": {
       "model_id": "5dac07f8cade4a289418ab628cb66fcd",
       "version_major": 2,
       "version_minor": 0
      },
      "text/plain": [
       "Validation: 0it [00:00, ?it/s]"
      ]
     },
     "metadata": {},
     "output_type": "display_data"
    },
    {
     "data": {
      "application/vnd.jupyter.widget-view+json": {
       "model_id": "f34fa2ad3c204a409b510b693ded8d02",
       "version_major": 2,
       "version_minor": 0
      },
      "text/plain": [
       "Validation: 0it [00:00, ?it/s]"
      ]
     },
     "metadata": {},
     "output_type": "display_data"
    },
    {
     "data": {
      "application/vnd.jupyter.widget-view+json": {
       "model_id": "6d512a237b954d3592c949d233044f8e",
       "version_major": 2,
       "version_minor": 0
      },
      "text/plain": [
       "Validation: 0it [00:00, ?it/s]"
      ]
     },
     "metadata": {},
     "output_type": "display_data"
    },
    {
     "data": {
      "application/vnd.jupyter.widget-view+json": {
       "model_id": "865d1dbad37241268e309999755a14d2",
       "version_major": 2,
       "version_minor": 0
      },
      "text/plain": [
       "Validation: 0it [00:00, ?it/s]"
      ]
     },
     "metadata": {},
     "output_type": "display_data"
    },
    {
     "data": {
      "application/vnd.jupyter.widget-view+json": {
       "model_id": "af0af18886a8478bbb6155a2b91cd381",
       "version_major": 2,
       "version_minor": 0
      },
      "text/plain": [
       "Validation: 0it [00:00, ?it/s]"
      ]
     },
     "metadata": {},
     "output_type": "display_data"
    },
    {
     "data": {
      "application/vnd.jupyter.widget-view+json": {
       "model_id": "e95ce9073c4545c1be03f5d54dffcc06",
       "version_major": 2,
       "version_minor": 0
      },
      "text/plain": [
       "Validation: 0it [00:00, ?it/s]"
      ]
     },
     "metadata": {},
     "output_type": "display_data"
    },
    {
     "data": {
      "application/vnd.jupyter.widget-view+json": {
       "model_id": "50591ecb391340c98bd0ae0537cf9281",
       "version_major": 2,
       "version_minor": 0
      },
      "text/plain": [
       "Validation: 0it [00:00, ?it/s]"
      ]
     },
     "metadata": {},
     "output_type": "display_data"
    },
    {
     "data": {
      "application/vnd.jupyter.widget-view+json": {
       "model_id": "61a752c0f214441b9a22246a3dbb5d97",
       "version_major": 2,
       "version_minor": 0
      },
      "text/plain": [
       "Validation: 0it [00:00, ?it/s]"
      ]
     },
     "metadata": {},
     "output_type": "display_data"
    },
    {
     "data": {
      "application/vnd.jupyter.widget-view+json": {
       "model_id": "9947a27ef862498e87b568f2a72a2bb8",
       "version_major": 2,
       "version_minor": 0
      },
      "text/plain": [
       "Validation: 0it [00:00, ?it/s]"
      ]
     },
     "metadata": {},
     "output_type": "display_data"
    },
    {
     "data": {
      "application/vnd.jupyter.widget-view+json": {
       "model_id": "fb7e1fb96a5f44baa8212042d510dd5d",
       "version_major": 2,
       "version_minor": 0
      },
      "text/plain": [
       "Validation: 0it [00:00, ?it/s]"
      ]
     },
     "metadata": {},
     "output_type": "display_data"
    },
    {
     "data": {
      "application/vnd.jupyter.widget-view+json": {
       "model_id": "b737ecbd98174ee9aa675155105447c6",
       "version_major": 2,
       "version_minor": 0
      },
      "text/plain": [
       "Validation: 0it [00:00, ?it/s]"
      ]
     },
     "metadata": {},
     "output_type": "display_data"
    },
    {
     "data": {
      "application/vnd.jupyter.widget-view+json": {
       "model_id": "13c84bae0f68471682574f1ad89d6557",
       "version_major": 2,
       "version_minor": 0
      },
      "text/plain": [
       "Validation: 0it [00:00, ?it/s]"
      ]
     },
     "metadata": {},
     "output_type": "display_data"
    },
    {
     "data": {
      "application/vnd.jupyter.widget-view+json": {
       "model_id": "23e0e2eda4254b668c3a1596dd86e1ee",
       "version_major": 2,
       "version_minor": 0
      },
      "text/plain": [
       "Validation: 0it [00:00, ?it/s]"
      ]
     },
     "metadata": {},
     "output_type": "display_data"
    },
    {
     "data": {
      "application/vnd.jupyter.widget-view+json": {
       "model_id": "84ba4646ae804d2890b6d59eae92f3c6",
       "version_major": 2,
       "version_minor": 0
      },
      "text/plain": [
       "Validation: 0it [00:00, ?it/s]"
      ]
     },
     "metadata": {},
     "output_type": "display_data"
    },
    {
     "data": {
      "application/vnd.jupyter.widget-view+json": {
       "model_id": "16d35b75704b4df48a7743305823ed2d",
       "version_major": 2,
       "version_minor": 0
      },
      "text/plain": [
       "Validation: 0it [00:00, ?it/s]"
      ]
     },
     "metadata": {},
     "output_type": "display_data"
    },
    {
     "data": {
      "application/vnd.jupyter.widget-view+json": {
       "model_id": "efff629016ce4126829b3094d19d3fa4",
       "version_major": 2,
       "version_minor": 0
      },
      "text/plain": [
       "Validation: 0it [00:00, ?it/s]"
      ]
     },
     "metadata": {},
     "output_type": "display_data"
    },
    {
     "data": {
      "application/vnd.jupyter.widget-view+json": {
       "model_id": "29832d04e64545228e7de7adc36dc30d",
       "version_major": 2,
       "version_minor": 0
      },
      "text/plain": [
       "Validation: 0it [00:00, ?it/s]"
      ]
     },
     "metadata": {},
     "output_type": "display_data"
    },
    {
     "data": {
      "application/vnd.jupyter.widget-view+json": {
       "model_id": "fa69ff58615d466b90c578e2afcdf2f5",
       "version_major": 2,
       "version_minor": 0
      },
      "text/plain": [
       "Validation: 0it [00:00, ?it/s]"
      ]
     },
     "metadata": {},
     "output_type": "display_data"
    },
    {
     "data": {
      "application/vnd.jupyter.widget-view+json": {
       "model_id": "164cfa659ef745b6b81b9633e9d00547",
       "version_major": 2,
       "version_minor": 0
      },
      "text/plain": [
       "Validation: 0it [00:00, ?it/s]"
      ]
     },
     "metadata": {},
     "output_type": "display_data"
    },
    {
     "data": {
      "application/vnd.jupyter.widget-view+json": {
       "model_id": "e7b85a7b66474c6c9138750184d5793a",
       "version_major": 2,
       "version_minor": 0
      },
      "text/plain": [
       "Validation: 0it [00:00, ?it/s]"
      ]
     },
     "metadata": {},
     "output_type": "display_data"
    },
    {
     "data": {
      "application/vnd.jupyter.widget-view+json": {
       "model_id": "e8a6a0579b404ad9ac6d8139f8f379e1",
       "version_major": 2,
       "version_minor": 0
      },
      "text/plain": [
       "Validation: 0it [00:00, ?it/s]"
      ]
     },
     "metadata": {},
     "output_type": "display_data"
    },
    {
     "data": {
      "application/vnd.jupyter.widget-view+json": {
       "model_id": "21129a49000c48349e0d19f3060568f3",
       "version_major": 2,
       "version_minor": 0
      },
      "text/plain": [
       "Validation: 0it [00:00, ?it/s]"
      ]
     },
     "metadata": {},
     "output_type": "display_data"
    },
    {
     "data": {
      "application/vnd.jupyter.widget-view+json": {
       "model_id": "a31ff70d00e3487fab75a3f76a2817ac",
       "version_major": 2,
       "version_minor": 0
      },
      "text/plain": [
       "Validation: 0it [00:00, ?it/s]"
      ]
     },
     "metadata": {},
     "output_type": "display_data"
    },
    {
     "data": {
      "application/vnd.jupyter.widget-view+json": {
       "model_id": "78979494a74b40ee8f6b5090ed8fb547",
       "version_major": 2,
       "version_minor": 0
      },
      "text/plain": [
       "Validation: 0it [00:00, ?it/s]"
      ]
     },
     "metadata": {},
     "output_type": "display_data"
    },
    {
     "data": {
      "application/vnd.jupyter.widget-view+json": {
       "model_id": "def0d8ed70b34f45865e221a0aecf361",
       "version_major": 2,
       "version_minor": 0
      },
      "text/plain": [
       "Validation: 0it [00:00, ?it/s]"
      ]
     },
     "metadata": {},
     "output_type": "display_data"
    },
    {
     "data": {
      "application/vnd.jupyter.widget-view+json": {
       "model_id": "32582475d9fe40d194338f05c3bc5571",
       "version_major": 2,
       "version_minor": 0
      },
      "text/plain": [
       "Validation: 0it [00:00, ?it/s]"
      ]
     },
     "metadata": {},
     "output_type": "display_data"
    },
    {
     "data": {
      "application/vnd.jupyter.widget-view+json": {
       "model_id": "398b9cb946444ea891c49af046022611",
       "version_major": 2,
       "version_minor": 0
      },
      "text/plain": [
       "Validation: 0it [00:00, ?it/s]"
      ]
     },
     "metadata": {},
     "output_type": "display_data"
    },
    {
     "data": {
      "application/vnd.jupyter.widget-view+json": {
       "model_id": "24c7d4727a9f429491174d7afa1b7030",
       "version_major": 2,
       "version_minor": 0
      },
      "text/plain": [
       "Validation: 0it [00:00, ?it/s]"
      ]
     },
     "metadata": {},
     "output_type": "display_data"
    },
    {
     "data": {
      "application/vnd.jupyter.widget-view+json": {
       "model_id": "acc9d616481640889bb6ce0f12f6a14b",
       "version_major": 2,
       "version_minor": 0
      },
      "text/plain": [
       "Validation: 0it [00:00, ?it/s]"
      ]
     },
     "metadata": {},
     "output_type": "display_data"
    },
    {
     "data": {
      "application/vnd.jupyter.widget-view+json": {
       "model_id": "b71ff36b3184414581d8da2f84528e7d",
       "version_major": 2,
       "version_minor": 0
      },
      "text/plain": [
       "Validation: 0it [00:00, ?it/s]"
      ]
     },
     "metadata": {},
     "output_type": "display_data"
    },
    {
     "data": {
      "application/vnd.jupyter.widget-view+json": {
       "model_id": "102037ff9dc34db58e372f22ed4e64de",
       "version_major": 2,
       "version_minor": 0
      },
      "text/plain": [
       "Validation: 0it [00:00, ?it/s]"
      ]
     },
     "metadata": {},
     "output_type": "display_data"
    },
    {
     "data": {
      "application/vnd.jupyter.widget-view+json": {
       "model_id": "dcff73f7508d4700993dd3cd84ec26a5",
       "version_major": 2,
       "version_minor": 0
      },
      "text/plain": [
       "Validation: 0it [00:00, ?it/s]"
      ]
     },
     "metadata": {},
     "output_type": "display_data"
    },
    {
     "data": {
      "application/vnd.jupyter.widget-view+json": {
       "model_id": "60f49866bd344b0da499ba86a004a7cd",
       "version_major": 2,
       "version_minor": 0
      },
      "text/plain": [
       "Validation: 0it [00:00, ?it/s]"
      ]
     },
     "metadata": {},
     "output_type": "display_data"
    },
    {
     "data": {
      "application/vnd.jupyter.widget-view+json": {
       "model_id": "64eb5e0e46804626a2931115e4ccb198",
       "version_major": 2,
       "version_minor": 0
      },
      "text/plain": [
       "Validation: 0it [00:00, ?it/s]"
      ]
     },
     "metadata": {},
     "output_type": "display_data"
    },
    {
     "data": {
      "application/vnd.jupyter.widget-view+json": {
       "model_id": "cc2dd8f1064b483f849ac3f200781bb1",
       "version_major": 2,
       "version_minor": 0
      },
      "text/plain": [
       "Validation: 0it [00:00, ?it/s]"
      ]
     },
     "metadata": {},
     "output_type": "display_data"
    },
    {
     "data": {
      "application/vnd.jupyter.widget-view+json": {
       "model_id": "4a3a707d70d54b5f898882171d2fb6cc",
       "version_major": 2,
       "version_minor": 0
      },
      "text/plain": [
       "Validation: 0it [00:00, ?it/s]"
      ]
     },
     "metadata": {},
     "output_type": "display_data"
    },
    {
     "data": {
      "application/vnd.jupyter.widget-view+json": {
       "model_id": "d2ad927d8b844c66af55e6e9c463e9fd",
       "version_major": 2,
       "version_minor": 0
      },
      "text/plain": [
       "Validation: 0it [00:00, ?it/s]"
      ]
     },
     "metadata": {},
     "output_type": "display_data"
    },
    {
     "data": {
      "application/vnd.jupyter.widget-view+json": {
       "model_id": "13c7da65c88646bd8c4ed39217d77452",
       "version_major": 2,
       "version_minor": 0
      },
      "text/plain": [
       "Validation: 0it [00:00, ?it/s]"
      ]
     },
     "metadata": {},
     "output_type": "display_data"
    },
    {
     "data": {
      "application/vnd.jupyter.widget-view+json": {
       "model_id": "4ca45f888528440d994e9e56a4254b48",
       "version_major": 2,
       "version_minor": 0
      },
      "text/plain": [
       "Validation: 0it [00:00, ?it/s]"
      ]
     },
     "metadata": {},
     "output_type": "display_data"
    },
    {
     "data": {
      "application/vnd.jupyter.widget-view+json": {
       "model_id": "b37cdc8bbbae4392b9bdb2e62b07565b",
       "version_major": 2,
       "version_minor": 0
      },
      "text/plain": [
       "Validation: 0it [00:00, ?it/s]"
      ]
     },
     "metadata": {},
     "output_type": "display_data"
    },
    {
     "data": {
      "application/vnd.jupyter.widget-view+json": {
       "model_id": "ba51c3097dd8494cb2528c3fa98560cb",
       "version_major": 2,
       "version_minor": 0
      },
      "text/plain": [
       "Validation: 0it [00:00, ?it/s]"
      ]
     },
     "metadata": {},
     "output_type": "display_data"
    },
    {
     "data": {
      "application/vnd.jupyter.widget-view+json": {
       "model_id": "9f50235678054f1e88f033cdd9fd2dcb",
       "version_major": 2,
       "version_minor": 0
      },
      "text/plain": [
       "Validation: 0it [00:00, ?it/s]"
      ]
     },
     "metadata": {},
     "output_type": "display_data"
    },
    {
     "data": {
      "application/vnd.jupyter.widget-view+json": {
       "model_id": "c39fcf577cec47bd83bc157490addc87",
       "version_major": 2,
       "version_minor": 0
      },
      "text/plain": [
       "Validation: 0it [00:00, ?it/s]"
      ]
     },
     "metadata": {},
     "output_type": "display_data"
    },
    {
     "data": {
      "application/vnd.jupyter.widget-view+json": {
       "model_id": "d6d987b3006e48f8ac9f6a3fa7a082ba",
       "version_major": 2,
       "version_minor": 0
      },
      "text/plain": [
       "Validation: 0it [00:00, ?it/s]"
      ]
     },
     "metadata": {},
     "output_type": "display_data"
    },
    {
     "data": {
      "application/vnd.jupyter.widget-view+json": {
       "model_id": "356981173d8047d0b4f90ca68f75168c",
       "version_major": 2,
       "version_minor": 0
      },
      "text/plain": [
       "Validation: 0it [00:00, ?it/s]"
      ]
     },
     "metadata": {},
     "output_type": "display_data"
    },
    {
     "data": {
      "application/vnd.jupyter.widget-view+json": {
       "model_id": "2fffd97698fd4b0eaa7d41d3a10a9626",
       "version_major": 2,
       "version_minor": 0
      },
      "text/plain": [
       "Validation: 0it [00:00, ?it/s]"
      ]
     },
     "metadata": {},
     "output_type": "display_data"
    },
    {
     "data": {
      "application/vnd.jupyter.widget-view+json": {
       "model_id": "9e6867db42e642b682c69d9c909289a4",
       "version_major": 2,
       "version_minor": 0
      },
      "text/plain": [
       "Validation: 0it [00:00, ?it/s]"
      ]
     },
     "metadata": {},
     "output_type": "display_data"
    },
    {
     "data": {
      "application/vnd.jupyter.widget-view+json": {
       "model_id": "a984662c92b74867b5bccc581ca4d78e",
       "version_major": 2,
       "version_minor": 0
      },
      "text/plain": [
       "Validation: 0it [00:00, ?it/s]"
      ]
     },
     "metadata": {},
     "output_type": "display_data"
    },
    {
     "data": {
      "application/vnd.jupyter.widget-view+json": {
       "model_id": "b35be62b4f5a40f0992b93349ec41cdb",
       "version_major": 2,
       "version_minor": 0
      },
      "text/plain": [
       "Validation: 0it [00:00, ?it/s]"
      ]
     },
     "metadata": {},
     "output_type": "display_data"
    },
    {
     "data": {
      "application/vnd.jupyter.widget-view+json": {
       "model_id": "a4101d4a81a14038bf2637a778e3982f",
       "version_major": 2,
       "version_minor": 0
      },
      "text/plain": [
       "Validation: 0it [00:00, ?it/s]"
      ]
     },
     "metadata": {},
     "output_type": "display_data"
    },
    {
     "data": {
      "application/vnd.jupyter.widget-view+json": {
       "model_id": "1a64db4359d742de9b6a6c7a84a360d5",
       "version_major": 2,
       "version_minor": 0
      },
      "text/plain": [
       "Validation: 0it [00:00, ?it/s]"
      ]
     },
     "metadata": {},
     "output_type": "display_data"
    },
    {
     "data": {
      "application/vnd.jupyter.widget-view+json": {
       "model_id": "37c3e827637c4f599df53323c0212c0e",
       "version_major": 2,
       "version_minor": 0
      },
      "text/plain": [
       "Validation: 0it [00:00, ?it/s]"
      ]
     },
     "metadata": {},
     "output_type": "display_data"
    },
    {
     "data": {
      "application/vnd.jupyter.widget-view+json": {
       "model_id": "ee2586fc0ce2428bb2edc0ad8e61ea10",
       "version_major": 2,
       "version_minor": 0
      },
      "text/plain": [
       "Validation: 0it [00:00, ?it/s]"
      ]
     },
     "metadata": {},
     "output_type": "display_data"
    },
    {
     "data": {
      "application/vnd.jupyter.widget-view+json": {
       "model_id": "5819439dd94c44ef9f8836d2109c6221",
       "version_major": 2,
       "version_minor": 0
      },
      "text/plain": [
       "Validation: 0it [00:00, ?it/s]"
      ]
     },
     "metadata": {},
     "output_type": "display_data"
    },
    {
     "data": {
      "application/vnd.jupyter.widget-view+json": {
       "model_id": "8f0972932af743cc9b5be97f74da5dc1",
       "version_major": 2,
       "version_minor": 0
      },
      "text/plain": [
       "Validation: 0it [00:00, ?it/s]"
      ]
     },
     "metadata": {},
     "output_type": "display_data"
    },
    {
     "data": {
      "application/vnd.jupyter.widget-view+json": {
       "model_id": "3395db0e08ef4be280fd43e2496a5f46",
       "version_major": 2,
       "version_minor": 0
      },
      "text/plain": [
       "Validation: 0it [00:00, ?it/s]"
      ]
     },
     "metadata": {},
     "output_type": "display_data"
    },
    {
     "data": {
      "application/vnd.jupyter.widget-view+json": {
       "model_id": "c3eb1b13573440c1ab7910a2cd81b631",
       "version_major": 2,
       "version_minor": 0
      },
      "text/plain": [
       "Validation: 0it [00:00, ?it/s]"
      ]
     },
     "metadata": {},
     "output_type": "display_data"
    },
    {
     "data": {
      "application/vnd.jupyter.widget-view+json": {
       "model_id": "4c04d0b2a9d04cddb1ac894ddab27746",
       "version_major": 2,
       "version_minor": 0
      },
      "text/plain": [
       "Validation: 0it [00:00, ?it/s]"
      ]
     },
     "metadata": {},
     "output_type": "display_data"
    },
    {
     "data": {
      "application/vnd.jupyter.widget-view+json": {
       "model_id": "2e9e214f1ca245b295dc3bc7234b5fa2",
       "version_major": 2,
       "version_minor": 0
      },
      "text/plain": [
       "Validation: 0it [00:00, ?it/s]"
      ]
     },
     "metadata": {},
     "output_type": "display_data"
    },
    {
     "data": {
      "application/vnd.jupyter.widget-view+json": {
       "model_id": "96a21b7791c847c998466856db13ada6",
       "version_major": 2,
       "version_minor": 0
      },
      "text/plain": [
       "Validation: 0it [00:00, ?it/s]"
      ]
     },
     "metadata": {},
     "output_type": "display_data"
    },
    {
     "data": {
      "application/vnd.jupyter.widget-view+json": {
       "model_id": "4bc7e01b252346348a9f6e7184334172",
       "version_major": 2,
       "version_minor": 0
      },
      "text/plain": [
       "Validation: 0it [00:00, ?it/s]"
      ]
     },
     "metadata": {},
     "output_type": "display_data"
    },
    {
     "data": {
      "application/vnd.jupyter.widget-view+json": {
       "model_id": "e47ed220f79d434a81d2acba5138d4e9",
       "version_major": 2,
       "version_minor": 0
      },
      "text/plain": [
       "Validation: 0it [00:00, ?it/s]"
      ]
     },
     "metadata": {},
     "output_type": "display_data"
    },
    {
     "data": {
      "application/vnd.jupyter.widget-view+json": {
       "model_id": "d4e60f876b0d4aef943c1b352a387ae8",
       "version_major": 2,
       "version_minor": 0
      },
      "text/plain": [
       "Validation: 0it [00:00, ?it/s]"
      ]
     },
     "metadata": {},
     "output_type": "display_data"
    },
    {
     "data": {
      "application/vnd.jupyter.widget-view+json": {
       "model_id": "2288eb7a310a4699bdc280d41dc30bdb",
       "version_major": 2,
       "version_minor": 0
      },
      "text/plain": [
       "Validation: 0it [00:00, ?it/s]"
      ]
     },
     "metadata": {},
     "output_type": "display_data"
    },
    {
     "data": {
      "application/vnd.jupyter.widget-view+json": {
       "model_id": "4495886646474a6690decdd7212dc521",
       "version_major": 2,
       "version_minor": 0
      },
      "text/plain": [
       "Validation: 0it [00:00, ?it/s]"
      ]
     },
     "metadata": {},
     "output_type": "display_data"
    },
    {
     "data": {
      "application/vnd.jupyter.widget-view+json": {
       "model_id": "0e41fda516ca4e6ab06fe40a46100fbf",
       "version_major": 2,
       "version_minor": 0
      },
      "text/plain": [
       "Validation: 0it [00:00, ?it/s]"
      ]
     },
     "metadata": {},
     "output_type": "display_data"
    },
    {
     "data": {
      "application/vnd.jupyter.widget-view+json": {
       "model_id": "c23463d6664446338fb3c1599c4133cc",
       "version_major": 2,
       "version_minor": 0
      },
      "text/plain": [
       "Validation: 0it [00:00, ?it/s]"
      ]
     },
     "metadata": {},
     "output_type": "display_data"
    },
    {
     "data": {
      "application/vnd.jupyter.widget-view+json": {
       "model_id": "861b654b6dfd4bcbb146f38ef87f84e9",
       "version_major": 2,
       "version_minor": 0
      },
      "text/plain": [
       "Validation: 0it [00:00, ?it/s]"
      ]
     },
     "metadata": {},
     "output_type": "display_data"
    },
    {
     "data": {
      "application/vnd.jupyter.widget-view+json": {
       "model_id": "4dcf9658281a4d43b60b07e725400717",
       "version_major": 2,
       "version_minor": 0
      },
      "text/plain": [
       "Validation: 0it [00:00, ?it/s]"
      ]
     },
     "metadata": {},
     "output_type": "display_data"
    },
    {
     "data": {
      "application/vnd.jupyter.widget-view+json": {
       "model_id": "871b572a12e04f45b7832293dd43d836",
       "version_major": 2,
       "version_minor": 0
      },
      "text/plain": [
       "Validation: 0it [00:00, ?it/s]"
      ]
     },
     "metadata": {},
     "output_type": "display_data"
    },
    {
     "data": {
      "application/vnd.jupyter.widget-view+json": {
       "model_id": "828becaa153247e8bf2e82438831208e",
       "version_major": 2,
       "version_minor": 0
      },
      "text/plain": [
       "Validation: 0it [00:00, ?it/s]"
      ]
     },
     "metadata": {},
     "output_type": "display_data"
    },
    {
     "data": {
      "application/vnd.jupyter.widget-view+json": {
       "model_id": "d27b45db186c4d13bc42dca70f46afff",
       "version_major": 2,
       "version_minor": 0
      },
      "text/plain": [
       "Validation: 0it [00:00, ?it/s]"
      ]
     },
     "metadata": {},
     "output_type": "display_data"
    },
    {
     "data": {
      "application/vnd.jupyter.widget-view+json": {
       "model_id": "c74d603b71af4abd99cbde8b13ec3bc2",
       "version_major": 2,
       "version_minor": 0
      },
      "text/plain": [
       "Validation: 0it [00:00, ?it/s]"
      ]
     },
     "metadata": {},
     "output_type": "display_data"
    },
    {
     "data": {
      "application/vnd.jupyter.widget-view+json": {
       "model_id": "4497978a376c49579f0b8e59d42503c3",
       "version_major": 2,
       "version_minor": 0
      },
      "text/plain": [
       "Validation: 0it [00:00, ?it/s]"
      ]
     },
     "metadata": {},
     "output_type": "display_data"
    },
    {
     "data": {
      "application/vnd.jupyter.widget-view+json": {
       "model_id": "fa790f7ebe334d499cced3824153e835",
       "version_major": 2,
       "version_minor": 0
      },
      "text/plain": [
       "Validation: 0it [00:00, ?it/s]"
      ]
     },
     "metadata": {},
     "output_type": "display_data"
    },
    {
     "data": {
      "application/vnd.jupyter.widget-view+json": {
       "model_id": "00c6ee9fc2af40268670212c7e26c07f",
       "version_major": 2,
       "version_minor": 0
      },
      "text/plain": [
       "Validation: 0it [00:00, ?it/s]"
      ]
     },
     "metadata": {},
     "output_type": "display_data"
    },
    {
     "data": {
      "application/vnd.jupyter.widget-view+json": {
       "model_id": "1bf148b94ef84e0f81c12658addcc6ef",
       "version_major": 2,
       "version_minor": 0
      },
      "text/plain": [
       "Validation: 0it [00:00, ?it/s]"
      ]
     },
     "metadata": {},
     "output_type": "display_data"
    },
    {
     "data": {
      "application/vnd.jupyter.widget-view+json": {
       "model_id": "c5d4f514e3c94ca3be4ebda70a404474",
       "version_major": 2,
       "version_minor": 0
      },
      "text/plain": [
       "Validation: 0it [00:00, ?it/s]"
      ]
     },
     "metadata": {},
     "output_type": "display_data"
    },
    {
     "data": {
      "application/vnd.jupyter.widget-view+json": {
       "model_id": "2a51117debc842baa08168df2875e0f2",
       "version_major": 2,
       "version_minor": 0
      },
      "text/plain": [
       "Validation: 0it [00:00, ?it/s]"
      ]
     },
     "metadata": {},
     "output_type": "display_data"
    },
    {
     "data": {
      "application/vnd.jupyter.widget-view+json": {
       "model_id": "9516451eb70d499693e3ca1935d436f0",
       "version_major": 2,
       "version_minor": 0
      },
      "text/plain": [
       "Validation: 0it [00:00, ?it/s]"
      ]
     },
     "metadata": {},
     "output_type": "display_data"
    },
    {
     "data": {
      "application/vnd.jupyter.widget-view+json": {
       "model_id": "8a83f08be91d434abb92d855a7c20ee6",
       "version_major": 2,
       "version_minor": 0
      },
      "text/plain": [
       "Validation: 0it [00:00, ?it/s]"
      ]
     },
     "metadata": {},
     "output_type": "display_data"
    },
    {
     "data": {
      "application/vnd.jupyter.widget-view+json": {
       "model_id": "6b78522c1b8f46a5aa3d9d63de7cdab2",
       "version_major": 2,
       "version_minor": 0
      },
      "text/plain": [
       "Validation: 0it [00:00, ?it/s]"
      ]
     },
     "metadata": {},
     "output_type": "display_data"
    },
    {
     "data": {
      "application/vnd.jupyter.widget-view+json": {
       "model_id": "29c8e422f22741b3986656da812521bd",
       "version_major": 2,
       "version_minor": 0
      },
      "text/plain": [
       "Validation: 0it [00:00, ?it/s]"
      ]
     },
     "metadata": {},
     "output_type": "display_data"
    },
    {
     "data": {
      "application/vnd.jupyter.widget-view+json": {
       "model_id": "f7d6fc21ea0a4d9294ea127375b47be9",
       "version_major": 2,
       "version_minor": 0
      },
      "text/plain": [
       "Validation: 0it [00:00, ?it/s]"
      ]
     },
     "metadata": {},
     "output_type": "display_data"
    },
    {
     "data": {
      "application/vnd.jupyter.widget-view+json": {
       "model_id": "f22ec30718e242f48ef3f4cb8b29fff3",
       "version_major": 2,
       "version_minor": 0
      },
      "text/plain": [
       "Validation: 0it [00:00, ?it/s]"
      ]
     },
     "metadata": {},
     "output_type": "display_data"
    },
    {
     "data": {
      "application/vnd.jupyter.widget-view+json": {
       "model_id": "2025f2fcd9774e768ec101c1a60a302c",
       "version_major": 2,
       "version_minor": 0
      },
      "text/plain": [
       "Validation: 0it [00:00, ?it/s]"
      ]
     },
     "metadata": {},
     "output_type": "display_data"
    }
   ],
   "source": [
    "\n",
    "m = NeuralProphet(n_changepoints=15, \n",
    "                  n_forecasts= 14,\n",
    "                  changepoints_range=0.5,\n",
    "                  growth='linear',\n",
    "                  seasonality_mode='multiplicative', \n",
    "                  yearly_seasonality=True,\n",
    "                  weekly_seasonality=True,\n",
    "                  daily_seasonality=True,\n",
    "                  num_hidden_layers=25,\n",
    "                  d_hidden=256, \n",
    "                  epochs=300, \n",
    "                  batch_size=64, \n",
    "                  normalize=True,\n",
    "                  impute_missing=True,\n",
    "                  learning_rate=0.8,\n",
    "                  #loss_func='Huber',\n",
    "                  loss_func='MSELoss',\n",
    "                  optimizer='AdamW',\n",
    "                  #optimizer='SGD',\n",
    "                  collect_metrics=True,\n",
    "                  )\n",
    "m.add_country_holidays(country_name='UK')\n",
    "metric = m.fit(training_x, validation_df=val_x, freq='auto')\n"
   ]
  },
  {
   "cell_type": "code",
   "execution_count": 6,
   "metadata": {},
   "outputs": [
    {
     "data": {
      "text/html": [
       "<div>\n",
       "<style scoped>\n",
       "    .dataframe tbody tr th:only-of-type {\n",
       "        vertical-align: middle;\n",
       "    }\n",
       "\n",
       "    .dataframe tbody tr th {\n",
       "        vertical-align: top;\n",
       "    }\n",
       "\n",
       "    .dataframe thead th {\n",
       "        text-align: right;\n",
       "    }\n",
       "</style>\n",
       "<table border=\"1\" class=\"dataframe\">\n",
       "  <thead>\n",
       "    <tr style=\"text-align: right;\">\n",
       "      <th></th>\n",
       "      <th>MAE_val</th>\n",
       "      <th>RMSE_val</th>\n",
       "      <th>Loss_val</th>\n",
       "      <th>RegLoss_val</th>\n",
       "      <th>epoch</th>\n",
       "      <th>MAE</th>\n",
       "      <th>RMSE</th>\n",
       "      <th>Loss</th>\n",
       "      <th>RegLoss</th>\n",
       "    </tr>\n",
       "  </thead>\n",
       "  <tbody>\n",
       "    <tr>\n",
       "      <th>0</th>\n",
       "      <td>19763.361328</td>\n",
       "      <td>21068.107422</td>\n",
       "      <td>443865152.0</td>\n",
       "      <td>0.0</td>\n",
       "      <td>0</td>\n",
       "      <td>19905.029297</td>\n",
       "      <td>22053.273438</td>\n",
       "      <td>368174080.0</td>\n",
       "      <td>0.0</td>\n",
       "    </tr>\n",
       "    <tr>\n",
       "      <th>1</th>\n",
       "      <td>19762.865234</td>\n",
       "      <td>21067.654297</td>\n",
       "      <td>443846048.0</td>\n",
       "      <td>0.0</td>\n",
       "      <td>1</td>\n",
       "      <td>19678.500000</td>\n",
       "      <td>21647.886719</td>\n",
       "      <td>356301792.0</td>\n",
       "      <td>0.0</td>\n",
       "    </tr>\n",
       "    <tr>\n",
       "      <th>2</th>\n",
       "      <td>19762.126953</td>\n",
       "      <td>21066.966797</td>\n",
       "      <td>443817088.0</td>\n",
       "      <td>0.0</td>\n",
       "      <td>2</td>\n",
       "      <td>19804.761719</td>\n",
       "      <td>21783.902344</td>\n",
       "      <td>359096096.0</td>\n",
       "      <td>0.0</td>\n",
       "    </tr>\n",
       "    <tr>\n",
       "      <th>3</th>\n",
       "      <td>19761.027344</td>\n",
       "      <td>21065.929688</td>\n",
       "      <td>443773408.0</td>\n",
       "      <td>0.0</td>\n",
       "      <td>3</td>\n",
       "      <td>19786.187500</td>\n",
       "      <td>21843.958984</td>\n",
       "      <td>359071232.0</td>\n",
       "      <td>0.0</td>\n",
       "    </tr>\n",
       "    <tr>\n",
       "      <th>4</th>\n",
       "      <td>19759.376953</td>\n",
       "      <td>21064.359375</td>\n",
       "      <td>443707200.0</td>\n",
       "      <td>0.0</td>\n",
       "      <td>4</td>\n",
       "      <td>19994.125000</td>\n",
       "      <td>22055.503906</td>\n",
       "      <td>368445696.0</td>\n",
       "      <td>0.0</td>\n",
       "    </tr>\n",
       "    <tr>\n",
       "      <th>...</th>\n",
       "      <td>...</td>\n",
       "      <td>...</td>\n",
       "      <td>...</td>\n",
       "      <td>...</td>\n",
       "      <td>...</td>\n",
       "      <td>...</td>\n",
       "      <td>...</td>\n",
       "      <td>...</td>\n",
       "      <td>...</td>\n",
       "    </tr>\n",
       "    <tr>\n",
       "      <th>295</th>\n",
       "      <td>4651.632324</td>\n",
       "      <td>6316.003906</td>\n",
       "      <td>39891908.0</td>\n",
       "      <td>0.0</td>\n",
       "      <td>295</td>\n",
       "      <td>4713.964355</td>\n",
       "      <td>6372.285645</td>\n",
       "      <td>31558022.0</td>\n",
       "      <td>0.0</td>\n",
       "    </tr>\n",
       "    <tr>\n",
       "      <th>296</th>\n",
       "      <td>4651.662109</td>\n",
       "      <td>6316.040527</td>\n",
       "      <td>39892368.0</td>\n",
       "      <td>0.0</td>\n",
       "      <td>296</td>\n",
       "      <td>4734.377930</td>\n",
       "      <td>6346.849121</td>\n",
       "      <td>31319272.0</td>\n",
       "      <td>0.0</td>\n",
       "    </tr>\n",
       "    <tr>\n",
       "      <th>297</th>\n",
       "      <td>4651.684082</td>\n",
       "      <td>6316.067383</td>\n",
       "      <td>39892708.0</td>\n",
       "      <td>0.0</td>\n",
       "      <td>297</td>\n",
       "      <td>4717.188477</td>\n",
       "      <td>6349.662598</td>\n",
       "      <td>31629412.0</td>\n",
       "      <td>0.0</td>\n",
       "    </tr>\n",
       "    <tr>\n",
       "      <th>298</th>\n",
       "      <td>4651.690430</td>\n",
       "      <td>6316.076172</td>\n",
       "      <td>39892820.0</td>\n",
       "      <td>0.0</td>\n",
       "      <td>298</td>\n",
       "      <td>4739.387695</td>\n",
       "      <td>6360.210449</td>\n",
       "      <td>31794292.0</td>\n",
       "      <td>0.0</td>\n",
       "    </tr>\n",
       "    <tr>\n",
       "      <th>299</th>\n",
       "      <td>4651.693359</td>\n",
       "      <td>6316.080078</td>\n",
       "      <td>39892868.0</td>\n",
       "      <td>0.0</td>\n",
       "      <td>299</td>\n",
       "      <td>4738.245605</td>\n",
       "      <td>6423.523926</td>\n",
       "      <td>31954680.0</td>\n",
       "      <td>0.0</td>\n",
       "    </tr>\n",
       "  </tbody>\n",
       "</table>\n",
       "<p>300 rows × 9 columns</p>\n",
       "</div>"
      ],
      "text/plain": [
       "          MAE_val      RMSE_val     Loss_val  RegLoss_val  epoch  \\\n",
       "0    19763.361328  21068.107422  443865152.0          0.0      0   \n",
       "1    19762.865234  21067.654297  443846048.0          0.0      1   \n",
       "2    19762.126953  21066.966797  443817088.0          0.0      2   \n",
       "3    19761.027344  21065.929688  443773408.0          0.0      3   \n",
       "4    19759.376953  21064.359375  443707200.0          0.0      4   \n",
       "..            ...           ...          ...          ...    ...   \n",
       "295   4651.632324   6316.003906   39891908.0          0.0    295   \n",
       "296   4651.662109   6316.040527   39892368.0          0.0    296   \n",
       "297   4651.684082   6316.067383   39892708.0          0.0    297   \n",
       "298   4651.690430   6316.076172   39892820.0          0.0    298   \n",
       "299   4651.693359   6316.080078   39892868.0          0.0    299   \n",
       "\n",
       "              MAE          RMSE         Loss  RegLoss  \n",
       "0    19905.029297  22053.273438  368174080.0      0.0  \n",
       "1    19678.500000  21647.886719  356301792.0      0.0  \n",
       "2    19804.761719  21783.902344  359096096.0      0.0  \n",
       "3    19786.187500  21843.958984  359071232.0      0.0  \n",
       "4    19994.125000  22055.503906  368445696.0      0.0  \n",
       "..            ...           ...          ...      ...  \n",
       "295   4713.964355   6372.285645   31558022.0      0.0  \n",
       "296   4734.377930   6346.849121   31319272.0      0.0  \n",
       "297   4717.188477   6349.662598   31629412.0      0.0  \n",
       "298   4739.387695   6360.210449   31794292.0      0.0  \n",
       "299   4738.245605   6423.523926   31954680.0      0.0  \n",
       "\n",
       "[300 rows x 9 columns]"
      ]
     },
     "execution_count": 6,
     "metadata": {},
     "output_type": "execute_result"
    }
   ],
   "source": [
    "metric"
   ]
  },
  {
   "cell_type": "code",
   "execution_count": 7,
   "metadata": {},
   "outputs": [
    {
     "data": {
      "image/png": "[encoded data removed]",
      "text/plain": [
       "<Figure size 1500x600 with 1 Axes>"
      ]
     },
     "metadata": {},
     "output_type": "display_data"
    }
   ],
   "source": [
    "plt.figure(figsize=(15, 6))\n",
    "plt.plot(metric['MAE_val'], label='VAL')\n",
    "plt.plot(metric['MAE'], label='TRAIN')\n",
    "plt.xlabel('Epochs')\n",
    "plt.ylabel('MAE')\n",
    "plt.legend()\n",
    "plt.show()"
   ]
  },
  {
   "cell_type": "code",
   "execution_count": 8,
   "metadata": {},
   "outputs": [
    {
     "data": {
      "application/vnd.plotly.v1+json": {
       "config": {
        "plotlyServerURL": "https://plot.ly"
       },
       "data": [
        {
         "fill": "none",
         "line": {
          "color": "#2d92ff",
          "width": 2
         },
         "mode": "lines",
         "name": "Trend",
         "type": "scatter",
         "uid": "22cd0366-59af-41ef-9f84-6b07e03912d7",
         "x": [
          "2009-12-01T00:00:00",
          "2009-12-02T00:00:00",
          "2009-12-03T00:00:00",
          "2009-12-04T00:00:00",
          "2009-12-05T00:00:00",
          "2009-12-06T00:00:00",
          "2009-12-07T00:00:00",
          "2009-12-08T00:00:00",
          "2009-12-09T00:00:00",
          "2009-12-10T00:00:00",
          "2009-12-11T00:00:00",
          "2009-12-12T00:00:00",
          "2009-12-13T00:00:00",
          "2009-12-14T00:00:00",
          "2009-12-15T00:00:00",
          "2009-12-16T00:00:00",
          "2009-12-17T00:00:00",
          "2009-12-18T00:00:00",
          "2009-12-19T00:00:00",
          "2009-12-20T00:00:00",
          "2009-12-21T00:00:00",
          "2009-12-22T00:00:00",
          "2009-12-23T00:00:00",
          "2009-12-24T00:00:00",
          "2009-12-25T00:00:00",
          "2009-12-26T00:00:00",
          "2009-12-27T00:00:00",
          "2009-12-28T00:00:00",
          "2009-12-29T00:00:00",
          "2009-12-30T00:00:00",
          "2009-12-31T00:00:00",
          "2010-01-01T00:00:00",
          "2010-01-02T00:00:00",
          "2010-01-03T00:00:00",
          "2010-01-04T00:00:00",
          "2010-01-05T00:00:00",
          "2010-01-06T00:00:00",
          "2010-01-07T00:00:00",
          "2010-01-08T00:00:00",
          "2010-01-09T00:00:00",
          "2010-01-10T00:00:00",
          "2010-01-11T00:00:00",
          "2010-01-12T00:00:00",
          "2010-01-13T00:00:00",
          "2010-01-14T00:00:00",
          "2010-01-15T00:00:00",
          "2010-01-16T00:00:00",
          "2010-01-17T00:00:00",
          "2010-01-18T00:00:00",
          "2010-01-19T00:00:00",
          "2010-01-20T00:00:00",
          "2010-01-21T00:00:00",
          "2010-01-22T00:00:00",
          "2010-01-23T00:00:00",
          "2010-01-24T00:00:00",
          "2010-01-25T00:00:00",
          "2010-01-26T00:00:00",
          "2010-01-27T00:00:00",
          "2010-01-28T00:00:00",
          "2010-01-29T00:00:00",
          "2010-01-30T00:00:00",
          "2010-01-31T00:00:00",
          "2010-02-01T00:00:00",
          "2010-02-02T00:00:00",
          "2010-02-03T00:00:00",
          "2010-02-04T00:00:00",
          "2010-02-05T00:00:00",
          "2010-02-06T00:00:00",
          "2010-02-07T00:00:00",
          "2010-02-08T00:00:00",
          "2010-02-09T00:00:00",
          "2010-02-10T00:00:00",
          "2010-02-11T00:00:00",
          "2010-02-12T00:00:00",
          "2010-02-13T00:00:00",
          "2010-02-14T00:00:00",
          "2010-02-15T00:00:00",
          "2010-02-16T00:00:00",
          "2010-02-17T00:00:00",
          "2010-02-18T00:00:00",
          "2010-02-19T00:00:00",
          "2010-02-20T00:00:00",
          "2010-02-21T00:00:00",
          "2010-02-22T00:00:00",
          "2010-02-23T00:00:00",
          "2010-02-24T00:00:00",
          "2010-02-25T00:00:00",
          "2010-02-26T00:00:00",
          "2010-02-27T00:00:00",
          "2010-02-28T00:00:00",
          "2010-03-01T00:00:00",
          "2010-03-02T00:00:00",
          "2010-03-03T00:00:00",
          "2010-03-04T00:00:00",
          "2010-03-05T00:00:00",
          "2010-03-06T00:00:00",
          "2010-03-07T00:00:00",
          "2010-03-08T00:00:00",
          "2010-03-09T00:00:00",
          "2010-03-10T00:00:00",
          "2010-03-11T00:00:00",
          "2010-03-12T00:00:00",
          "2010-03-13T00:00:00",
          "2010-03-14T00:00:00",
          "2010-03-15T00:00:00",
          "2010-03-16T00:00:00",
          "2010-03-17T00:00:00",
          "2010-03-18T00:00:00",
          "2010-03-19T00:00:00",
          "2010-03-20T00:00:00",
          "2010-03-21T00:00:00",
          "2010-03-22T00:00:00",
          "2010-03-23T00:00:00",
          "2010-03-24T00:00:00",
          "2010-03-25T00:00:00",
          "2010-03-26T00:00:00",
          "2010-03-27T00:00:00",
          "2010-03-28T00:00:00",
          "2010-03-29T00:00:00",
          "2010-03-30T00:00:00",
          "2010-03-31T00:00:00",
          "2010-04-01T00:00:00",
          "2010-04-02T00:00:00",
          "2010-04-03T00:00:00",
          "2010-04-04T00:00:00",
          "2010-04-05T00:00:00",
          "2010-04-06T00:00:00",
          "2010-04-07T00:00:00",
          "2010-04-08T00:00:00",
          "2010-04-09T00:00:00",
          "2010-04-10T00:00:00",
          "2010-04-11T00:00:00",
          "2010-04-12T00:00:00",
          "2010-04-13T00:00:00",
          "2010-04-14T00:00:00",
          "2010-04-15T00:00:00",
          "2010-04-16T00:00:00",
          "2010-04-17T00:00:00",
          "2010-04-18T00:00:00",
          "2010-04-19T00:00:00",
          "2010-04-20T00:00:00",
          "2010-04-21T00:00:00",
          "2010-04-22T00:00:00",
          "2010-04-23T00:00:00",
          "2010-04-24T00:00:00",
          "2010-04-25T00:00:00",
          "2010-04-26T00:00:00",
          "2010-04-27T00:00:00",
          "2010-04-28T00:00:00",
          "2010-04-29T00:00:00",
          "2010-04-30T00:00:00",
          "2010-05-01T00:00:00",
          "2010-05-02T00:00:00",
          "2010-05-03T00:00:00",
          "2010-05-04T00:00:00",
          "2010-05-05T00:00:00",
          "2010-05-06T00:00:00",
          "2010-05-07T00:00:00",
          "2010-05-08T00:00:00",
          "2010-05-09T00:00:00",
          "2010-05-10T00:00:00",
          "2010-05-11T00:00:00",
          "2010-05-12T00:00:00",
          "2010-05-13T00:00:00",
          "2010-05-14T00:00:00",
          "2010-05-15T00:00:00",
          "2010-05-16T00:00:00",
          "2010-05-17T00:00:00",
          "2010-05-18T00:00:00",
          "2010-05-19T00:00:00",
          "2010-05-20T00:00:00",
          "2010-05-21T00:00:00",
          "2010-05-22T00:00:00",
          "2010-05-23T00:00:00",
          "2010-05-24T00:00:00",
          "2010-05-25T00:00:00",
          "2010-05-26T00:00:00",
          "2010-05-27T00:00:00",
          "2010-05-28T00:00:00",
          "2010-05-29T00:00:00",
          "2010-05-30T00:00:00",
          "2010-05-31T00:00:00",
          "2010-06-01T00:00:00",
          "2010-06-02T00:00:00",
          "2010-06-03T00:00:00",
          "2010-06-04T00:00:00",
          "2010-06-05T00:00:00",
          "2010-06-06T00:00:00",
          "2010-06-07T00:00:00",
          "2010-06-08T00:00:00",
          "2010-06-09T00:00:00",
          "2010-06-10T00:00:00",
          "2010-06-11T00:00:00",
          "2010-06-12T00:00:00",
          "2010-06-13T00:00:00",
          "2010-06-14T00:00:00",
          "2010-06-15T00:00:00",
          "2010-06-16T00:00:00",
          "2010-06-17T00:00:00",
          "2010-06-18T00:00:00",
          "2010-06-19T00:00:00",
          "2010-06-20T00:00:00",
          "2010-06-21T00:00:00",
          "2010-06-22T00:00:00",
          "2010-06-23T00:00:00",
          "2010-06-24T00:00:00",
          "2010-06-25T00:00:00",
          "2010-06-26T00:00:00",
          "2010-06-27T00:00:00",
          "2010-06-28T00:00:00",
          "2010-06-29T00:00:00",
          "2010-06-30T00:00:00",
          "2010-07-01T00:00:00",
          "2010-07-02T00:00:00",
          "2010-07-03T00:00:00",
          "2010-07-04T00:00:00",
          "2010-07-05T00:00:00",
          "2010-07-06T00:00:00",
          "2010-07-07T00:00:00",
          "2010-07-08T00:00:00",
          "2010-07-09T00:00:00",
          "2010-07-10T00:00:00",
          "2010-07-11T00:00:00",
          "2010-07-12T00:00:00",
          "2010-07-13T00:00:00",
          "2010-07-14T00:00:00",
          "2010-07-15T00:00:00",
          "2010-07-16T00:00:00",
          "2010-07-17T00:00:00",
          "2010-07-18T00:00:00",
          "2010-07-19T00:00:00",
          "2010-07-20T00:00:00",
          "2010-07-21T00:00:00",
          "2010-07-22T00:00:00",
          "2010-07-23T00:00:00",
          "2010-07-24T00:00:00",
          "2010-07-25T00:00:00",
          "2010-07-26T00:00:00",
          "2010-07-27T00:00:00",
          "2010-07-28T00:00:00",
          "2010-07-29T00:00:00",
          "2010-07-30T00:00:00",
          "2010-07-31T00:00:00",
          "2010-08-01T00:00:00",
          "2010-08-02T00:00:00",
          "2010-08-03T00:00:00",
          "2010-08-04T00:00:00",
          "2010-08-05T00:00:00",
          "2010-08-06T00:00:00",
          "2010-08-07T00:00:00",
          "2010-08-08T00:00:00",
          "2010-08-09T00:00:00",
          "2010-08-10T00:00:00",
          "2010-08-11T00:00:00",
          "2010-08-12T00:00:00",
          "2010-08-13T00:00:00",
          "2010-08-14T00:00:00",
          "2010-08-15T00:00:00",
          "2010-08-16T00:00:00",
          "2010-08-17T00:00:00",
          "2010-08-18T00:00:00",
          "2010-08-19T00:00:00",
          "2010-08-20T00:00:00",
          "2010-08-21T00:00:00",
          "2010-08-22T00:00:00",
          "2010-08-23T00:00:00",
          "2010-08-24T00:00:00",
          "2010-08-25T00:00:00",
          "2010-08-26T00:00:00",
          "2010-08-27T00:00:00",
          "2010-08-28T00:00:00",
          "2010-08-29T00:00:00",
          "2010-08-30T00:00:00",
          "2010-08-31T00:00:00",
          "2010-09-01T00:00:00",
          "2010-09-02T00:00:00",
          "2010-09-03T00:00:00",
          "2010-09-04T00:00:00",
          "2010-09-05T00:00:00",
          "2010-09-06T00:00:00",
          "2010-09-07T00:00:00",
          "2010-09-08T00:00:00",
          "2010-09-09T00:00:00",
          "2010-09-10T00:00:00",
          "2010-09-11T00:00:00",
          "2010-09-12T00:00:00",
          "2010-09-13T00:00:00",
          "2010-09-14T00:00:00",
          "2010-09-15T00:00:00",
          "2010-09-16T00:00:00",
          "2010-09-17T00:00:00",
          "2010-09-18T00:00:00",
          "2010-09-19T00:00:00",
          "2010-09-20T00:00:00",
          "2010-09-21T00:00:00",
          "2010-09-22T00:00:00",
          "2010-09-23T00:00:00",
          "2010-09-24T00:00:00",
          "2010-09-25T00:00:00",
          "2010-09-26T00:00:00",
          "2010-09-27T00:00:00",
          "2010-09-28T00:00:00",
          "2010-09-29T00:00:00",
          "2010-09-30T00:00:00",
          "2010-10-01T00:00:00",
          "2010-10-02T00:00:00",
          "2010-10-03T00:00:00",
          "2010-10-04T00:00:00",
          "2010-10-05T00:00:00",
          "2010-10-06T00:00:00",
          "2010-10-07T00:00:00",
          "2010-10-08T00:00:00",
          "2010-10-09T00:00:00",
          "2010-10-10T00:00:00",
          "2010-10-11T00:00:00",
          "2010-10-12T00:00:00",
          "2010-10-13T00:00:00",
          "2010-10-14T00:00:00",
          "2010-10-15T00:00:00",
          "2010-10-16T00:00:00",
          "2010-10-17T00:00:00",
          "2010-10-18T00:00:00",
          "2010-10-19T00:00:00",
          "2010-10-20T00:00:00",
          "2010-10-21T00:00:00",
          "2010-10-22T00:00:00",
          "2010-10-23T00:00:00",
          "2010-10-24T00:00:00",
          "2010-10-25T00:00:00",
          "2010-10-26T00:00:00",
          "2010-10-27T00:00:00",
          "2010-10-28T00:00:00",
          "2010-10-29T00:00:00",
          "2010-10-30T00:00:00",
          "2010-10-31T00:00:00",
          "2010-11-01T00:00:00",
          "2010-11-02T00:00:00",
          "2010-11-03T00:00:00",
          "2010-11-04T00:00:00",
          "2010-11-05T00:00:00",
          "2010-11-06T00:00:00",
          "2010-11-07T00:00:00",
          "2010-11-08T00:00:00",
          "2010-11-09T00:00:00",
          "2010-11-10T00:00:00",
          "2010-11-11T00:00:00",
          "2010-11-12T00:00:00",
          "2010-11-13T00:00:00",
          "2010-11-14T00:00:00",
          "2010-11-15T00:00:00",
          "2010-11-16T00:00:00",
          "2010-11-17T00:00:00",
          "2010-11-18T00:00:00",
          "2010-11-19T00:00:00",
          "2010-11-20T00:00:00",
          "2010-11-21T00:00:00",
          "2010-11-22T00:00:00",
          "2010-11-23T00:00:00",
          "2010-11-24T00:00:00",
          "2010-11-25T00:00:00",
          "2010-11-26T00:00:00",
          "2010-11-27T00:00:00",
          "2010-11-28T00:00:00",
          "2010-11-29T00:00:00",
          "2010-11-30T00:00:00",
          "2010-12-01T00:00:00",
          "2010-12-02T00:00:00",
          "2010-12-03T00:00:00",
          "2010-12-04T00:00:00",
          "2010-12-05T00:00:00",
          "2010-12-06T00:00:00",
          "2010-12-07T00:00:00",
          "2010-12-08T00:00:00",
          "2010-12-09T00:00:00",
          "2010-12-10T00:00:00",
          "2010-12-11T00:00:00",
          "2010-12-12T00:00:00",
          "2010-12-13T00:00:00",
          "2010-12-14T00:00:00",
          "2010-12-15T00:00:00",
          "2010-12-16T00:00:00",
          "2010-12-17T00:00:00",
          "2010-12-18T00:00:00",
          "2010-12-19T00:00:00",
          "2010-12-20T00:00:00",
          "2010-12-21T00:00:00",
          "2010-12-22T00:00:00",
          "2010-12-23T00:00:00",
          "2010-12-24T00:00:00",
          "2010-12-25T00:00:00",
          "2010-12-26T00:00:00",
          "2010-12-27T00:00:00",
          "2010-12-28T00:00:00",
          "2010-12-29T00:00:00",
          "2010-12-30T00:00:00",
          "2010-12-31T00:00:00",
          "2011-01-01T00:00:00",
          "2011-01-02T00:00:00",
          "2011-01-03T00:00:00",
          "2011-01-04T00:00:00",
          "2011-01-05T00:00:00",
          "2011-01-06T00:00:00",
          "2011-01-07T00:00:00",
          "2011-01-08T00:00:00",
          "2011-01-09T00:00:00",
          "2011-01-10T00:00:00",
          "2011-01-11T00:00:00",
          "2011-01-12T00:00:00",
          "2011-01-13T00:00:00",
          "2011-01-14T00:00:00",
          "2011-01-15T00:00:00",
          "2011-01-16T00:00:00",
          "2011-01-17T00:00:00",
          "2011-01-18T00:00:00",
          "2011-01-19T00:00:00",
          "2011-01-20T00:00:00",
          "2011-01-21T00:00:00",
          "2011-01-22T00:00:00",
          "2011-01-23T00:00:00",
          "2011-01-24T00:00:00",
          "2011-01-25T00:00:00",
          "2011-01-26T00:00:00",
          "2011-01-27T00:00:00",
          "2011-01-28T00:00:00",
          "2011-01-29T00:00:00",
          "2011-01-30T00:00:00",
          "2011-01-31T00:00:00",
          "2011-02-01T00:00:00",
          "2011-02-02T00:00:00",
          "2011-02-03T00:00:00",
          "2011-02-04T00:00:00",
          "2011-02-05T00:00:00",
          "2011-02-06T00:00:00",
          "2011-02-07T00:00:00",
          "2011-02-08T00:00:00",
          "2011-02-09T00:00:00",
          "2011-02-10T00:00:00",
          "2011-02-11T00:00:00",
          "2011-02-12T00:00:00",
          "2011-02-13T00:00:00",
          "2011-02-14T00:00:00",
          "2011-02-15T00:00:00",
          "2011-02-16T00:00:00",
          "2011-02-17T00:00:00",
          "2011-02-18T00:00:00",
          "2011-02-19T00:00:00",
          "2011-02-20T00:00:00",
          "2011-02-21T00:00:00",
          "2011-02-22T00:00:00",
          "2011-02-23T00:00:00",
          "2011-02-24T00:00:00",
          "2011-02-25T00:00:00",
          "2011-02-26T00:00:00",
          "2011-02-27T00:00:00",
          "2011-02-28T00:00:00",
          "2011-03-01T00:00:00",
          "2011-03-02T00:00:00",
          "2011-03-03T00:00:00",
          "2011-03-04T00:00:00",
          "2011-03-05T00:00:00",
          "2011-03-06T00:00:00",
          "2011-03-07T00:00:00",
          "2011-03-08T00:00:00",
          "2011-03-09T00:00:00",
          "2011-03-10T00:00:00",
          "2011-03-11T00:00:00",
          "2011-03-12T00:00:00",
          "2011-03-13T00:00:00",
          "2011-03-14T00:00:00",
          "2011-03-15T00:00:00",
          "2011-03-16T00:00:00",
          "2011-03-17T00:00:00",
          "2011-03-18T00:00:00",
          "2011-03-19T00:00:00",
          "2011-03-20T00:00:00",
          "2011-03-21T00:00:00",
          "2011-03-22T00:00:00",
          "2011-03-23T00:00:00",
          "2011-03-24T00:00:00",
          "2011-03-25T00:00:00",
          "2011-03-26T00:00:00",
          "2011-03-27T00:00:00",
          "2011-03-28T00:00:00",
          "2011-03-29T00:00:00",
          "2011-03-30T00:00:00",
          "2011-03-31T00:00:00",
          "2011-04-01T00:00:00",
          "2011-04-02T00:00:00",
          "2011-04-03T00:00:00",
          "2011-04-04T00:00:00",
          "2011-04-05T00:00:00",
          "2011-04-06T00:00:00",
          "2011-04-07T00:00:00",
          "2011-04-08T00:00:00",
          "2011-04-09T00:00:00",
          "2011-04-10T00:00:00",
          "2011-04-11T00:00:00",
          "2011-04-12T00:00:00",
          "2011-04-13T00:00:00",
          "2011-04-14T00:00:00",
          "2011-04-15T00:00:00",
          "2011-04-16T00:00:00",
          "2011-04-17T00:00:00",
          "2011-04-18T00:00:00",
          "2011-04-19T00:00:00",
          "2011-04-20T00:00:00",
          "2011-04-21T00:00:00",
          "2011-04-22T00:00:00",
          "2011-04-23T00:00:00",
          "2011-04-24T00:00:00",
          "2011-04-25T00:00:00",
          "2011-04-26T00:00:00",
          "2011-04-27T00:00:00",
          "2011-04-28T00:00:00",
          "2011-04-29T00:00:00",
          "2011-04-30T00:00:00",
          "2011-05-01T00:00:00",
          "2011-05-02T00:00:00",
          "2011-05-03T00:00:00",
          "2011-05-04T00:00:00",
          "2011-05-05T00:00:00",
          "2011-05-06T00:00:00",
          "2011-05-07T00:00:00",
          "2011-05-08T00:00:00",
          "2011-05-09T00:00:00",
          "2011-05-10T00:00:00",
          "2011-05-11T00:00:00",
          "2011-05-12T00:00:00",
          "2011-05-13T00:00:00",
          "2011-05-14T00:00:00",
          "2011-05-15T00:00:00",
          "2011-05-16T00:00:00",
          "2011-05-17T00:00:00",
          "2011-05-18T00:00:00",
          "2011-05-19T00:00:00",
          "2011-05-20T00:00:00",
          "2011-05-21T00:00:00",
          "2011-05-22T00:00:00",
          "2011-05-23T00:00:00",
          "2011-05-24T00:00:00",
          "2011-05-25T00:00:00",
          "2011-05-26T00:00:00",
          "2011-05-27T00:00:00",
          "2011-05-28T00:00:00",
          "2011-05-29T00:00:00",
          "2011-05-30T00:00:00",
          "2011-05-31T00:00:00",
          "2011-06-01T00:00:00",
          "2011-06-02T00:00:00",
          "2011-06-03T00:00:00",
          "2011-06-04T00:00:00",
          "2011-06-05T00:00:00",
          "2011-06-06T00:00:00",
          "2011-06-07T00:00:00",
          "2011-06-08T00:00:00",
          "2011-06-09T00:00:00",
          "2011-06-10T00:00:00",
          "2011-06-11T00:00:00",
          "2011-06-12T00:00:00",
          "2011-06-13T00:00:00",
          "2011-06-14T00:00:00",
          "2011-06-15T00:00:00",
          "2011-06-16T00:00:00",
          "2011-06-17T00:00:00",
          "2011-06-18T00:00:00",
          "2011-06-19T00:00:00",
          "2011-06-20T00:00:00",
          "2011-06-21T00:00:00",
          "2011-06-22T00:00:00",
          "2011-06-23T00:00:00",
          "2011-06-24T00:00:00",
          "2011-06-25T00:00:00",
          "2011-06-26T00:00:00",
          "2011-06-27T00:00:00",
          "2011-06-28T00:00:00",
          "2011-06-29T00:00:00",
          "2011-06-30T00:00:00",
          "2011-07-01T00:00:00",
          "2011-07-02T00:00:00",
          "2011-07-03T00:00:00",
          "2011-07-04T00:00:00",
          "2011-07-05T00:00:00",
          "2011-07-06T00:00:00",
          "2011-07-07T00:00:00",
          "2011-07-08T00:00:00",
          "2011-07-09T00:00:00",
          "2011-07-10T00:00:00",
          "2011-07-11T00:00:00",
          "2011-07-12T00:00:00",
          "2011-07-13T00:00:00",
          "2011-07-14T00:00:00",
          "2011-07-15T00:00:00",
          "2011-07-16T00:00:00",
          "2011-07-17T00:00:00",
          "2011-07-18T00:00:00",
          "2011-07-19T00:00:00",
          "2011-07-20T00:00:00"
         ],
         "xaxis": "x",
         "y": [
          35.66835403442383,
          35.734308754837755,
          35.800263475251676,
          35.8662181956656,
          35.93217291607953,
          35.99812763649345,
          36.06408235690738,
          36.130037077321305,
          36.195991797735225,
          36.26194651814915,
          36.32790123856308,
          36.393855958977,
          36.45981067939093,
          36.525765399804854,
          36.591720120218774,
          36.6576748406327,
          36.72362956104663,
          36.78958428146055,
          36.855539001874476,
          36.92203285230086,
          36.98942525274801,
          37.05681765319517,
          37.12421005364232,
          37.19160245408948,
          37.25899485453663,
          37.326387254983786,
          37.39377965543094,
          37.461172055878095,
          37.52856445632525,
          37.5959568567724,
          37.66334925721956,
          37.73074165766671,
          37.79813405811387,
          37.86552645856102,
          37.932918859008176,
          38.00031125945533,
          38.067703659902485,
          38.13509606034964,
          38.197642367958224,
          38.258573311287286,
          38.31950425461635,
          38.38043519794541,
          38.44136614127447,
          38.50229708460353,
          38.563228027932595,
          38.62415897126166,
          38.68508991459072,
          38.74602085791978,
          38.80695180124884,
          38.867882744577905,
          38.92881368790697,
          38.98974463123603,
          39.05067557456509,
          39.11160651789416,
          39.172537461223214,
          39.23346840455228,
          39.293110238225665,
          39.343726873797856,
          39.394343509370046,
          39.444960144942236,
          39.495576780514426,
          39.546193416086616,
          39.59681005165881,
          39.647426687231,
          39.69804332280319,
          39.748659958375384,
          39.79927659394757,
          39.849893229519765,
          39.90050986509195,
          39.951126500664145,
          40.00174313623633,
          40.052359771808526,
          40.10297640738071,
          40.153593042952906,
          40.20420967852509,
          40.25255515911435,
          40.29862960392997,
          40.344704048745584,
          40.3907784935612,
          40.436852938376816,
          40.48292738319243,
          40.52900182800805,
          40.575076272823665,
          40.62115071763928,
          40.6672251624549,
          40.713299607270514,
          40.75937405208613,
          40.80544849690175,
          40.85152294171736,
          40.89759738653298,
          40.943671831348595,
          40.98974627616421,
          41.03582072097983,
          41.081895165795444,
          41.11380025044384,
          41.14368148138059,
          41.17356271231735,
          41.2034439432541,
          41.23332517419085,
          41.263206405127605,
          41.293087636064364,
          41.322968867001116,
          41.352850097937875,
          41.38273132887463,
          41.41261255981138,
          41.44249379074814,
          41.47237502168489,
          41.50225625262164,
          41.5321374835584,
          41.56201871449515,
          41.591899945431905,
          41.621781176368664,
          41.64969851026599,
          41.67172367620788,
          41.69374884214977,
          41.715774008091664,
          41.737799174033555,
          41.759824339975445,
          41.781849505917336,
          41.80387467185923,
          41.82589983780112,
          41.847925003743015,
          41.869950169684905,
          41.891975335626796,
          41.91400050156869,
          41.93602566751058,
          41.95805083345247,
          41.98007599939436,
          42.00210116533625,
          42.02412633127814,
          42.04615149722003,
          42.06748831192119,
          42.08841244966392,
          42.109336587406645,
          42.13026072514937,
          42.1511848628921,
          42.172109000634826,
          42.19303313837756,
          42.21395727612028,
          42.23488141386301,
          42.25580555160574,
          42.276729689348464,
          42.29765382709119,
          42.31857796483392,
          42.339502102576645,
          42.36042624031937,
          42.3813503780621,
          42.40227451580483,
          42.42319865354756,
          42.444122552871704,
          42.46009943469259,
          42.47607631651347,
          42.492053198334354,
          42.50803008015524,
          42.52400696197612,
          42.539983843797,
          42.55596072561789,
          42.57193760743877,
          42.58791448925966,
          42.603891371080536,
          42.619868252901426,
          42.63584513472231,
          42.65182201654319,
          42.667798898364076,
          42.68377578018496,
          42.69975266200584,
          42.715729543826725,
          42.73170642564761,
          42.74891278087693,
          42.76816746372505,
          42.787422146573164,
          42.80667682942128,
          42.8259315122694,
          42.84518619511751,
          42.864440877965635,
          42.88369556081375,
          42.90295024366187,
          42.922204926509984,
          42.941459609358105,
          42.96071429220622,
          42.979968975054334,
          42.999223657902455,
          43.018478340750576,
          43.03773302359869,
          43.056987706446805,
          43.076242389294926,
          43.09549707214304,
          43.112787131495125,
          43.12942191898423,
          43.14605670647333,
          43.162691493962434,
          43.17932628145154,
          43.19596106894064,
          43.21259585642974,
          43.229230643918854,
          43.24586543140796,
          43.26250021889706,
          43.27913500638616,
          43.295769793875266,
          43.31240458136437,
          43.32903936885347,
          43.345674156342575,
          43.36230894383168,
          43.37894373132079,
          43.395578518809884,
          43.411288936666196,
          43.420529243930076,
          43.42976955119396,
          43.43900985845784,
          43.44825016572172,
          43.4574904729856,
          43.46673078024948,
          43.47597108751336,
          43.48521139477724,
          43.49445170204111,
          43.50369200930499,
          43.51293231656887,
          43.52217262383275,
          43.53141293109663,
          43.54065323836051,
          43.54989354562439,
          43.55913385288827,
          43.56837416015215,
          43.57761446741603,
          43.58801949264219,
          43.59958875899347,
          43.61115802534475,
          43.62272729169602,
          43.6342965580473,
          43.64586582439858,
          43.65743509074986,
          43.66900435710113,
          43.68057362345241,
          43.69214288980369,
          43.703712156154964,
          43.715281422506244,
          43.726850688857525,
          43.7384199552088,
          43.74998922156007,
          43.76155848791135,
          43.77312775426263,
          43.784697020613905,
          43.796266286965185,
          43.81202884968495,
          43.828390659101856,
          43.84475246851876,
          43.86111427793567,
          43.877476087352576,
          43.89383789676948,
          43.91019970618638,
          43.92656151560329,
          43.942923325020196,
          43.959285134437096,
          43.975646943854,
          43.99200875327091,
          44.008370562687816,
          44.02473237210472,
          44.04109418152163,
          44.057455990938536,
          44.07381780035544,
          44.09017960977234,
          44.102602889873836,
          44.10321129728484,
          44.10381970469584,
          44.10442811210683,
          44.10503651951784,
          44.10564492692883,
          44.10625333433983,
          44.10686174175083,
          44.107470149161834,
          44.108078556572835,
          44.10868696398383,
          44.10929537139483,
          44.10990377880583,
          44.11051218621683,
          44.11112059362783,
          44.111729001038825,
          44.112337408449825,
          44.112945815860826,
          44.11355422327183,
          44.10076343613183,
          44.07993232163807,
          44.05910120714431,
          44.03827009265055,
          44.01743897815679,
          43.99660786366303,
          43.97577674916927,
          43.95494563467551,
          43.934114520181744,
          43.913283405687984,
          43.892452291194225,
          43.871621176700465,
          43.850790062206705,
          43.82995894771294,
          43.80912783321918,
          43.78829671872542,
          43.76746560423166,
          43.7466344897379,
          43.72580337524414,
          43.70497226075038,
          43.68414114625662,
          43.66331003176286,
          43.6424789172691,
          43.621647802775335,
          43.600816688281576,
          43.579985573787816,
          43.55915445929406,
          43.5383233448003,
          43.51749223030654,
          43.49666111581278,
          43.47583000131902,
          43.45499888682525,
          43.43416777233149,
          43.41333665783773,
          43.39250554334397,
          43.37167442885021,
          43.35084331435645,
          43.33001219986269,
          43.309181085368934,
          43.288349970875174,
          43.26751885638141,
          43.24668774188765,
          43.22585662739389,
          43.20502551290013,
          43.18419439840637,
          43.16336328391261,
          43.14253216941884,
          43.12170105492509,
          43.10086994043132,
          43.080038825937564,
          43.059207711443804,
          43.038376596950044,
          43.017545482456285,
          42.996714367962525,
          42.975883253468766,
          42.955052138975006,
          42.934221024481246,
          42.91338990998748,
          42.89255879549372,
          42.87172768099996,
          42.8508965665062,
          42.83006545201244,
          42.80923433751868,
          42.788403223024915,
          42.767572108531155,
          42.746740994037395,
          42.725909879543636,
          42.705078765049876,
          42.68424765055612,
          42.66341653606236,
          42.6425854215686,
          42.62175430707484,
          42.60092319258107,
          42.58009207808732,
          42.55926096359355,
          42.53842984909979,
          42.51759873460603,
          42.49676762011227,
          42.47593650561851,
          42.455105391124754,
          42.43427427663099,
          42.41344316213723,
          42.39261204764347,
          42.37178093314971,
          42.35094981865595,
          42.33011870416219,
          42.30928758966843,
          42.28845647517467,
          42.26762536068091,
          42.24679424618714,
          42.22596313169338,
          42.205132017199624,
          42.184300902705864,
          42.163469788212105,
          42.142638673718345,
          42.121807559224585,
          42.100976444730826,
          42.08014533023706,
          42.0593142157433,
          42.03848310124954,
          42.01765198675578,
          41.99682087226202,
          41.97598975776826,
          41.9551586432745,
          41.93432752878074,
          41.91349641428698,
          41.892665299793215,
          41.871834185299456,
          41.851003070805696,
          41.830171956311936,
          41.80934084181818,
          41.78850972732442,
          41.76767861283065,
          41.74684749833689,
          41.72601638384313,
          41.70518526934937,
          41.68435415485561,
          41.66352304036185,
          41.64269192586809,
          41.62186081137433,
          41.60102969688057,
          41.580198582386814,
          41.559367467893054,
          41.53853635339929,
          41.51770523890553,
          41.49687412441177,
          41.47604300991801,
          41.45521189542425,
          41.43438078093049,
          41.41354966643672,
          41.39271855194296,
          41.3718874374492,
          41.35105632295544,
          41.330225208461684,
          41.309394093967924,
          41.288562979474165,
          41.267731864980405,
          41.246900750486645,
          41.226069635992886,
          41.205238521499126,
          41.18440740700536,
          41.1635762925116,
          41.14274517801784,
          41.12191406352408,
          41.10108294903032,
          41.08025183453656,
          41.059420720042795,
          41.038589605549035,
          41.017758491055275,
          40.996927376561516,
          40.976096262067756,
          40.955265147573996,
          40.93443403308024,
          40.91360291858648,
          40.89277180409272,
          40.87194068959896,
          40.85110957510519,
          40.83027846061143,
          40.80944734611767,
          40.78861623162391,
          40.76778511713015,
          40.74695400263639,
          40.72612288814263,
          40.70529177364887,
          40.68446065915511,
          40.66362954466135,
          40.64279843016759,
          40.62196731567383,
          40.60113620118007,
          40.58030508668631,
          40.55947397219255,
          40.53864285769879,
          40.51781174320502,
          40.49698062871126,
          40.476149514217504,
          40.455318399723744,
          40.434487285229984,
          40.413656170736225,
          40.392825056242465,
          40.3719939417487,
          40.35116282725494,
          40.33033171276118,
          40.30950059826742,
          40.28866948377366,
          40.2678383692799,
          40.24700725478614,
          40.22617614029238,
          40.20534502579862,
          40.18451391130486,
          40.163682796811095,
          40.142851682317335,
          40.122020567823576,
          40.101189453329816,
          40.08035833883606,
          40.0595272243423,
          40.03869610984853,
          40.01786499535477,
          39.99703388086101,
          39.97620276636725,
          39.95537165187349,
          39.93454053737973,
          39.91370942288597,
          39.89287830839221,
          39.87204719389845,
          39.85121607940469,
          39.830384964910934,
          39.80955385041717,
          39.78872273592341,
          39.76789162142965,
          39.74706050693589,
          39.72622939244213,
          39.70539827794837,
          39.6845671634546,
          39.66373604896084,
          39.64290493446708,
          39.62207381997332,
          39.601242705479564,
          39.580411590985804,
          39.559580476492044,
          39.538749361998285,
          39.517918247504525,
          39.497087133010766,
          39.476256018517006,
          39.45542490402324,
          39.43459378952948,
          39.41376267503572,
          39.39293156054196,
          39.3721004460482,
          39.35126933155444,
          39.330438217060674,
          39.309607102566915,
          39.288775988073155,
          39.267944873579395,
          39.247113759085636,
          39.226282644591876,
          39.20545153009812,
          39.18462041560436,
          39.1637893011106,
          39.14295818661684,
          39.12212707212307,
          39.10129595762931,
          39.08046484313555,
          39.05963372864179,
          39.03880261414803,
          39.01797149965427,
          38.997140385160506,
          38.976309270666746,
          38.95547815617299,
          38.93464704167923,
          38.91381592718547,
          38.89298481269171,
          38.87215369819795,
          38.85132258370419,
          38.83049146921043,
          38.80966035471667,
          38.7888292402229,
          38.76799812572914,
          38.74716701123538,
          38.726335896741624,
          38.705504782247864,
          38.684673667754105,
          38.66384255326034,
          38.64301143876658,
          38.62218032427282,
          38.60134920977906,
          38.5805180952853,
          38.55968698079154,
          38.53885586629778,
          38.51802475180402,
          38.49719363731026,
          38.4763625228165,
          38.45553140832274,
          38.434700293828975,
          38.413869179335215,
          38.393038064841456,
          38.372206950347696,
          38.351375835853936,
          38.33054472136018,
          38.30971360686641,
          38.28888249237265,
          38.26805137787889,
          38.24722026338513,
          38.22638914889137,
          38.20555803439761,
          38.18472691990385,
          38.16389580541009,
          38.14306469091633,
          38.12223357642257,
          38.101402461928814,
          38.08057134743505,
          38.05974023294129,
          38.03890911844753,
          38.01807800395377,
          37.99724688946001,
          37.97641577496625,
          37.95558466047248,
          37.93475354597872,
          37.91392243148496,
          37.8930913169912,
          37.87226020249744,
          37.851429088003684,
          37.830597973509924,
          37.809766859016165,
          37.788935744522405,
          37.768104630028645,
          37.74727351553488,
          37.72644240104112,
          37.70561128654736,
          37.6847801720536,
          37.66394905755984,
          37.64311794306608,
          37.62228682857232,
          37.601455714078554,
          37.580624599584795,
          37.559793485091035,
          37.538962370597275,
          37.518131256103516
         ],
         "yaxis": "y"
        },
        {
         "marker": {
          "color": "#2d92ff"
         },
         "name": "Trend Rate Change",
         "type": "bar",
         "uid": "9c010826-630c-4ad1-a66a-f57a52a0764c",
         "x": [
          "2009-12-01T00:00:00",
          "2009-12-19T15:00:00",
          "2010-01-07T06:00:00",
          "2010-01-25T21:00:00",
          "2010-02-13T12:00:00",
          "2010-03-04T03:00:00",
          "2010-03-22T18:00:00",
          "2010-04-10T09:00:00",
          "2010-04-29T00:00:00",
          "2010-05-17T15:00:00",
          "2010-06-05T06:00:00",
          "2010-06-23T21:00:00",
          "2010-07-12T12:00:00",
          "2010-07-31T03:00:00",
          "2010-08-18T18:00:00",
          "2010-09-06T09:00:00",
          "2011-07-20T00:00:00"
         ],
         "xaxis": "x2",
         "y": [
          29.21113395690918,
          0.8568572998046875,
          -3.8510284423828125,
          -6.147329330444336,
          -2.7071456909179688,
          -9.651154518127441,
          -4.682215690612793,
          -0.656212329864502,
          -2.9485645294189453,
          1.9535694122314453,
          -1.561457633972168,
          -4.407110214233398,
          1.388059377670288,
          2.856356143951416,
          -9.389028549194336,
          -12.777956008911133,
          0
         ],
         "yaxis": "y2"
        },
        {
         "fill": "none",
         "line": {
          "color": "#2d92ff",
          "width": 2
         },
         "mode": "lines",
         "name": "yearly",
         "type": "scatter",
         "uid": "b07ad513-f96a-4738-974a-75a3f674403e",
         "x": [
          "2017-01-01T00:00:00",
          "2017-01-02T00:00:00",
          "2017-01-03T00:00:00",
          "2017-01-04T00:00:00",
          "2017-01-05T00:00:00",
          "2017-01-06T00:00:00",
          "2017-01-07T00:00:00",
          "2017-01-08T00:00:00",
          "2017-01-09T00:00:00",
          "2017-01-10T00:00:00",
          "2017-01-11T00:00:00",
          "2017-01-12T00:00:00",
          "2017-01-13T00:00:00",
          "2017-01-14T00:00:00",
          "2017-01-15T00:00:00",
          "2017-01-16T00:00:00",
          "2017-01-17T00:00:00",
          "2017-01-18T00:00:00",
          "2017-01-19T00:00:00",
          "2017-01-20T00:00:00",
          "2017-01-21T00:00:00",
          "2017-01-22T00:00:00",
          "2017-01-23T00:00:00",
          "2017-01-24T00:00:00",
          "2017-01-25T00:00:00",
          "2017-01-26T00:00:00",
          "2017-01-27T00:00:00",
          "2017-01-28T00:00:00",
          "2017-01-29T00:00:00",
          "2017-01-30T00:00:00",
          "2017-01-31T00:00:00",
          "2017-02-01T00:00:00",
          "2017-02-02T00:00:00",
          "2017-02-03T00:00:00",
          "2017-02-04T00:00:00",
          "2017-02-05T00:00:00",
          "2017-02-06T00:00:00",
          "2017-02-07T00:00:00",
          "2017-02-08T00:00:00",
          "2017-02-09T00:00:00",
          "2017-02-10T00:00:00",
          "2017-02-11T00:00:00",
          "2017-02-12T00:00:00",
          "2017-02-13T00:00:00",
          "2017-02-14T00:00:00",
          "2017-02-15T00:00:00",
          "2017-02-16T00:00:00",
          "2017-02-17T00:00:00",
          "2017-02-18T00:00:00",
          "2017-02-19T00:00:00",
          "2017-02-20T00:00:00",
          "2017-02-21T00:00:00",
          "2017-02-22T00:00:00",
          "2017-02-23T00:00:00",
          "2017-02-24T00:00:00",
          "2017-02-25T00:00:00",
          "2017-02-26T00:00:00",
          "2017-02-27T00:00:00",
          "2017-02-28T00:00:00",
          "2017-03-01T00:00:00",
          "2017-03-02T00:00:00",
          "2017-03-03T00:00:00",
          "2017-03-04T00:00:00",
          "2017-03-05T00:00:00",
          "2017-03-06T00:00:00",
          "2017-03-07T00:00:00",
          "2017-03-08T00:00:00",
          "2017-03-09T00:00:00",
          "2017-03-10T00:00:00",
          "2017-03-11T00:00:00",
          "2017-03-12T00:00:00",
          "2017-03-13T00:00:00",
          "2017-03-14T00:00:00",
          "2017-03-15T00:00:00",
          "2017-03-16T00:00:00",
          "2017-03-17T00:00:00",
          "2017-03-18T00:00:00",
          "2017-03-19T00:00:00",
          "2017-03-20T00:00:00",
          "2017-03-21T00:00:00",
          "2017-03-22T00:00:00",
          "2017-03-23T00:00:00",
          "2017-03-24T00:00:00",
          "2017-03-25T00:00:00",
          "2017-03-26T00:00:00",
          "2017-03-27T00:00:00",
          "2017-03-28T00:00:00",
          "2017-03-29T00:00:00",
          "2017-03-30T00:00:00",
          "2017-03-31T00:00:00",
          "2017-04-01T00:00:00",
          "2017-04-02T00:00:00",
          "2017-04-03T00:00:00",
          "2017-04-04T00:00:00",
          "2017-04-05T00:00:00",
          "2017-04-06T00:00:00",
          "2017-04-07T00:00:00",
          "2017-04-08T00:00:00",
          "2017-04-09T00:00:00",
          "2017-04-10T00:00:00",
          "2017-04-11T00:00:00",
          "2017-04-12T00:00:00",
          "2017-04-13T00:00:00",
          "2017-04-14T00:00:00",
          "2017-04-15T00:00:00",
          "2017-04-16T00:00:00",
          "2017-04-17T00:00:00",
          "2017-04-18T00:00:00",
          "2017-04-19T00:00:00",
          "2017-04-20T00:00:00",
          "2017-04-21T00:00:00",
          "2017-04-22T00:00:00",
          "2017-04-23T00:00:00",
          "2017-04-24T00:00:00",
          "2017-04-25T00:00:00",
          "2017-04-26T00:00:00",
          "2017-04-27T00:00:00",
          "2017-04-28T00:00:00",
          "2017-04-29T00:00:00",
          "2017-04-30T00:00:00",
          "2017-05-01T00:00:00",
          "2017-05-02T00:00:00",
          "2017-05-03T00:00:00",
          "2017-05-04T00:00:00",
          "2017-05-05T00:00:00",
          "2017-05-06T00:00:00",
          "2017-05-07T00:00:00",
          "2017-05-08T00:00:00",
          "2017-05-09T00:00:00",
          "2017-05-10T00:00:00",
          "2017-05-11T00:00:00",
          "2017-05-12T00:00:00",
          "2017-05-13T00:00:00",
          "2017-05-14T00:00:00",
          "2017-05-15T00:00:00",
          "2017-05-16T00:00:00",
          "2017-05-17T00:00:00",
          "2017-05-18T00:00:00",
          "2017-05-19T00:00:00",
          "2017-05-20T00:00:00",
          "2017-05-21T00:00:00",
          "2017-05-22T00:00:00",
          "2017-05-23T00:00:00",
          "2017-05-24T00:00:00",
          "2017-05-25T00:00:00",
          "2017-05-26T00:00:00",
          "2017-05-27T00:00:00",
          "2017-05-28T00:00:00",
          "2017-05-29T00:00:00",
          "2017-05-30T00:00:00",
          "2017-05-31T00:00:00",
          "2017-06-01T00:00:00",
          "2017-06-02T00:00:00",
          "2017-06-03T00:00:00",
          "2017-06-04T00:00:00",
          "2017-06-05T00:00:00",
          "2017-06-06T00:00:00",
          "2017-06-07T00:00:00",
          "2017-06-08T00:00:00",
          "2017-06-09T00:00:00",
          "2017-06-10T00:00:00",
          "2017-06-11T00:00:00",
          "2017-06-12T00:00:00",
          "2017-06-13T00:00:00",
          "2017-06-14T00:00:00",
          "2017-06-15T00:00:00",
          "2017-06-16T00:00:00",
          "2017-06-17T00:00:00",
          "2017-06-18T00:00:00",
          "2017-06-19T00:00:00",
          "2017-06-20T00:00:00",
          "2017-06-21T00:00:00",
          "2017-06-22T00:00:00",
          "2017-06-23T00:00:00",
          "2017-06-24T00:00:00",
          "2017-06-25T00:00:00",
          "2017-06-26T00:00:00",
          "2017-06-27T00:00:00",
          "2017-06-28T00:00:00",
          "2017-06-29T00:00:00",
          "2017-06-30T00:00:00",
          "2017-07-01T00:00:00",
          "2017-07-02T00:00:00",
          "2017-07-03T00:00:00",
          "2017-07-04T00:00:00",
          "2017-07-05T00:00:00",
          "2017-07-06T00:00:00",
          "2017-07-07T00:00:00",
          "2017-07-08T00:00:00",
          "2017-07-09T00:00:00",
          "2017-07-10T00:00:00",
          "2017-07-11T00:00:00",
          "2017-07-12T00:00:00",
          "2017-07-13T00:00:00",
          "2017-07-14T00:00:00",
          "2017-07-15T00:00:00",
          "2017-07-16T00:00:00",
          "2017-07-17T00:00:00",
          "2017-07-18T00:00:00",
          "2017-07-19T00:00:00",
          "2017-07-20T00:00:00",
          "2017-07-21T00:00:00",
          "2017-07-22T00:00:00",
          "2017-07-23T00:00:00",
          "2017-07-24T00:00:00",
          "2017-07-25T00:00:00",
          "2017-07-26T00:00:00",
          "2017-07-27T00:00:00",
          "2017-07-28T00:00:00",
          "2017-07-29T00:00:00",
          "2017-07-30T00:00:00",
          "2017-07-31T00:00:00",
          "2017-08-01T00:00:00",
          "2017-08-02T00:00:00",
          "2017-08-03T00:00:00",
          "2017-08-04T00:00:00",
          "2017-08-05T00:00:00",
          "2017-08-06T00:00:00",
          "2017-08-07T00:00:00",
          "2017-08-08T00:00:00",
          "2017-08-09T00:00:00",
          "2017-08-10T00:00:00",
          "2017-08-11T00:00:00",
          "2017-08-12T00:00:00",
          "2017-08-13T00:00:00",
          "2017-08-14T00:00:00",
          "2017-08-15T00:00:00",
          "2017-08-16T00:00:00",
          "2017-08-17T00:00:00",
          "2017-08-18T00:00:00",
          "2017-08-19T00:00:00",
          "2017-08-20T00:00:00",
          "2017-08-21T00:00:00",
          "2017-08-22T00:00:00",
          "2017-08-23T00:00:00",
          "2017-08-24T00:00:00",
          "2017-08-25T00:00:00",
          "2017-08-26T00:00:00",
          "2017-08-27T00:00:00",
          "2017-08-28T00:00:00",
          "2017-08-29T00:00:00",
          "2017-08-30T00:00:00",
          "2017-08-31T00:00:00",
          "2017-09-01T00:00:00",
          "2017-09-02T00:00:00",
          "2017-09-03T00:00:00",
          "2017-09-04T00:00:00",
          "2017-09-05T00:00:00",
          "2017-09-06T00:00:00",
          "2017-09-07T00:00:00",
          "2017-09-08T00:00:00",
          "2017-09-09T00:00:00",
          "2017-09-10T00:00:00",
          "2017-09-11T00:00:00",
          "2017-09-12T00:00:00",
          "2017-09-13T00:00:00",
          "2017-09-14T00:00:00",
          "2017-09-15T00:00:00",
          "2017-09-16T00:00:00",
          "2017-09-17T00:00:00",
          "2017-09-18T00:00:00",
          "2017-09-19T00:00:00",
          "2017-09-20T00:00:00",
          "2017-09-21T00:00:00",
          "2017-09-22T00:00:00",
          "2017-09-23T00:00:00",
          "2017-09-24T00:00:00",
          "2017-09-25T00:00:00",
          "2017-09-26T00:00:00",
          "2017-09-27T00:00:00",
          "2017-09-28T00:00:00",
          "2017-09-29T00:00:00",
          "2017-09-30T00:00:00",
          "2017-10-01T00:00:00",
          "2017-10-02T00:00:00",
          "2017-10-03T00:00:00",
          "2017-10-04T00:00:00",
          "2017-10-05T00:00:00",
          "2017-10-06T00:00:00",
          "2017-10-07T00:00:00",
          "2017-10-08T00:00:00",
          "2017-10-09T00:00:00",
          "2017-10-10T00:00:00",
          "2017-10-11T00:00:00",
          "2017-10-12T00:00:00",
          "2017-10-13T00:00:00",
          "2017-10-14T00:00:00",
          "2017-10-15T00:00:00",
          "2017-10-16T00:00:00",
          "2017-10-17T00:00:00",
          "2017-10-18T00:00:00",
          "2017-10-19T00:00:00",
          "2017-10-20T00:00:00",
          "2017-10-21T00:00:00",
          "2017-10-22T00:00:00",
          "2017-10-23T00:00:00",
          "2017-10-24T00:00:00",
          "2017-10-25T00:00:00",
          "2017-10-26T00:00:00",
          "2017-10-27T00:00:00",
          "2017-10-28T00:00:00",
          "2017-10-29T00:00:00",
          "2017-10-30T00:00:00",
          "2017-10-31T00:00:00",
          "2017-11-01T00:00:00",
          "2017-11-02T00:00:00",
          "2017-11-03T00:00:00",
          "2017-11-04T00:00:00",
          "2017-11-05T00:00:00",
          "2017-11-06T00:00:00",
          "2017-11-07T00:00:00",
          "2017-11-08T00:00:00",
          "2017-11-09T00:00:00",
          "2017-11-10T00:00:00",
          "2017-11-11T00:00:00",
          "2017-11-12T00:00:00",
          "2017-11-13T00:00:00",
          "2017-11-14T00:00:00",
          "2017-11-15T00:00:00",
          "2017-11-16T00:00:00",
          "2017-11-17T00:00:00",
          "2017-11-18T00:00:00",
          "2017-11-19T00:00:00",
          "2017-11-20T00:00:00",
          "2017-11-21T00:00:00",
          "2017-11-22T00:00:00",
          "2017-11-23T00:00:00",
          "2017-11-24T00:00:00",
          "2017-11-25T00:00:00",
          "2017-11-26T00:00:00",
          "2017-11-27T00:00:00",
          "2017-11-28T00:00:00",
          "2017-11-29T00:00:00",
          "2017-11-30T00:00:00",
          "2017-12-01T00:00:00",
          "2017-12-02T00:00:00",
          "2017-12-03T00:00:00",
          "2017-12-04T00:00:00",
          "2017-12-05T00:00:00",
          "2017-12-06T00:00:00",
          "2017-12-07T00:00:00",
          "2017-12-08T00:00:00",
          "2017-12-09T00:00:00",
          "2017-12-10T00:00:00",
          "2017-12-11T00:00:00",
          "2017-12-12T00:00:00",
          "2017-12-13T00:00:00",
          "2017-12-14T00:00:00",
          "2017-12-15T00:00:00",
          "2017-12-16T00:00:00",
          "2017-12-17T00:00:00",
          "2017-12-18T00:00:00",
          "2017-12-19T00:00:00",
          "2017-12-20T00:00:00",
          "2017-12-21T00:00:00",
          "2017-12-22T00:00:00",
          "2017-12-23T00:00:00",
          "2017-12-24T00:00:00",
          "2017-12-25T00:00:00",
          "2017-12-26T00:00:00",
          "2017-12-27T00:00:00",
          "2017-12-28T00:00:00",
          "2017-12-29T00:00:00",
          "2017-12-30T00:00:00",
          "2017-12-31T00:00:00"
         ],
         "xaxis": "x3",
         "y": [
          -154.69815003981765,
          -167.09163333563217,
          -178.29511203185933,
          -188.28841696775658,
          -197.06086784489122,
          -204.61116860413514,
          -210.94721892691499,
          -216.0858447345496,
          -220.05245132921823,
          -222.88060354534082,
          -224.6115379550823,
          -225.29361279073177,
          -224.98170180161264,
          -223.736538750075,
          -221.62401966713708,
          -218.7144703251094,
          -215.08188664519193,
          -210.80315593472665,
          -205.9572669454132,
          -200.62451675564543,
          -194.88572241098075,
          -188.82144510619852,
          -182.51123446361572,
          -176.03290015720165,
          -169.46181775630595,
          -162.870275217978,
          -156.32686595287703,
          -149.8959338254308,
          -143.63707483949523,
          -137.60469960394454,
          -131.84765998332608,
          -126.40894261924424,
          -121.32543126957039,
          -116.62773916110561,
          -112.34011179541825,
          -108.4803998966985,
          -105.060101449321,
          -102.08447105356035,
          -99.55269413368273,
          -97.4581228741566,
          -95.78857014130479,
          -94.52665707695239,
          -93.65020953317912,
          -93.13269805660191,
          -92.9437157348826,
          -93.04948788556229,
          -93.41340730704273,
          -93.99658862056249,
          -94.75843511499028,
          -95.65721146280814,
          -96.65061570499313,
          -97.6963440050601,
          -98.75264184520483,
          -99.7788355785506,
          -100.73583855771207,
          -101.5866264266488,
          -102.2966765867361,
          -102.83436732243325,
          -103.171332592787,
          -103.28276905497913,
          -103.14769247882226,
          -102.74914133073011,
          -102.07432594323183,
          -101.11472233641118,
          -99.86611041106877,
          -98.32855688571915,
          -96.50634398902417,
          -94.40784554374991,
          -92.04535267709892,
          -89.43485196021099,
          -86.59575931128123,
          -83.55061348464318,
          -80.32473340817089,
          -76.94584401927699,
          -73.44367557958691,
          -69.8495417193025,
          -66.19590166843142,
          -62.515912276021034,
          -58.842975492541214,
          -55.21028700170089,
          -51.650391629124215,
          -48.1947510340198,
          -44.87332900257523,
          -41.7141994140199,
          -38.74318164508846,
          -35.98350781701941,
          -33.45552587978331,
          -31.176442071869857,
          -29.16010579921121,
          -27.416839447348366,
          -25.95331508420712,
          -24.7724794333199,
          -23.87352790477513,
          -23.251927871619728,
          -22.899490779342273,
          -22.804492082275928,
          -22.951837420374815,
          -23.323272888961178,
          -23.897636721027254,
          -24.65114919862301,
          -25.557737148744735,
          -26.589388958006722,
          -27.71653567044524,
          -28.908453414225846,
          -30.133682141544952,
          -31.36045546317201,
          -32.5571362188999,
          -33.692652347099184,
          -34.73692760528167,
          -35.66130174183709,
          -36.43893483804482,
          -37.04519071398791,
          -37.45799453291744,
          -37.658160032493825,
          -37.62968216426015,
          -37.35999132201954,
          -36.84016578850259,
          -36.06509951649814,
          -35.03362288483204,
          -33.748574622147366,
          -32.216823666602,
          -30.449240322629578,
          -28.46061667720562,
          -26.269536842729842,
          -23.898198194293336,
          -21.37218535842122,
          -18.720199281494033,
          -15.97374425341743,
          -13.166776277997954,
          -10.335316660536861,
          -7.517035119948957,
          -4.750807121623936,
          -2.0762504641911477,
          0.46675356697940984,
          2.8385489454094532,
          5.000197856533834,
          6.9139720732178205,
          8.543836941085711,
          9.85592220048435,
          10.818973977682198,
          11.404782448888803,
          11.588579916113503,
          11.3494043312227,
          10.670423658712238,
          9.539216880028825,
          7.948007901009319,
          5.893849132453369,
          3.3787520587935376,
          0.40976269233216556,
          -3.001019582366439,
          -6.8364806377258915,
          -11.074587926743895,
          -15.688544069574995,
          -20.64699662033471,
          -25.91430228776187,
          -31.45084325308064,
          -37.21339262179642,
          -43.155525465653454,
          -49.228071367994616,
          -55.3796038824259,
          -61.5569618599183,
          -67.70579719636007,
          -73.77114320735235,
          -79.69799755341208,
          -85.43191341975805,
          -90.91959250447468,
          -96.10947328737805,
          -100.95230804364775,
          -105.40172212715059,
          -109.41474918400574,
          -112.95233616065471,
          -115.97981224504952,
          -118.46731621881767,
          -120.39017710228966,
          -121.729243435196,
          -122.47115705332254,
          -122.60856778626103,
          -122.14028611052154,
          -121.07137143846859,
          -119.41315439855916,
          -117.18319216272852,
          -114.4051565901789,
          -111.10865568033222,
          -107.32898955008292,
          -103.1068428661514,
          -98.48791636307662,
          -93.5225007541151,
          -88.26499698945355,
          -82.77338742462369,
          -77.10866302660985,
          -71.33421225940955,
          -65.51517774752398,
          -59.71778721236933,
          -54.008665504446384,
          -48.4541348144717,
          -43.11951033011918,
          -38.068398716066824,
          -33.36200682497819,
          -29.058468001584487,
          -25.21219321543775,
          -21.873254056347687,
          -19.086804346444662,
          -16.892546771847684,
          -15.324250513377777,
          -14.40932536866319,
          -14.168457307413245,
          -14.615309796781908,
          -15.75629457808397,
          -17.590414878668774,
          -20.109183307269035,
          -23.296615919542546,
          -27.12930315669169,
          -31.576557564049587,
          -36.60063739734482,
          -42.15704442786098,
          -48.1948934754263,
          -54.65735043548979,
          -61.482134833739856,
          -68.60208224601345,
          -75.94576126800709,
          -83.43813912112176,
          -91.00128943587886,
          -98.55513527857639,
          -106.01822007536754,
          -113.30849875454012,
          -120.34414116983908,
          -127.04433969062524,
          -133.33011275305861,
          -139.12509615554447,
          -144.35631396012712,
          -148.95492102093684,
          -152.85690940616664,
          -156.0037713048078,
          -158.3431114146467,
          -159.82920228453497,
          -160.42347663434978,
          -160.09495128653887,
          -158.82057801630197,
          -156.58551734855092,
          -153.3833320986431,
          -149.21609825680216,
          -144.0944316493486,
          -138.0374296628464,
          -131.07252818062358,
          -123.23527474890679,
          -114.56901984889036,
          -105.12452899698772,
          -94.95951921548368,
          -84.1381242047911,
          -72.73029329462645,
          -60.81112995132709,
          -48.46017625966499,
          -35.760650377264795,
          -22.798644470446924,
          -9.662291074810852,
          3.5590938188202585,
          16.77588238091252,
          29.899012502734244,
          42.84086244249642,
          55.51611369407529,
          67.84259329651417,
          79.74208697661138,
          91.14111477606507,
          101.97166116379731,
          112.17185206211511,
          121.68657172578119,
          130.46801299335897,
          138.47615508204763,
          145.6791638078464,
          152.05370987992268,
          157.58520173025056,
          162.2679301922012,
          166.10512322269597,
          169.10890976647153,
          171.30019277498513,
          172.70843231143806,
          173.37134058400773,
          173.3344916450083,
          172.65084936452376,
          171.38021812311865,
          169.588621463369,
          167.3476146820177,
          164.73353803181072,
          161.8267178200883,
          158.71062324062842,
          155.47098724541112,
          152.1949001507665,
          148.96988497514096,
          145.88296371588393,
          143.01972389454244,
          140.46339472377878,
          138.29394218440856,
          136.58719213753187,
          135.41399034580508,
          134.83940793453408,
          134.92200039514637,
          135.71312772324652,
          137.2563426954306,
          139.58685363132744,
          142.73106726312244,
          146.7062165551311,
          151.52007748507526,
          157.17077792763263,
          163.64670087658965,
          170.9264833140299,
          178.97911109367712,
          187.7641092580706,
          197.23182626811393,
          207.32380969480752,
          217.9732700197076,
          229.10562831783096,
          240.6391427667422,
          252.48560814488587,
          264.55112175803487,
          276.7369085747067,
          288.94019776327156,
          301.05514231375025,
          312.97377299826985,
          324.586977583261,
          335.78549595369947,
          346.46092165143756,
          356.50670026165545,
          365.8191151129903,
          374.29825087639097,
          381.84892586583095,
          388.38158414789456,
          393.81313896115194,
          398.06775942255547,
          401.0775930522024,
          402.78341727615225,
          403.1352137592254,
          402.0926601744414,
          399.6255348189087,
          395.7140303349305,
          390.34897367786147,
          383.5319503817116,
          375.27533209959347,
          365.6022073290186,
          354.54621616627685,
          342.1512908524069,
          328.47130477692906,
          313.56963347508037,
          297.51863199090985,
          280.39903376401924,
          262.2992769353285,
          243.3147646387995,
          223.547066453944,
          203.1030687269401,
          182.09408192347314,
          160.63491354967508,
          138.84291546362485,
          116.83701460040831,
          94.73673624045439,
          72.66122897118012,
          50.72830041768009,
          29.05347265991233,
          7.749066000969577,
          -13.076680576592594,
          -33.320444347251936,
          -52.88460173795054,
          -71.67795231126249,
          -89.61637758702172,
          -106.62342913527723,
          -122.63084110830226,
          -137.5789631510162
         ],
         "yaxis": "y3"
        },
        {
         "fill": "none",
         "line": {
          "color": "#2d92ff",
          "width": 2
         },
         "mode": "lines",
         "name": "weekly",
         "type": "scatter",
         "uid": "50e30442-df98-4feb-8c35-d14c4bff6054",
         "x": [
          0,
          1,
          2,
          3,
          4,
          5,
          6,
          7,
          8,
          9,
          10,
          11,
          12,
          13,
          14,
          15,
          16,
          17,
          18,
          19,
          20,
          21,
          22,
          23,
          24,
          25,
          26,
          27,
          28,
          29,
          30,
          31,
          32,
          33,
          34,
          35,
          36,
          37,
          38,
          39,
          40,
          41,
          42,
          43,
          44,
          45,
          46,
          47,
          48,
          49,
          50,
          51,
          52,
          53,
          54,
          55,
          56,
          57,
          58,
          59,
          60,
          61,
          62,
          63,
          64,
          65,
          66,
          67,
          68,
          69,
          70,
          71,
          72,
          73,
          74,
          75,
          76,
          77,
          78,
          79,
          80,
          81,
          82,
          83,
          84,
          85,
          86,
          87,
          88,
          89,
          90,
          91,
          92,
          93,
          94,
          95,
          96,
          97,
          98,
          99,
          100,
          101,
          102,
          103,
          104,
          105,
          106,
          107,
          108,
          109,
          110,
          111,
          112,
          113,
          114,
          115,
          116,
          117,
          118,
          119,
          120,
          121,
          122,
          123,
          124,
          125,
          126,
          127,
          128,
          129,
          130,
          131,
          132,
          133,
          134,
          135,
          136,
          137,
          138,
          139,
          140,
          141,
          142,
          143,
          144,
          145,
          146,
          147,
          148,
          149,
          150,
          151,
          152,
          153,
          154,
          155,
          156,
          157,
          158,
          159,
          160,
          161,
          162,
          163,
          164,
          165,
          166,
          167
         ],
         "xaxis": "x4",
         "y": [
          -86.05506886809881,
          -80.37473703330866,
          -74.66519472333317,
          -68.9399612636962,
          -63.21205733229477,
          -57.49404562658879,
          -51.798073966638576,
          -46.13591935596162,
          -40.519031528551565,
          -34.95857456514989,
          -29.465465235772662,
          -24.050406784363936,
          -18.723917007544614,
          -13.496349595594403,
          -8.377907834606354,
          -3.3786499395322025,
          1.4915145446277265,
          6.222837671463331,
          10.805755552087007,
          15.23092035196212,
          19.4892416625947,
          23.571936874921672,
          27.47059000162382,
          31.177218226944326,
          34.684345280903386,
          37.98508058279264,
          41.07320295878111,
          43.943247610227814,
          46.5905948994654,
          49.011559437629586,
          51.2034778916002,
          53.16479388151005,
          54.89513832794566,
          56.395403608424644,
          57.66780991407165,
          58.71596225397373,
          59.544896631115115,
          60.16111401468973,
          60.572600861712644,
          60.78883507965672,
          60.82077649000388,
          60.68084103081712,
          60.382858132271515,
          59.94201090831578,
          59.37475902336172,
          58.69874431944114,
          57.93267951844429,
          57.096220543050435,
          56.20982322988301,
          55.29458543287794,
          54.37207572900944,
          53.46415014543713,
          52.59275852124728,
          51.77974228775597,
          51.04662561417666,
          50.41440199964181,
          49.90331850570611,
          49.53265991412479,
          49.320535156935655,
          49.283668401000874,
          49.43719717870492,
          49.794479933541616,
          50.36691530032854,
          51.16377536379528,
          52.192055029248685,
          53.45633951141212,
          54.95869178306331,
          56.698561648873266,
          58.672717898741475,
          60.8752047759112,
          63.297323746142666,
          65.92764130467306,
          68.75202328278529,
          71.75369583654565,
          74.91333302311483,
          78.20917057819301,
          81.61714521804348,
          85.1110585216741,
          88.66276416132156,
          92.24237698906322,
          95.8185022438924,
          99.35848290492233,
          102.82866300039551,
          106.19466450133197,
          109.42167525340739,
          112.4747452590318,
          115.31908852166703,
          117.92038757059692,
          120.24509773553075,
          122.26074822878884,
          123.93623709571077,
          125.2421171417055,
          126.15087002341429,
          126.63716579391178,
          126.67810532789153,
          126.2534432228421,
          125.34578895569145,
          123.94078429568916,
          122.02725520686164,
          119.5973367333761,
          116.6465696317099,
          113.17396779872038,
          109.18205584441252,
          104.67687645790286,
          99.66796752178698,
          94.1683092355018,
          88.19424181871226,
          81.76535464639272,
          74.90434796334443,
          67.63686860654002,
          59.99132139205753,
          51.99865808572341,
          43.69214608735714,
          35.10711913104659,
          26.280712485919572,
          17.25158528176304,
          8.059632666449836,
          -1.2543094002888504,
          -10.648763858331902,
          -20.081913928059674,
          -29.511903305507644,
          -38.897132370642105,
          -48.19654770908371,
          -57.369922328785435,
          -66.37812408783354,
          -75.18337003481449,
          -83.749464517565,
          -92.04201913400755,
          -100.02865282166846,
          -107.67917062594057,
          -114.9657199212848,
          -121.86292314513483,
          -128.3479863588355,
          -134.40078321818777,
          -140.0039142241312,
          -145.14274137437621,
          -149.80539861352875,
          -153.9827787264423,
          -157.66849756252162,
          -160.85883669982405,
          -163.55266587803663,
          -165.7513467080673,
          -167.45861933314592,
          -168.6804738713898,
          -169.4250085754644,
          -169.70227674366407,
          -169.52412448499413,
          -168.9040214745066,
          -167.8568868499895,
          -166.39891238455675,
          -164.5473850272656,
          -162.32051083816958,
          -159.7372422494901,
          -156.81711047187224,
          -153.5800647329781,
          -150.04631987329384,
          -146.2362136603246,
          -142.17007499987767,
          -137.8681040172869,
          -133.35026478610317,
          -128.63619127355588,
          -123.74510684732327,
          -118.69575748702503,
          -113.50635863327692,
          -108.19455539634848,
          -102.777395655627,
          -97.27131540272313,
          -91.69213549759561
         ],
         "yaxis": "y4"
        },
        {
         "fill": "none",
         "line": {
          "color": "#2d92ff",
          "width": 2
         },
         "mode": "lines",
         "name": "daily",
         "type": "scatter",
         "uid": "01aecf1d-1245-4a6c-85d4-c92af4bf309d",
         "x": [
          0,
          1,
          2,
          3,
          4,
          5,
          6,
          7,
          8,
          9,
          10,
          11,
          12,
          13,
          14,
          15,
          16,
          17,
          18,
          19,
          20,
          21,
          22,
          23,
          24,
          25,
          26,
          27,
          28,
          29,
          30,
          31,
          32,
          33,
          34,
          35,
          36,
          37,
          38,
          39,
          40,
          41,
          42,
          43,
          44,
          45,
          46,
          47,
          48,
          49,
          50,
          51,
          52,
          53,
          54,
          55,
          56,
          57,
          58,
          59,
          60,
          61,
          62,
          63,
          64,
          65,
          66,
          67,
          68,
          69,
          70,
          71,
          72,
          73,
          74,
          75,
          76,
          77,
          78,
          79,
          80,
          81,
          82,
          83,
          84,
          85,
          86,
          87,
          88,
          89,
          90,
          91,
          92,
          93,
          94,
          95,
          96,
          97,
          98,
          99,
          100,
          101,
          102,
          103,
          104,
          105,
          106,
          107,
          108,
          109,
          110,
          111,
          112,
          113,
          114,
          115,
          116,
          117,
          118,
          119,
          120,
          121,
          122,
          123,
          124,
          125,
          126,
          127,
          128,
          129,
          130,
          131,
          132,
          133,
          134,
          135,
          136,
          137,
          138,
          139,
          140,
          141,
          142,
          143,
          144,
          145,
          146,
          147,
          148,
          149,
          150,
          151,
          152,
          153,
          154,
          155,
          156,
          157,
          158,
          159,
          160,
          161,
          162,
          163,
          164,
          165,
          166,
          167,
          168,
          169,
          170,
          171,
          172,
          173,
          174,
          175,
          176,
          177,
          178,
          179,
          180,
          181,
          182,
          183,
          184,
          185,
          186,
          187,
          188,
          189,
          190,
          191,
          192,
          193,
          194,
          195,
          196,
          197,
          198,
          199,
          200,
          201,
          202,
          203,
          204,
          205,
          206,
          207,
          208,
          209,
          210,
          211,
          212,
          213,
          214,
          215,
          216,
          217,
          218,
          219,
          220,
          221,
          222,
          223,
          224,
          225,
          226,
          227,
          228,
          229,
          230,
          231,
          232,
          233,
          234,
          235,
          236,
          237,
          238,
          239,
          240,
          241,
          242,
          243,
          244,
          245,
          246,
          247,
          248,
          249,
          250,
          251,
          252,
          253,
          254,
          255,
          256,
          257,
          258,
          259,
          260,
          261,
          262,
          263,
          264,
          265,
          266,
          267,
          268,
          269,
          270,
          271,
          272,
          273,
          274,
          275,
          276,
          277,
          278,
          279,
          280,
          281,
          282,
          283,
          284,
          285,
          286,
          287
         ],
         "xaxis": "x5",
         "y": [
          459.963188171287,
          449.60678250755706,
          435.89178552478063,
          418.81741966580455,
          398.42520318649065,
          374.79947886071216,
          348.06730361425673,
          318.39769056311997,
          286.0002042424976,
          251.12292111032843,
          214.04977741946595,
          175.0973365472741,
          134.61101764800168,
          92.96083669683318,
          50.53671908493203,
          7.743450351386244,
          -35.00466131980143,
          -77.28933295868143,
          -118.69398224173554,
          -158.80944504353346,
          -197.23964854579566,
          -233.60715294086705,
          -267.55847621542785,
          -298.7691193410074,
          -326.9482130749559,
          -351.8427126487583,
          -373.2410738850683,
          -390.9763512021034,
          -404.92866681003784,
          -415.0270100064206,
          -421.2503354468762,
          -423.62794007924333,
          -422.23910939814743,
          -417.21203512804937,
          -408.7220174571089,
          -396.98897630737724,
          -382.27430672443626,
          -364.8771237050263,
          -345.1299514992235,
          -323.39392095001006,
          -300.05354620779167,
          -275.511158969602,
          -250.18108323487968,
          -224.4836387817479,
          -198.83906282930735,
          -173.6614418550032,
          -149.3527449121745,
          -126.29704835105107,
          -104.8550385916312,
          -85.3588758723399,
          -68.10749548171147,
          -53.36241683196675,
          -41.34412243763222,
          -32.22905989004488,
          -26.147310490236933,
          -23.180957558298132,
          -23.363176624135143,
          -26.678058480800175,
          -33.06116472182153,
          -42.40080401131974,
          -54.54000621861775,
          -69.27916088606578,
          -86.37927631436995,
          -105.56580605072591,
          -126.5329811824641,
          -148.94857913284685,
          -172.45905320482876,
          -196.6949423325597,
          -221.27647594565406,
          -245.81928717913266,
          -269.94014552599305,
          -293.26262138626646,
          -315.42259597104714,
          -336.0735332154521,
          -354.89143482363255,
          -371.5794052624627,
          -385.8717598192959,
          -397.5376172420646,
          -406.3839265870034,
          -412.2578873682133,
          -415.04873254431664,
          -414.68885350165823,
          -411.1542575746836,
          -404.4643587729394,
          -394.6811134072292,
          -381.9075224061992,
          -366.285532129148,
          -347.99337453434373,
          -327.2423967129742,
          -304.2734364705233,
          -279.3528082415237,
          -252.767968567597,
          -224.82293499776284,
          -195.83353514751434,
          -166.12256477127858,
          -136.014933816584,
          -105.83287865203057,
          -75.89131720294141,
          -46.49341909066242,
          -17.926459622580666,
          9.541980022514323,
          35.66741013449549,
          60.23137908467764,
          83.04392855298332,
          103.94552614129088,
          122.80845301999923,
          139.5376336043114,
          154.07090478305798,
          166.37873053355173,
          176.46337819021227,
          184.35758121459756,
          190.12272161460572,
          193.84657342367797,
          195.6406552156343,
          195.63724612348366,
          193.98612472287047,
          190.85109416579357,
          186.4063599579709,
          180.8328283881351,
          174.31439399987332,
          167.03428411445972,
          159.1715259630053,
          150.8975996842467,
          142.37333540162976,
          133.74610837187987,
          125.14737959465845,
          116.69062243262161,
          108.46966886067909,
          100.55750021703892,
          93.00549932877338,
          85.84317227965927,
          79.07833913587234,
          72.69778431096672,
          66.66834917201095,
          60.93844077800419,
          55.439923776519606,
          50.09035512953558,
          44.79551530771144,
          39.45218444607866,
          33.951107497284085,
          28.180089150191293,
          22.02715714598125,
          15.38373158513744,
          8.147737647427391,
          0.22660064882592224,
          -8.459935589438686,
          -17.977222610113245,
          -28.37340467571198,
          -39.67744558218047,
          -51.89752467424995,
          -65.01983545279899,
          -79.00781190557444,
          -93.80180098095289,
          -109.31919035707884,
          -125.45499312267097,
          -142.08288221660516,
          -159.05665918689056,
          -176.21213432501904,
          -193.36938712314725,
          -210.33536939547355,
          -226.90680668371544,
          -242.87334857423264,
          -258.0209133738799,
          -272.13516902691657,
          -285.0050895590598,
          -296.42652473741555,
          -306.20571989966294,
          -314.16272372929507,
          -320.134623498693,
          -323.9785496812307,
          -325.57439619265165,
          -324.8272067833095,
          -321.66918394466336,
          -316.0612830831727,
          -307.9943616828433,
          -297.4898608227999,
          -284.6000043960522,
          -269.407509462932,
          -252.02481012569893,
          -232.5928046560616,
          -211.27914481433822,
          -188.27609356409934,
          -163.7979847632405,
          -138.07832586512302,
          -111.36658977698116,
          -83.92474838499675,
          -56.023603932063814,
          -27.938978202836104,
          0.05217789901027459,
          27.67569123501535,
          54.664025455810716,
          80.76002928121011,
          105.72051292478174,
          129.31959469833447,
          151.35176355622735,
          171.63460861689282,
          190.01117197177308,
          206.35188836196846,
          220.55608165659268,
          232.5529960592613,
          242.30234808416904,
          249.7943933205092,
          255.04951042572372,
          258.117313069095,
          259.0753083878419,
          258.02712861632585,
          255.10036915123843,
          250.44407354711393,
          244.22591130720303,
          236.62909966642667,
          227.84912458822976,
          218.09031949210737,
          207.56236198393154,
          196.4767504153143,
          185.04332161952308,
          173.46687021747294,
          161.94392777325214,
          150.65975651523044,
          139.7856086310058,
          129.47629656976696,
          119.86811421068015,
          111.07714213292779,
          103.19796284901722,
          96.30280459499076,
          90.4411240605692,
          85.63963042523116,
          81.90274511792455,
          79.21348345159919,
          77.53473674125588,
          76.81092614974372,
          76.96999259983286,
          77.9256810944516,
          79.58007233963559,
          81.82631000670347,
          84.55146851279429,
          87.63950358468033,
          90.97422639741073,
          94.44224159768027,
          97.93579043264933,
          101.35544172927607,
          104.61257643356156,
          107.63161544947894,
          110.35194485027824,
          112.72949877509629,
          114.7379663305442,
          116.3695959139583,
          117.63557831445647,
          118.56599745331772,
          119.20934615774885,
          119.63161265960274,
          119.91495167380658,
          120.15596198496132,
          120.46360039704172,
          120.95676885641332,
          121.76161832678866,
          123.0086188979657,
          124.82945055333923,
          127.3537730819086,
          130.70593659603344,
          135.0016963816935,
          140.3449959931586,
          146.82488297285633,
          154.51261923039846,
          163.4590460485573,
          173.69225975783988,
          185.21564909534317,
          198.00633979905683,
          212.01408530451522,
          227.16063445986364,
          243.3395999286604,
          260.41684175715085,
          278.2313716903215,
          296.5967750299863,
          315.3031370651468,
          334.11945246498783,
          352.79648697646184,
          371.0700523031197,
          388.6646471787642,
          405.2974107096576,
          420.6823275418836,
          434.53461915176604,
          446.5752512180078,
          456.53548390315075,
          464.1613902397667,
          469.2182663050236,
          471.49485854434954,
          470.8073346366082,
          467.002927707495
         ],
         "yaxis": "y5"
        }
       ],
       "layout": {
        "autosize": true,
        "font": {
         "size": 10
        },
        "height": 1050,
        "hovermode": "x unified",
        "margin": {
         "b": 0,
         "l": 0,
         "pad": 0,
         "r": 10,
         "t": 10
        },
        "showlegend": false,
        "template": {
         "data": {
          "bar": [
           {
            "error_x": {
             "color": "#2a3f5f"
            },
            "error_y": {
             "color": "#2a3f5f"
            },
            "marker": {
             "line": {
              "color": "white",
              "width": 0.5
             },
             "pattern": {
              "fillmode": "overlay",
              "size": 10,
              "solidity": 0.2
             }
            },
            "type": "bar"
           }
          ],
          "barpolar": [
           {
            "marker": {
             "line": {
              "color": "white",
              "width": 0.5
             },
             "pattern": {
              "fillmode": "overlay",
              "size": 10,
              "solidity": 0.2
             }
            },
            "type": "barpolar"
           }
          ],
          "carpet": [
           {
            "aaxis": {
             "endlinecolor": "#2a3f5f",
             "gridcolor": "#C8D4E3",
             "linecolor": "#C8D4E3",
             "minorgridcolor": "#C8D4E3",
             "startlinecolor": "#2a3f5f"
            },
            "baxis": {
             "endlinecolor": "#2a3f5f",
             "gridcolor": "#C8D4E3",
             "linecolor": "#C8D4E3",
             "minorgridcolor": "#C8D4E3",
             "startlinecolor": "#2a3f5f"
            },
            "type": "carpet"
           }
          ],
          "choropleth": [
           {
            "colorbar": {
             "outlinewidth": 0,
             "ticks": ""
            },
            "type": "choropleth"
           }
          ],
          "contour": [
           {
            "colorbar": {
             "outlinewidth": 0,
             "ticks": ""
            },
            "colorscale": [
             [
              0,
              "#0d0887"
             ],
             [
              0.1111111111111111,
              "#46039f"
             ],
             [
              0.2222222222222222,
              "#7201a8"
             ],
             [
              0.3333333333333333,
              "#9c179e"
             ],
             [
              0.4444444444444444,
              "#bd3786"
             ],
             [
              0.5555555555555556,
              "#d8576b"
             ],
             [
              0.6666666666666666,
              "#ed7953"
             ],
             [
              0.7777777777777778,
              "#fb9f3a"
             ],
             [
              0.8888888888888888,
              "#fdca26"
             ],
             [
              1,
              "#f0f921"
             ]
            ],
            "type": "contour"
           }
          ],
          "contourcarpet": [
           {
            "colorbar": {
             "outlinewidth": 0,
             "ticks": ""
            },
            "type": "contourcarpet"
           }
          ],
          "heatmap": [
           {
            "colorbar": {
             "outlinewidth": 0,
             "ticks": ""
            },
            "colorscale": [
             [
              0,
              "#0d0887"
             ],
             [
              0.1111111111111111,
              "#46039f"
             ],
             [
              0.2222222222222222,
              "#7201a8"
             ],
             [
              0.3333333333333333,
              "#9c179e"
             ],
             [
              0.4444444444444444,
              "#bd3786"
             ],
             [
              0.5555555555555556,
              "#d8576b"
             ],
             [
              0.6666666666666666,
              "#ed7953"
             ],
             [
              0.7777777777777778,
              "#fb9f3a"
             ],
             [
              0.8888888888888888,
              "#fdca26"
             ],
             [
              1,
              "#f0f921"
             ]
            ],
            "type": "heatmap"
           }
          ],
          "heatmapgl": [
           {
            "colorbar": {
             "outlinewidth": 0,
             "ticks": ""
            },
            "colorscale": [
             [
              0,
              "#0d0887"
             ],
             [
              0.1111111111111111,
              "#46039f"
             ],
             [
              0.2222222222222222,
              "#7201a8"
             ],
             [
              0.3333333333333333,
              "#9c179e"
             ],
             [
              0.4444444444444444,
              "#bd3786"
             ],
             [
              0.5555555555555556,
              "#d8576b"
             ],
             [
              0.6666666666666666,
              "#ed7953"
             ],
             [
              0.7777777777777778,
              "#fb9f3a"
             ],
             [
              0.8888888888888888,
              "#fdca26"
             ],
             [
              1,
              "#f0f921"
             ]
            ],
            "type": "heatmapgl"
           }
          ],
          "histogram": [
           {
            "marker": {
             "pattern": {
              "fillmode": "overlay",
              "size": 10,
              "solidity": 0.2
             }
            },
            "type": "histogram"
           }
          ],
          "histogram2d": [
           {
            "colorbar": {
             "outlinewidth": 0,
             "ticks": ""
            },
            "colorscale": [
             [
              0,
              "#0d0887"
             ],
             [
              0.1111111111111111,
              "#46039f"
             ],
             [
              0.2222222222222222,
              "#7201a8"
             ],
             [
              0.3333333333333333,
              "#9c179e"
             ],
             [
              0.4444444444444444,
              "#bd3786"
             ],
             [
              0.5555555555555556,
              "#d8576b"
             ],
             [
              0.6666666666666666,
              "#ed7953"
             ],
             [
              0.7777777777777778,
              "#fb9f3a"
             ],
             [
              0.8888888888888888,
              "#fdca26"
             ],
             [
              1,
              "#f0f921"
             ]
            ],
            "type": "histogram2d"
           }
          ],
          "histogram2dcontour": [
           {
            "colorbar": {
             "outlinewidth": 0,
             "ticks": ""
            },
            "colorscale": [
             [
              0,
              "#0d0887"
             ],
             [
              0.1111111111111111,
              "#46039f"
             ],
             [
              0.2222222222222222,
              "#7201a8"
             ],
             [
              0.3333333333333333,
              "#9c179e"
             ],
             [
              0.4444444444444444,
              "#bd3786"
             ],
             [
              0.5555555555555556,
              "#d8576b"
             ],
             [
              0.6666666666666666,
              "#ed7953"
             ],
             [
              0.7777777777777778,
              "#fb9f3a"
             ],
             [
              0.8888888888888888,
              "#fdca26"
             ],
             [
              1,
              "#f0f921"
             ]
            ],
            "type": "histogram2dcontour"
           }
          ],
          "mesh3d": [
           {
            "colorbar": {
             "outlinewidth": 0,
             "ticks": ""
            },
            "type": "mesh3d"
           }
          ],
          "parcoords": [
           {
            "line": {
             "colorbar": {
              "outlinewidth": 0,
              "ticks": ""
             }
            },
            "type": "parcoords"
           }
          ],
          "pie": [
           {
            "automargin": true,
            "type": "pie"
           }
          ],
          "scatter": [
           {
            "fillpattern": {
             "fillmode": "overlay",
             "size": 10,
             "solidity": 0.2
            },
            "type": "scatter"
           }
          ],
          "scatter3d": [
           {
            "line": {
             "colorbar": {
              "outlinewidth": 0,
              "ticks": ""
             }
            },
            "marker": {
             "colorbar": {
              "outlinewidth": 0,
              "ticks": ""
             }
            },
            "type": "scatter3d"
           }
          ],
          "scattercarpet": [
           {
            "marker": {
             "colorbar": {
              "outlinewidth": 0,
              "ticks": ""
             }
            },
            "type": "scattercarpet"
           }
          ],
          "scattergeo": [
           {
            "marker": {
             "colorbar": {
              "outlinewidth": 0,
              "ticks": ""
             }
            },
            "type": "scattergeo"
           }
          ],
          "scattergl": [
           {
            "marker": {
             "colorbar": {
              "outlinewidth": 0,
              "ticks": ""
             }
            },
            "type": "scattergl"
           }
          ],
          "scattermapbox": [
           {
            "marker": {
             "colorbar": {
              "outlinewidth": 0,
              "ticks": ""
             }
            },
            "type": "scattermapbox"
           }
          ],
          "scatterpolar": [
           {
            "marker": {
             "colorbar": {
              "outlinewidth": 0,
              "ticks": ""
             }
            },
            "type": "scatterpolar"
           }
          ],
          "scatterpolargl": [
           {
            "marker": {
             "colorbar": {
              "outlinewidth": 0,
              "ticks": ""
             }
            },
            "type": "scatterpolargl"
           }
          ],
          "scatterternary": [
           {
            "marker": {
             "colorbar": {
              "outlinewidth": 0,
              "ticks": ""
             }
            },
            "type": "scatterternary"
           }
          ],
          "surface": [
           {
            "colorbar": {
             "outlinewidth": 0,
             "ticks": ""
            },
            "colorscale": [
             [
              0,
              "#0d0887"
             ],
             [
              0.1111111111111111,
              "#46039f"
             ],
             [
              0.2222222222222222,
              "#7201a8"
             ],
             [
              0.3333333333333333,
              "#9c179e"
             ],
             [
              0.4444444444444444,
              "#bd3786"
             ],
             [
              0.5555555555555556,
              "#d8576b"
             ],
             [
              0.6666666666666666,
              "#ed7953"
             ],
             [
              0.7777777777777778,
              "#fb9f3a"
             ],
             [
              0.8888888888888888,
              "#fdca26"
             ],
             [
              1,
              "#f0f921"
             ]
            ],
            "type": "surface"
           }
          ],
          "table": [
           {
            "cells": {
             "fill": {
              "color": "#EBF0F8"
             },
             "line": {
              "color": "white"
             }
            },
            "header": {
             "fill": {
              "color": "#C8D4E3"
             },
             "line": {
              "color": "white"
             }
            },
            "type": "table"
           }
          ]
         },
         "layout": {
          "annotationdefaults": {
           "arrowcolor": "#2a3f5f",
           "arrowhead": 0,
           "arrowwidth": 1
          },
          "autotypenumbers": "strict",
          "coloraxis": {
           "colorbar": {
            "outlinewidth": 0,
            "ticks": ""
           }
          },
          "colorscale": {
           "diverging": [
            [
             0,
             "#8e0152"
            ],
            [
             0.1,
             "#c51b7d"
            ],
            [
             0.2,
             "#de77ae"
            ],
            [
             0.3,
             "#f1b6da"
            ],
            [
             0.4,
             "#fde0ef"
            ],
            [
             0.5,
             "#f7f7f7"
            ],
            [
             0.6,
             "#e6f5d0"
            ],
            [
             0.7,
             "#b8e186"
            ],
            [
             0.8,
             "#7fbc41"
            ],
            [
             0.9,
             "#4d9221"
            ],
            [
             1,
             "#276419"
            ]
           ],
           "sequential": [
            [
             0,
             "#0d0887"
            ],
            [
             0.1111111111111111,
             "#46039f"
            ],
            [
             0.2222222222222222,
             "#7201a8"
            ],
            [
             0.3333333333333333,
             "#9c179e"
            ],
            [
             0.4444444444444444,
             "#bd3786"
            ],
            [
             0.5555555555555556,
             "#d8576b"
            ],
            [
             0.6666666666666666,
             "#ed7953"
            ],
            [
             0.7777777777777778,
             "#fb9f3a"
            ],
            [
             0.8888888888888888,
             "#fdca26"
            ],
            [
             1,
             "#f0f921"
            ]
           ],
           "sequentialminus": [
            [
             0,
             "#0d0887"
            ],
            [
             0.1111111111111111,
             "#46039f"
            ],
            [
             0.2222222222222222,
             "#7201a8"
            ],
            [
             0.3333333333333333,
             "#9c179e"
            ],
            [
             0.4444444444444444,
             "#bd3786"
            ],
            [
             0.5555555555555556,
             "#d8576b"
            ],
            [
             0.6666666666666666,
             "#ed7953"
            ],
            [
             0.7777777777777778,
             "#fb9f3a"
            ],
            [
             0.8888888888888888,
             "#fdca26"
            ],
            [
             1,
             "#f0f921"
            ]
           ]
          },
          "colorway": [
           "#636efa",
           "#EF553B",
           "#00cc96",
           "#ab63fa",
           "#FFA15A",
           "#19d3f3",
           "#FF6692",
           "#B6E880",
           "#FF97FF",
           "#FECB52"
          ],
          "font": {
           "color": "#2a3f5f"
          },
          "geo": {
           "bgcolor": "white",
           "lakecolor": "white",
           "landcolor": "white",
           "showlakes": true,
           "showland": true,
           "subunitcolor": "#C8D4E3"
          },
          "hoverlabel": {
           "align": "left"
          },
          "hovermode": "closest",
          "mapbox": {
           "style": "light"
          },
          "paper_bgcolor": "white",
          "plot_bgcolor": "white",
          "polar": {
           "angularaxis": {
            "gridcolor": "#EBF0F8",
            "linecolor": "#EBF0F8",
            "ticks": ""
           },
           "bgcolor": "white",
           "radialaxis": {
            "gridcolor": "#EBF0F8",
            "linecolor": "#EBF0F8",
            "ticks": ""
           }
          },
          "scene": {
           "xaxis": {
            "backgroundcolor": "white",
            "gridcolor": "#DFE8F3",
            "gridwidth": 2,
            "linecolor": "#EBF0F8",
            "showbackground": true,
            "ticks": "",
            "zerolinecolor": "#EBF0F8"
           },
           "yaxis": {
            "backgroundcolor": "white",
            "gridcolor": "#DFE8F3",
            "gridwidth": 2,
            "linecolor": "#EBF0F8",
            "showbackground": true,
            "ticks": "",
            "zerolinecolor": "#EBF0F8"
           },
           "zaxis": {
            "backgroundcolor": "white",
            "gridcolor": "#DFE8F3",
            "gridwidth": 2,
            "linecolor": "#EBF0F8",
            "showbackground": true,
            "ticks": "",
            "zerolinecolor": "#EBF0F8"
           }
          },
          "shapedefaults": {
           "line": {
            "color": "#2a3f5f"
           }
          },
          "ternary": {
           "aaxis": {
            "gridcolor": "#DFE8F3",
            "linecolor": "#A2B1C6",
            "ticks": ""
           },
           "baxis": {
            "gridcolor": "#DFE8F3",
            "linecolor": "#A2B1C6",
            "ticks": ""
           },
           "bgcolor": "white",
           "caxis": {
            "gridcolor": "#DFE8F3",
            "linecolor": "#A2B1C6",
            "ticks": ""
           }
          },
          "title": {
           "x": 0.05
          },
          "xaxis": {
           "automargin": true,
           "gridcolor": "#EBF0F8",
           "linecolor": "#EBF0F8",
           "ticks": "",
           "title": {
            "standoff": 15
           },
           "zerolinecolor": "#EBF0F8",
           "zerolinewidth": 2
          },
          "yaxis": {
           "automargin": true,
           "gridcolor": "#EBF0F8",
           "linecolor": "#EBF0F8",
           "ticks": "",
           "title": {
            "standoff": 15
           },
           "zerolinecolor": "#EBF0F8",
           "zerolinewidth": 2
          }
         }
        },
        "title": {
         "font": {
          "size": 12
         }
        },
        "width": 700,
        "xaxis": {
         "anchor": "y",
         "domain": [
          0,
          1
         ],
         "linewidth": 1.5,
         "mirror": true,
         "range": [
          "2009-11-01T00:00:00",
          "2011-08-19T00:00:00"
         ],
         "showline": true,
         "title": {
          "text": "ds"
         },
         "type": "date"
        },
        "xaxis2": {
         "anchor": "y2",
         "domain": [
          0,
          1
         ],
         "linewidth": 1.5,
         "mirror": true,
         "range": [
          "2009-11-12T09:00:00",
          "2011-08-07T15:00:00"
         ],
         "showline": true,
         "title": {
          "text": "Trend segment"
         },
         "type": "date"
        },
        "xaxis3": {
         "anchor": "y3",
         "domain": [
          0,
          1
         ],
         "linewidth": 1.5,
         "mirror": true,
         "range": [
          "2016-12-14T00:00:00",
          "2018-01-18T00:00:00"
         ],
         "showline": true,
         "title": {
          "text": "Day of year"
         }
        },
        "xaxis4": {
         "anchor": "y4",
         "domain": [
          0,
          1
         ],
         "linewidth": 1.5,
         "mirror": true,
         "range": [
          -8,
          175
         ],
         "showline": true,
         "tickmode": "array",
         "ticktext": [
          "Sunday",
          "Monday",
          "Tuesday",
          "Wednesday",
          "Thursday",
          "Friday",
          "Saturday",
          "Sunday",
          "Sunday"
         ],
         "tickvals": [
          0,
          24,
          48,
          72,
          96,
          120,
          144,
          168,
          192
         ],
         "title": {
          "text": "Day of week"
         }
        },
        "xaxis5": {
         "anchor": "y5",
         "domain": [
          0,
          1
         ],
         "linewidth": 1.5,
         "mirror": true,
         "range": [
          -14,
          301
         ],
         "showline": true,
         "tickmode": "array",
         "ticktext": [
          0,
          1,
          2,
          3,
          4,
          5,
          6,
          7,
          8,
          9,
          10,
          11,
          12,
          13,
          14,
          15,
          16,
          17,
          18,
          19,
          20,
          21,
          22,
          23,
          24
         ],
         "tickvals": [
          0,
          12,
          24,
          36,
          48,
          60,
          72,
          84,
          96,
          108,
          120,
          132,
          144,
          156,
          168,
          180,
          192,
          204,
          216,
          228,
          240,
          252,
          264,
          276,
          288
         ],
         "title": {
          "text": "Hour of day"
         }
        },
        "yaxis": {
         "anchor": "x",
         "domain": [
          0.848,
          1
         ],
         "linewidth": 1.5,
         "mirror": true,
         "rangemode": "normal",
         "showline": true,
         "title": {
          "text": "Trend"
         }
        },
        "yaxis2": {
         "anchor": "x2",
         "domain": [
          0.6359999999999999,
          0.7879999999999999
         ],
         "linewidth": 1.5,
         "mirror": true,
         "rangemode": "normal",
         "showline": true,
         "title": {
          "text": "Trend Rate Change"
         }
        },
        "yaxis3": {
         "anchor": "x3",
         "domain": [
          0.424,
          0.576
         ],
         "hoverformat": ".4%",
         "linewidth": 1.5,
         "mirror": true,
         "rangemode": "normal",
         "showline": true,
         "tickformat": ".1%",
         "title": {
          "text": "Seasonality: yearly"
         }
        },
        "yaxis4": {
         "anchor": "x4",
         "domain": [
          0.212,
          0.364
         ],
         "hoverformat": ".4%",
         "linewidth": 1.5,
         "mirror": true,
         "rangemode": "normal",
         "showline": true,
         "tickformat": ".1%",
         "title": {
          "text": "Seasonality: weekly"
         }
        },
        "yaxis5": {
         "anchor": "x5",
         "domain": [
          0,
          0.152
         ],
         "hoverformat": ".4%",
         "linewidth": 1.5,
         "mirror": true,
         "rangemode": "normal",
         "showline": true,
         "tickformat": ".1%",
         "title": {
          "text": "Seasonality: daily"
         }
        }
       }
      }
     },
     "metadata": {},
     "output_type": "display_data"
    }
   ],
   "source": [
    "fig_param = m.plot_parameters()\n",
    "fig_param.show()"
   ]
  },
  {
   "cell_type": "code",
   "execution_count": 9,
   "metadata": {},
   "outputs": [
    {
     "name": "stderr",
     "output_type": "stream",
     "text": [
      "INFO - (NP.df_utils._infer_frequency) - Major frequency D corresponds to 81.967% of the data.\n",
      "INFO - (NP.df_utils._infer_frequency) - Defined frequency is equal to major frequency - D\n",
      "INFO - (NP.df_utils._infer_frequency) - Major frequency D corresponds to 81.967% of the data.\n",
      "INFO - (NP.df_utils._infer_frequency) - Defined frequency is equal to major frequency - D\n"
     ]
    },
    {
     "data": {
      "application/vnd.jupyter.widget-view+json": {
       "model_id": "f4be9ca555a443e89dd8343c158845d0",
       "version_major": 2,
       "version_minor": 0
      },
      "text/plain": [
       "Predicting: 8it [00:00, ?it/s]"
      ]
     },
     "metadata": {},
     "output_type": "display_data"
    },
    {
     "name": "stderr",
     "output_type": "stream",
     "text": [
      "INFO - (NP.df_utils.return_df_in_original_format) - Returning df with no ID column\n"
     ]
    },
    {
     "data": {
      "application/vnd.plotly.v1+json": {
       "config": {
        "plotlyServerURL": "https://plot.ly"
       },
       "data": [
        {
         "line": {
          "color": "#2d92ff",
          "width": 2
         },
         "mode": "lines",
         "name": "Trend",
         "showlegend": false,
         "type": "scatter",
         "uid": "89dd5971-f2ec-496f-9ac9-13ae60dd0598",
         "x": [
          "2011-09-30T00:00:00",
          "2011-10-02T00:00:00",
          "2011-10-03T00:00:00",
          "2011-10-04T00:00:00",
          "2011-10-05T00:00:00",
          "2011-10-06T00:00:00",
          "2011-10-07T00:00:00",
          "2011-10-09T00:00:00",
          "2011-10-10T00:00:00",
          "2011-10-11T00:00:00",
          "2011-10-12T00:00:00",
          "2011-10-13T00:00:00",
          "2011-10-14T00:00:00",
          "2011-10-16T00:00:00",
          "2011-10-17T00:00:00",
          "2011-10-18T00:00:00",
          "2011-10-19T00:00:00",
          "2011-10-20T00:00:00",
          "2011-10-21T00:00:00",
          "2011-10-23T00:00:00",
          "2011-10-24T00:00:00",
          "2011-10-25T00:00:00",
          "2011-10-26T00:00:00",
          "2011-10-27T00:00:00",
          "2011-10-28T00:00:00",
          "2011-10-30T00:00:00",
          "2011-10-31T00:00:00",
          "2011-11-01T00:00:00",
          "2011-11-02T00:00:00",
          "2011-11-03T00:00:00",
          "2011-11-04T00:00:00",
          "2011-11-06T00:00:00",
          "2011-11-07T00:00:00",
          "2011-11-08T00:00:00",
          "2011-11-09T00:00:00",
          "2011-11-10T00:00:00",
          "2011-11-11T00:00:00",
          "2011-11-13T00:00:00",
          "2011-11-14T00:00:00",
          "2011-11-15T00:00:00",
          "2011-11-16T00:00:00",
          "2011-11-17T00:00:00",
          "2011-11-18T00:00:00",
          "2011-11-20T00:00:00",
          "2011-11-21T00:00:00",
          "2011-11-22T00:00:00",
          "2011-11-23T00:00:00",
          "2011-11-24T00:00:00",
          "2011-11-25T00:00:00",
          "2011-11-27T00:00:00",
          "2011-11-28T00:00:00",
          "2011-11-29T00:00:00",
          "2011-11-30T00:00:00",
          "2011-12-01T00:00:00",
          "2011-12-02T00:00:00",
          "2011-12-04T00:00:00",
          "2011-12-05T00:00:00",
          "2011-12-06T00:00:00",
          "2011-12-07T00:00:00",
          "2011-12-08T00:00:00",
          "2011-12-09T00:00:00"
         ],
         "xaxis": "x",
         "y": [
          36.01829147338867,
          35.976627349853516,
          35.9557991027832,
          35.934967041015625,
          35.91413497924805,
          35.89330291748047,
          35.872474670410156,
          35.830810546875,
          35.80998229980469,
          35.78915023803711,
          35.76831817626953,
          35.74748611450195,
          35.726654052734375,
          35.684993743896484,
          35.664161682128906,
          35.643333435058594,
          35.62249755859375,
          35.60166931152344,
          35.58083724975586,
          35.53917694091797,
          35.51834487915039,
          35.49751281738281,
          35.476680755615234,
          35.455848693847656,
          35.435020446777344,
          35.39335632324219,
          35.372528076171875,
          35.3516960144043,
          35.33086395263672,
          35.31003189086914,
          35.28920364379883,
          35.24753952026367,
          35.226707458496094,
          35.20587921142578,
          35.1850471496582,
          35.164215087890625,
          35.14338684082031,
          35.101722717285156,
          35.08089065551758,
          35.06005859375,
          35.03923034667969,
          35.01839828491211,
          34.99756622314453,
          34.955902099609375,
          34.93507385253906,
          34.914241790771484,
          34.893409729003906,
          34.872581481933594,
          34.851749420166016,
          34.81008529663086,
          34.78925323486328,
          34.76842498779297,
          34.74759292602539,
          34.72676086425781,
          34.7059326171875,
          34.664268493652344,
          34.643436431884766,
          34.62260437011719,
          34.601776123046875,
          34.5809440612793,
          34.56011199951172
         ],
         "yaxis": "y"
        },
        {
         "line": {
          "color": "#2d92ff",
          "width": 2
         },
         "mode": "lines",
         "name": "yearly seasonality",
         "showlegend": false,
         "type": "scatter",
         "uid": "0e2331f8-fcbf-4a97-9f69-0eac9ba77a70",
         "x": [
          "2011-09-30T00:00:00",
          "2011-10-02T00:00:00",
          "2011-10-03T00:00:00",
          "2011-10-04T00:00:00",
          "2011-10-05T00:00:00",
          "2011-10-06T00:00:00",
          "2011-10-07T00:00:00",
          "2011-10-09T00:00:00",
          "2011-10-10T00:00:00",
          "2011-10-11T00:00:00",
          "2011-10-12T00:00:00",
          "2011-10-13T00:00:00",
          "2011-10-14T00:00:00",
          "2011-10-16T00:00:00",
          "2011-10-17T00:00:00",
          "2011-10-18T00:00:00",
          "2011-10-19T00:00:00",
          "2011-10-20T00:00:00",
          "2011-10-21T00:00:00",
          "2011-10-23T00:00:00",
          "2011-10-24T00:00:00",
          "2011-10-25T00:00:00",
          "2011-10-26T00:00:00",
          "2011-10-27T00:00:00",
          "2011-10-28T00:00:00",
          "2011-10-30T00:00:00",
          "2011-10-31T00:00:00",
          "2011-11-01T00:00:00",
          "2011-11-02T00:00:00",
          "2011-11-03T00:00:00",
          "2011-11-04T00:00:00",
          "2011-11-06T00:00:00",
          "2011-11-07T00:00:00",
          "2011-11-08T00:00:00",
          "2011-11-09T00:00:00",
          "2011-11-10T00:00:00",
          "2011-11-11T00:00:00",
          "2011-11-13T00:00:00",
          "2011-11-14T00:00:00",
          "2011-11-15T00:00:00",
          "2011-11-16T00:00:00",
          "2011-11-17T00:00:00",
          "2011-11-18T00:00:00",
          "2011-11-20T00:00:00",
          "2011-11-21T00:00:00",
          "2011-11-22T00:00:00",
          "2011-11-23T00:00:00",
          "2011-11-24T00:00:00",
          "2011-11-25T00:00:00",
          "2011-11-27T00:00:00",
          "2011-11-28T00:00:00",
          "2011-11-29T00:00:00",
          "2011-11-30T00:00:00",
          "2011-12-01T00:00:00",
          "2011-12-02T00:00:00",
          "2011-12-04T00:00:00",
          "2011-12-05T00:00:00",
          "2011-12-06T00:00:00",
          "2011-12-07T00:00:00",
          "2011-12-08T00:00:00",
          "2011-12-09T00:00:00"
         ],
         "xaxis": "x2",
         "y": [
          5917.5048828125,
          6126.98095703125,
          6187.99365234375,
          6221.43408203125,
          6228.849609375,
          6212.05126953125,
          6173.111328125,
          6038.19482421875,
          5947.40283203125,
          5844.7822265625,
          5733.28662109375,
          5615.9609375,
          5495.90380859375,
          5260.10302734375,
          5150.55078125,
          5050.59326171875,
          4963.12109375,
          4890.89208984375,
          4836.49267578125,
          4790.509765625,
          4803.0068359375,
          4841.44580078125,
          4907.18115234375,
          5001.2587890625,
          5124.40283203125,
          5459.11767578125,
          5670.453125,
          5910.37353515625,
          6177.9013671875,
          6471.72705078125,
          6790.21044921875,
          7493.0400390625,
          7872.60693359375,
          8267.3125,
          8674.134765625,
          9089.8466796875,
          9511.0419921875,
          10355.548828125,
          10771.4404296875,
          11178.037109375,
          11571.52734375,
          11948.11328125,
          12304.0625,
          12939.5869140625,
          13212.2841796875,
          13450.63671875,
          13651.6953125,
          13812.7509765625,
          13931.365234375,
          14033.03515625,
          14012.775390625,
          13943.4814453125,
          13824.3681640625,
          13655.0263671875,
          13435.412109375,
          12847.0615234375,
          12480.109375,
          12066.42578125,
          11607.794921875,
          11106.3212890625,
          10564.4375
         ],
         "yaxis": "y2"
        },
        {
         "line": {
          "color": "#2d92ff",
          "width": 2
         },
         "mode": "lines",
         "name": "weekly seasonality",
         "showlegend": false,
         "type": "scatter",
         "uid": "49b82d29-db07-4a07-8bb0-13d52dc559d3",
         "x": [
          "2011-09-30T00:00:00",
          "2011-10-02T00:00:00",
          "2011-10-03T00:00:00",
          "2011-10-04T00:00:00",
          "2011-10-05T00:00:00",
          "2011-10-06T00:00:00",
          "2011-10-07T00:00:00",
          "2011-10-09T00:00:00",
          "2011-10-10T00:00:00",
          "2011-10-11T00:00:00",
          "2011-10-12T00:00:00",
          "2011-10-13T00:00:00",
          "2011-10-14T00:00:00",
          "2011-10-16T00:00:00",
          "2011-10-17T00:00:00",
          "2011-10-18T00:00:00",
          "2011-10-19T00:00:00",
          "2011-10-20T00:00:00",
          "2011-10-21T00:00:00",
          "2011-10-23T00:00:00",
          "2011-10-24T00:00:00",
          "2011-10-25T00:00:00",
          "2011-10-26T00:00:00",
          "2011-10-27T00:00:00",
          "2011-10-28T00:00:00",
          "2011-10-30T00:00:00",
          "2011-10-31T00:00:00",
          "2011-11-01T00:00:00",
          "2011-11-02T00:00:00",
          "2011-11-03T00:00:00",
          "2011-11-04T00:00:00",
          "2011-11-06T00:00:00",
          "2011-11-07T00:00:00",
          "2011-11-08T00:00:00",
          "2011-11-09T00:00:00",
          "2011-11-10T00:00:00",
          "2011-11-11T00:00:00",
          "2011-11-13T00:00:00",
          "2011-11-14T00:00:00",
          "2011-11-15T00:00:00",
          "2011-11-16T00:00:00",
          "2011-11-17T00:00:00",
          "2011-11-18T00:00:00",
          "2011-11-20T00:00:00",
          "2011-11-21T00:00:00",
          "2011-11-22T00:00:00",
          "2011-11-23T00:00:00",
          "2011-11-24T00:00:00",
          "2011-11-25T00:00:00",
          "2011-11-27T00:00:00",
          "2011-11-28T00:00:00",
          "2011-11-29T00:00:00",
          "2011-11-30T00:00:00",
          "2011-12-01T00:00:00",
          "2011-12-02T00:00:00",
          "2011-12-04T00:00:00",
          "2011-12-05T00:00:00",
          "2011-12-06T00:00:00",
          "2011-12-07T00:00:00",
          "2011-12-08T00:00:00",
          "2011-12-09T00:00:00"
         ],
         "xaxis": "x3",
         "y": [
          -1062.96875,
          -3095.971435546875,
          1247.103515625,
          2019.898193359375,
          2469.169677734375,
          4499.07421875,
          -1058.6654052734375,
          -3083.423095703125,
          1242.0458984375,
          2011.7017822265625,
          2459.14453125,
          4480.796875,
          -1054.3619384765625,
          -3070.874755859375,
          1236.98828125,
          2003.5054931640625,
          2449.118896484375,
          4462.51904296875,
          -1050.05859375,
          -3058.32666015625,
          1231.9306640625,
          1995.3089599609375,
          2439.09375,
          4444.2412109375,
          -1045.7552490234375,
          -3045.778076171875,
          1226.8731689453125,
          1987.112548828125,
          2429.068603515625,
          4425.9638671875,
          -1041.451904296875,
          -3033.229736328125,
          1221.8154296875,
          1978.916259765625,
          2419.04345703125,
          4407.68603515625,
          -1037.1485595703125,
          -3020.681396484375,
          1216.7578125,
          1970.7197265625,
          2409.018310546875,
          4389.40869140625,
          -1032.8450927734375,
          -3008.1328125,
          1211.7003173828125,
          1962.5233154296875,
          2398.99267578125,
          4371.13134765625,
          -1028.541748046875,
          -2995.58447265625,
          1206.642578125,
          1954.3270263671875,
          2388.967529296875,
          4352.85302734375,
          -1024.238525390625,
          -2983.036376953125,
          1201.5850830078125,
          1946.1304931640625,
          2378.9423828125,
          4334.57568359375,
          -1019.93505859375
         ],
         "yaxis": "y3"
        },
        {
         "line": {
          "color": "#2d92ff",
          "width": 2
         },
         "mode": "lines",
         "name": "daily seasonality",
         "showlegend": false,
         "type": "scatter",
         "uid": "1864dcec-df3a-4de9-9a3a-b3ad46b1d012",
         "x": [
          "2011-09-30T00:00:00",
          "2011-10-02T00:00:00",
          "2011-10-03T00:00:00",
          "2011-10-04T00:00:00",
          "2011-10-05T00:00:00",
          "2011-10-06T00:00:00",
          "2011-10-07T00:00:00",
          "2011-10-09T00:00:00",
          "2011-10-10T00:00:00",
          "2011-10-11T00:00:00",
          "2011-10-12T00:00:00",
          "2011-10-13T00:00:00",
          "2011-10-14T00:00:00",
          "2011-10-16T00:00:00",
          "2011-10-17T00:00:00",
          "2011-10-18T00:00:00",
          "2011-10-19T00:00:00",
          "2011-10-20T00:00:00",
          "2011-10-21T00:00:00",
          "2011-10-23T00:00:00",
          "2011-10-24T00:00:00",
          "2011-10-25T00:00:00",
          "2011-10-26T00:00:00",
          "2011-10-27T00:00:00",
          "2011-10-28T00:00:00",
          "2011-10-30T00:00:00",
          "2011-10-31T00:00:00",
          "2011-11-01T00:00:00",
          "2011-11-02T00:00:00",
          "2011-11-03T00:00:00",
          "2011-11-04T00:00:00",
          "2011-11-06T00:00:00",
          "2011-11-07T00:00:00",
          "2011-11-08T00:00:00",
          "2011-11-09T00:00:00",
          "2011-11-10T00:00:00",
          "2011-11-11T00:00:00",
          "2011-11-13T00:00:00",
          "2011-11-14T00:00:00",
          "2011-11-15T00:00:00",
          "2011-11-16T00:00:00",
          "2011-11-17T00:00:00",
          "2011-11-18T00:00:00",
          "2011-11-20T00:00:00",
          "2011-11-21T00:00:00",
          "2011-11-22T00:00:00",
          "2011-11-23T00:00:00",
          "2011-11-24T00:00:00",
          "2011-11-25T00:00:00",
          "2011-11-27T00:00:00",
          "2011-11-28T00:00:00",
          "2011-11-29T00:00:00",
          "2011-11-30T00:00:00",
          "2011-12-01T00:00:00",
          "2011-12-02T00:00:00",
          "2011-12-04T00:00:00",
          "2011-12-05T00:00:00",
          "2011-12-06T00:00:00",
          "2011-12-07T00:00:00",
          "2011-12-08T00:00:00",
          "2011-12-09T00:00:00"
         ],
         "xaxis": "x4",
         "y": [
          16567.087890625,
          16547.923828125,
          16538.34375,
          16528.76171875,
          16519.1796875,
          16509.59765625,
          16500.017578125,
          16480.853515625,
          16471.2734375,
          16461.69140625,
          16452.109375,
          16442.52734375,
          16432.9453125,
          16413.783203125,
          16404.201171875,
          16394.62109375,
          16385.037109375,
          16375.4580078125,
          16365.8759765625,
          16346.7138671875,
          16337.1318359375,
          16327.5498046875,
          16317.9677734375,
          16308.3857421875,
          16298.8056640625,
          16279.6416015625,
          16270.0615234375,
          16260.4794921875,
          16250.8974609375,
          16241.3154296875,
          16231.7353515625,
          16212.5712890625,
          16202.9892578125,
          16193.4091796875,
          16183.8271484375,
          16174.2451171875,
          16164.6640625,
          16145.5009765625,
          16135.9189453125,
          16126.3369140625,
          16116.7568359375,
          16107.1748046875,
          16097.5927734375,
          16078.4287109375,
          16068.8486328125,
          16059.2666015625,
          16049.6845703125,
          16040.1044921875,
          16030.5224609375,
          16011.3583984375,
          16001.7763671875,
          15992.1962890625,
          15982.6142578125,
          15973.0322265625,
          15963.4521484375,
          15944.2880859375,
          15934.7060546875,
          15925.1240234375,
          15915.5439453125,
          15905.9619140625,
          15896.3798828125
         ],
         "yaxis": "y4"
        }
       ],
       "layout": {
        "autosize": true,
        "font": {
         "size": 10
        },
        "height": 840,
        "hovermode": "x unified",
        "legend": {
         "traceorder": "reversed",
         "y": 0.1
        },
        "margin": {
         "b": 0,
         "l": 0,
         "pad": 0,
         "r": 10,
         "t": 10
        },
        "template": {
         "data": {
          "bar": [
           {
            "error_x": {
             "color": "#2a3f5f"
            },
            "error_y": {
             "color": "#2a3f5f"
            },
            "marker": {
             "line": {
              "color": "white",
              "width": 0.5
             },
             "pattern": {
              "fillmode": "overlay",
              "size": 10,
              "solidity": 0.2
             }
            },
            "type": "bar"
           }
          ],
          "barpolar": [
           {
            "marker": {
             "line": {
              "color": "white",
              "width": 0.5
             },
             "pattern": {
              "fillmode": "overlay",
              "size": 10,
              "solidity": 0.2
             }
            },
            "type": "barpolar"
           }
          ],
          "carpet": [
           {
            "aaxis": {
             "endlinecolor": "#2a3f5f",
             "gridcolor": "#C8D4E3",
             "linecolor": "#C8D4E3",
             "minorgridcolor": "#C8D4E3",
             "startlinecolor": "#2a3f5f"
            },
            "baxis": {
             "endlinecolor": "#2a3f5f",
             "gridcolor": "#C8D4E3",
             "linecolor": "#C8D4E3",
             "minorgridcolor": "#C8D4E3",
             "startlinecolor": "#2a3f5f"
            },
            "type": "carpet"
           }
          ],
          "choropleth": [
           {
            "colorbar": {
             "outlinewidth": 0,
             "ticks": ""
            },
            "type": "choropleth"
           }
          ],
          "contour": [
           {
            "colorbar": {
             "outlinewidth": 0,
             "ticks": ""
            },
            "colorscale": [
             [
              0,
              "#0d0887"
             ],
             [
              0.1111111111111111,
              "#46039f"
             ],
             [
              0.2222222222222222,
              "#7201a8"
             ],
             [
              0.3333333333333333,
              "#9c179e"
             ],
             [
              0.4444444444444444,
              "#bd3786"
             ],
             [
              0.5555555555555556,
              "#d8576b"
             ],
             [
              0.6666666666666666,
              "#ed7953"
             ],
             [
              0.7777777777777778,
              "#fb9f3a"
             ],
             [
              0.8888888888888888,
              "#fdca26"
             ],
             [
              1,
              "#f0f921"
             ]
            ],
            "type": "contour"
           }
          ],
          "contourcarpet": [
           {
            "colorbar": {
             "outlinewidth": 0,
             "ticks": ""
            },
            "type": "contourcarpet"
           }
          ],
          "heatmap": [
           {
            "colorbar": {
             "outlinewidth": 0,
             "ticks": ""
            },
            "colorscale": [
             [
              0,
              "#0d0887"
             ],
             [
              0.1111111111111111,
              "#46039f"
             ],
             [
              0.2222222222222222,
              "#7201a8"
             ],
             [
              0.3333333333333333,
              "#9c179e"
             ],
             [
              0.4444444444444444,
              "#bd3786"
             ],
             [
              0.5555555555555556,
              "#d8576b"
             ],
             [
              0.6666666666666666,
              "#ed7953"
             ],
             [
              0.7777777777777778,
              "#fb9f3a"
             ],
             [
              0.8888888888888888,
              "#fdca26"
             ],
             [
              1,
              "#f0f921"
             ]
            ],
            "type": "heatmap"
           }
          ],
          "heatmapgl": [
           {
            "colorbar": {
             "outlinewidth": 0,
             "ticks": ""
            },
            "colorscale": [
             [
              0,
              "#0d0887"
             ],
             [
              0.1111111111111111,
              "#46039f"
             ],
             [
              0.2222222222222222,
              "#7201a8"
             ],
             [
              0.3333333333333333,
              "#9c179e"
             ],
             [
              0.4444444444444444,
              "#bd3786"
             ],
             [
              0.5555555555555556,
              "#d8576b"
             ],
             [
              0.6666666666666666,
              "#ed7953"
             ],
             [
              0.7777777777777778,
              "#fb9f3a"
             ],
             [
              0.8888888888888888,
              "#fdca26"
             ],
             [
              1,
              "#f0f921"
             ]
            ],
            "type": "heatmapgl"
           }
          ],
          "histogram": [
           {
            "marker": {
             "pattern": {
              "fillmode": "overlay",
              "size": 10,
              "solidity": 0.2
             }
            },
            "type": "histogram"
           }
          ],
          "histogram2d": [
           {
            "colorbar": {
             "outlinewidth": 0,
             "ticks": ""
            },
            "colorscale": [
             [
              0,
              "#0d0887"
             ],
             [
              0.1111111111111111,
              "#46039f"
             ],
             [
              0.2222222222222222,
              "#7201a8"
             ],
             [
              0.3333333333333333,
              "#9c179e"
             ],
             [
              0.4444444444444444,
              "#bd3786"
             ],
             [
              0.5555555555555556,
              "#d8576b"
             ],
             [
              0.6666666666666666,
              "#ed7953"
             ],
             [
              0.7777777777777778,
              "#fb9f3a"
             ],
             [
              0.8888888888888888,
              "#fdca26"
             ],
             [
              1,
              "#f0f921"
             ]
            ],
            "type": "histogram2d"
           }
          ],
          "histogram2dcontour": [
           {
            "colorbar": {
             "outlinewidth": 0,
             "ticks": ""
            },
            "colorscale": [
             [
              0,
              "#0d0887"
             ],
             [
              0.1111111111111111,
              "#46039f"
             ],
             [
              0.2222222222222222,
              "#7201a8"
             ],
             [
              0.3333333333333333,
              "#9c179e"
             ],
             [
              0.4444444444444444,
              "#bd3786"
             ],
             [
              0.5555555555555556,
              "#d8576b"
             ],
             [
              0.6666666666666666,
              "#ed7953"
             ],
             [
              0.7777777777777778,
              "#fb9f3a"
             ],
             [
              0.8888888888888888,
              "#fdca26"
             ],
             [
              1,
              "#f0f921"
             ]
            ],
            "type": "histogram2dcontour"
           }
          ],
          "mesh3d": [
           {
            "colorbar": {
             "outlinewidth": 0,
             "ticks": ""
            },
            "type": "mesh3d"
           }
          ],
          "parcoords": [
           {
            "line": {
             "colorbar": {
              "outlinewidth": 0,
              "ticks": ""
             }
            },
            "type": "parcoords"
           }
          ],
          "pie": [
           {
            "automargin": true,
            "type": "pie"
           }
          ],
          "scatter": [
           {
            "fillpattern": {
             "fillmode": "overlay",
             "size": 10,
             "solidity": 0.2
            },
            "type": "scatter"
           }
          ],
          "scatter3d": [
           {
            "line": {
             "colorbar": {
              "outlinewidth": 0,
              "ticks": ""
             }
            },
            "marker": {
             "colorbar": {
              "outlinewidth": 0,
              "ticks": ""
             }
            },
            "type": "scatter3d"
           }
          ],
          "scattercarpet": [
           {
            "marker": {
             "colorbar": {
              "outlinewidth": 0,
              "ticks": ""
             }
            },
            "type": "scattercarpet"
           }
          ],
          "scattergeo": [
           {
            "marker": {
             "colorbar": {
              "outlinewidth": 0,
              "ticks": ""
             }
            },
            "type": "scattergeo"
           }
          ],
          "scattergl": [
           {
            "marker": {
             "colorbar": {
              "outlinewidth": 0,
              "ticks": ""
             }
            },
            "type": "scattergl"
           }
          ],
          "scattermapbox": [
           {
            "marker": {
             "colorbar": {
              "outlinewidth": 0,
              "ticks": ""
             }
            },
            "type": "scattermapbox"
           }
          ],
          "scatterpolar": [
           {
            "marker": {
             "colorbar": {
              "outlinewidth": 0,
              "ticks": ""
             }
            },
            "type": "scatterpolar"
           }
          ],
          "scatterpolargl": [
           {
            "marker": {
             "colorbar": {
              "outlinewidth": 0,
              "ticks": ""
             }
            },
            "type": "scatterpolargl"
           }
          ],
          "scatterternary": [
           {
            "marker": {
             "colorbar": {
              "outlinewidth": 0,
              "ticks": ""
             }
            },
            "type": "scatterternary"
           }
          ],
          "surface": [
           {
            "colorbar": {
             "outlinewidth": 0,
             "ticks": ""
            },
            "colorscale": [
             [
              0,
              "#0d0887"
             ],
             [
              0.1111111111111111,
              "#46039f"
             ],
             [
              0.2222222222222222,
              "#7201a8"
             ],
             [
              0.3333333333333333,
              "#9c179e"
             ],
             [
              0.4444444444444444,
              "#bd3786"
             ],
             [
              0.5555555555555556,
              "#d8576b"
             ],
             [
              0.6666666666666666,
              "#ed7953"
             ],
             [
              0.7777777777777778,
              "#fb9f3a"
             ],
             [
              0.8888888888888888,
              "#fdca26"
             ],
             [
              1,
              "#f0f921"
             ]
            ],
            "type": "surface"
           }
          ],
          "table": [
           {
            "cells": {
             "fill": {
              "color": "#EBF0F8"
             },
             "line": {
              "color": "white"
             }
            },
            "header": {
             "fill": {
              "color": "#C8D4E3"
             },
             "line": {
              "color": "white"
             }
            },
            "type": "table"
           }
          ]
         },
         "layout": {
          "annotationdefaults": {
           "arrowcolor": "#2a3f5f",
           "arrowhead": 0,
           "arrowwidth": 1
          },
          "autotypenumbers": "strict",
          "coloraxis": {
           "colorbar": {
            "outlinewidth": 0,
            "ticks": ""
           }
          },
          "colorscale": {
           "diverging": [
            [
             0,
             "#8e0152"
            ],
            [
             0.1,
             "#c51b7d"
            ],
            [
             0.2,
             "#de77ae"
            ],
            [
             0.3,
             "#f1b6da"
            ],
            [
             0.4,
             "#fde0ef"
            ],
            [
             0.5,
             "#f7f7f7"
            ],
            [
             0.6,
             "#e6f5d0"
            ],
            [
             0.7,
             "#b8e186"
            ],
            [
             0.8,
             "#7fbc41"
            ],
            [
             0.9,
             "#4d9221"
            ],
            [
             1,
             "#276419"
            ]
           ],
           "sequential": [
            [
             0,
             "#0d0887"
            ],
            [
             0.1111111111111111,
             "#46039f"
            ],
            [
             0.2222222222222222,
             "#7201a8"
            ],
            [
             0.3333333333333333,
             "#9c179e"
            ],
            [
             0.4444444444444444,
             "#bd3786"
            ],
            [
             0.5555555555555556,
             "#d8576b"
            ],
            [
             0.6666666666666666,
             "#ed7953"
            ],
            [
             0.7777777777777778,
             "#fb9f3a"
            ],
            [
             0.8888888888888888,
             "#fdca26"
            ],
            [
             1,
             "#f0f921"
            ]
           ],
           "sequentialminus": [
            [
             0,
             "#0d0887"
            ],
            [
             0.1111111111111111,
             "#46039f"
            ],
            [
             0.2222222222222222,
             "#7201a8"
            ],
            [
             0.3333333333333333,
             "#9c179e"
            ],
            [
             0.4444444444444444,
             "#bd3786"
            ],
            [
             0.5555555555555556,
             "#d8576b"
            ],
            [
             0.6666666666666666,
             "#ed7953"
            ],
            [
             0.7777777777777778,
             "#fb9f3a"
            ],
            [
             0.8888888888888888,
             "#fdca26"
            ],
            [
             1,
             "#f0f921"
            ]
           ]
          },
          "colorway": [
           "#636efa",
           "#EF553B",
           "#00cc96",
           "#ab63fa",
           "#FFA15A",
           "#19d3f3",
           "#FF6692",
           "#B6E880",
           "#FF97FF",
           "#FECB52"
          ],
          "font": {
           "color": "#2a3f5f"
          },
          "geo": {
           "bgcolor": "white",
           "lakecolor": "white",
           "landcolor": "white",
           "showlakes": true,
           "showland": true,
           "subunitcolor": "#C8D4E3"
          },
          "hoverlabel": {
           "align": "left"
          },
          "hovermode": "closest",
          "mapbox": {
           "style": "light"
          },
          "paper_bgcolor": "white",
          "plot_bgcolor": "white",
          "polar": {
           "angularaxis": {
            "gridcolor": "#EBF0F8",
            "linecolor": "#EBF0F8",
            "ticks": ""
           },
           "bgcolor": "white",
           "radialaxis": {
            "gridcolor": "#EBF0F8",
            "linecolor": "#EBF0F8",
            "ticks": ""
           }
          },
          "scene": {
           "xaxis": {
            "backgroundcolor": "white",
            "gridcolor": "#DFE8F3",
            "gridwidth": 2,
            "linecolor": "#EBF0F8",
            "showbackground": true,
            "ticks": "",
            "zerolinecolor": "#EBF0F8"
           },
           "yaxis": {
            "backgroundcolor": "white",
            "gridcolor": "#DFE8F3",
            "gridwidth": 2,
            "linecolor": "#EBF0F8",
            "showbackground": true,
            "ticks": "",
            "zerolinecolor": "#EBF0F8"
           },
           "zaxis": {
            "backgroundcolor": "white",
            "gridcolor": "#DFE8F3",
            "gridwidth": 2,
            "linecolor": "#EBF0F8",
            "showbackground": true,
            "ticks": "",
            "zerolinecolor": "#EBF0F8"
           }
          },
          "shapedefaults": {
           "line": {
            "color": "#2a3f5f"
           }
          },
          "ternary": {
           "aaxis": {
            "gridcolor": "#DFE8F3",
            "linecolor": "#A2B1C6",
            "ticks": ""
           },
           "baxis": {
            "gridcolor": "#DFE8F3",
            "linecolor": "#A2B1C6",
            "ticks": ""
           },
           "bgcolor": "white",
           "caxis": {
            "gridcolor": "#DFE8F3",
            "linecolor": "#A2B1C6",
            "ticks": ""
           }
          },
          "title": {
           "x": 0.05
          },
          "xaxis": {
           "automargin": true,
           "gridcolor": "#EBF0F8",
           "linecolor": "#EBF0F8",
           "ticks": "",
           "title": {
            "standoff": 15
           },
           "zerolinecolor": "#EBF0F8",
           "zerolinewidth": 2
          },
          "yaxis": {
           "automargin": true,
           "gridcolor": "#EBF0F8",
           "linecolor": "#EBF0F8",
           "ticks": "",
           "title": {
            "standoff": 15
           },
           "zerolinecolor": "#EBF0F8",
           "zerolinewidth": 2
          }
         }
        },
        "title": {
         "font": {
          "size": 12
         }
        },
        "width": 700,
        "xaxis": {
         "anchor": "y",
         "domain": [
          0,
          1
         ],
         "linewidth": 1.5,
         "mirror": true,
         "range": [
          "2011-09-26T00:00:00",
          "2011-12-13T00:00:00"
         ],
         "showline": true,
         "title": {
          "text": "ds"
         },
         "type": "date"
        },
        "xaxis2": {
         "anchor": "y2",
         "domain": [
          0,
          1
         ],
         "linewidth": 1.5,
         "mirror": true,
         "range": [
          "2011-09-26T00:00:00",
          "2011-12-13T00:00:00"
         ],
         "showline": true,
         "title": {
          "text": "ds"
         },
         "type": "date"
        },
        "xaxis3": {
         "anchor": "y3",
         "domain": [
          0,
          1
         ],
         "linewidth": 1.5,
         "mirror": true,
         "range": [
          "2011-09-26T00:00:00",
          "2011-12-13T00:00:00"
         ],
         "showline": true,
         "title": {
          "text": "ds"
         },
         "type": "date"
        },
        "xaxis4": {
         "anchor": "y4",
         "domain": [
          0,
          1
         ],
         "linewidth": 1.5,
         "mirror": true,
         "range": [
          "2011-09-26T00:00:00",
          "2011-12-13T00:00:00"
         ],
         "showline": true,
         "title": {
          "text": "ds"
         },
         "type": "date"
        },
        "yaxis": {
         "anchor": "x",
         "domain": [
          0.80625,
          1
         ],
         "linewidth": 1.5,
         "mirror": true,
         "rangemode": "normal",
         "showline": true,
         "title": {
          "text": "Trend"
         }
        },
        "yaxis2": {
         "anchor": "x2",
         "domain": [
          0.5375,
          0.73125
         ],
         "linewidth": 1.5,
         "mirror": true,
         "rangemode": "tozero",
         "showline": true,
         "title": {
          "text": "yearly seasonality"
         }
        },
        "yaxis3": {
         "anchor": "x3",
         "domain": [
          0.26875,
          0.4625
         ],
         "linewidth": 1.5,
         "mirror": true,
         "rangemode": "tozero",
         "showline": true,
         "title": {
          "text": "weekly seasonality"
         }
        },
        "yaxis4": {
         "anchor": "x4",
         "domain": [
          0,
          0.19375
         ],
         "linewidth": 1.5,
         "mirror": true,
         "rangemode": "tozero",
         "showline": true,
         "title": {
          "text": "daily seasonality"
         }
        }
       }
      }
     },
     "metadata": {},
     "output_type": "display_data"
    }
   ],
   "source": [
    "forecast = m.predict(testing_x)\n",
    "fig = m.plot_components(forecast)\n",
    "fig.show()\n"
   ]
  },
  {
   "cell_type": "code",
   "execution_count": 10,
   "metadata": {},
   "outputs": [
    {
     "name": "stdout",
     "output_type": "stream",
     "text": [
      "MAPE:  0.23682726509941862\n"
     ]
    },
    {
     "data": {
      "image/png": "[encoded data removed]",
      "text/plain": [
       "<Figure size 1500x500 with 1 Axes>"
      ]
     },
     "metadata": {},
     "output_type": "display_data"
    }
   ],
   "source": [
    "plt.figure(figsize=(15,5))\n",
    "plt.plot(forecast['ds'],forecast['yhat1'], label='Predicted')\n",
    "plt.plot(testing_x['ds'],testing_x['y'], label='Actual')\n",
    "plt.legend()\n",
    "plt.plot()\n",
    "print('MAPE: ', mean_absolute_percentage_error(testing_x['y'], forecast['yhat1']))"
   ]
  },
  {
   "cell_type": "code",
   "execution_count": 11,
   "metadata": {},
   "outputs": [
    {
     "name": "stderr",
     "output_type": "stream",
     "text": [
      "INFO - (NP.df_utils._infer_frequency) - Major frequency D corresponds to 75.0% of the data.\n",
      "INFO - (NP.df_utils._infer_frequency) - Defined frequency is equal to major frequency - D\n",
      "INFO - (NP.df_utils._infer_frequency) - Major frequency D corresponds to 75.0% of the data.\n",
      "INFO - (NP.df_utils._infer_frequency) - Defined frequency is equal to major frequency - D\n"
     ]
    },
    {
     "data": {
      "application/vnd.jupyter.widget-view+json": {
       "model_id": "ecd1d0e0c8ae4c7e83f99435f84ac12a",
       "version_major": 2,
       "version_minor": 0
      },
      "text/plain": [
       "Predicting: 8it [00:00, ?it/s]"
      ]
     },
     "metadata": {},
     "output_type": "display_data"
    },
    {
     "name": "stderr",
     "output_type": "stream",
     "text": [
      "INFO - (NP.df_utils.return_df_in_original_format) - Returning df with no ID column\n",
      "INFO - (NP.df_utils._infer_frequency) - Major frequency D corresponds to 80.0% of the data.\n",
      "INFO - (NP.df_utils._infer_frequency) - Defined frequency is equal to major frequency - D\n",
      "INFO - (NP.df_utils._infer_frequency) - Major frequency D corresponds to 80.0% of the data.\n",
      "INFO - (NP.df_utils._infer_frequency) - Defined frequency is equal to major frequency - D\n"
     ]
    },
    {
     "data": {
      "application/vnd.jupyter.widget-view+json": {
       "model_id": "621a444e0d544d8c8acb54a9d0751619",
       "version_major": 2,
       "version_minor": 0
      },
      "text/plain": [
       "Predicting: 8it [00:00, ?it/s]"
      ]
     },
     "metadata": {},
     "output_type": "display_data"
    },
    {
     "name": "stderr",
     "output_type": "stream",
     "text": [
      "INFO - (NP.df_utils.return_df_in_original_format) - Returning df with no ID column\n",
      "INFO - (NP.df_utils._infer_frequency) - Major frequency D corresponds to 80.952% of the data.\n",
      "INFO - (NP.df_utils._infer_frequency) - Defined frequency is equal to major frequency - D\n",
      "INFO - (NP.df_utils._infer_frequency) - Major frequency D corresponds to 80.952% of the data.\n",
      "INFO - (NP.df_utils._infer_frequency) - Defined frequency is equal to major frequency - D\n"
     ]
    },
    {
     "data": {
      "application/vnd.jupyter.widget-view+json": {
       "model_id": "dabf4f8bef014e19953df73b7290a49f",
       "version_major": 2,
       "version_minor": 0
      },
      "text/plain": [
       "Predicting: 8it [00:00, ?it/s]"
      ]
     },
     "metadata": {},
     "output_type": "display_data"
    },
    {
     "name": "stderr",
     "output_type": "stream",
     "text": [
      "INFO - (NP.df_utils.return_df_in_original_format) - Returning df with no ID column\n"
     ]
    },
    {
     "data": {
      "image/png": "[encoded data removed]",
      "text/plain": [
       "<Figure size 640x480 with 1 Axes>"
      ]
     },
     "metadata": {},
     "output_type": "display_data"
    },
    {
     "name": "stdout",
     "output_type": "stream",
     "text": [
      "MAPE test1:  0.24061183258281127\n",
      "MAPE test2:  0.19372369484443014\n",
      "MAPE test3:  0.2742739344057003\n"
     ]
    },
    {
     "data": {
      "image/png": "[encoded data removed]",
      "text/plain": [
       "<Figure size 640x480 with 1 Axes>"
      ]
     },
     "metadata": {},
     "output_type": "display_data"
    }
   ],
   "source": [
    "test1 = testing_x.iloc[:int(len(testing_x)/3)].reset_index(drop=True)\n",
    "test2 = testing_x.iloc[int(len(testing_x)/3):int(len(testing_x)*2/3)].reset_index(drop=True)\n",
    "test3 = testing_x.iloc[int(len(testing_x)*2/3):].reset_index(drop=True)\n",
    "mape_test = []\n",
    "err = pd.DataFrame(columns=['test1','test2','test3'])\n",
    "forecast1 = m.predict(test1)\n",
    "err['test1'] = test1['y'] - forecast1['yhat1']\n",
    "mape_test.append(mean_absolute_percentage_error(test1['y'], forecast1['yhat1']))\n",
    "\n",
    "forecast2 = m.predict(test2)\n",
    "err['test2'] = test2['y'] - forecast2['yhat1']\n",
    "mape_test.append(mean_absolute_percentage_error(test2['y'], forecast2['yhat1']))\n",
    "\n",
    "forecast3 = m.predict(test3)\n",
    "err['test3'] = test3['y'] - forecast3['yhat1']\n",
    "mape_test.append(mean_absolute_percentage_error(test3['y'], forecast3['yhat1']))\n",
    "\n",
    "plt.boxplot(err)\n",
    "plt.xlabel('Test')\n",
    "plt.ylabel('Error')\n",
    "plt.show()\n",
    "\n",
    "plt.plot([1,2,3],mape_test)\n",
    "print(\"MAPE test1: \", mean_absolute_percentage_error(test1['y'], forecast1['yhat1']))\n",
    "print(\"MAPE test2: \", mean_absolute_percentage_error(test2['y'], forecast2['yhat1']))\n",
    "print(\"MAPE test3: \", mean_absolute_percentage_error(test3['y'], forecast3['yhat1']))"
   ]
  },
  {
   "cell_type": "code",
   "execution_count": 12,
   "metadata": {},
   "outputs": [],
   "source": [
    "#import pickle\n",
    "#with open('../Models/neuralprophet_model.pkl', \"wb\") as f:\n",
    "#    pickle.dump(m, f)"
   ]
  },
  {
   "cell_type": "code",
   "execution_count": null,
   "metadata": {},
   "outputs": [],
   "source": []
  }
 ],
 "metadata": {
  "kernelspec": {
   "display_name": "Python 3",
   "language": "python",
   "name": "python3"
  },
  "language_info": {
   "codemirror_mode": {
    "name": "ipython",
    "version": 3
   },
   "file_extension": ".py",
   "mimetype": "text/x-python",
   "name": "python",
   "nbconvert_exporter": "python",
   "pygments_lexer": "ipython3",
   "version": "3.9.12"
  },
  "orig_nbformat": 4,
  "vscode": {
   "interpreter": {
    "hash": "b0fa6594d8f4cbf19f97940f81e996739fb7646882a419484c72d19e05852a7e"
   }
  }
 },
 "nbformat": 4,
 "nbformat_minor": 2
}
